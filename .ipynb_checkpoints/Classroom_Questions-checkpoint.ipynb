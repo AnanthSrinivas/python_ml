{
 "cells": [
  {
   "cell_type": "code",
   "execution_count": 2,
   "id": "11973a0a-e0b4-4e68-8ac4-5673c432a890",
   "metadata": {},
   "outputs": [
    {
     "name": "stdout",
     "output_type": "stream",
     "text": [
      "30\n"
     ]
    }
   ],
   "source": [
    "a = 10\n",
    "b = 20 \n",
    "c = a+b\n",
    "print(c)"
   ]
  },
  {
   "cell_type": "code",
   "execution_count": 2,
   "id": "1c3759e8-0a2b-4ab6-8382-8ec3460dbef1",
   "metadata": {},
   "outputs": [
    {
     "name": "stdout",
     "output_type": "stream",
     "text": [
      "3\n"
     ]
    }
   ],
   "source": [
    "# Q14) string1='ola ola ola'\n",
    "# Number of ola = 3\n",
    "\n",
    "str1 = 'ola ola ola'\n",
    "count=0\n",
    "b = \"\"\n",
    "for i in range(len(str1)):\n",
    "    if str1[i] in 'ola':\n",
    "        b+=str1[i]\n",
    "        if b == 'ola':\n",
    "            count+=1\n",
    "            b=\"\"        \n",
    "print(count)"
   ]
  },
  {
   "cell_type": "code",
   "execution_count": 4,
   "id": "6fa292fc-1584-4ce5-bbb1-32882b3d77e6",
   "metadata": {},
   "outputs": [
    {
     "name": "stdout",
     "output_type": "stream",
     "text": [
      "Hello is most repeated word 5\n"
     ]
    }
   ],
   "source": [
    "# Q15) string1='hello hello hello how how how how are you'\n",
    "# What is the most repeated word : how\n",
    "\n",
    "string1='hello hello hello hello  hello how how how how are you'\n",
    "# What is the most repeated word : how\n",
    "\n",
    "count_hello,count_how = 0,0\n",
    "b = \"\"\n",
    "for i in range(len(string1)):\n",
    "    if (string1[i] in 'hello' or string1[i] in 'how'):\n",
    "        b+=string1[i]\n",
    "        if b == 'hello':\n",
    "            count_hello+=1\n",
    "            b=\"\"\n",
    "        elif b == \"how\":\n",
    "            count_how+=1\n",
    "            b=\"\"\n",
    "if(count_hello>count_how):\n",
    "    print(f\"Hello is most repeated word {count_hello}\")\n",
    "else:\n",
    "    print(f\"How is most repeated word {count_how}\")\n"
   ]
  },
  {
   "cell_type": "code",
   "execution_count": 6,
   "id": "ce124650-42d2-436b-9349-22a9d4b9427b",
   "metadata": {},
   "outputs": [
    {
     "name": "stdout",
     "output_type": "stream",
     "text": [
      "The maximum length of word: hellooooo is 9\n",
      "The minumum length of word: u is 1\n"
     ]
    }
   ],
   "source": [
    "#Q16) string1='hellooooo how aree u'\n",
    "# what is the maximum length of word: helloooo\n",
    "# what is the minimum length of word: u\n",
    "\n",
    "c ='hellooooo how aree u'\n",
    "d = \"\"\n",
    "\n",
    "for i in range(len(c)):\n",
    "    if c[i] in 'hellooooo':\n",
    "        d+=c[i]\n",
    "        if d == 'hellooooo':\n",
    "            len_d = len(d)\n",
    "            print(f\"The maximum length of word: {d} is {len_d}\")\n",
    "            d = \"\"\n",
    "\n",
    "d =\"\"\n",
    "for i in range(-1,-len(c),-1):\n",
    "    if c[i] in 'u':\n",
    "        d+=c[i]\n",
    "        if d =='u':\n",
    "            len_d = len(d)\n",
    "            print(f\"The minumum length of word: {d} is {len_d}\")\n",
    "            d =\"\""
   ]
  },
  {
   "cell_type": "code",
   "execution_count": null,
   "id": "765275f0-b029-4247-bd72-34906416340f",
   "metadata": {},
   "outputs": [],
   "source": [
    "# Q17) with out using sorted then sort the letters\n",
    "\n",
    "s = \"Ananth\"\n",
    "\n",
    "a = list(s)\n",
    "for i in range(len(a)):\n",
    "    for j in range(i+1,len(a)):\n",
    "        if a[i] > a[j]:\n",
    "            a[i],a[j] = a[j],a[i]\n",
    "\n",
    "s = \"\"\n",
    "for i in range(len(a)):\n",
    "    s+=a[i]\n",
    "print(s)"
   ]
  }
 ],
 "metadata": {
  "kernelspec": {
   "display_name": "Python 3 (ipykernel)",
   "language": "python",
   "name": "python3"
  },
  "language_info": {
   "codemirror_mode": {
    "name": "ipython",
    "version": 3
   },
   "file_extension": ".py",
   "mimetype": "text/x-python",
   "name": "python",
   "nbconvert_exporter": "python",
   "pygments_lexer": "ipython3",
   "version": "3.11.7"
  }
 },
 "nbformat": 4,
 "nbformat_minor": 5
}
