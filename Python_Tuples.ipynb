{
 "cells": [
  {
   "cell_type": "markdown",
   "id": "f523f746-fc8a-469f-88e3-40dff496a1ca",
   "metadata": {},
   "source": [
    "**TUPLES**\n",
    "\n",
    "- representation\n",
    "\n",
    "- type\n",
    "\n",
    "- len\n",
    "\n",
    "- max\n",
    "\n",
    "- min\n",
    "\n",
    "- sum\n",
    "\n",
    "- sorted\n",
    "\n",
    "- reversed\n",
    "\n",
    "- in\n",
    "\n",
    "- for loop with in\n",
    "\n",
    "- index\n",
    "\n",
    "- for loop with index\n",
    "\n",
    "- mutable and immutable\n",
    "\n",
    "- slicing\n",
    "\n",
    "- concatenation\n",
    "\n",
    "- Methods"
   ]
  },
  {
   "cell_type": "markdown",
   "id": "7bf7cf72-a3f9-4b10-b0ab-2868d7a228a6",
   "metadata": {},
   "source": [
    "**Represenation** \n",
    "- Tuples are represented using normal braces()\n",
    "- Tuples are simillat to list but only difference is tuples are immutable, we cannot change the values of the tuple.\n",
    "- But we can remove the objects from tuple.\n",
    "- Tuples is a collection of objects(they can be of any datatype)"
   ]
  },
  {
   "cell_type": "code",
   "execution_count": 6,
   "id": "3e1d1fe7-218f-481d-a693-91579d6d68cc",
   "metadata": {},
   "outputs": [
    {
     "name": "stdout",
     "output_type": "stream",
     "text": [
      "(1, 2, 3, 4, 'hello', True, 22.4)\n",
      "<class 'tuple'>\n"
     ]
    }
   ],
   "source": [
    "tup1 = (1,2,3,4,'hello',True,22.4)\n",
    "print(tup1)\n",
    "print(type(tup1))"
   ]
  },
  {
   "cell_type": "code",
   "execution_count": 9,
   "id": "496f7dfc-f0bc-4547-a045-4fe10b91ce62",
   "metadata": {},
   "outputs": [
    {
     "name": "stdout",
     "output_type": "stream",
     "text": [
      "7\n"
     ]
    }
   ],
   "source": [
    "#len\n",
    "tup1 = (1,2,3,4,'hello',True,22.4)\n",
    "print(len(tup1))"
   ]
  },
  {
   "cell_type": "code",
   "execution_count": 53,
   "id": "81b85cd3-70e7-4a07-882f-c4c5bbe5eff1",
   "metadata": {},
   "outputs": [
    {
     "name": "stdout",
     "output_type": "stream",
     "text": [
      "111\n",
      "Srinivas\n"
     ]
    }
   ],
   "source": [
    "#max\n",
    "tup1 = (55,1,2,22,111,3,4,22.4)\n",
    "print(max(tup1))\n",
    "\n",
    "names = ('Ananth','Sai','Srinivas')\n",
    "print(max(names))"
   ]
  },
  {
   "cell_type": "code",
   "execution_count": 55,
   "id": "c7c670ab-46be-4673-8cba-1ce7f50742c9",
   "metadata": {},
   "outputs": [
    {
     "name": "stdout",
     "output_type": "stream",
     "text": [
      "1\n",
      "Ananth\n"
     ]
    }
   ],
   "source": [
    "#min\n",
    "tup1 = (55,1,2,22,111,3,4,22.4)\n",
    "print(min(tup1))\n",
    "\n",
    "names = ('Ananth','Sai','Srinivas')\n",
    "print(min(names))"
   ]
  },
  {
   "cell_type": "code",
   "execution_count": 57,
   "id": "030404d4-0c20-4aca-9411-30775ef9296c",
   "metadata": {},
   "outputs": [
    {
     "name": "stdout",
     "output_type": "stream",
     "text": [
      "220.4\n"
     ]
    },
    {
     "ename": "TypeError",
     "evalue": "unsupported operand type(s) for +: 'int' and 'str'",
     "output_type": "error",
     "traceback": [
      "\u001b[0;31m---------------------------------------------------------------------------\u001b[0m",
      "\u001b[0;31mTypeError\u001b[0m                                 Traceback (most recent call last)",
      "Cell \u001b[0;32mIn[57], line 10\u001b[0m\n\u001b[1;32m      7\u001b[0m \u001b[38;5;66;03m#print(sum(tup2)) will not work as it cannot perform addition on str objects.\u001b[39;00m\n\u001b[1;32m      9\u001b[0m names \u001b[38;5;241m=\u001b[39m (\u001b[38;5;124m'\u001b[39m\u001b[38;5;124mAnanth\u001b[39m\u001b[38;5;124m'\u001b[39m,\u001b[38;5;124m'\u001b[39m\u001b[38;5;124mSai\u001b[39m\u001b[38;5;124m'\u001b[39m,\u001b[38;5;124m'\u001b[39m\u001b[38;5;124mSrinivas\u001b[39m\u001b[38;5;124m'\u001b[39m)\n\u001b[0;32m---> 10\u001b[0m \u001b[38;5;28mprint\u001b[39m(\u001b[38;5;28msum\u001b[39m(names))\n",
      "\u001b[0;31mTypeError\u001b[0m: unsupported operand type(s) for +: 'int' and 'str'"
     ]
    }
   ],
   "source": [
    "#sum\n",
    "\n",
    "tup1 = (55,1,2,22,111,3,4,22.4)\n",
    "print(sum(tup1))\n",
    "\n",
    "tup2 = (1,2,3,4,'hello',True,22.4)\n",
    "#print(sum(tup2)) will not work as it cannot perform addition on str objects.\n",
    "\n",
    "names = ('Ananth','Sai','Srinivas')\n",
    "#print(sum(names)) will not work as it cannot perform addition on str objects."
   ]
  },
  {
   "cell_type": "code",
   "execution_count": 27,
   "id": "4498befe-696b-4ae6-acc1-129ad6bf242d",
   "metadata": {},
   "outputs": [
    {
     "name": "stdout",
     "output_type": "stream",
     "text": [
      "[1, 2, 3, 4, 22, 22.4, 55, 111]\n"
     ]
    }
   ],
   "source": [
    "#Sorted\n",
    "tup1 = (55,1,2,22,111,3,4,22.4)\n",
    "print(sorted(tup1))\n",
    "\n",
    "tup2 = (1,2,3,4,'hello',True,22.4)\n",
    "#print(sorted(tup2)) will not work as it cannot perform sorting on str objects."
   ]
  },
  {
   "cell_type": "code",
   "execution_count": 39,
   "id": "9a9a5f9c-4270-41de-a3e9-b8830cd88a55",
   "metadata": {},
   "outputs": [
    {
     "ename": "TypeError",
     "evalue": "can only concatenate tuple (not \"int\") to tuple",
     "output_type": "error",
     "traceback": [
      "\u001b[0;31m---------------------------------------------------------------------------\u001b[0m",
      "\u001b[0;31mTypeError\u001b[0m                                 Traceback (most recent call last)",
      "Cell \u001b[0;32mIn[39], line 4\u001b[0m\n\u001b[1;32m      2\u001b[0m tup3 \u001b[38;5;241m=\u001b[39m ()\n\u001b[1;32m      3\u001b[0m \u001b[38;5;28;01mfor\u001b[39;00m i \u001b[38;5;129;01min\u001b[39;00m \u001b[38;5;28mreversed\u001b[39m(tup2):\n\u001b[0;32m----> 4\u001b[0m     tup3\u001b[38;5;241m+\u001b[39m\u001b[38;5;241m=\u001b[39mi \u001b[38;5;66;03m#\u001b[39;00m\n\u001b[1;32m      6\u001b[0m \u001b[38;5;28mprint\u001b[39m(tup3)\n",
      "\u001b[0;31mTypeError\u001b[0m: can only concatenate tuple (not \"int\") to tuple"
     ]
    }
   ],
   "source": [
    "tup2 = (1,2,3,4)\n",
    "tup3 = ()\n",
    "for i in reversed(tup2):\n",
    "    tup3+=i #we cannot concatinate string,int,bool or float into a tuple\n",
    "\n",
    "print(tup3)"
   ]
  },
  {
   "cell_type": "code",
   "execution_count": 51,
   "id": "2148eace-8ecf-4df3-ba89-092125ba438e",
   "metadata": {},
   "outputs": [
    {
     "name": "stdout",
     "output_type": "stream",
     "text": [
      "22.4 True hello 4 3 2 1 "
     ]
    },
    {
     "data": {
      "text/plain": [
       "(22.4, True, 'hello', 4, 3, 2, 1)"
      ]
     },
     "execution_count": 51,
     "metadata": {},
     "output_type": "execute_result"
    }
   ],
   "source": [
    "# Reversed and for loop with in.\n",
    "\n",
    "tup2 = (1,2,3,4,'hello',True,22.4)\n",
    "for i in reversed(tup2):\n",
    "    print(i,end=\" \")\n",
    "\n",
    "tuple(reversed(tup2))"
   ]
  },
  {
   "cell_type": "code",
   "execution_count": 47,
   "id": "48710f0c-8ec8-4520-b336-13d4e843dfad",
   "metadata": {},
   "outputs": [
    {
     "name": "stdout",
     "output_type": "stream",
     "text": [
      "(1, 2, 3, 4, 'hello', True, 22.4, (1, 2, 3, 4))\n"
     ]
    }
   ],
   "source": [
    "tup2 = (1,2,3,4,'hello',True,22.4,(1,2,3,4))\n",
    "print(tup2)"
   ]
  },
  {
   "cell_type": "code",
   "execution_count": 59,
   "id": "4a0653f3-7144-43be-9506-8903c4ef3505",
   "metadata": {},
   "outputs": [
    {
     "name": "stdout",
     "output_type": "stream",
     "text": [
      "Yes\n",
      "Yes\n",
      "Yes\n"
     ]
    }
   ],
   "source": [
    "#in\n",
    "tup1 = (1,2,3)\n",
    "tup2 = (1,2,3,4,'hello',True,22.4)\n",
    "for i in tup1:\n",
    "    if i in tup2:\n",
    "        print(\"Yes\")\n"
   ]
  },
  {
   "cell_type": "code",
   "execution_count": 71,
   "id": "f78a9e75-407b-41e5-ae3c-41f3c687f255",
   "metadata": {},
   "outputs": [
    {
     "name": "stdout",
     "output_type": "stream",
     "text": [
      "The positive index 0 is 2\n",
      "The positive index 1 is 2\n",
      "The positive index 2 is 2\n",
      "The positive index 3 is 2\n",
      "The positive index 4 is 2\n",
      "The positive index 5 is 2\n",
      "The positive index 6 is 2\n"
     ]
    }
   ],
   "source": [
    "#Index\n",
    "tup2 = (1,2,3,4,'hello',True,22.4)\n",
    "for i in range(len(tup2)):\n",
    "    print(f'The positive index {i} is {tup2[1]}')"
   ]
  },
  {
   "cell_type": "code",
   "execution_count": 73,
   "id": "d6878e67-0ed5-4b4e-93cc-bc411b7b895a",
   "metadata": {},
   "outputs": [
    {
     "name": "stdout",
     "output_type": "stream",
     "text": [
      "The negative index -7 is 2\n",
      "The negative index -6 is 2\n",
      "The negative index -5 is 2\n",
      "The negative index -4 is 2\n",
      "The negative index -3 is 2\n",
      "The negative index -2 is 2\n",
      "The negative index -1 is 2\n"
     ]
    }
   ],
   "source": [
    "tup2 = (1,2,3,4,'hello',True,22.4)\n",
    "for i in range(-len(tup2),0,1):\n",
    "    print(f'The negative index {i} is {tup2[1]}')"
   ]
  },
  {
   "cell_type": "code",
   "execution_count": 81,
   "id": "f245f98c-2666-4634-9a7a-931a71c4e60b",
   "metadata": {},
   "outputs": [
    {
     "name": "stdout",
     "output_type": "stream",
     "text": [
      "(1, 2, 3, 4, 'hello', True, 22.4)\n"
     ]
    },
    {
     "ename": "TypeError",
     "evalue": "can only concatenate tuple (not \"int\") to tuple",
     "output_type": "error",
     "traceback": [
      "\u001b[0;31m---------------------------------------------------------------------------\u001b[0m",
      "\u001b[0;31mTypeError\u001b[0m                                 Traceback (most recent call last)",
      "Cell \u001b[0;32mIn[81], line 7\u001b[0m\n\u001b[1;32m      4\u001b[0m \u001b[38;5;66;03m#tup1[1] = 'hi' # It failed with error - object does not support item assignment. \u001b[39;00m\n\u001b[1;32m      5\u001b[0m \u001b[38;5;28mprint\u001b[39m(tup1)\n\u001b[0;32m----> 7\u001b[0m tup1\u001b[38;5;241m+\u001b[39m\u001b[38;5;241m=\u001b[39m\u001b[38;5;241m2\u001b[39m  \u001b[38;5;66;03m# Failed \u001b[39;00m\n\u001b[1;32m      8\u001b[0m \u001b[38;5;28mprint\u001b[39m(tup1)\n",
      "\u001b[0;31mTypeError\u001b[0m: can only concatenate tuple (not \"int\") to tuple"
     ]
    }
   ],
   "source": [
    "# mutable and immutable\n",
    "\n",
    "tup1 = (1,2,3,4,'hello',True,22.4)\n",
    "#tup1[1] = 'hi' # It failed with error - object does not support item assignment. \n",
    "print(tup1)\n",
    "\n",
    "tup1+=2  # Failed cannot concatenate with string.\n",
    "print(tup1)\n",
    "\n",
    "# So the tuples are not mutable. "
   ]
  },
  {
   "cell_type": "code",
   "execution_count": 109,
   "id": "13b81941-6820-46f0-92b3-ef6d1348c3b3",
   "metadata": {},
   "outputs": [
    {
     "name": "stdout",
     "output_type": "stream",
     "text": [
      "(1, 2, 3, 4, 'hello', True, 22.4)\n",
      "(2, 3, 4, 'hello')\n",
      "(22.4, True, 'hello', 4, 3, 2, 1)\n",
      "(1, 3, 'hello')\n",
      "(1, 2, 3, 4, 'hello', True)\n",
      "(22.4, True, 'hello', 4)\n",
      "(2, 3, 4, 'hello', True)\n",
      "()\n"
     ]
    }
   ],
   "source": [
    "#slicing\n",
    "tup1 = (1,2,3,4,'hello',True,22.4)\n",
    "print(tup1[0:len(tup1)])\n",
    "print(tup1[1:5])\n",
    "print(tup1[::-1])\n",
    "print(tup1[0:6:2])\n",
    "print(tup1[-len(tup1):-1:1])\n",
    "print(tup1[-1:2:-1])\n",
    "print(tup1[-6:-1:1])\n",
    "print(tup1[-6:6:-1])"
   ]
  },
  {
   "cell_type": "code",
   "execution_count": 115,
   "id": "93abbe55-7e63-46b2-a673-6e5c9d14defa",
   "metadata": {},
   "outputs": [
    {
     "name": "stdout",
     "output_type": "stream",
     "text": [
      "(1, 2, 3, 4, 'hello', True, 22.4, 55, 22)\n"
     ]
    },
    {
     "ename": "TypeError",
     "evalue": "can only concatenate tuple (not \"int\") to tuple",
     "output_type": "error",
     "traceback": [
      "\u001b[0;31m---------------------------------------------------------------------------\u001b[0m",
      "\u001b[0;31mTypeError\u001b[0m                                 Traceback (most recent call last)",
      "Cell \u001b[0;32mIn[115], line 10\u001b[0m\n\u001b[1;32m      7\u001b[0m ls \u001b[38;5;241m=\u001b[39m [\u001b[38;5;241m1\u001b[39m,\u001b[38;5;241m3\u001b[39m]\n\u001b[1;32m      8\u001b[0m \u001b[38;5;66;03m#print(tup2+ls) # cannot concatenate list to a tuple\u001b[39;00m\n\u001b[0;32m---> 10\u001b[0m \u001b[38;5;28mprint\u001b[39m(tup2\u001b[38;5;241m+\u001b[39m\u001b[38;5;241m5\u001b[39m)\n",
      "\u001b[0;31mTypeError\u001b[0m: can only concatenate tuple (not \"int\") to tuple"
     ]
    }
   ],
   "source": [
    "#concatenation\n",
    "\n",
    "tup1 = (1,2,3,4,'hello',True,22.4)\n",
    "tup2 = (55,22)\n",
    "print(tup1+tup2) # We can concatinate 2 tuples\n",
    "\n",
    "ls = [1,3]\n",
    "#print(tup2+ls) # cannot concatenate list to a tuple\n",
    "\n",
    "print(tup2+5) # cannot concatenate int to a tuple\n",
    "\n",
    "# Concatenation will only work fro 2 tuples."
   ]
  },
  {
   "cell_type": "code",
   "execution_count": 125,
   "id": "bc381453-0235-43a4-8e6a-388bf39e011f",
   "metadata": {},
   "outputs": [
    {
     "name": "stdout",
     "output_type": "stream",
     "text": [
      "5\n",
      "1\n",
      "2\n",
      "2\n"
     ]
    }
   ],
   "source": [
    "# Methods\n",
    "\n",
    "tup1 = (1,2,3,4,2,3,4,3,2,2,2,'hello',True,22.4,False,0)\n",
    "print(tup1.count(2))\n",
    "print(tup1.count('hello'))\n",
    "print(tup1.count(True)) # If we try to count for True it will consider 1 as well 1 True - so the count will be returning as 2\n",
    "#If 1 is not present in the tuple then then output will be 1.\n",
    "print(tup1.count(False))# If we try to count for False it will consider 0 as well 1 True - so the count will be returning as 2"
   ]
  },
  {
   "cell_type": "code",
   "execution_count": 137,
   "id": "24860d1f-f945-4647-8e79-d396f89c6d22",
   "metadata": {},
   "outputs": [
    {
     "name": "stdout",
     "output_type": "stream",
     "text": [
      "12\n",
      "14\n",
      "1\n",
      "4\n"
     ]
    }
   ],
   "source": [
    "tup1 = (1,2,3,4,2,3,4,3,2,2,2,'hello',True,22.4,False,0)\n",
    "print(tup1.index(True,1))\n",
    "print(tup1.index(False,1))\n",
    "print(tup1.index(2))\n",
    "print(tup1.index(2,2,6))"
   ]
  },
  {
   "cell_type": "code",
   "execution_count": 141,
   "id": "f12b9e80-33fe-4bdc-aa0f-7f7f4442f228",
   "metadata": {},
   "outputs": [
    {
     "name": "stdout",
     "output_type": "stream",
     "text": [
      "1 4 8\n"
     ]
    }
   ],
   "source": [
    "tup1 = (1,2,3,4,2,3,4,3,2,2,2,'hello',True,22.4,False,0)\n",
    "\n",
    "i1 = tup1.index(2)\n",
    "i2 = tup1.index(2,i1+1)\n",
    "i3 = tup1.index(2,i2+1)\n",
    "\n",
    "print(i1,i2,i3)"
   ]
  },
  {
   "cell_type": "code",
   "execution_count": 147,
   "id": "2e1ba696-31e0-40ab-ad72-35353e71bbed",
   "metadata": {},
   "outputs": [
    {
     "name": "stdout",
     "output_type": "stream",
     "text": [
      "1 4 8 9 10 "
     ]
    }
   ],
   "source": [
    "tup1 = (1,2,3,4,2,3,4,3,2,2,2,'hello',True,22.4,False,0)\n",
    "a = tup1.count(2)\n",
    "i1 = 0\n",
    "for i in range(a):\n",
    "    g = tup1.index(2,i1)\n",
    "    i1 = g+1\n",
    "    print(g,end=\" \")"
   ]
  },
  {
   "cell_type": "code",
   "execution_count": null,
   "id": "9508b793-48e0-48c5-9335-8edc1213cbe1",
   "metadata": {},
   "outputs": [],
   "source": []
  }
 ],
 "metadata": {
  "kernelspec": {
   "display_name": "Python 3 (ipykernel)",
   "language": "python",
   "name": "python3"
  },
  "language_info": {
   "codemirror_mode": {
    "name": "ipython",
    "version": 3
   },
   "file_extension": ".py",
   "mimetype": "text/x-python",
   "name": "python",
   "nbconvert_exporter": "python",
   "pygments_lexer": "ipython3",
   "version": "3.11.7"
  }
 },
 "nbformat": 4,
 "nbformat_minor": 5
}
