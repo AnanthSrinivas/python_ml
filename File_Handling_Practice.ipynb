{
 "cells": [
  {
   "cell_type": "markdown",
   "id": "b9399e59-5249-4551-af29-dbc3536c2bdc",
   "metadata": {},
   "source": [
    "**Creating a new folder and file using join and 'x','r','a','w' modes**"
   ]
  },
  {
   "cell_type": "code",
   "execution_count": 14,
   "id": "f74f6cec-cc74-41e6-814b-8e2a2a0a44f8",
   "metadata": {},
   "outputs": [],
   "source": [
    "import os\n",
    "current_path = os.getcwd()\n",
    "new_path = 'file_handling1'\n",
    "file_name = 'demo2.txt'\n",
    "new_folder = os.path.join(current_path,new_path)\n",
    "os.makedirs(new_folder)\n",
    "path = os.path.join(new_folder,file_name)\n",
    "with open(path,mode='w') as file:\n",
    "    file.write(\"Hello this is new python dmeo file\")\n"
   ]
  },
  {
   "cell_type": "code",
   "execution_count": 16,
   "id": "28e914d0-aad0-45a4-ad99-0b131d53a6d7",
   "metadata": {},
   "outputs": [
    {
     "name": "stdout",
     "output_type": "stream",
     "text": [
      "Hello this is new python dmeo file\n"
     ]
    }
   ],
   "source": [
    "with open(path,mode = 'r') as file:\n",
    "    data = file.read()\n",
    "\n",
    "print(data)"
   ]
  },
  {
   "cell_type": "code",
   "execution_count": 22,
   "id": "e4331646-b3e8-4138-b74c-6a44c4bc8f43",
   "metadata": {},
   "outputs": [],
   "source": [
    "import os\n",
    "current_path = os.getcwd()\n",
    "new_path = 'file_handling1'\n",
    "file_name = 'demo2.txt'\n",
    "path = os.path.join(os.getcwd(),new_path,file_name)\n",
    "with open(path,mode='w') as file:\n",
    "    file.write(\"Hello this is new python demo file\")\n"
   ]
  },
  {
   "cell_type": "code",
   "execution_count": 24,
   "id": "9e5165a3-65bd-4a25-8c61-ffa2b639d2c0",
   "metadata": {},
   "outputs": [
    {
     "name": "stdout",
     "output_type": "stream",
     "text": [
      "Hello this is new python demo file\n"
     ]
    }
   ],
   "source": [
    "with open(path,mode = 'r') as file:\n",
    "    data = file.read()\n",
    "\n",
    "print(data)"
   ]
  },
  {
   "cell_type": "code",
   "execution_count": 26,
   "id": "ea72d016-8bea-447b-bfe8-b44912648e50",
   "metadata": {},
   "outputs": [],
   "source": [
    "import os\n",
    "current_path = os.getcwd()\n",
    "new_path = 'file_handling1'\n",
    "file_name = 'demo2.txt'\n",
    "path = os.path.join(os.getcwd(),new_path,file_name)\n",
    "with open(path,mode='a') as file:\n",
    "    file.write(\"\\nHello this is new line python demo file to test the append mode\")"
   ]
  },
  {
   "cell_type": "code",
   "execution_count": 28,
   "id": "a9e449a5-dfaf-4a8f-8af8-bd926417757b",
   "metadata": {},
   "outputs": [
    {
     "name": "stdout",
     "output_type": "stream",
     "text": [
      "Hello this is new python demo file\n",
      "Hello this is new line python demo file to test the append mode\n"
     ]
    }
   ],
   "source": [
    "with open(path,mode = 'r') as file:\n",
    "    data = file.read()\n",
    "\n",
    "print(data)"
   ]
  },
  {
   "cell_type": "code",
   "execution_count": 30,
   "id": "84b3dac5-2f6a-444e-9625-2a247088b3db",
   "metadata": {},
   "outputs": [],
   "source": [
    "import os\n",
    "current_path = os.getcwd()\n",
    "new_path = 'file_handling1'\n",
    "file_name = 'demo3.txt'\n",
    "path = os.path.join(os.getcwd(),new_path,file_name)\n",
    "with open(path,mode='x') as file:\n",
    "    file.write(\"\\nHello this is new line python demo file to test the append mode\")"
   ]
  },
  {
   "cell_type": "code",
   "execution_count": 32,
   "id": "946488c9-416c-487e-ac12-5aff04d8fc4a",
   "metadata": {},
   "outputs": [
    {
     "name": "stdout",
     "output_type": "stream",
     "text": [
      "\n",
      "Hello this is new line python demo file to test the append mode\n"
     ]
    }
   ],
   "source": [
    "with open(path,mode = 'r') as file:\n",
    "    data = file.read()\n",
    "\n",
    "print(data)"
   ]
  },
  {
   "cell_type": "markdown",
   "id": "d7e40a0f-285d-4aae-9edb-ac8f791fd49c",
   "metadata": {},
   "source": [
    "**Making a directory**\n",
    "\n",
    "- **mkdir()** - This function is used to create a directory, but this function cannot create sub-directories.\n",
    "- **makedir()** - This function is also used to create a directory, but this function will create sub-diretories. Please find the below code fo refference."
   ]
  },
  {
   "cell_type": "code",
   "execution_count": 42,
   "id": "ca090e96-6edf-4217-a1b1-076ec92afa8b",
   "metadata": {},
   "outputs": [],
   "source": [
    "#mkdir()\n",
    "\n",
    "import os\n",
    "name = 'file'\n",
    "path = os.path.join(os.getcwd(),name)\n",
    "os.mkdir(path) # So this function did created a folder."
   ]
  },
  {
   "cell_type": "code",
   "execution_count": 44,
   "id": "fe8a7835-e19c-40bc-a9c4-a797985e6420",
   "metadata": {},
   "outputs": [
    {
     "name": "stdout",
     "output_type": "stream",
     "text": [
      "[Errno 17] File exists: '/Users/keerthanaseethamraju/Python/file'\n"
     ]
    }
   ],
   "source": [
    "# We can try the same in try - except method \n",
    "\n",
    "import os\n",
    "name = 'file'\n",
    "path = os.path.join(os.getcwd(),name)\n",
    "try:\n",
    "    os.mkdir(path)\n",
    "except Exception as e:\n",
    "    print(e)"
   ]
  },
  {
   "cell_type": "code",
   "execution_count": 48,
   "id": "e7491c08-02ae-45db-b163-69ac6dc46322",
   "metadata": {},
   "outputs": [
    {
     "name": "stdout",
     "output_type": "stream",
     "text": [
      "[Errno 2] No such file or directory: '/Users/keerthanaseethamraju/Python/file/demo'\n"
     ]
    }
   ],
   "source": [
    "#now lets try to create sub-directories usign mkdir\n",
    "\n",
    "import os\n",
    "name = 'file/demo'\n",
    "path = os.path.join(os.getcwd(),name)\n",
    "try:\n",
    "    os.mkdir(path)\n",
    "except Exception as e:\n",
    "    print(e) # So here is is failing to create a folder called file and place another folder called demo - in this case we use makedir()"
   ]
  },
  {
   "cell_type": "code",
   "execution_count": 50,
   "id": "95958b80-a1f6-44de-910b-2dddc2047d8a",
   "metadata": {},
   "outputs": [],
   "source": [
    "#makedir - functinality wise both will be same.\n",
    "\n",
    "import os\n",
    "name = 'file'\n",
    "path = os.path.join(os.getcwd(),name)\n",
    "os.makedirs(path) # So this function did created a folder."
   ]
  },
  {
   "cell_type": "code",
   "execution_count": 56,
   "id": "436e578d-51c1-4e8b-b316-ca39e0558986",
   "metadata": {},
   "outputs": [
    {
     "name": "stdout",
     "output_type": "stream",
     "text": [
      "Folder alrady exists\n"
     ]
    }
   ],
   "source": [
    "# If exists method\n",
    "\n",
    "\n",
    "import os\n",
    "name = 'file'\n",
    "path = os.path.join(os.getcwd(),name)\n",
    "if not os.path.exists(path):\n",
    "    os.makedirs(path) #In the first run the folder is created as it is not present earlier.\n",
    "else:\n",
    "    print(\"Folder alrady exists\") #When i try to re-run the same code it will print - Folder already exists"
   ]
  },
  {
   "cell_type": "code",
   "execution_count": 62,
   "id": "5e8a7d7a-35f2-407e-adf2-4564619082a9",
   "metadata": {},
   "outputs": [
    {
     "name": "stdout",
     "output_type": "stream",
     "text": [
      "Folder alrady exists\n"
     ]
    }
   ],
   "source": [
    "# Now creating sub-directories\n",
    "\n",
    "import os\n",
    "name = 'file/demo'\n",
    "path = os.path.join(os.getcwd(),name)\n",
    "if not os.path.exists(path):\n",
    "    os.makedirs(path) #In the first run the it created a fodler called file and sub folder in it called demo\n",
    "else:\n",
    "    print(\"Folder alrady exists\") #When i try to re-run the same code it will print - Folder already exists"
   ]
  },
  {
   "cell_type": "code",
   "execution_count": null,
   "id": "3844271f-a0b5-471d-9492-81632a45739a",
   "metadata": {},
   "outputs": [],
   "source": []
  }
 ],
 "metadata": {
  "kernelspec": {
   "display_name": "Python 3 (ipykernel)",
   "language": "python",
   "name": "python3"
  },
  "language_info": {
   "codemirror_mode": {
    "name": "ipython",
    "version": 3
   },
   "file_extension": ".py",
   "mimetype": "text/x-python",
   "name": "python",
   "nbconvert_exporter": "python",
   "pygments_lexer": "ipython3",
   "version": "3.11.7"
  }
 },
 "nbformat": 4,
 "nbformat_minor": 5
}
