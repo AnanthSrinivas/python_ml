{
 "cells": [
  {
   "cell_type": "code",
   "execution_count": 36,
   "id": "ac9e51e2-88ee-4b73-9542-e00348e04187",
   "metadata": {},
   "outputs": [
    {
     "name": "stdout",
     "output_type": "stream",
     "text": [
      "[-4, -4]\n",
      "[-4, -4]\n"
     ]
    }
   ],
   "source": [
    "\n",
    "a = [[1,2],[3,4]]\n",
    "b = [[5,6],[7,8]]\n",
    "d = [[0,0],[0,0]]\n",
    "\n",
    "for i in range(len(a)):\n",
    "    for j in range(len(b)):\n",
    "        d[i][j] = a[i][j]-b[i][j]\n",
    "\n",
    "for f in d:\n",
    "    print(f)"
   ]
  },
  {
   "cell_type": "code",
   "execution_count": 21,
   "id": "3ba57fd9-761f-412a-89a6-3e07c1dec59c",
   "metadata": {},
   "outputs": [
    {
     "ename": "SyntaxError",
     "evalue": "incomplete input (2743711231.py, line 2)",
     "output_type": "error",
     "traceback": [
      "\u001b[0;36m  Cell \u001b[0;32mIn[21], line 2\u001b[0;36m\u001b[0m\n\u001b[0;31m    a[\u001b[0m\n\u001b[0m      ^\u001b[0m\n\u001b[0;31mSyntaxError\u001b[0m\u001b[0;31m:\u001b[0m incomplete input\n"
     ]
    }
   ],
   "source": [
    "a = [[1,2],[3,4]]\n",
    "a["
   ]
  },
  {
   "cell_type": "code",
   "execution_count": 11,
   "id": "0f9decba-92b3-4587-9d78-c3a322ee645a",
   "metadata": {},
   "outputs": [
    {
     "data": {
      "text/plain": [
       "[1, 2, 3, 4]"
      ]
     },
     "execution_count": 11,
     "metadata": {},
     "output_type": "execute_result"
    }
   ],
   "source": []
  },
  {
   "cell_type": "code",
   "execution_count": 38,
   "id": "5bcd754c-15de-405f-919d-27fa7418756d",
   "metadata": {},
   "outputs": [
    {
     "name": "stdout",
     "output_type": "stream",
     "text": [
      "[6, 8]\n",
      "[10, 12]\n",
      "[5, 12]\n",
      "[21, 32]\n"
     ]
    }
   ],
   "source": [
    "\n",
    "a = [[1,2],[3,4]]\n",
    "b = [[5,6],[7,8]]\n",
    "\n",
    "g = [[a[i][j] * b[i][j] for j in range(len(a[0]))] for i in range(len(a))]\n",
    "\n",
    "d = [[a[i][j] + b[i][j] for j in range(len(a[0]))] for i in range(len(a))]\n",
    "for f in d:\n",
    "    print(f)\n",
    "\n",
    "for l in g:\n",
    "    print(l)"
   ]
  },
  {
   "cell_type": "code",
   "execution_count": 11,
   "id": "ebaffdd1-f0b0-4350-b88b-878e7ac676ce",
   "metadata": {},
   "outputs": [
    {
     "name": "stdout",
     "output_type": "stream",
     "text": [
      "mon\n",
      "[1, 2, 'tue', 'wed', 'thu', 4, 5, 6, 7, 'fri', 'sat', 'sun']\n",
      "[1, 2, 'tue', 'wed', 'thu', 4, 5, 6, 7, 'fri', 'sat', 'sun']\n"
     ]
    }
   ],
   "source": [
    "x = [1,2,'tue','wed']\n",
    "\n",
    "x.append('thu')\n",
    "x.extend([4,5,6,7,'fri','sat','sun','mon'])\n",
    "print(x.pop())\n",
    "print(x)\n",
    "\n",
    "y == x\n",
    "print(y)"
   ]
  },
  {
   "cell_type": "code",
   "execution_count": 19,
   "id": "55f1f743-37ea-4ed1-b72e-a0a84d265c07",
   "metadata": {},
   "outputs": [
    {
     "name": "stdout",
     "output_type": "stream",
     "text": [
      "1\n",
      "2\n",
      "tue\n",
      "wed\n"
     ]
    }
   ],
   "source": [
    "x = [1,2,'tue','wed']\n",
    "\n",
    "\n",
    "for i in range(len(x)):\n",
    "    print(x[i])"
   ]
  },
  {
   "cell_type": "code",
   "execution_count": 27,
   "id": "eda33a4c-0d86-4306-be8f-5abff4985cf6",
   "metadata": {},
   "outputs": [
    {
     "name": "stdout",
     "output_type": "stream",
     "text": [
      "{1, 2, 3, 4}\n",
      "<class 'set'>\n"
     ]
    }
   ],
   "source": [
    "x ={1,2,3,3,4,4}\n",
    "print(x)\n",
    "print(type(x))"
   ]
  },
  {
   "cell_type": "code",
   "execution_count": 35,
   "id": "1c2053b5-bf96-4a96-bd9b-cdf24a3562c4",
   "metadata": {},
   "outputs": [
    {
     "name": "stdout",
     "output_type": "stream",
     "text": [
      "{'key1': 2, 'key2': 3, 4: 5, 6: 9}\n",
      "[2, 3, 5, 9]\n",
      "['key1', 'key2', 4, 6]\n",
      "{'key1': 2, 4: 5, 6: 9}\n",
      "True\n",
      "key1 2\n",
      "4 5\n",
      "6 9\n",
      "key1 2\n",
      "4 5\n",
      "6 9\n"
     ]
    }
   ],
   "source": [
    "d1= {'key1':2,'key2':3,4:5,6:9}\n",
    "print(d1)\n",
    "print(list(d1.values()))\n",
    "print(list(d1.keys()))\n",
    "del d1['key2']\n",
    "print(d1)\n",
    "print('key1' in d1)\n",
    "for key,values in d1.items():\n",
    "    print(key,values)\n",
    "\n",
    "for key in d1:\n",
    "    print(key,d1[key])"
   ]
  },
  {
   "cell_type": "code",
   "execution_count": 61,
   "id": "8542e948-5eec-4a4b-a501-962ea90eddb0",
   "metadata": {},
   "outputs": [
    {
     "name": "stdout",
     "output_type": "stream",
     "text": [
      "{3: 0, 6: 0, 9: 0, 12: 0, 15: 0, 18: 0, 21: 0, 24: 0, 27: 0, 30: 0, 33: 0, 36: 0, 39: 0, 42: 0, 45: 0, 48: 0, 51: 0, 54: 0, 57: 0, 60: 0, 63: 0, 66: 0, 69: 0, 72: 0, 75: 0, 78: 0, 81: 0, 84: 0, 87: 0, 90: 0, 93: 0, 96: 0, 99: 0}\n",
      "<class 'dict'>\n",
      "[3, 6, 9, 12, 15, 18, 21, 24, 27, 30, 33, 36, 39, 42, 45, 48, 51, 54, 57, 60, 63, 66, 69, 72, 75, 78, 81, 84, 87, 90, 93, 96, 99]\n",
      "<class 'list'>\n",
      "{3, 6, 9, 12, 15, 18, 21, 24, 27, 30, 33, 36, 39, 42, 45, 48, 51, 54, 57, 60, 63, 66, 69, 72, 75, 78, 81, 84, 87, 90, 93, 96, 99}\n",
      "<class 'set'>\n",
      "(3, 6, 9, 12, 15, 18, 21, 24, 27, 30, 33, 36, 39, 42, 45, 48, 51, 54, 57, 60, 63, 66, 69, 72, 75, 78, 81, 84, 87, 90, 93, 96, 99)\n",
      "<class 'tuple'>\n"
     ]
    }
   ],
   "source": [
    "x = {i:0 for i in range(1,100) if i%3==0}\n",
    "print(x)\n",
    "print(type(x))\n",
    "\n",
    "\n",
    "x = [i for i in range(1,100) if i%3==0]\n",
    "print(x)\n",
    "print(type(x))\n",
    "\n",
    "x = {i for i in range(1,100) if i%3==0}\n",
    "print(x)\n",
    "print(type(x))\n",
    "\n",
    "\n",
    "x = tuple(i for i in range(1,100) if i%3==0)\n",
    "print(x)\n",
    "print(type(x))"
   ]
  },
  {
   "cell_type": "code",
   "execution_count": 69,
   "id": "62b5e4e7-190e-433b-9e6e-8bedbe62da9c",
   "metadata": {},
   "outputs": [
    {
     "data": {
      "text/plain": [
       "9"
      ]
     },
     "execution_count": 69,
     "metadata": {},
     "output_type": "execute_result"
    }
   ],
   "source": [
    "def func2(x,y,z=None):\n",
    "    return (x*y)+z\n",
    "\n",
    "func2(2,3,3)"
   ]
  },
  {
   "cell_type": "code",
   "execution_count": 81,
   "id": "3b534a53-e987-4627-9c05-b4f210979033",
   "metadata": {},
   "outputs": [
    {
     "name": "stdout",
     "output_type": "stream",
     "text": [
      "1 2 3 4\n",
      "1 2 3 4\n",
      "1 2 3 4\n",
      "<class 'dict'>\n"
     ]
    }
   ],
   "source": [
    "x = [1,2,3,4]\n",
    "y = (1,2,3,4)\n",
    "z = {1,2,3,4}\n",
    "a = {'a':1,'b':2,'c':3}\n",
    "\n",
    "print(*x)\n",
    "print(*y)\n",
    "print(*z)\n",
    "#print(**a)\n",
    "print(type(a))"
   ]
  },
  {
   "cell_type": "code",
   "execution_count": 85,
   "id": "cb080f71-8daf-40c7-a0cb-0c2161367126",
   "metadata": {},
   "outputs": [
    {
     "ename": "TypeError",
     "evalue": "'b' is an invalid keyword argument for print()",
     "output_type": "error",
     "traceback": [
      "\u001b[0;31m---------------------------------------------------------------------------\u001b[0m",
      "\u001b[0;31mTypeError\u001b[0m                                 Traceback (most recent call last)",
      "Cell \u001b[0;32mIn[85], line 2\u001b[0m\n\u001b[1;32m      1\u001b[0m a \u001b[38;5;241m=\u001b[39m {\u001b[38;5;124m'\u001b[39m\u001b[38;5;124mb\u001b[39m\u001b[38;5;124m'\u001b[39m:\u001b[38;5;241m1\u001b[39m,\u001b[38;5;124m'\u001b[39m\u001b[38;5;124mc\u001b[39m\u001b[38;5;124m'\u001b[39m:\u001b[38;5;241m2\u001b[39m,\u001b[38;5;124m'\u001b[39m\u001b[38;5;124md\u001b[39m\u001b[38;5;124m'\u001b[39m:\u001b[38;5;241m3\u001b[39m}\n\u001b[0;32m----> 2\u001b[0m \u001b[38;5;28mprint\u001b[39m(\u001b[38;5;241m*\u001b[39m\u001b[38;5;241m*\u001b[39ma)\n",
      "\u001b[0;31mTypeError\u001b[0m: 'b' is an invalid keyword argument for print()"
     ]
    }
   ],
   "source": [
    "a = {'b':1,'c':2,'d':3}\n",
    "print(**a)"
   ]
  },
  {
   "cell_type": "code",
   "execution_count": 93,
   "id": "d2326731-9264-42f9-85ae-06a5f07e7c39",
   "metadata": {},
   "outputs": [
    {
     "name": "stdout",
     "output_type": "stream",
     "text": [
      "a:4\n",
      "b:5\n",
      "c:6\n"
     ]
    }
   ],
   "source": [
    "def func(**kwargs):\n",
    "    for key,values in kwargs.items():\n",
    "        print(f\"{key}:{values}\")\n",
    "f = {'a':4,'b':5,'c':6}\n",
    "func(**{'a':4,'b':5,'c':6})"
   ]
  },
  {
   "cell_type": "code",
   "execution_count": 97,
   "id": "edb0c68f-d5af-4b1c-a91f-d237a3a1f77c",
   "metadata": {},
   "outputs": [
    {
     "name": "stdout",
     "output_type": "stream",
     "text": [
      "ananth\n",
      "ananth\n"
     ]
    }
   ],
   "source": [
    "x = 'ananth'\n",
    "def func4(name):\n",
    "    x = name\n",
    "\n",
    "print(x)\n",
    "func4('Hero')\n",
    "print(x)"
   ]
  },
  {
   "cell_type": "code",
   "execution_count": 99,
   "id": "471ce0c2-d34a-4ab3-b88a-588f2c0b37a0",
   "metadata": {},
   "outputs": [
    {
     "name": "stdout",
     "output_type": "stream",
     "text": [
      "ananth\n",
      "Hero\n"
     ]
    }
   ],
   "source": [
    "x = 'ananth'\n",
    "def func4(name):\n",
    "    global x\n",
    "    x = name\n",
    "\n",
    "print(x)\n",
    "func4('Hero')\n",
    "print(x)"
   ]
  },
  {
   "cell_type": "code",
   "execution_count": 101,
   "id": "1d19d111-d504-4ade-b6d1-43c9d1798f61",
   "metadata": {},
   "outputs": [
    {
     "ename": "Exception",
     "evalue": "Bad Input",
     "output_type": "error",
     "traceback": [
      "\u001b[0;31m---------------------------------------------------------------------------\u001b[0m",
      "\u001b[0;31mException\u001b[0m                                 Traceback (most recent call last)",
      "Cell \u001b[0;32mIn[101], line 1\u001b[0m\n\u001b[0;32m----> 1\u001b[0m \u001b[38;5;28;01mraise\u001b[39;00m \u001b[38;5;167;01mException\u001b[39;00m(\u001b[38;5;124m\"\u001b[39m\u001b[38;5;124mBad Input\u001b[39m\u001b[38;5;124m\"\u001b[39m)\n",
      "\u001b[0;31mException\u001b[0m: Bad Input"
     ]
    }
   ],
   "source": [
    "raise Exception(\"Bad Input\")"
   ]
  },
  {
   "cell_type": "code",
   "execution_count": 103,
   "id": "c429c049-9e19-49a5-b483-4b4b98f09147",
   "metadata": {},
   "outputs": [
    {
     "ename": "FileNotFoundError",
     "evalue": "Incorrect file name",
     "output_type": "error",
     "traceback": [
      "\u001b[0;31m---------------------------------------------------------------------------\u001b[0m",
      "\u001b[0;31mFileNotFoundError\u001b[0m                         Traceback (most recent call last)",
      "Cell \u001b[0;32mIn[103], line 1\u001b[0m\n\u001b[0;32m----> 1\u001b[0m \u001b[38;5;28;01mraise\u001b[39;00m \u001b[38;5;167;01mFileNotFoundError\u001b[39;00m(\u001b[38;5;124m\"\u001b[39m\u001b[38;5;124mIncorrect file name\u001b[39m\u001b[38;5;124m\"\u001b[39m)\n",
      "\u001b[0;31mFileNotFoundError\u001b[0m: Incorrect file name"
     ]
    }
   ],
   "source": [
    "raise FileNotFoundError(\"Incorrect file name\")"
   ]
  },
  {
   "cell_type": "code",
   "execution_count": 105,
   "id": "f42465d8-78cf-4881-9016-fda2ca8b7eb2",
   "metadata": {},
   "outputs": [
    {
     "name": "stdout",
     "output_type": "stream",
     "text": [
      "[3, 4, 5, 6, 7, 8, 9, 10, 11, 12]\n"
     ]
    }
   ],
   "source": [
    "#map \n",
    "\n",
    "x = [1,2,3,4,5,6,7,8,9,10]\n",
    "mp = map(lambda i :i+2,x)\n",
    "print(list(mp))"
   ]
  },
  {
   "cell_type": "code",
   "execution_count": 111,
   "id": "0da4bdfb-6fe1-435a-8452-7a534d2c02f4",
   "metadata": {},
   "outputs": [
    {
     "name": "stdout",
     "output_type": "stream",
     "text": [
      "[2, 4, 6, 8, 10]\n"
     ]
    }
   ],
   "source": [
    "#Filter\n",
    "\n",
    "x = [1,2,3,4,5,6,7,8,9,10]\n",
    "mp = filter(lambda i :i%2==0,x)\n",
    "print(list(mp))"
   ]
  },
  {
   "cell_type": "code",
   "execution_count": 115,
   "id": "671cae86-f2df-4bfa-a3ce-d311212bfcab",
   "metadata": {},
   "outputs": [
    {
     "name": "stdout",
     "output_type": "stream",
     "text": [
      "Toyota\n",
      "Corolla\n",
      "MS\n",
      "XL6\n"
     ]
    }
   ],
   "source": [
    "class Car:\n",
    "    def __init__(self,brand,model):\n",
    "        self.brand = brand\n",
    "        self.model = model\n",
    "\n",
    "my_car = Car(\"Toyota\",\"Corolla\")\n",
    "print(my_car.brand)\n",
    "print(my_car.model)\n",
    "\n",
    "my_car_2 = Car(\"MS\",\"XL6\")\n",
    "print(my_car_2.brand)\n",
    "print(my_car_2.model)"
   ]
  },
  {
   "cell_type": "code",
   "execution_count": 121,
   "id": "2bbea43d-9e97-4d69-8e9d-0fd415e20a8d",
   "metadata": {},
   "outputs": [
    {
     "name": "stdout",
     "output_type": "stream",
     "text": [
      "Toyota\n",
      "Corolla\n",
      "Toyota Corolla\n",
      "MS\n",
      "XL6\n",
      "MS XL6\n"
     ]
    }
   ],
   "source": [
    "class Car:\n",
    "    def __init__(self,brand,model):\n",
    "        self.brand = brand\n",
    "        self.model = model\n",
    "    def full_name(self):\n",
    "        return f\"{self.brand} {self.model}\"\n",
    "\n",
    "my_car = Car(\"Toyota\",\"Corolla\")\n",
    "print(my_car.brand)\n",
    "print(my_car.model)\n",
    "print(my_car.full_name())\n",
    "\n",
    "my_car_2 = Car(\"MS\",\"XL6\")\n",
    "print(my_car_2.brand)\n",
    "print(my_car_2.model)\n",
    "print(my_car_2.full_name())"
   ]
  },
  {
   "cell_type": "code",
   "execution_count": 129,
   "id": "a1ae72f9-a803-4f14-acda-f2ae4d160bfd",
   "metadata": {},
   "outputs": [
    {
     "name": "stdout",
     "output_type": "stream",
     "text": [
      "Tesla Model X\n",
      "Model X\n",
      "Tesla\n",
      "90Kwh\n"
     ]
    }
   ],
   "source": [
    "#Inheritance\n",
    "\n",
    "class Car:\n",
    "    def __init__(self,brand,model):\n",
    "        self.brand = brand\n",
    "        self.model = model\n",
    "    def full_name(self):\n",
    "        return f\"{self.brand} {self.model}\"\n",
    "\n",
    "class ElectricCar(Car):\n",
    "    def __init__(self,brand,model,battery_size):\n",
    "        super().__init__(brand,model)\n",
    "        self.battery_size = battery_size\n",
    "\n",
    "my_tesla = ElectricCar(\"Tesla\",\"Model X\",\"90Kwh\")\n",
    "print(my_tesla.full_name())\n",
    "print(my_tesla.model)\n",
    "print(my_tesla.brand)\n",
    "print(my_tesla.battery_size)"
   ]
  },
  {
   "cell_type": "code",
   "execution_count": 134,
   "id": "cd467c8d-1757-4f29-adf5-640db8561d8a",
   "metadata": {},
   "outputs": [
    {
     "name": "stdout",
     "output_type": "stream",
     "text": [
      "Tesla Model X\n",
      "Model X\n",
      "90Kwh\n",
      "Tesla!!\n"
     ]
    }
   ],
   "source": [
    "#Encapsulation\n",
    "\n",
    "class Car:\n",
    "    def __init__(self,brand,model):\n",
    "        self.__brand = brand\n",
    "        self.model = model\n",
    "\n",
    "    def get_brand(self):\n",
    "        return self.__brand + \"!!\"\n",
    "\n",
    "    def full_name(self):\n",
    "        return f\"{self.__brand} {self.model}\"\n",
    "\n",
    "class ElectricCar(Car):\n",
    "    def __init__(self,brand,model,battery_size):\n",
    "        super().__init__(brand,model)\n",
    "        self.battery_size = battery_size\n",
    "\n",
    "my_tesla = ElectricCar(\"Tesla\",\"Model X\",\"90Kwh\")\n",
    "print(my_tesla.full_name())\n",
    "print(my_tesla.model)\n",
    "#print(my_tesla.__brand)\n",
    "print(my_tesla.battery_size)\n",
    "print(my_tesla.get_brand())"
   ]
  },
  {
   "cell_type": "code",
   "execution_count": 146,
   "id": "df285ed2-f8f2-4d3c-8726-04bf1f1acb1c",
   "metadata": {},
   "outputs": [
    {
     "name": "stdout",
     "output_type": "stream",
     "text": [
      "Tesla Model X\n",
      "Model X\n",
      "90Kwh\n",
      "Tesla!!\n",
      "<bound method Car.get_brand of <__main__.Car object at 0x14353d4d0>>\n",
      "Corolla\n",
      "Toyota Corolla\n",
      "<bound method Car.get_brand of <__main__.Car object at 0x14353d350>>\n",
      "XL6\n",
      "MS XL6\n",
      "Petrol or Diesel\n",
      "Petrol or Diesel\n",
      "Electric Charge\n"
     ]
    }
   ],
   "source": [
    "#Polymorphism\n",
    "\n",
    "class Car:\n",
    "    def __init__(self,brand,model):\n",
    "        self.__brand = brand\n",
    "        self.model = model\n",
    "\n",
    "    def get_brand(self):\n",
    "        return self.__brand + \"!!\"\n",
    "\n",
    "    def full_name(self):\n",
    "        return f\"{self.__brand} {self.model}\"\n",
    "    def fuel_type(self):\n",
    "        return \"Petrol or Diesel\"\n",
    "\n",
    "class ElectricCar(Car):\n",
    "    def __init__(self,brand,model,battery_size):\n",
    "        super().__init__(brand,model)\n",
    "        self.battery_size = battery_size\n",
    "    def fuel_type(self):\n",
    "        return \"Electric Charge\"\n",
    "\n",
    "my_tesla = ElectricCar(\"Tesla\",\"Model X\",\"90Kwh\")\n",
    "print(my_tesla.full_name())\n",
    "print(my_tesla.model)\n",
    "#print(my_tesla.__brand)\n",
    "print(my_tesla.battery_size)\n",
    "print(my_tesla.get_brand())\n",
    "\n",
    "my_car = Car(\"Toyota\",\"Corolla\")\n",
    "print(my_car.get_brand)\n",
    "print(my_car.model)\n",
    "print(my_car.full_name())\n",
    "\n",
    "my_car_2 = Car(\"MS\",\"XL6\")\n",
    "print(my_car_2.get_brand)\n",
    "print(my_car_2.model)\n",
    "print(my_car_2.full_name())\n",
    "\n",
    "print(my_car.fuel_type())\n",
    "print(my_car_2.fuel_type())\n",
    "print(my_tesla.fuel_type())"
   ]
  },
  {
   "cell_type": "code",
   "execution_count": 142,
   "id": "72a8c33e-b0e5-4266-a481-689c5bb7ccef",
   "metadata": {},
   "outputs": [
    {
     "name": "stdin",
     "output_type": "stream",
     "text": [
      "Enter number1:  22\n",
      "Enter number2:  33\n"
     ]
    },
    {
     "name": "stdout",
     "output_type": "stream",
     "text": [
      "55\n"
     ]
    }
   ],
   "source": [
    "num1 = eval(input(\"Enter number1: \"))\n",
    "num2 = eval(input(\"Enter number2: \"))\n",
    "sum = num1+num2\n",
    "print(sum)"
   ]
  },
  {
   "cell_type": "code",
   "execution_count": 144,
   "id": "24ac23b2-cc06-4886-8fc8-9e3dc448a887",
   "metadata": {},
   "outputs": [
    {
     "name": "stdin",
     "output_type": "stream",
     "text": [
      "Enter the side value:  11\n"
     ]
    },
    {
     "name": "stdout",
     "output_type": "stream",
     "text": [
      "121\n"
     ]
    }
   ],
   "source": [
    "side = int(input(\"Enter the side value: \"))\n",
    "area = side*side\n",
    "print(area)"
   ]
  },
  {
   "cell_type": "code",
   "execution_count": 150,
   "id": "c6744134-26af-49c1-a32e-6fe424dd615d",
   "metadata": {},
   "outputs": [
    {
     "name": "stdin",
     "output_type": "stream",
     "text": [
      "Enter number1:  22.3\n",
      "Enter number2:  22.1\n"
     ]
    },
    {
     "name": "stdout",
     "output_type": "stream",
     "text": [
      "22.200000000000003\n"
     ]
    }
   ],
   "source": [
    "num1 = float(input(\"Enter number1: \"))\n",
    "num2 = float(input(\"Enter number2: \"))\n",
    "\n",
    "avg = (num1+num2)/2\n",
    "print(avg)"
   ]
  },
  {
   "cell_type": "code",
   "execution_count": 158,
   "id": "54f2f961-be67-4cc9-995f-1aeea1d06459",
   "metadata": {},
   "outputs": [
    {
     "name": "stdin",
     "output_type": "stream",
     "text": [
      "Enter a :  11\n",
      "Enter b :  11\n"
     ]
    },
    {
     "name": "stdout",
     "output_type": "stream",
     "text": [
      "True\n"
     ]
    }
   ],
   "source": [
    "a = eval(input(\"Enter a : \"))\n",
    "b = eval(input(\"Enter b : \"))\n",
    "\n",
    "print(a>=b)"
   ]
  },
  {
   "cell_type": "code",
   "execution_count": null,
   "id": "e60af78c-62ce-4f51-b31a-7e10b4119cd4",
   "metadata": {},
   "outputs": [],
   "source": []
  }
 ],
 "metadata": {
  "kernelspec": {
   "display_name": "Python 3 (ipykernel)",
   "language": "python",
   "name": "python3"
  },
  "language_info": {
   "codemirror_mode": {
    "name": "ipython",
    "version": 3
   },
   "file_extension": ".py",
   "mimetype": "text/x-python",
   "name": "python",
   "nbconvert_exporter": "python",
   "pygments_lexer": "ipython3",
   "version": "3.11.7"
  }
 },
 "nbformat": 4,
 "nbformat_minor": 5
}
