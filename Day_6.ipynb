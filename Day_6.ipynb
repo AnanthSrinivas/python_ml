{
 "cells": [
  {
   "cell_type": "code",
   "execution_count": 10,
   "id": "28aa431b-db94-43f9-a6a3-a7e83a61ed99",
   "metadata": {},
   "outputs": [
    {
     "name": "stdout",
     "output_type": "stream",
     "text": [
      "The area of the circle with radius 10 is : 314.0\n",
      "The area of the circle with radius 10 is : 314.0\n"
     ]
    }
   ],
   "source": [
    "radius = 10\n",
    "value_pi = 3.14\n",
    "area = value_pi*radius*radius\n",
    "print(f\"The area of the circle with radius {radius} is : {area}\")\n",
    "print(\"The area of the circle with radius {} is : {}\".format(radius,area))"
   ]
  },
  {
   "cell_type": "markdown",
   "id": "796cab62-6bde-4cff-9755-e32badab7b5e",
   "metadata": {},
   "source": [
    "**Area of Triangle**"
   ]
  },
  {
   "cell_type": "code",
   "execution_count": 12,
   "id": "80ff9395-2fda-42c5-a854-73a1867c559d",
   "metadata": {},
   "outputs": [
    {
     "name": "stdout",
     "output_type": "stream",
     "text": [
      "Area of a triangle is: 100.0  100.0\n",
      "Area of a triangle is: 100.0   100.0\n"
     ]
    }
   ],
   "source": [
    "base = 10\n",
    "height = 20\n",
    "area = 0.5*base*height\n",
    "area_1 = (base*height)/2\n",
    "print(f\"Area of a triangle is: {area}  {area_1}\")\n",
    "print(\"Area of a triangle is: {}   {}\".format(area,area_1))"
   ]
  },
  {
   "cell_type": "markdown",
   "id": "259a4f26-7712-4f45-ac4f-eb1b6fb9a514",
   "metadata": {},
   "source": [
    "**Calculate the tip amount**"
   ]
  },
  {
   "cell_type": "code",
   "execution_count": 14,
   "id": "c6027aff-4b99-4135-8333-4c54e74df98f",
   "metadata": {},
   "outputs": [
    {
     "name": "stdout",
     "output_type": "stream",
     "text": [
      "The total bill including the tip amount - 200.0 is : 1200.0\n",
      "The total bill including the tip amount - 200.0 is : 1200.0\n"
     ]
    }
   ],
   "source": [
    "bill=1000\n",
    "tip_percentage = 20\n",
    "tip_value = (bill*tip_percentage)/100\n",
    "total_bill = bill+tip_value\n",
    "print(f\"The total bill including the tip amount - {tip_value} is : {total_bill}\")\n",
    "print(\"The total bill including the tip amount - {} is : {}\".format(tip_value,total_bill))"
   ]
  },
  {
   "cell_type": "markdown",
   "id": "f37d59f4-41b9-4854-a29c-6441adac5ea6",
   "metadata": {},
   "source": [
    "$end  Operator$\n",
    "\n",
    "- It is used to concatinate mutiple print statements."
   ]
  },
  {
   "cell_type": "code",
   "execution_count": 20,
   "id": "467c6ecd-acbf-425a-98eb-4671035ac8bf",
   "metadata": {},
   "outputs": [
    {
     "name": "stdout",
     "output_type": "stream",
     "text": [
      "10 20\n",
      "10 20 30\n",
      "10 & 20\n"
     ]
    }
   ],
   "source": [
    "print(10,end = ' ')\n",
    "print(20)\n",
    "\n",
    "\n",
    "print(10,end = ' ')\n",
    "print(20,end = ' ')\n",
    "print(30)\n",
    "\n",
    "print(10,end = ' & ')\n",
    "print(20)"
   ]
  },
  {
   "cell_type": "markdown",
   "id": "51585db1-c6a7-47c9-9b85-1ec094af7612",
   "metadata": {},
   "source": [
    "$ Seperator Operator$\n",
    "\n",
    "- This operator is used to seperate multiple values in a single print statement"
   ]
  },
  {
   "cell_type": "code",
   "execution_count": 22,
   "id": "0ca0a836-6a5f-4143-b1a4-d6a29766a11f",
   "metadata": {},
   "outputs": [
    {
     "name": "stdout",
     "output_type": "stream",
     "text": [
      "10 20 30\n",
      "10 & 20 & 30\n",
      "10-->20-->30\n"
     ]
    }
   ],
   "source": [
    "print(10,20,30,sep=' ')\n",
    "\n",
    "print(10,20,30,sep=' & ')\n",
    "\n",
    "print(10,20,30,sep='-->')"
   ]
  },
  {
   "cell_type": "markdown",
   "id": "27341be7-3c1c-48b3-be48-2af6c7c24007",
   "metadata": {},
   "source": [
    "**$Input$**\n",
    "\n",
    "- This keyword is used to take the input from the user.\n",
    "- The output of input keyword will be a string.\n",
    "- In order to perform an matematical operator we need to convert that string into an int(**refer line 28**)."
   ]
  },
  {
   "cell_type": "code",
   "execution_count": 24,
   "id": "03240835-d38a-403e-9c96-7e9765cf84ed",
   "metadata": {},
   "outputs": [
    {
     "name": "stdin",
     "output_type": "stream",
     "text": [
      " Python\n"
     ]
    },
    {
     "data": {
      "text/plain": [
       "'Python'"
      ]
     },
     "execution_count": 24,
     "metadata": {},
     "output_type": "execute_result"
    }
   ],
   "source": [
    "input()"
   ]
  },
  {
   "cell_type": "code",
   "execution_count": 25,
   "id": "e3e8dfa1-745a-4af2-8d71-931f1f8d30c7",
   "metadata": {},
   "outputs": [
    {
     "name": "stdin",
     "output_type": "stream",
     "text": [
      "Enter a value for 'a' :  11\n"
     ]
    }
   ],
   "source": [
    "a = input(\"Enter a value for 'a' : \")"
   ]
  },
  {
   "cell_type": "code",
   "execution_count": 26,
   "id": "e1c68a1e-7292-484a-a1fc-961a5f2c7a1a",
   "metadata": {},
   "outputs": [
    {
     "name": "stdout",
     "output_type": "stream",
     "text": [
      "11\n"
     ]
    }
   ],
   "source": [
    "print(a)"
   ]
  },
  {
   "cell_type": "code",
   "execution_count": 27,
   "id": "576bae94-0bfe-4f8b-8a9a-727f85f7965a",
   "metadata": {},
   "outputs": [
    {
     "name": "stdin",
     "output_type": "stream",
     "text": [
      "enter the number:  11\n",
      "enter the number2:  22\n",
      "enter the number3:  33\n"
     ]
    },
    {
     "name": "stdout",
     "output_type": "stream",
     "text": [
      "11 22 33\n"
     ]
    }
   ],
   "source": [
    "a = input(\"enter the number: \")\n",
    "b = input(\"enter the number2: \")\n",
    "c = input(\"enter the number3: \")\n",
    "print(a,b,c,sep=' ')"
   ]
  },
  {
   "cell_type": "code",
   "execution_count": 30,
   "id": "46c29086-1817-42e2-b58b-fec8c483d3c9",
   "metadata": {},
   "outputs": [
    {
     "name": "stdin",
     "output_type": "stream",
     "text": [
      "Enter the value1:  11\n",
      "Enter the value2:  11\n"
     ]
    },
    {
     "name": "stdout",
     "output_type": "stream",
     "text": [
      "1111\n"
     ]
    }
   ],
   "source": [
    "# The output of input will be a string so the sum will be just concatination of two strings as shown below. \n",
    "\n",
    "num1 = (input(\"Enter the value1: \"))\n",
    "num2 = (input(\"Enter the value2: \"))\n",
    "total = num1+num2 #Ex: '11'+'22' = '1122'\n",
    "print(total)"
   ]
  },
  {
   "cell_type": "code",
   "execution_count": 29,
   "id": "baa3496a-b4e1-45a9-bb13-6a9a3ea6f9cf",
   "metadata": {},
   "outputs": [
    {
     "name": "stdin",
     "output_type": "stream",
     "text": [
      "Enter the value1:  33\n",
      "Enter the value2:  11\n"
     ]
    },
    {
     "name": "stdout",
     "output_type": "stream",
     "text": [
      "44\n"
     ]
    }
   ],
   "source": [
    "# Converting the string output of an input keyword into an int and then performing the mathemactical operation.\n",
    "\n",
    "num1 = int(input(\"Enter the value1: \"))\n",
    "num2 = int(input(\"Enter the value2: \"))\n",
    "total = num1+num2\n",
    "print(total)"
   ]
  },
  {
   "cell_type": "code",
   "execution_count": 31,
   "id": "59e95da9-bc6a-4021-b84e-253c05a762f9",
   "metadata": {},
   "outputs": [
    {
     "name": "stdin",
     "output_type": "stream",
     "text": [
      "Enter the value1:  22\n",
      "Enter the value2:  33\n"
     ]
    },
    {
     "name": "stdout",
     "output_type": "stream",
     "text": [
      "55\n"
     ]
    }
   ],
   "source": [
    "# You can convert the value into int when you are performing the mathematical operation. \n",
    "\n",
    "num1 = (input(\"Enter the value1: \"))\n",
    "num2 = (input(\"Enter the value2: \"))\n",
    "total = int(num1)+int(num2)\n",
    "print(total)"
   ]
  },
  {
   "cell_type": "markdown",
   "id": "b8ee13e6-2dc5-4e8a-be0a-534ddf37f54e",
   "metadata": {},
   "source": [
    "**$Eval KeyWord$**\n",
    "\n",
    "- This keyword is used when we are not ware if the user will submit an int or float value, this keyword will convert the value into respective datatype(int or float)\n",
    "- This will work only for int or float datatypes, **will not work for string datatype**"
   ]
  },
  {
   "cell_type": "code",
   "execution_count": 32,
   "id": "5a7d145c-c44c-4a03-9d4b-64665657146f",
   "metadata": {},
   "outputs": [
    {
     "name": "stdin",
     "output_type": "stream",
     "text": [
      "Enter the value a:  10\n",
      "Enter the value b:  20\n",
      "Enter the value c:  30\n"
     ]
    },
    {
     "name": "stdout",
     "output_type": "stream",
     "text": [
      "20.0\n"
     ]
    }
   ],
   "source": [
    "# Uisng of Eval Keyword\n",
    "\n",
    "a = eval(input(\"Enter the value a: \"))\n",
    "b = eval(input(\"Enter the value b: \"))\n",
    "c = eval(input(\"Enter the value c: \"))\n",
    "\n",
    "Avg = (a+b+c)/3\n",
    "print(Avg)"
   ]
  },
  {
   "cell_type": "code",
   "execution_count": 35,
   "id": "c956bcef-08a1-4054-8112-edded0801172",
   "metadata": {},
   "outputs": [
    {
     "name": "stdin",
     "output_type": "stream",
     "text": [
      "Enter num1:  50\n",
      "Enter num2:  10\n"
     ]
    },
    {
     "name": "stdout",
     "output_type": "stream",
     "text": [
      "The values are 50 and 10,Their sum is 60,Their substraction is 40, Their product is 500, Their division is 5.0\n"
     ]
    }
   ],
   "source": [
    "# +,-,/,* by taking input from user\n",
    "\n",
    "num1 = eval(input(\"Enter num1: \"))\n",
    "num2 = eval(input(\"Enter num2: \"))\n",
    "\n",
    "sum = num1+num2\n",
    "sub = num1-num2\n",
    "mul = num1*num2\n",
    "div = num1/num2\n",
    "\n",
    "print(f\"The values are {num1} and {num2},Their sum is {sum},Their substraction is {sub}, Their product is {mul}, Their division is {div}\")\n"
   ]
  },
  {
   "cell_type": "code",
   "execution_count": 37,
   "id": "aae5d395-918f-4576-9171-365d5364f9ae",
   "metadata": {},
   "outputs": [
    {
     "name": "stdin",
     "output_type": "stream",
     "text": [
      "Enter the radius of the circle:  10.5\n"
     ]
    },
    {
     "name": "stdout",
     "output_type": "stream",
     "text": [
      "The area of circle is: 346.185\n"
     ]
    }
   ],
   "source": [
    "# Area of Circle by taking radius as input from user\n",
    "\n",
    "radius = eval(input(\"Enter the radius of the circle: \"))\n",
    "value_pi = 3.14\n",
    "area = value_pi*radius*radius\n",
    "print(f\"The area of circle is: {area}\")"
   ]
  },
  {
   "cell_type": "code",
   "execution_count": 38,
   "id": "44b6a848-5b3a-4a40-b05b-1f5166bfe118",
   "metadata": {},
   "outputs": [
    {
     "name": "stdin",
     "output_type": "stream",
     "text": [
      "Enter the bill amount:  3000\n",
      "Enter the tip percentage:  5\n"
     ]
    },
    {
     "name": "stdout",
     "output_type": "stream",
     "text": [
      "The total bill including the tip amount - 150.0 is : 3150.0\n",
      "The total bill including the tip amount - 150.0 is : 3150.0\n"
     ]
    }
   ],
   "source": [
    "# Calculate the tip and total bill amount, by taking the bill amount & tip percentage from the user\n",
    "\n",
    "bill = eval(input(\"Enter the bill amount: \"))\n",
    "tip_percentage = eval(input(\"Enter the tip percentage: \"))\n",
    "tip_value = (bill*tip_percentage)/100\n",
    "total_bill = bill+tip_value\n",
    "print(f\"The total bill including the tip amount - {tip_value} is : {total_bill}\")\n",
    "print(\"The total bill including the tip amount - {} is : {}\".format(tip_value,total_bill))"
   ]
  },
  {
   "cell_type": "code",
   "execution_count": 39,
   "id": "5ac0f866-efb4-40a7-ac88-b5946b12fdb5",
   "metadata": {},
   "outputs": [
    {
     "name": "stdin",
     "output_type": "stream",
     "text": [
      "Enter the bill amount in dollars:  250\n",
      "Please enter the one dollar value:  87.53\n"
     ]
    },
    {
     "name": "stdout",
     "output_type": "stream",
     "text": [
      "The total bill in dollars is 250 , the bill in INR is 21882.5\n"
     ]
    }
   ],
   "source": [
    "# Converting the bill amount from dollar to INR\n",
    "\n",
    "bill = eval(input(\"Enter the bill amount in dollars: \"))\n",
    "one_dollar = eval(input(\"Please enter the one dollar value: \"))\n",
    "bill_inr = bill*one_dollar\n",
    "print(f\"The total bill in dollars is {bill} , the bill in INR is {bill_inr}\")\n"
   ]
  },
  {
   "cell_type": "code",
   "execution_count": 42,
   "id": "560eeea3-7137-4b11-b046-7f19a84ad1cb",
   "metadata": {},
   "outputs": [
    {
     "name": "stdin",
     "output_type": "stream",
     "text": [
      "Enter the base value:  11\n",
      "Enter the height value:  22\n"
     ]
    },
    {
     "name": "stdout",
     "output_type": "stream",
     "text": [
      "Area of a triangle is: 121.0\n"
     ]
    }
   ],
   "source": [
    "# Area of triagle by taking height and base values from user\n",
    "\n",
    "base = eval(input(\"Enter the base value: \"))\n",
    "height = eval(input(\"Enter the height value: \"))\n",
    "area = 0.5*base*height\n",
    "print(f\"Area of a triangle is: {area}\")"
   ]
  },
  {
   "cell_type": "code",
   "execution_count": 41,
   "id": "11f1c6b5-3ba9-4a7a-a84c-9b4e1ca91851",
   "metadata": {},
   "outputs": [
    {
     "name": "stdin",
     "output_type": "stream",
     "text": [
      "Enter the length value:  22\n",
      "Enter the breadth value:  11\n"
     ]
    },
    {
     "name": "stdout",
     "output_type": "stream",
     "text": [
      "Area of rectangle is 242\n"
     ]
    }
   ],
   "source": [
    "# Area of rectangle by taking length and breadth values from user\n",
    "\n",
    "length = eval(input(\"Enter the length value: \"))\n",
    "breadth = eval(input(\"Enter the breadth value: \"))\n",
    "area = length * breadth\n",
    "print(f\"Area of rectangle is {area}\")\n"
   ]
  },
  {
   "cell_type": "code",
   "execution_count": null,
   "id": "81332a7f-3e41-4832-8de4-f49d31a14278",
   "metadata": {},
   "outputs": [],
   "source": []
  }
 ],
 "metadata": {
  "kernelspec": {
   "display_name": "Python 3 (ipykernel)",
   "language": "python",
   "name": "python3"
  },
  "language_info": {
   "codemirror_mode": {
    "name": "ipython",
    "version": 3
   },
   "file_extension": ".py",
   "mimetype": "text/x-python",
   "name": "python",
   "nbconvert_exporter": "python",
   "pygments_lexer": "ipython3",
   "version": "3.11.7"
  }
 },
 "nbformat": 4,
 "nbformat_minor": 5
}
