{
 "cells": [
  {
   "cell_type": "markdown",
   "id": "6f93de3b-21fa-4308-9b2a-936eeaddff2e",
   "metadata": {},
   "source": [
    "**1.Write a Python program to find the sum of the first N natural numbers using a for loop.**"
   ]
  },
  {
   "cell_type": "code",
   "execution_count": 2,
   "id": "0ff6b075-249f-40f4-9c5a-458a85a12fb4",
   "metadata": {},
   "outputs": [
    {
     "name": "stdin",
     "output_type": "stream",
     "text": [
      "Enter the no of natural numbers:  100\n"
     ]
    },
    {
     "name": "stdout",
     "output_type": "stream",
     "text": [
      "5050\n"
     ]
    }
   ],
   "source": [
    "sum = 0\n",
    "N = eval(input(\"Enter the no of natural numbers: \"))\n",
    "for i in range(1,N+1):\n",
    "    sum+=i\n",
    "print(sum)"
   ]
  },
  {
   "cell_type": "markdown",
   "id": "6e31ec5a-99a9-455c-9e84-1a8adec7a013",
   "metadata": {},
   "source": [
    "**2.Write a Python program to calculate the factorial of a given number using a for loop.**"
   ]
  },
  {
   "cell_type": "code",
   "execution_count": 17,
   "id": "3557b6bd-5209-4a21-b287-19a05007ae91",
   "metadata": {},
   "outputs": [
    {
     "name": "stdin",
     "output_type": "stream",
     "text": [
      "Enter the number:  4\n"
     ]
    },
    {
     "name": "stdout",
     "output_type": "stream",
     "text": [
      "The factorial of 4 is 24\n"
     ]
    }
   ],
   "source": [
    "num = eval(input(\"Enter the number: \"))\n",
    "fact = 1\n",
    "for i in range(1,num+1):\n",
    "    fact*=i\n",
    "\n",
    "print(f\"The factorial of {num} is {fact}\")"
   ]
  },
  {
   "cell_type": "markdown",
   "id": "7a19cecb-ed73-4936-949c-241b7584ce1d",
   "metadata": {},
   "source": [
    "**3.Write a Python program to print the multiplication table of a given number up to 10 using a for loop.**"
   ]
  },
  {
   "cell_type": "code",
   "execution_count": 22,
   "id": "dab3d7b2-120e-43af-bf2c-b9f2b3ce2d43",
   "metadata": {},
   "outputs": [
    {
     "name": "stdin",
     "output_type": "stream",
     "text": [
      "Enter the table:  10\n"
     ]
    },
    {
     "name": "stdout",
     "output_type": "stream",
     "text": [
      "10 * 1 = 10\n",
      "10 * 2 = 20\n",
      "10 * 3 = 30\n",
      "10 * 4 = 40\n",
      "10 * 5 = 50\n",
      "10 * 6 = 60\n",
      "10 * 7 = 70\n",
      "10 * 8 = 80\n",
      "10 * 9 = 90\n",
      "10 * 10 = 100\n"
     ]
    }
   ],
   "source": [
    "n = eval(input(\"Enter the table: \"))\n",
    "for i in range(1,11):\n",
    "    print(f\"{n} * {i} = {n*i}\")"
   ]
  },
  {
   "cell_type": "markdown",
   "id": "0cce5ee9-c38f-4542-81b8-ffa6d3e76a63",
   "metadata": {},
   "source": [
    "**4.Write a Python program to print numbers from N down to 1 using a for loop.**"
   ]
  },
  {
   "cell_type": "code",
   "execution_count": 34,
   "id": "a930613e-e9b1-47d5-914e-7eeaa02db45a",
   "metadata": {},
   "outputs": [
    {
     "name": "stdin",
     "output_type": "stream",
     "text": [
      "Enter a number:  10\n"
     ]
    },
    {
     "name": "stdout",
     "output_type": "stream",
     "text": [
      "10\n",
      "9\n",
      "8\n",
      "7\n",
      "6\n",
      "5\n",
      "4\n",
      "3\n",
      "2\n",
      "1\n"
     ]
    }
   ],
   "source": [
    "val = eval(input(\"Enter a number: \"))\n",
    "\n",
    "if val>0:\n",
    "    for i in range(val,0,-1):\n",
    "        print(i)\n",
    "else:\n",
    "    for i in range(val,2,+1):\n",
    "        print(i)"
   ]
  },
  {
   "cell_type": "markdown",
   "id": "40d9142f-d0f7-4612-bac3-acf597d6ec09",
   "metadata": {},
   "source": [
    "**5.Write a Python program to find the sum of all even numbers between 1 and N using a for loop.**"
   ]
  },
  {
   "cell_type": "code",
   "execution_count": 32,
   "id": "ab310827-781b-44c0-8466-b1a9832e36af",
   "metadata": {},
   "outputs": [
    {
     "name": "stdin",
     "output_type": "stream",
     "text": [
      "Enter the number:  10\n"
     ]
    },
    {
     "name": "stdout",
     "output_type": "stream",
     "text": [
      "The sum of all even numbers between 1 and 10 is 30\n"
     ]
    }
   ],
   "source": [
    "sum = 0\n",
    "num = eval(input(\"Enter the number: \"))\n",
    "for i in range(1,num+1):\n",
    "    if i%2==0:\n",
    "        sum+=i\n",
    "\n",
    "print(f\"The sum of all even numbers between 1 and {num} is {sum}\")"
   ]
  }
 ],
 "metadata": {
  "kernelspec": {
   "display_name": "Python 3 (ipykernel)",
   "language": "python",
   "name": "python3"
  },
  "language_info": {
   "codemirror_mode": {
    "name": "ipython",
    "version": 3
   },
   "file_extension": ".py",
   "mimetype": "text/x-python",
   "name": "python",
   "nbconvert_exporter": "python",
   "pygments_lexer": "ipython3",
   "version": "3.11.7"
  }
 },
 "nbformat": 4,
 "nbformat_minor": 5
}
