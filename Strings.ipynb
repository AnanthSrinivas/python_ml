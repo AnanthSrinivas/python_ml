{
 "cells": [
  {
   "cell_type": "code",
   "execution_count": 1,
   "id": "b22a7caa-74f7-461a-b7ca-fb1f7e701eb3",
   "metadata": {},
   "outputs": [
    {
     "name": "stdout",
     "output_type": "stream",
     "text": [
      "t\n"
     ]
    }
   ],
   "source": [
    "name = \"Ananth\"\n",
    "print(max(name))"
   ]
  },
  {
   "cell_type": "code",
   "execution_count": 3,
   "id": "273b1467-16bf-44e7-be76-ecfe762063bd",
   "metadata": {},
   "outputs": [
    {
     "name": "stdout",
     "output_type": "stream",
     "text": [
      "6\n"
     ]
    }
   ],
   "source": [
    "print(len(name))"
   ]
  },
  {
   "cell_type": "code",
   "execution_count": 5,
   "id": "ac22a66b-ca90-460c-83f8-2fbd7e384018",
   "metadata": {},
   "outputs": [
    {
     "name": "stdout",
     "output_type": "stream",
     "text": [
      "A\n"
     ]
    }
   ],
   "source": [
    "print(min(name))"
   ]
  },
  {
   "cell_type": "code",
   "execution_count": 9,
   "id": "e4a018cd-4c89-479c-883f-caed89d6567e",
   "metadata": {},
   "outputs": [
    {
     "name": "stdout",
     "output_type": "stream",
     "text": [
      "['t', 'n', 'n', 'h', 'a', 'A']\n"
     ]
    }
   ],
   "source": [
    "print(sorted(name))"
   ]
  },
  {
   "cell_type": "code",
   "execution_count": 11,
   "id": "867184d0-e0b3-4c48-a539-a537c6304a20",
   "metadata": {},
   "outputs": [
    {
     "name": "stdout",
     "output_type": "stream",
     "text": [
      "['t', 'n', 'n', 'h', 'a', 'A']\n"
     ]
    }
   ],
   "source": [
    "print(sorted(name,reverse=True))"
   ]
  },
  {
   "cell_type": "code",
   "execution_count": 13,
   "id": "948a0f07-488c-4534-bfb6-0ea7dd9ac04d",
   "metadata": {},
   "outputs": [
    {
     "name": "stdout",
     "output_type": "stream",
     "text": [
      "<reversed object at 0x139ea50c0>\n"
     ]
    }
   ],
   "source": [
    "print(reversed(name))"
   ]
  },
  {
   "cell_type": "code",
   "execution_count": 17,
   "id": "c922dd56-6c9e-4ee3-af4c-95f583df321b",
   "metadata": {},
   "outputs": [],
   "source": [
    "#Reverse function will reverse the string and store it in the memory. \n",
    "#In order for us to retrieve the reversed string then we will use a for loop and retrive the string. "
   ]
  },
  {
   "cell_type": "code",
   "execution_count": 19,
   "id": "e121717e-092d-4f55-bbee-4a8f26353e28",
   "metadata": {},
   "outputs": [
    {
     "name": "stdout",
     "output_type": "stream",
     "text": [
      "htnanA"
     ]
    }
   ],
   "source": [
    "name = \"Ananth\"\n",
    "out = reversed(name)\n",
    "\n",
    "for i in out:\n",
    "    print(i,end=\"\")"
   ]
  },
  {
   "cell_type": "code",
   "execution_count": 22,
   "id": "66154045-003f-4504-9276-7de8d1e6b4a7",
   "metadata": {},
   "outputs": [
    {
     "ename": "TypeError",
     "evalue": "'bool' object is not iterable",
     "output_type": "error",
     "traceback": [
      "\u001b[0;31m---------------------------------------------------------------------------\u001b[0m",
      "\u001b[0;31mTypeError\u001b[0m                                 Traceback (most recent call last)",
      "Cell \u001b[0;32mIn[22], line 1\u001b[0m\n\u001b[0;32m----> 1\u001b[0m \u001b[38;5;28msorted\u001b[39m(\u001b[38;5;28;01mTrue\u001b[39;00m)\n",
      "\u001b[0;31mTypeError\u001b[0m: 'bool' object is not iterable"
     ]
    }
   ],
   "source": [
    "sorted(True)"
   ]
  },
  {
   "cell_type": "code",
   "execution_count": 24,
   "id": "cfb092ea-0126-4a09-8b31-6e7b43b3f5a2",
   "metadata": {},
   "outputs": [
    {
     "data": {
      "text/plain": [
       "['t', 'n', 'n', 'h', 'a', 'a', 'A']"
      ]
     },
     "execution_count": 24,
     "metadata": {},
     "output_type": "execute_result"
    }
   ],
   "source": [
    "sorted(\"Anantha\",reverse=True)"
   ]
  },
  {
   "cell_type": "code",
   "execution_count": 26,
   "id": "fd0734f0-7311-4c2c-96f7-abedd31b1303",
   "metadata": {},
   "outputs": [
    {
     "name": "stdout",
     "output_type": "stream",
     "text": [
      "htnanA"
     ]
    }
   ],
   "source": [
    "for i in reversed(\"Ananth\"):\n",
    "    print(i,end=\"\")"
   ]
  },
  {
   "cell_type": "code",
   "execution_count": 36,
   "id": "26054c82-9fef-4be9-89df-f82ed3432612",
   "metadata": {},
   "outputs": [
    {
     "data": {
      "text/plain": [
       "True"
      ]
     },
     "execution_count": 36,
     "metadata": {},
     "output_type": "execute_result"
    }
   ],
   "source": [
    "name = \"Ananth Sai Srinivas\"\n",
    "\"a\"  in name"
   ]
  },
  {
   "cell_type": "code",
   "execution_count": 40,
   "id": "ce29f130-c8a2-4049-8ccd-7e58a97d72ef",
   "metadata": {},
   "outputs": [
    {
     "name": "stdout",
     "output_type": "stream",
     "text": [
      "3\n"
     ]
    }
   ],
   "source": [
    "str1 = \"hai naresh how are you\"\n",
    "count = 0\n",
    "for i in str1:\n",
    "    if i == 'a':\n",
    "        count +=1\n",
    "\n",
    "print(count)"
   ]
  },
  {
   "cell_type": "code",
   "execution_count": 42,
   "id": "e26984f7-e956-40c9-b0b9-2653351d4007",
   "metadata": {},
   "outputs": [
    {
     "name": "stdout",
     "output_type": "stream",
     "text": [
      " The total number of vowels are: 9\n"
     ]
    }
   ],
   "source": [
    "str1 = \"hai naresh how are you\"\n",
    "count = 0\n",
    "for i in str1:\n",
    "    if i == 'a' or i =='e' or i == 'i' or i == 'o' or i =='u':\n",
    "        count +=1\n",
    "\n",
    "\n",
    "print(f\" The total number of vowels are: {count}\")"
   ]
  },
  {
   "cell_type": "code",
   "execution_count": 48,
   "id": "6621fccb-2f1a-4dc5-b7c3-ce95894216d4",
   "metadata": {},
   "outputs": [
    {
     "name": "stdout",
     "output_type": "stream",
     "text": [
      " The total number of vowels are: 9\n"
     ]
    }
   ],
   "source": [
    "str1 = \"hai naresh how are you\"\n",
    "str2 = 'aeiou'\n",
    "count = 0\n",
    "for i in str1:\n",
    "    if i in str2:\n",
    "        count+=1\n",
    "\n",
    "print(f\" The total number of vowels are: {count}\")"
   ]
  },
  {
   "cell_type": "code",
   "execution_count": 52,
   "id": "e7a59c14-d5e3-4aa2-b4b0-9a2b79d97734",
   "metadata": {},
   "outputs": [
    {
     "name": "stdout",
     "output_type": "stream",
     "text": [
      "aieou\n",
      "5\n"
     ]
    }
   ],
   "source": [
    "str1 = \"hai naresh how are you\"\n",
    "str2 = ''\n",
    "count = 0\n",
    "for i in str1:\n",
    "    if i not in str2:\n",
    "        if i in 'aeiou':\n",
    "            str2+=i\n",
    "            count+=1\n",
    "\n",
    "print(str2)\n",
    "print(count)"
   ]
  },
  {
   "cell_type": "markdown",
   "id": "c5b9528f-70b0-49d9-9f8b-5c13d473fea0",
   "metadata": {},
   "source": [
    "**Mutable and Immutable Concepts**\n",
    "- Mutable - Has ability to change using the index values.\n",
    "- Immutable - Cannot change using the index values. Ex - Strings"
   ]
  },
  {
   "cell_type": "code",
   "execution_count": 58,
   "id": "7d2cee76-b20d-49ec-a15f-e3bad8e0e0e5",
   "metadata": {},
   "outputs": [
    {
     "ename": "TypeError",
     "evalue": "'str' object does not support item assignment",
     "output_type": "error",
     "traceback": [
      "\u001b[0;31m---------------------------------------------------------------------------\u001b[0m",
      "\u001b[0;31mTypeError\u001b[0m                                 Traceback (most recent call last)",
      "Cell \u001b[0;32mIn[58], line 3\u001b[0m\n\u001b[1;32m      1\u001b[0m name \u001b[38;5;241m=\u001b[39m \u001b[38;5;124m\"\u001b[39m\u001b[38;5;124mAnanth\u001b[39m\u001b[38;5;124m\"\u001b[39m\n\u001b[0;32m----> 3\u001b[0m name[\u001b[38;5;241m0\u001b[39m] \u001b[38;5;241m=\u001b[39m \u001b[38;5;124m\"\u001b[39m\u001b[38;5;124mH\u001b[39m\u001b[38;5;124m\"\u001b[39m\n\u001b[1;32m      4\u001b[0m \u001b[38;5;28mprint\u001b[39m(name)\n",
      "\u001b[0;31mTypeError\u001b[0m: 'str' object does not support item assignment"
     ]
    }
   ],
   "source": [
    "name = \"Ananth\"\n",
    "\n",
    "name[0] = \"H\"\n",
    "print(name)"
   ]
  },
  {
   "cell_type": "code",
   "execution_count": 75,
   "id": "c6dfec5e-1dfc-4188-9c0d-45b34e0abb96",
   "metadata": {},
   "outputs": [
    {
     "name": "stdout",
     "output_type": "stream",
     "text": [
      "The positive index of W is 0\n",
      "The positive index of e is 1\n",
      "The positive index of l is 2\n",
      "The positive index of c is 3\n",
      "The positive index of o is 4\n",
      "The positive index of m is 5\n",
      "The positive index of e is 6\n"
     ]
    }
   ],
   "source": [
    "val = \"Welcome\"\n",
    "\n",
    "for i in range(len(val)):\n",
    "    print(f\"The positive index of {val[i]} is {i}\")"
   ]
  },
  {
   "cell_type": "code",
   "execution_count": 63,
   "id": "ef53b7b3-34cf-4d8c-a533-5975637b32da",
   "metadata": {},
   "outputs": [
    {
     "name": "stdout",
     "output_type": "stream",
     "text": [
      "e\n"
     ]
    }
   ],
   "source": [
    "val = \"Welcome\"\n",
    "print(val[-1])"
   ]
  },
  {
   "cell_type": "code",
   "execution_count": 77,
   "id": "895f4d1e-0ece-4d60-99c1-5a4f4191cfde",
   "metadata": {},
   "outputs": [
    {
     "name": "stdout",
     "output_type": "stream",
     "text": [
      "The negative index of W is -7\n",
      "The negative index of e is -6\n",
      "The negative index of l is -5\n",
      "The negative index of c is -4\n",
      "The negative index of o is -3\n",
      "The negative index of m is -2\n",
      "The negative index of e is -1\n"
     ]
    }
   ],
   "source": [
    "val = \"Welcome\"\n",
    "\n",
    "for i in range(-len(val),0,+1):\n",
    "    print(f\"The negative index of {val[i]} is {i}\")"
   ]
  },
  {
   "cell_type": "code",
   "execution_count": 83,
   "id": "65eb4804-390b-4830-b867-7f5013258984",
   "metadata": {},
   "outputs": [
    {
     "name": "stdout",
     "output_type": "stream",
     "text": [
      "The positive index of 0 and negative index is -7 of W\n",
      "The positive index of 1 and negative index is -6 of e\n",
      "The positive index of 2 and negative index is -5 of l\n",
      "The positive index of 3 and negative index is -4 of c\n",
      "The positive index of 4 and negative index is -3 of o\n",
      "The positive index of 5 and negative index is -2 of m\n",
      "The positive index of 6 and negative index is -1 of e\n"
     ]
    }
   ],
   "source": [
    "val = \"Welcome\"\n",
    "\n",
    "for i in range(len(val)):\n",
    "    neg_index = i-len(val)\n",
    "    print(f\"The positive index of {i} and negative index is {neg_index} of {val[i]}\")"
   ]
  },
  {
   "cell_type": "code",
   "execution_count": 93,
   "id": "47dee320-bde5-4073-ae38-38e1bd6f2910",
   "metadata": {},
   "outputs": [
    {
     "name": "stdout",
     "output_type": "stream",
     "text": [
      " The index of a is 1\n",
      " The index of a is 8\n",
      " The index of a is 18\n"
     ]
    }
   ],
   "source": [
    "a = \"Hai how are you I am good\"\n",
    "\n",
    "for i in range(len(a)):\n",
    "    if a[i] == 'a':\n",
    "        print(f\" The index of a is {i}\")"
   ]
  },
  {
   "cell_type": "code",
   "execution_count": 97,
   "id": "29f57bc5-aa3a-4b85-a99b-a7aa87cdbf7e",
   "metadata": {},
   "outputs": [
    {
     "name": "stdout",
     "output_type": "stream",
     "text": [
      "The number of times char 'a' is repeated in the string is 3\n"
     ]
    }
   ],
   "source": [
    "#9\n",
    "\n",
    "a = \"Hai how are you I am good\"\n",
    "count = 0\n",
    "for i in range(len(a)):\n",
    "    if a[i] == 'a':\n",
    "        count+=1\n",
    "print(f\"The number of times char 'a' is repeated in the string is {count}\")"
   ]
  },
  {
   "cell_type": "code",
   "execution_count": 99,
   "id": "7f75e819-0e7f-4353-a2dc-2ebfddfbd16d",
   "metadata": {},
   "outputs": [
    {
     "name": "stdout",
     "output_type": "stream",
     "text": [
      "The sum of all the indexes of 'a' is 27\n"
     ]
    }
   ],
   "source": [
    "#10\n",
    "\n",
    "a = \"Hai how are you I am good\"\n",
    "sum = 0\n",
    "for i in range(len(a)):\n",
    "    if a[i] == 'a':\n",
    "        sum+=i\n",
    "\n",
    "print(f\"The sum of all the indexes of 'a' is {sum}\")"
   ]
  },
  {
   "cell_type": "code",
   "execution_count": 109,
   "id": "c611a0e9-bb4f-4db6-8ace-157ff2848e9b",
   "metadata": {},
   "outputs": [
    {
     "name": "stdout",
     "output_type": "stream",
     "text": [
      "['a', 'i', 'o', 'a', 'e', 'o', 'u', 'i', 'a', 'o', 'o']\n"
     ]
    }
   ],
   "source": [
    "a = \"Hai how are you I am good\"\n",
    "a= a.lower()\n",
    "b = []\n",
    "for i in range(len(a)):\n",
    "    if a[i] in 'aeiou':\n",
    "        b +=a[i]\n",
    "\n",
    "print(b)"
   ]
  },
  {
   "cell_type": "code",
   "execution_count": 111,
   "id": "3e675f2c-41ed-431f-824c-6e383cb28c26",
   "metadata": {},
   "outputs": [
    {
     "name": "stdout",
     "output_type": "stream",
     "text": [
      "aioeu\n",
      "5\n"
     ]
    }
   ],
   "source": [
    "a = \"Hai how are you I am good\"\n",
    "b = \"\"\n",
    "count = 0\n",
    "for i in range(len(a)):\n",
    "    if a[i] in 'aeiou' and a[i] not in b:\n",
    "        b+=a[i]\n",
    "        count+=1\n",
    "\n",
    "print(b)\n",
    "print(count)"
   ]
  },
  {
   "cell_type": "code",
   "execution_count": 127,
   "id": "bd7b164f-bc22-4df6-8d10-d68920bbe7cc",
   "metadata": {},
   "outputs": [
    {
     "name": "stdout",
     "output_type": "stream",
     "text": [
      "\n",
      "3\n"
     ]
    }
   ],
   "source": [
    "# Q14) string1='ola ola ola'\n",
    "# Number of ola = 3\n",
    "\n",
    "str1 = 'ola ola ola'\n",
    "count=0\n",
    "b = \"\"\n",
    "for i in range(len(str1)):\n",
    "    if str1[i] in 'ola':\n",
    "        b+=str1[i]\n",
    "        if b == 'ola':\n",
    "            count+=1\n",
    "            b=\"\"        \n",
    "print(count)"
   ]
  },
  {
   "cell_type": "code",
   "execution_count": 175,
   "id": "78e33d69-607d-49ff-bfd1-73c6e845da3b",
   "metadata": {},
   "outputs": [
    {
     "name": "stdout",
     "output_type": "stream",
     "text": [
      "Hello is most repeated word 5\n"
     ]
    }
   ],
   "source": [
    "# Q15) string1='hello hello hello how how how how are you'\n",
    "# What is the most repeated word : how\n",
    "\n",
    "string1='hello hello hello hello  hello how how how how are you'\n",
    "# What is the most repeated word : how\n",
    "\n",
    "count_hello,count_how = 0,0\n",
    "b = \"\"\n",
    "for i in range(len(string1)):\n",
    "    if (string1[i] in 'hello' or string1[i] in 'how'):\n",
    "        b+=string1[i]\n",
    "        if b == 'hello':\n",
    "            count_hello+=1\n",
    "            b=\"\"\n",
    "        elif b == \"how\":\n",
    "            count_how+=1\n",
    "            b=\"\"\n",
    "if(count_hello>count_how):\n",
    "    print(f\"Hello is most repeated word {count_hello}\")\n",
    "else:\n",
    "    print(f\"How is most repeated word {count_how}\")\n"
   ]
  },
  {
   "cell_type": "code",
   "execution_count": 185,
   "id": "365362f9-f0bc-4375-9175-c2ecb83dc1a2",
   "metadata": {},
   "outputs": [
    {
     "name": "stdout",
     "output_type": "stream",
     "text": [
      "The maximum length of word: hellooooo is 9\n",
      "The minumum length of word: u is 1\n"
     ]
    }
   ],
   "source": [
    "#Q16) string1='hellooooo how aree u'\n",
    "# what is the maximum length of word: helloooo\n",
    "# what is the minimum length of word: u\n",
    "\n",
    "c ='hellooooo how aree u'\n",
    "d = \"\"\n",
    "\n",
    "for i in range(len(c)):\n",
    "    if c[i] in 'hellooooo':\n",
    "        d+=c[i]\n",
    "        if d == 'hellooooo':\n",
    "            len_d = len(d)\n",
    "            print(f\"The maximum length of word: {d} is {len_d}\")\n",
    "            d = \"\"\n",
    "\n",
    "d =\"\"\n",
    "for i in range(-1,-len(c),-1):\n",
    "    if c[i] in 'u':\n",
    "        d+=c[i]\n",
    "        if d =='u':\n",
    "            len_d = len(d)\n",
    "            print(f\"The minumum length of word: {d} is {len_d}\")\n",
    "            d =\"\""
   ]
  },
  {
   "cell_type": "code",
   "execution_count": 205,
   "id": "4873cba6-d0f6-4353-b4d5-bf8fb18aa300",
   "metadata": {},
   "outputs": [],
   "source": [
    "# Q17) with out using sorted then sort the letters\n",
    "\n",
    "a = \"Hello\"\n",
    "\n",
    "for i in range(len(a)):\n",
    "    for j in range(i+1,len(a)):\n",
    "        if a[i] > a[j]:\n",
    "            a[i],a[j] = a[j],a[i]\n",
    "            print(a)"
   ]
  },
  {
   "cell_type": "code",
   "execution_count": 227,
   "id": "ae7054c6-2a72-40eb-967a-7aefa6065b55",
   "metadata": {},
   "outputs": [
    {
     "name": "stdout",
     "output_type": "stream",
     "text": [
      "Aahnnt\n"
     ]
    }
   ],
   "source": [
    "s = \"Ananth\"\n",
    "\n",
    "a = list(s)\n",
    "for i in range(len(a)):\n",
    "    for j in range(i+1,len(a)):\n",
    "        if a[i] > a[j]:\n",
    "            a[i],a[j] = a[j],a[i]\n",
    "\n",
    "s = \"\"\n",
    "for i in range(len(a)):\n",
    "    s+=a[i]\n",
    "print(s)"
   ]
  },
  {
   "cell_type": "markdown",
   "id": "8ab43872-2dd6-47cd-90e9-4a70efb7e29a",
   "metadata": {},
   "source": [
    "**String Sclicing**\n",
    "\n",
    "- We can cut the string into pieces\n",
    "- It is simillar to range function - which consists of start,stop and range values.\n",
    "- Syntax - str[start:stop:step]"
   ]
  },
  {
   "cell_type": "markdown",
   "id": "80fa5f41-ff7b-4770-af5d-dfe60bcd4a3e",
   "metadata": {},
   "source": [
    "**Pattern-1**\n",
    "- str1[start:]"
   ]
  },
  {
   "cell_type": "code",
   "execution_count": 33,
   "id": "5599244d-2918-4c1d-8aa0-506a990b3836",
   "metadata": {},
   "outputs": [
    {
     "name": "stdout",
     "output_type": "stream",
     "text": [
      "hello my name is Ananth\n",
      "ello my name is Ananth\n",
      "llo my name is Ananth\n",
      "lo my name is Ananth\n",
      "o my name is Ananth\n",
      " my name is Ananth\n",
      "my name is Ananth\n",
      "y name is Ananth\n",
      " name is Ananth\n",
      "name is Ananth\n",
      "ame is Ananth\n",
      "me is Ananth\n",
      "e is Ananth\n",
      " is Ananth\n",
      "is Ananth\n",
      "s Ananth\n",
      " Ananth\n",
      "Ananth\n",
      "nanth\n",
      "anth\n",
      "nth\n",
      "th\n",
      "h\n"
     ]
    }
   ],
   "source": [
    "st1 = \"hello my name is Ananth\"\n",
    "for i in range(len(st1)):\n",
    "    print(st1[i:])"
   ]
  },
  {
   "cell_type": "code",
   "execution_count": 54,
   "id": "43a1b98a-02c9-43d6-a8d4-b17069ebb6ca",
   "metadata": {},
   "outputs": [
    {
     "name": "stdout",
     "output_type": "stream",
     "text": [
      "0\n",
      "hello my name is Ananth\n",
      "-1\n",
      "h\n",
      "-2\n",
      "th\n",
      "-3\n",
      "nth\n",
      "-4\n",
      "anth\n",
      "-5\n",
      "nanth\n",
      "-6\n",
      "Ananth\n",
      "-7\n",
      " Ananth\n",
      "-8\n",
      "s Ananth\n",
      "-9\n",
      "is Ananth\n",
      "-10\n",
      " is Ananth\n",
      "-11\n",
      "e is Ananth\n",
      "-12\n",
      "me is Ananth\n",
      "-13\n",
      "ame is Ananth\n",
      "-14\n",
      "name is Ananth\n",
      "-15\n",
      " name is Ananth\n",
      "-16\n",
      "y name is Ananth\n",
      "-17\n",
      "my name is Ananth\n",
      "-18\n",
      " my name is Ananth\n",
      "-19\n",
      "o my name is Ananth\n",
      "-20\n",
      "lo my name is Ananth\n",
      "-21\n",
      "llo my name is Ananth\n",
      "-22\n",
      "ello my name is Ananth\n",
      "-23\n",
      "hello my name is Ananth\n"
     ]
    }
   ],
   "source": [
    "st1 = \"hello my name is Ananth\"\n",
    "for i in range(len(st1)+1):\n",
    "    print(-i)\n",
    "    print(st1[-i:])"
   ]
  },
  {
   "cell_type": "code",
   "execution_count": 48,
   "id": "b8c3cccc-d356-4e60-86c6-0926ebe3f715",
   "metadata": {},
   "outputs": [
    {
     "name": "stdout",
     "output_type": "stream",
     "text": [
      "nanth\n"
     ]
    }
   ],
   "source": [
    "st1 = \"hello my name is Ananth\"\n",
    "print(st1[-5:])"
   ]
  },
  {
   "cell_type": "markdown",
   "id": "d9ca0eb5-2cc4-4ed9-86f5-90142e33aa0d",
   "metadata": {},
   "source": [
    "$Pattern-2$\n",
    "- str1[start:stop]\n",
    "- start value by default will be the first value.\n",
    "- If step is not mentioned then the flow moves to the positive direction. So last = stop-1"
   ]
  },
  {
   "cell_type": "code",
   "execution_count": 61,
   "id": "e0f9aa5f-8046-4431-810a-e369837cf0da",
   "metadata": {},
   "outputs": [
    {
     "name": "stdout",
     "output_type": "stream",
     "text": [
      "\n",
      "h\n",
      "he\n",
      "hel\n",
      "hell\n",
      "hello\n",
      "hello \n",
      "hello m\n",
      "hello my\n",
      "hello my \n",
      "hello my n\n",
      "hello my na\n",
      "hello my nam\n",
      "hello my name\n",
      "hello my name \n",
      "hello my name i\n",
      "hello my name is\n",
      "hello my name is \n",
      "hello my name is A\n",
      "hello my name is An\n",
      "hello my name is Ana\n",
      "hello my name is Anan\n",
      "hello my name is Anant\n",
      "hello my name is Ananth\n"
     ]
    }
   ],
   "source": [
    "st1 = \"hello my name is Ananth\"\n",
    "for i in range(len(st1)+1):\n",
    "    print(st1[0:i])"
   ]
  },
  {
   "cell_type": "code",
   "execution_count": null,
   "id": "405bd630-64b7-4ece-b90b-b664b4c6cd16",
   "metadata": {},
   "outputs": [],
   "source": [
    "                                           -6 -5 -4 -3 -2  -1\n",
    "# h e l l o   m y   n a  m  e      i  s     A  n  a  n  t  h\n",
    "# 0 1 2 3 4 5 6 7 8 9 10 11 12 13 14 15 16 17 18 19 20  21 22"
   ]
  },
  {
   "cell_type": "code",
   "execution_count": 93,
   "id": "bab5325a-051e-4f15-b823-a53cbd46c551",
   "metadata": {},
   "outputs": [
    {
     "name": "stdout",
     "output_type": "stream",
     "text": [
      "23\n",
      "hello my name is Ananth\n",
      "hello my name is Ananth\n",
      "\n",
      " olle\n"
     ]
    }
   ],
   "source": [
    "st1 = \"hello my name is Ananth\"\n",
    "print(len(st1))\n",
    "print(st1[0:23])\n",
    "print(st1[-23:23])\n",
    "\n",
    "print(st1[5:-20])  # There will not be any output because -20 index is before the index 5 so that is the reason the output will be empty. \n",
    "#Since the step value is not mentioned the direction will be positive so the output will be null.\n",
    "# If the step value is negative - then yes there will be an output. \n",
    "print(st1[5:-23:-1]) # O/p -  olle- Since the step is -1 the direction will be negative and we can see the output. "
   ]
  },
  {
   "cell_type": "code",
   "execution_count": 95,
   "id": "0716da33-4971-4929-bf66-bfbd4e9155ae",
   "metadata": {},
   "outputs": [
    {
     "name": "stdout",
     "output_type": "stream",
     "text": [
      " my name \n",
      "\n",
      " my \n",
      "\n"
     ]
    }
   ],
   "source": [
    "print(st1[5:14]) # O/p -  my name \n",
    "print(st1[-5:14]) #The output will be null since the direction is postive due to no step value. \n",
    "print(st1[5:-14]) #O/p -  my \n",
    "print(st1[-5:-14]) #The output will be null since the direction is postive due to no step value. "
   ]
  },
  {
   "cell_type": "markdown",
   "id": "7d923c7f-7f5c-45ef-b42d-aba2834a5a34",
   "metadata": {},
   "source": [
    "**Truncation Behaviour**\n",
    "- When ever the string range is limitted and we provided a bigger stop value - then string will consider till the length of the string."
   ]
  },
  {
   "cell_type": "code",
   "execution_count": 108,
   "id": "5ef195f8-e690-4377-8b0a-13b287e3d348",
   "metadata": {},
   "outputs": [
    {
     "name": "stdout",
     "output_type": "stream",
     "text": [
      " my name is Ananth\n",
      " my name is Ananth\n",
      "hello my name is Ananth\n",
      "h\n",
      "\n"
     ]
    }
   ],
   "source": [
    "st1 = \"hello my name is Ananth\"\n",
    "\n",
    "print(st1[5:23])\n",
    "print(st1[5:500])\n",
    "print(st1[-500:500])\n",
    "print(st1[-1:500])\n",
    "print(st1[500:])"
   ]
  },
  {
   "cell_type": "code",
   "execution_count": 106,
   "id": "e21bf5f6-9310-4751-9827-3e7fdf3c9781",
   "metadata": {},
   "outputs": [
    {
     "name": "stdout",
     "output_type": "stream",
     "text": [
      "h\n"
     ]
    }
   ],
   "source": [
    "print(st1[-1:500])"
   ]
  },
  {
   "cell_type": "markdown",
   "id": "a0ef9395-7de5-47af-b0a3-cb30bf15177c",
   "metadata": {},
   "source": [
    "$Pattern - 3$\n",
    "\n",
    "-str1[start:stop:step]\n",
    "\n",
    "- If step value is positive\n",
    "    - last value = stop-1\n",
    "- If step value is negative\n",
    "    - last value = stop+1"
   ]
  },
  {
   "cell_type": "code",
   "execution_count": 115,
   "id": "847c2ee0-23e3-47c8-a1d4-34534adfe28e",
   "metadata": {},
   "outputs": [
    {
     "name": "stdout",
     "output_type": "stream",
     "text": [
      "1. lom ae\n",
      "2. \n",
      "3. lom \n",
      "4. \n",
      "5. \n",
      "6. \n",
      "7. taAs m\n",
      "8. \n",
      "9. \n",
      "10. aei nn\n",
      "11. \n",
      "12. a mo\n"
     ]
    }
   ],
   "source": [
    "st1 = \"hello my name is Ananth\"\n",
    "print(\"1.\",st1[2:13:2]) #Yes\n",
    "print(\"2.\",st1[2:13:-2]) #Not possible\n",
    "print(\"3.\",st1[2:-13:2]) # Not possible\n",
    "print(\"4.\",st1[2:-13:-2]) # Possible\n",
    "print(\"5.\",st1[-2:13:2]) # Possible\n",
    "print(\"6.\",st1[-2:-13:2]) # Not possible\n",
    "print(\"7.\",st1[-2:-13:-2]) # #Possible\n",
    "print(\"8.\",st1[13:2:2]) # Not possible\n",
    "print(\"9.\",st1[-13:2:2]) # Possible\n",
    "print(\"10.\",st1[-13:-2:2]) # possible\n",
    "print(\"11.\",st1[-13:-2:-2]) # Not possible\n",
    "print(\"12.\",st1[-13:2:-2]) # Not possible"
   ]
  },
  {
   "cell_type": "code",
   "execution_count": 129,
   "id": "a4fd71f5-dcab-4861-9afe-9f26e383d9aa",
   "metadata": {},
   "outputs": [
    {
     "name": "stdout",
     "output_type": "stream",
     "text": [
      "4. \n",
      "5. \n",
      "6. \n",
      "9. \n",
      "dahnn ieay\n",
      "hellomyname is Ananth and\n",
      "hellomyname is Ananth and\n",
      "dna htnanA si emanymolleh\n"
     ]
    }
   ],
   "source": [
    "st1 = \"hellomyname is Ananth and\"\n",
    "print(\"4.\",st1[2:-13:-2])# not Possible\n",
    "print(\"5.\",st1[-2:13:2]) # not Possible\n",
    "print(\"6.\",st1[-2:-13:2]) # Not possible\n",
    "print(\"9.\",st1[-13:2:2]) # Possible\n",
    "\n",
    "print(st1[:5:-2])\n",
    "print(st1[:])\n",
    "print(st1[::])\n",
    "print(st1[::-1])"
   ]
  },
  {
   "cell_type": "markdown",
   "id": "84fec808-ca5b-474b-9c60-b78bc865c56d",
   "metadata": {},
   "source": [
    "**Methods**\n",
    "- Strings,list,tuples and dictionary every data type has its own methods. \n",
    "- Ex - random package - randint, math package - sqrt\n",
    "- In the same way there are few methods related to strings. In order to see the methods we are need to apply dir. "
   ]
  },
  {
   "cell_type": "code",
   "execution_count": 144,
   "id": "c7f4fb23-79d1-49d2-a6e9-751a8e0f5969",
   "metadata": {},
   "outputs": [
    {
     "data": {
      "text/plain": [
       "['__add__',\n",
       " '__class__',\n",
       " '__contains__',\n",
       " '__delattr__',\n",
       " '__dir__',\n",
       " '__doc__',\n",
       " '__eq__',\n",
       " '__format__',\n",
       " '__ge__',\n",
       " '__getattribute__',\n",
       " '__getitem__',\n",
       " '__getnewargs__',\n",
       " '__getstate__',\n",
       " '__gt__',\n",
       " '__hash__',\n",
       " '__init__',\n",
       " '__init_subclass__',\n",
       " '__iter__',\n",
       " '__le__',\n",
       " '__len__',\n",
       " '__lt__',\n",
       " '__mod__',\n",
       " '__mul__',\n",
       " '__ne__',\n",
       " '__new__',\n",
       " '__reduce__',\n",
       " '__reduce_ex__',\n",
       " '__repr__',\n",
       " '__rmod__',\n",
       " '__rmul__',\n",
       " '__setattr__',\n",
       " '__sizeof__',\n",
       " '__str__',\n",
       " '__subclasshook__',\n",
       " 'capitalize',\n",
       " 'casefold',\n",
       " 'center',\n",
       " 'count',\n",
       " 'encode',\n",
       " 'endswith',\n",
       " 'expandtabs',\n",
       " 'find',\n",
       " 'format',\n",
       " 'format_map',\n",
       " 'index',\n",
       " 'isalnum',\n",
       " 'isalpha',\n",
       " 'isascii',\n",
       " 'isdecimal',\n",
       " 'isdigit',\n",
       " 'isidentifier',\n",
       " 'islower',\n",
       " 'isnumeric',\n",
       " 'isprintable',\n",
       " 'isspace',\n",
       " 'istitle',\n",
       " 'isupper',\n",
       " 'join',\n",
       " 'ljust',\n",
       " 'lower',\n",
       " 'lstrip',\n",
       " 'maketrans',\n",
       " 'partition',\n",
       " 'removeprefix',\n",
       " 'removesuffix',\n",
       " 'replace',\n",
       " 'rfind',\n",
       " 'rindex',\n",
       " 'rjust',\n",
       " 'rpartition',\n",
       " 'rsplit',\n",
       " 'rstrip',\n",
       " 'split',\n",
       " 'splitlines',\n",
       " 'startswith',\n",
       " 'strip',\n",
       " 'swapcase',\n",
       " 'title',\n",
       " 'translate',\n",
       " 'upper',\n",
       " 'zfill']"
      ]
     },
     "execution_count": 144,
     "metadata": {},
     "output_type": "execute_result"
    }
   ],
   "source": [
    "dir('')\n",
    "dir('Ananth')"
   ]
  },
  {
   "cell_type": "code",
   "execution_count": 171,
   "id": "8b807977-cd1a-47f2-8d0c-78fafab4eb99",
   "metadata": {},
   "outputs": [
    {
     "name": "stdout",
     "output_type": "stream",
     "text": [
      "Ananth sai\n",
      "ananth sai\n",
      "ANANTH SAI\n",
      "ananth sai\n"
     ]
    },
    {
     "data": {
      "text/plain": [
       "'00000AnaNth Sai00000'"
      ]
     },
     "execution_count": 171,
     "metadata": {},
     "output_type": "execute_result"
    }
   ],
   "source": [
    "str1= 'AnaNth Sai'\n",
    "print(str1.capitalize())\n",
    "print(str1.casefold())\n",
    "print(str1.upper())\n",
    "print(str1.lower())\n",
    "\n",
    "str1.center(20,'0')"
   ]
  },
  {
   "cell_type": "code",
   "execution_count": 173,
   "id": "01fbe848-3c64-4673-9e46-471f0dca6fbd",
   "metadata": {},
   "outputs": [
    {
     "name": "stdout",
     "output_type": "stream",
     "text": [
      "Hai How Are You\n"
     ]
    }
   ],
   "source": [
    "str1 = \"hai how are you\"\n",
    "print(str1.title())"
   ]
  },
  {
   "cell_type": "code",
   "execution_count": 217,
   "id": "38dc21d0-0d9a-4c62-b3db-e016f7145b8b",
   "metadata": {},
   "outputs": [
    {
     "name": "stdout",
     "output_type": "stream",
     "text": [
      "Hai How Are You\n"
     ]
    }
   ],
   "source": [
    "str1 = \"hai how are you\"\n",
    "str2 = \"\"\n",
    "lable = True\n",
    "for i in str1:\n",
    "    if lable:\n",
    "        str2 +=chr(ord(i)-32)\n",
    "    else:\n",
    "        str2+=i\n",
    "    lable = i in \"'.,;:?! \"\n",
    "print(str2)"
   ]
  },
  {
   "cell_type": "code",
   "execution_count": 199,
   "id": "6c8be581-6f93-4d3e-b3aa-d44d152c2d6e",
   "metadata": {},
   "outputs": [
    {
     "name": "stdin",
     "output_type": "stream",
     "text": [
      "Enter a string:  hai how are you\n"
     ]
    },
    {
     "name": "stdout",
     "output_type": "stream",
     "text": [
      "Hai How Are You\n"
     ]
    }
   ],
   "source": [
    "string = input(\"Enter a string: \")\n",
    "acc = \"\"\n",
    "next_is_upper = True # the first character will be uppercase\n",
    "for char in string:\n",
    "    if next_is_upper:\n",
    "        acc += char.upper()\n",
    "    else:\n",
    "        acc += char\n",
    "    next_is_upper = char in \"'.,;:?! \"\n",
    "\n",
    "print(acc)"
   ]
  },
  {
   "cell_type": "code",
   "execution_count": 215,
   "id": "efdd141b-21db-4d5d-b72e-cfec81fbe059",
   "metadata": {},
   "outputs": [
    {
     "name": "stdout",
     "output_type": "stream",
     "text": [
      "105\n",
      "73\n"
     ]
    }
   ],
   "source": [
    "print(ord('i'))\n",
    "print(ord('I'))"
   ]
  },
  {
   "cell_type": "code",
   "execution_count": 219,
   "id": "680deca3-ba11-4844-9882-fd2828e6194e",
   "metadata": {},
   "outputs": [
    {
     "name": "stdout",
     "output_type": "stream",
     "text": [
      "'\n",
      ".\n",
      ",\n",
      ";\n",
      ":\n",
      "?\n",
      "!\n",
      " \n"
     ]
    }
   ],
   "source": [
    "for i in \"'.,;:?! \":\n",
    "    print(i)"
   ]
  },
  {
   "cell_type": "code",
   "execution_count": 229,
   "id": "3e32db44-50c8-4a4f-a643-d5f7da44bef7",
   "metadata": {},
   "outputs": [
    {
     "name": "stdout",
     "output_type": "stream",
     "text": [
      "Hai How Are You\n"
     ]
    }
   ],
   "source": [
    "str1 = \"hai how are you\"\n",
    "str2 = \"\"\n",
    "flag = True\n",
    "for i in str1:\n",
    "    if flag:\n",
    "        str2 += chr(ord(i)-32)\n",
    "    else:\n",
    "        str2+=i\n",
    "    flag = i in \"'.:;, ?!\"\n",
    "print(str2)"
   ]
  },
  {
   "cell_type": "code",
   "execution_count": null,
   "id": "d136cd53-2159-45b5-82ed-9154cc552418",
   "metadata": {},
   "outputs": [],
   "source": []
  }
 ],
 "metadata": {
  "kernelspec": {
   "display_name": "Python 3 (ipykernel)",
   "language": "python",
   "name": "python3"
  },
  "language_info": {
   "codemirror_mode": {
    "name": "ipython",
    "version": 3
   },
   "file_extension": ".py",
   "mimetype": "text/x-python",
   "name": "python",
   "nbconvert_exporter": "python",
   "pygments_lexer": "ipython3",
   "version": "3.11.7"
  }
 },
 "nbformat": 4,
 "nbformat_minor": 5
}
