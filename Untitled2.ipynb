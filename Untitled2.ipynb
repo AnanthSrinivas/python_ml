{
 "cells": [
  {
   "cell_type": "code",
   "execution_count": 1,
   "id": "f0bd7331-bd88-4997-9630-3b0de2bd6c5f",
   "metadata": {},
   "outputs": [
    {
     "name": "stdout",
     "output_type": "stream",
     "text": [
      "5\n",
      "6\n",
      "3\n",
      "6\n",
      "1\n"
     ]
    }
   ],
   "source": [
    "l1 = [1,2,3,4,5]\n",
    "l2 = ['a','b','Hero',12,12.4,True]\n",
    "l3 = [100,100,100]\n",
    "l4 = ['hello',['peter',3,2,3],[3,4,5.55,True],4,5,6]\n",
    "name = \"ananth\"\n",
    "l5 = [name]\n",
    "\n",
    "\n",
    "print(len(l1))\n",
    "print(len(l2))\n",
    "print(len(l3))\n",
    "print(len(l4))\n",
    "print(len(l5))"
   ]
  },
  {
   "cell_type": "code",
   "execution_count": 9,
   "id": "f10ca45d-65aa-482f-8f98-1c147c4bb030",
   "metadata": {},
   "outputs": [
    {
     "name": "stdout",
     "output_type": "stream",
     "text": [
      "5\n",
      "100\n",
      "c\n",
      "ananth\n"
     ]
    },
    {
     "ename": "TypeError",
     "evalue": "'>' not supported between instances of 'int' and 'str'",
     "output_type": "error",
     "traceback": [
      "\u001b[0;31m---------------------------------------------------------------------------\u001b[0m",
      "\u001b[0;31mTypeError\u001b[0m                                 Traceback (most recent call last)",
      "Cell \u001b[0;32mIn[9], line 14\u001b[0m\n\u001b[1;32m     12\u001b[0m \u001b[38;5;28mprint\u001b[39m(\u001b[38;5;28mmax\u001b[39m(l6))\n\u001b[1;32m     13\u001b[0m \u001b[38;5;28mprint\u001b[39m(\u001b[38;5;28mmax\u001b[39m(l5))\n\u001b[0;32m---> 14\u001b[0m \u001b[38;5;28mprint\u001b[39m(\u001b[38;5;28mmax\u001b[39m(l2))\n\u001b[1;32m     15\u001b[0m \u001b[38;5;28mprint\u001b[39m(\u001b[38;5;28mmax\u001b[39m(l4))\n",
      "\u001b[0;31mTypeError\u001b[0m: '>' not supported between instances of 'int' and 'str'"
     ]
    }
   ],
   "source": [
    "l1 = [1,2,3,4,5]\n",
    "l6 = ['a','bc','c']\n",
    "l2 = ['a','b','Hero',12,12.4,True]\n",
    "l3 = [100,100,100]\n",
    "l4 = ['hello',['peter',3,2,3],[3,4,5.55,True],4,5,6]\n",
    "name = \"ananth\"\n",
    "l5 = [name]\n",
    "\n",
    "\n",
    "print(max(l1))\n",
    "print(max(l3))\n",
    "print(max(l6))\n",
    "print(max(l5))\n",
    "print(max(l2))\n",
    "print(max(l4))"
   ]
  },
  {
   "cell_type": "code",
   "execution_count": 5,
   "id": "a655e760-4001-4867-a348-7edc750d5a65",
   "metadata": {},
   "outputs": [
    {
     "name": "stdout",
     "output_type": "stream",
     "text": [
      "1\n",
      "a\n",
      "100\n",
      "ananth\n"
     ]
    },
    {
     "ename": "TypeError",
     "evalue": "'<' not supported between instances of 'int' and 'str'",
     "output_type": "error",
     "traceback": [
      "\u001b[0;31m---------------------------------------------------------------------------\u001b[0m",
      "\u001b[0;31mTypeError\u001b[0m                                 Traceback (most recent call last)",
      "Cell \u001b[0;32mIn[5], line 14\u001b[0m\n\u001b[1;32m     12\u001b[0m \u001b[38;5;28mprint\u001b[39m(\u001b[38;5;28mmin\u001b[39m(l3))\n\u001b[1;32m     13\u001b[0m \u001b[38;5;28mprint\u001b[39m(\u001b[38;5;28mmin\u001b[39m(l5))\n\u001b[0;32m---> 14\u001b[0m \u001b[38;5;28mprint\u001b[39m(\u001b[38;5;28mmin\u001b[39m(l2))\n\u001b[1;32m     15\u001b[0m \u001b[38;5;28mprint\u001b[39m(\u001b[38;5;28mmin\u001b[39m(l4))\n",
      "\u001b[0;31mTypeError\u001b[0m: '<' not supported between instances of 'int' and 'str'"
     ]
    }
   ],
   "source": [
    "l1 = [1,2,3,4,5]\n",
    "l6 = ['a','bc','c']\n",
    "l2 = ['a','b','Hero',12,12.4,True]\n",
    "l3 = [100,100,100]\n",
    "l4 = ['hello',['peter',3,2,3],[3,4,5.55,True],4,5,6]\n",
    "name = \"ananth\"\n",
    "l5 = [name]\n",
    "\n",
    "\n",
    "print(min(l1))\n",
    "print(min(l6))\n",
    "print(min(l3))\n",
    "print(min(l5))\n",
    "print(min(l2))\n",
    "print(min(l4))"
   ]
  },
  {
   "cell_type": "code",
   "execution_count": 7,
   "id": "2085ad36-b61d-43db-b4f5-6e887695e02a",
   "metadata": {},
   "outputs": [
    {
     "name": "stdout",
     "output_type": "stream",
     "text": [
      "[1, 2, 3, 4, 5]\n",
      "['a', 'bc', 'c']\n",
      "[100, 100, 100]\n",
      "['ananth']\n"
     ]
    },
    {
     "ename": "TypeError",
     "evalue": "'<' not supported between instances of 'int' and 'str'",
     "output_type": "error",
     "traceback": [
      "\u001b[0;31m---------------------------------------------------------------------------\u001b[0m",
      "\u001b[0;31mTypeError\u001b[0m                                 Traceback (most recent call last)",
      "Cell \u001b[0;32mIn[7], line 14\u001b[0m\n\u001b[1;32m     12\u001b[0m \u001b[38;5;28mprint\u001b[39m(\u001b[38;5;28msorted\u001b[39m(l3))\n\u001b[1;32m     13\u001b[0m \u001b[38;5;28mprint\u001b[39m(\u001b[38;5;28msorted\u001b[39m(l5))\n\u001b[0;32m---> 14\u001b[0m \u001b[38;5;28mprint\u001b[39m(\u001b[38;5;28msorted\u001b[39m(l2))\n\u001b[1;32m     15\u001b[0m \u001b[38;5;28mprint\u001b[39m(\u001b[38;5;28msorted\u001b[39m(l4))\n",
      "\u001b[0;31mTypeError\u001b[0m: '<' not supported between instances of 'int' and 'str'"
     ]
    }
   ],
   "source": [
    "l1 = [1,2,3,4,5]\n",
    "l6 = ['a','bc','c']\n",
    "l2 = ['a','b','Hero',12,12.4,True]\n",
    "l3 = [100,100,100]\n",
    "l4 = ['hello',['peter',3,2,3],[3,4,5.55,True],4,5,6]\n",
    "name = \"ananth\"\n",
    "l5 = [name]\n",
    "\n",
    "\n",
    "print(sorted(l1))\n",
    "print(sorted(l6))\n",
    "print(sorted(l3))\n",
    "print(sorted(l5))\n",
    "print(sorted(l2))\n",
    "print(sorted(l4))"
   ]
  },
  {
   "cell_type": "code",
   "execution_count": 11,
   "id": "babbb620-eab1-4fa7-8178-960a250d4171",
   "metadata": {},
   "outputs": [
    {
     "name": "stdout",
     "output_type": "stream",
     "text": [
      "5 4 3 2 1 \n",
      "True 12.4 12 Hero b a \n",
      "100 100 100 \n",
      "6 5 4 [3, 4, 5.55, True] ['peter', 3, 2, 3] hello \n",
      "ananth \n",
      "c bc a "
     ]
    }
   ],
   "source": [
    "l1 = [1,2,3,4,5]\n",
    "l6 = ['a','bc','c']\n",
    "l2 = ['a','b','Hero',12,12.4,True]\n",
    "l3 = [100,100,100]\n",
    "l4 = ['hello',['peter',3,2,3],[3,4,5.55,True],4,5,6]\n",
    "name = \"ananth\"\n",
    "l5 = [name]\n",
    "\n",
    "\n",
    "a = reversed(l1)\n",
    "for i in a:\n",
    "    print(i,end=\" \")\n",
    "\n",
    "print()\n",
    "\n",
    "b = reversed(l2)\n",
    "for m in b:\n",
    "    print(m,end=\" \")\n",
    "print()\n",
    "c = reversed(l3)\n",
    "for j in c:\n",
    "    print(j,end=\" \")\n",
    "print()\n",
    "\n",
    "d = reversed(l4)\n",
    "for k in d:\n",
    "    print(k,end=\" \")\n",
    "print()\n",
    "e = reversed(l5)\n",
    "for v in e:\n",
    "    print(v,end=\" \")\n",
    "print()\n",
    "f = reversed(l6)\n",
    "for h in f:\n",
    "    print(h,end=\" \")"
   ]
  },
  {
   "cell_type": "code",
   "execution_count": null,
   "id": "b243097a-be71-4fa9-8458-81b0b3b3d7ef",
   "metadata": {},
   "outputs": [],
   "source": []
  }
 ],
 "metadata": {
  "kernelspec": {
   "display_name": "Python 3 (ipykernel)",
   "language": "python",
   "name": "python3"
  },
  "language_info": {
   "codemirror_mode": {
    "name": "ipython",
    "version": 3
   },
   "file_extension": ".py",
   "mimetype": "text/x-python",
   "name": "python",
   "nbconvert_exporter": "python",
   "pygments_lexer": "ipython3",
   "version": "3.11.7"
  }
 },
 "nbformat": 4,
 "nbformat_minor": 5
}
