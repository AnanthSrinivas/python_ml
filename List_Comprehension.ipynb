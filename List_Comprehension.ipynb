{
 "cells": [
  {
   "cell_type": "markdown",
   "id": "68d998f9-51f0-427a-b891-6e56b43179c3",
   "metadata": {},
   "source": [
    "- We can store the output values in a list using append operation\n",
    "- We are taking an empty list\n",
    "- We are iterating through each element in the list\n",
    "- We are appending in the empty list."
   ]
  },
  {
   "cell_type": "code",
   "execution_count": 2,
   "id": "0a8715b9-b7e3-44e8-bd8e-eba0e132053d",
   "metadata": {},
   "outputs": [
    {
     "data": {
      "text/plain": [
       "[0, 1, 4, 9, 16, 25, 36, 49, 64, 81]"
      ]
     },
     "execution_count": 2,
     "metadata": {},
     "output_type": "execute_result"
    }
   ],
   "source": [
    "sqr = []\n",
    "for i in range(10):\n",
    "    sqr.append(i**2)\n",
    "\n",
    "sqr"
   ]
  },
  {
   "cell_type": "markdown",
   "id": "d90693d5-32de-4f29-88c8-10c122fc8e3d",
   "metadata": {},
   "source": [
    "- There are almost 3 lines in the above code.\n",
    "- We can trim the 3 lines into 1 line.\n",
    "- The process of confining the logic into 1 line is called as List Comprehension\n",
    "- Assignment or initialization or comparision operations will not work in list comprehension."
   ]
  },
  {
   "cell_type": "markdown",
   "id": "12245f8b-dd7a-45aa-baea-1b272cddfd02",
   "metadata": {},
   "source": [
    "$Pattern-1$\n",
    "\n",
    "**Only for loop**"
   ]
  },
  {
   "cell_type": "code",
   "execution_count": null,
   "id": "7e5e90cb-3a7e-4114-831b-fd3b79e36d93",
   "metadata": {},
   "outputs": [],
   "source": [
    "#syntax\n",
    "\n",
    "#[output <for loop>]"
   ]
  },
  {
   "cell_type": "code",
   "execution_count": 6,
   "id": "cfeb6492-4f69-4e5a-b47f-5fc1c3265128",
   "metadata": {},
   "outputs": [
    {
     "name": "stdout",
     "output_type": "stream",
     "text": [
      "[0, 1, 4, 9, 16, 25, 36, 49, 64, 81]\n"
     ]
    }
   ],
   "source": [
    "sqr = []\n",
    "for i in range(10):\n",
    "    sqr.append(i**2)\n",
    "\n",
    "sqr\n",
    "\n",
    "#Q1 - What is the output - i*i\n",
    "#Q2 - What is the output list name - sqr\n",
    "#Q3 - What is the for loop condition - for i in range(10)\n",
    "#[output <for loop>]\n",
    "\n",
    "sqr = [i*i for i in range(10)]\n",
    "print(sqr)"
   ]
  },
  {
   "cell_type": "code",
   "execution_count": 10,
   "id": "f4cd6ad8-02ae-4833-b769-c6b6c9f46505",
   "metadata": {},
   "outputs": [
    {
     "name": "stdout",
     "output_type": "stream",
     "text": [
      "['Hyd', 'Mumbai', 'Chennai', 'Blr'] ['HYD', 'MUMBAI', 'CHENNAI', 'BLR'] ['hyd', 'mumbai', 'chennai', 'blr']\n"
     ]
    }
   ],
   "source": [
    "#Q2 \n",
    "l1 = ['hyd','mumbai','chennai','blr']\n",
    "l2 = [i.capitalize() for i in l1]\n",
    "\n",
    "l3 = [i.upper() for i in l1]\n",
    "\n",
    "l4 = [i.lower() for i in l1]\n",
    "\n",
    "print(l2,l3,l4)"
   ]
  },
  {
   "cell_type": "code",
   "execution_count": 5,
   "id": "b4c08c4c-e6c3-47ab-b4de-079eb189de5a",
   "metadata": {},
   "outputs": [
    {
     "name": "stdout",
     "output_type": "stream",
     "text": [
      "6\n"
     ]
    }
   ],
   "source": [
    "#Q3\n",
    "l1 = ['hyd','mumbai','chennai','blr']\n",
    "out = [i for i in range(len(l1))]\n",
    "print(sum(out))"
   ]
  },
  {
   "cell_type": "code",
   "execution_count": 9,
   "id": "53519ba2-f945-4059-a9b8-e2900d1898d2",
   "metadata": {},
   "outputs": [
    {
     "name": "stdout",
     "output_type": "stream",
     "text": [
      "0\n"
     ]
    }
   ],
   "source": [
    "l1 = ['hyd','mumbai','chennai','blr']\n",
    "val=0\n",
    "#out = [val+=i for i in range(len(l1))] #Assignment or initialization or comparision operations will not work in list comprehension.\n",
    "print(val)"
   ]
  },
  {
   "cell_type": "markdown",
   "id": "eef7071c-efd3-4b29-bafb-402cbe0ab089",
   "metadata": {},
   "source": [
    "$Pattern-2$\n",
    "\n",
    "**for loop - if conditions**"
   ]
  },
  {
   "cell_type": "code",
   "execution_count": 12,
   "id": "ee9fe7f4-ae9c-4580-9832-0b2115e38c35",
   "metadata": {},
   "outputs": [],
   "source": [
    "#Syntax\n",
    "\n",
    "#[output <for loop> <if condition>]"
   ]
  },
  {
   "cell_type": "code",
   "execution_count": 14,
   "id": "07d26109-4eed-41a5-8c63-2d77b39f88d7",
   "metadata": {
    "scrolled": true
   },
   "outputs": [
    {
     "name": "stdout",
     "output_type": "stream",
     "text": [
      "['mumbai', 'chennai']\n"
     ]
    }
   ],
   "source": [
    "l1 = ['hyd','mumbai','chennai','blr']\n",
    "l2 = []\n",
    "for i in l1:\n",
    "    if len(i)>4:\n",
    "        l2.append(i)\n",
    "\n",
    "print(l2)"
   ]
  },
  {
   "cell_type": "code",
   "execution_count": 16,
   "id": "3d9a3023-c079-46b6-8e61-e44cbe782036",
   "metadata": {},
   "outputs": [
    {
     "name": "stdout",
     "output_type": "stream",
     "text": [
      "['mumbai', 'chennai']\n"
     ]
    }
   ],
   "source": [
    "l1 = ['hyd','mumbai','chennai','blr']\n",
    "out = [i for i in l1 if len(i)>4]\n",
    "print(out)"
   ]
  },
  {
   "cell_type": "code",
   "execution_count": 30,
   "id": "205d1b1d-589d-4271-acd6-c93488adcce6",
   "metadata": {},
   "outputs": [
    {
     "name": "stdout",
     "output_type": "stream",
     "text": [
      "['Mum#bai', 'Chen#nai']\n"
     ]
    }
   ],
   "source": [
    "# Q4)l1=['Hyd','Mum#bai','Chen#nai','blr']\n",
    "#  ans=['Mum#bai'',Chen#nai']  \n",
    "#  we want lements which are having '#'\n",
    "l1 = ['Hyd','Mum#bai','Chen#nai','blr']\n",
    "out=[i for i in l1 if '#' in i]\n",
    "print(out)"
   ]
  },
  {
   "cell_type": "code",
   "execution_count": 32,
   "id": "d7b8e774-046f-42d2-8793-451bac3b98a7",
   "metadata": {},
   "outputs": [
    {
     "name": "stdout",
     "output_type": "stream",
     "text": [
      "['Hyd', 'blr']\n"
     ]
    }
   ],
   "source": [
    "l1 = ['Hyd','Mum#bai','Chen#nai','blr']\n",
    "out=[i for i in l1 if '#' not in i]\n",
    "print(out)"
   ]
  },
  {
   "cell_type": "code",
   "execution_count": 34,
   "id": "5bd4f3f4-11a7-49dd-9998-9c68e786abe4",
   "metadata": {},
   "outputs": [
    {
     "name": "stdout",
     "output_type": "stream",
     "text": [
      "['Hyd', 'Mumbai', 'Chennai', 'Blr']\n"
     ]
    }
   ],
   "source": [
    "l1 = ['Hyd', 'Mumbai', 'Chennai', 'Blr']\n",
    "out=[i for i in l1 if i.istitle()]\n",
    "print(out)"
   ]
  },
  {
   "cell_type": "code",
   "execution_count": 66,
   "id": "4352e2de-e29e-43fb-bd5b-dab2374d5d26",
   "metadata": {},
   "outputs": [
    {
     "name": "stdout",
     "output_type": "stream",
     "text": [
      "['virat', 'Rohit', 'KL']\n",
      "['kohli', 'sharma', 'Rahul']\n",
      "['rcb', 'mi', 'lucknow']\n"
     ]
    }
   ],
   "source": [
    "# Q5) str1='virat.kohli@rcb.com, Rohit.sharma@mi.co, KL.Rahul@lucknow.com'\n",
    "# Firstname=[]  second name=[]  cname =[]\n",
    "# append first name should be in first name list\n",
    "#        second name shoul be in second name list\n",
    "#        thirs name will be in thirs name list\n",
    "\n",
    "str1='virat.kohli@rcb.com,Rohit.sharma@mi.com,KL.Rahul@lucknow.com'\n",
    "\n",
    "list1 = str1.split(',')\n",
    "\n",
    "first_name = [list1[i][:list1[i].index('.')] for i in range(3)]\n",
    "print(first_name)\n",
    "\n",
    "second_name = [list1[i][list1[i].index('.')+1:list1[i].index('@')] for i in range(3)]\n",
    "print(second_name)\n",
    "\n",
    "c_name = [list1[i][list1[i].index('@')+1:list1[i].index('.',list1[i].index('@')+1)] for i in range(3)]\n",
    "print(c_name)"
   ]
  },
  {
   "cell_type": "markdown",
   "id": "e2cd0bf4-3cf5-42c8-8b76-df670d5e96d3",
   "metadata": {},
   "source": [
    "$Pattern-3$\n",
    "\n",
    "**if-else conditions**"
   ]
  },
  {
   "cell_type": "code",
   "execution_count": 6,
   "id": "1633047d-2f8c-455b-90f3-7ba66f61c3d5",
   "metadata": {},
   "outputs": [],
   "source": [
    "#Syntax\n",
    "\n",
    "#[<if output> <if> <else> <else output> for]"
   ]
  },
  {
   "cell_type": "code",
   "execution_count": 10,
   "id": "ffbefaad-f2f9-4b37-b6e1-9e11f12ad78b",
   "metadata": {},
   "outputs": [
    {
     "name": "stdout",
     "output_type": "stream",
     "text": [
      "0 is even\n",
      "1 is odd\n",
      "2 is even\n",
      "3 is odd\n",
      "4 is even\n",
      "5 is odd\n",
      "6 is even\n",
      "7 is odd\n",
      "8 is even\n",
      "9 is odd\n"
     ]
    },
    {
     "data": {
      "text/plain": [
       "[None, None, None, None, None, None, None, None, None, None]"
      ]
     },
     "execution_count": 10,
     "metadata": {},
     "output_type": "execute_result"
    }
   ],
   "source": [
    "# Even odd\n",
    "\n",
    "[print(f'{i} is even') if i%2==0 else print(f'{i} is odd') for i in range(10)]"
   ]
  },
  {
   "cell_type": "code",
   "execution_count": 12,
   "id": "c42ec57a-6981-4173-b15f-d44725cec8fc",
   "metadata": {},
   "outputs": [
    {
     "name": "stdout",
     "output_type": "stream",
     "text": [
      "[0, 2, 4, 6, 8]\n",
      "[1, 3, 5, 7, 9]\n"
     ]
    }
   ],
   "source": [
    "even = []\n",
    "odd = []\n",
    "\n",
    "[even.append(i) if i%2==0 else odd.append(i) for i in range(10)]\n",
    "print(even)\n",
    "print(odd)"
   ]
  },
  {
   "cell_type": "code",
   "execution_count": null,
   "id": "fc7ddb35-1012-4014-9740-7537ff881623",
   "metadata": {},
   "outputs": [],
   "source": []
  }
 ],
 "metadata": {
  "kernelspec": {
   "display_name": "Python 3 (ipykernel)",
   "language": "python",
   "name": "python3"
  },
  "language_info": {
   "codemirror_mode": {
    "name": "ipython",
    "version": 3
   },
   "file_extension": ".py",
   "mimetype": "text/x-python",
   "name": "python",
   "nbconvert_exporter": "python",
   "pygments_lexer": "ipython3",
   "version": "3.11.7"
  }
 },
 "nbformat": 4,
 "nbformat_minor": 5
}
