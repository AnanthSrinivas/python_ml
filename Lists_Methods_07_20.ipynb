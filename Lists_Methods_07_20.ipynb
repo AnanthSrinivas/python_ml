{
 "cells": [
  {
   "cell_type": "code",
   "execution_count": 5,
   "id": "0f404055-32e1-40a1-bed1-c19d63d1f3a5",
   "metadata": {},
   "outputs": [
    {
     "data": {
      "text/plain": [
       "'Hello I Am Learning Python'"
      ]
     },
     "execution_count": 5,
     "metadata": {},
     "output_type": "execute_result"
    }
   ],
   "source": [
    "str1 = \"hello I am learning python\"\n",
    "str2=[]\n",
    "\n",
    "for i in str1.split():\n",
    "    str2.append(i.capitalize())\n",
    "\n",
    "' '.join(str2)"
   ]
  },
  {
   "cell_type": "code",
   "execution_count": 9,
   "id": "38250aaf-8060-43f3-84fe-6d959033e5b8",
   "metadata": {},
   "outputs": [
    {
     "name": "stdout",
     "output_type": "stream",
     "text": [
      "4.123105625617661\n"
     ]
    }
   ],
   "source": [
    "import math\n",
    "a= [1,2]\n",
    "b = [1,5]\n",
    "\n",
    "v1 = a[1]-a[0]\n",
    "v2 = b[1]-b[0]\n",
    "\n",
    "v11 = v1**2\n",
    "v22 = v2**2\n",
    "print(math.sqrt(v11+v22))"
   ]
  },
  {
   "cell_type": "code",
   "execution_count": 17,
   "id": "e8c7e84c-8500-492c-9031-5767ddf1a727",
   "metadata": {},
   "outputs": [
    {
     "name": "stdout",
     "output_type": "stream",
     "text": [
      "The maximum distance is:14.0\n"
     ]
    }
   ],
   "source": [
    "points = [[2,4],[5,10],[4,7]]\n",
    "val = [3,6]\n",
    "dis = []\n",
    "for i in points:\n",
    "    dis.append(math.sqrt((i[1]-i[0])**2)+((val[1]-val[0])**2))\n",
    "\n",
    "print(f\"The maximum distance is:{max(dis)}\")"
   ]
  },
  {
   "cell_type": "code",
   "execution_count": 25,
   "id": "0f43038e-d1a8-4aa4-9260-fbe192d46f21",
   "metadata": {},
   "outputs": [
    {
     "name": "stdout",
     "output_type": "stream",
     "text": [
      "The maximum len of word is: hello\n",
      "The sum of indexes of hello is 10\n"
     ]
    }
   ],
   "source": [
    "# Q8) str='hello hai how are you'\n",
    "# Maximum len of word using split and max method\n",
    "# sum of all the indexes of the maximum len of word using append\n",
    "str1='hello hai how are you'\n",
    "\n",
    "ls = str1.split(' ')\n",
    "new_ls = []\n",
    "sum = 0\n",
    "for i in ls:\n",
    "    new_ls.append(len(ls))\n",
    "max_len = max(new_ls)\n",
    "\n",
    "for i in ls:\n",
    "    if len(i) == max_len:\n",
    "        word = i\n",
    "\n",
    "for i in range(max_len):\n",
    "    sum+=i\n",
    "\n",
    "print(f\"The maximum len of word is: {word}\")\n",
    "print(f\"The sum of indexes of {word} is {sum}\")"
   ]
  },
  {
   "cell_type": "code",
   "execution_count": 28,
   "id": "2cc475e0-dd20-4600-bfee-739da993b4cf",
   "metadata": {},
   "outputs": [
    {
     "data": {
      "text/plain": [
       "['__add__',\n",
       " '__class__',\n",
       " '__class_getitem__',\n",
       " '__contains__',\n",
       " '__delattr__',\n",
       " '__delitem__',\n",
       " '__dir__',\n",
       " '__doc__',\n",
       " '__eq__',\n",
       " '__format__',\n",
       " '__ge__',\n",
       " '__getattribute__',\n",
       " '__getitem__',\n",
       " '__getstate__',\n",
       " '__gt__',\n",
       " '__hash__',\n",
       " '__iadd__',\n",
       " '__imul__',\n",
       " '__init__',\n",
       " '__init_subclass__',\n",
       " '__iter__',\n",
       " '__le__',\n",
       " '__len__',\n",
       " '__lt__',\n",
       " '__mul__',\n",
       " '__ne__',\n",
       " '__new__',\n",
       " '__reduce__',\n",
       " '__reduce_ex__',\n",
       " '__repr__',\n",
       " '__reversed__',\n",
       " '__rmul__',\n",
       " '__setattr__',\n",
       " '__setitem__',\n",
       " '__sizeof__',\n",
       " '__str__',\n",
       " '__subclasshook__',\n",
       " 'append',\n",
       " 'clear',\n",
       " 'copy',\n",
       " 'count',\n",
       " 'extend',\n",
       " 'index',\n",
       " 'insert',\n",
       " 'pop',\n",
       " 'remove',\n",
       " 'reverse',\n",
       " 'sort']"
      ]
     },
     "execution_count": 28,
     "metadata": {},
     "output_type": "execute_result"
    }
   ],
   "source": [
    "dir([])"
   ]
  },
  {
   "cell_type": "code",
   "execution_count": null,
   "id": "6eb0c5ac-529f-4fea-a453-c8c32a1d53c3",
   "metadata": {},
   "outputs": [],
   "source": [
    "# 'clear',\n",
    "#  'copy',\n",
    "#  'count',\n",
    "#  'extend',\n",
    "#  'index',\n",
    "#  'insert',\n",
    "#  'pop',\n",
    "#  'remove',\n",
    "#  'reverse',\n",
    "#  'sort']"
   ]
  },
  {
   "cell_type": "code",
   "execution_count": 30,
   "id": "a370922e-dfbd-4f9c-a1bc-e38bd00ece10",
   "metadata": {},
   "outputs": [
    {
     "name": "stdout",
     "output_type": "stream",
     "text": [
      "[1, 2, 3, 4, 'hero', True, 22.3]\n"
     ]
    }
   ],
   "source": [
    "#clear\n",
    "\n",
    "a = [1,2,3,4,'hero',True,22.3]\n",
    "print(a)"
   ]
  },
  {
   "cell_type": "code",
   "execution_count": 32,
   "id": "85b3fa57-49f6-4181-b71d-44646ee6f3a0",
   "metadata": {},
   "outputs": [
    {
     "name": "stdout",
     "output_type": "stream",
     "text": [
      "[]\n"
     ]
    }
   ],
   "source": [
    "a.clear() # The clear method is used to empty the entire list. \n",
    "print(a)"
   ]
  },
  {
   "cell_type": "code",
   "execution_count": 38,
   "id": "b9b725c4-64eb-43d9-b70d-7963eb7b6902",
   "metadata": {},
   "outputs": [
    {
     "name": "stdout",
     "output_type": "stream",
     "text": [
      "[1, 2, 3, 4, 'hero', True, 22.3]\n"
     ]
    }
   ],
   "source": [
    "#  'copy'\n",
    "\n",
    "a = [1,2,3,4,'hero',True,22.3]\n",
    "b = a.copy() # The copy methods is used to copy the content of the entire list to another list.\n",
    "\n",
    "print(b)"
   ]
  },
  {
   "cell_type": "code",
   "execution_count": 52,
   "id": "55ad7b0f-06d5-4227-8e28-46ee5a34b031",
   "metadata": {},
   "outputs": [
    {
     "data": {
      "text/plain": [
       "0"
      ]
     },
     "execution_count": 52,
     "metadata": {},
     "output_type": "execute_result"
    }
   ],
   "source": [
    "#  'count',\n",
    "\n",
    "a = [1,2,3,4,'hero',True,22.3,2,3,'a','a','b','b']\n",
    "a.count(22) # The count function will retrieve the count of a value in the list. "
   ]
  },
  {
   "cell_type": "code",
   "execution_count": 62,
   "id": "039d3035-0f84-49ec-b349-d4fdc4e89365",
   "metadata": {},
   "outputs": [
    {
     "name": "stdout",
     "output_type": "stream",
     "text": [
      "[1, 2, 3, 4, 'hero', True, 22.3, 2, 3, 'a', 'a', 'b', 'b', 11, 22, 33, 44, 77, 55]\n"
     ]
    }
   ],
   "source": [
    "#  'extend',\n",
    "a = [1,2,3,4,'hero',True,22.3,2,3,'a','a','b','b']\n",
    "a.extend([11,22,33]) # Extend function is used to add the values at the end of the index, but it will only take iterable values like list,tuple,dict\n",
    "a.extend({44,55,77})\n",
    "print(a)\n"
   ]
  },
  {
   "cell_type": "code",
   "execution_count": 76,
   "id": "9b037ff3-05b4-482a-b227-25d40e15a8ed",
   "metadata": {},
   "outputs": [
    {
     "ename": "ValueError",
     "evalue": "2 is not in list",
     "output_type": "error",
     "traceback": [
      "\u001b[0;31m---------------------------------------------------------------------------\u001b[0m",
      "\u001b[0;31mValueError\u001b[0m                                Traceback (most recent call last)",
      "Cell \u001b[0;32mIn[76], line 3\u001b[0m\n\u001b[1;32m      1\u001b[0m \u001b[38;5;66;03m#  'index',\u001b[39;00m\n\u001b[1;32m      2\u001b[0m a \u001b[38;5;241m=\u001b[39m [\u001b[38;5;241m1\u001b[39m, \u001b[38;5;241m2\u001b[39m, \u001b[38;5;241m3\u001b[39m, \u001b[38;5;241m4\u001b[39m, \u001b[38;5;124m'\u001b[39m\u001b[38;5;124mhero\u001b[39m\u001b[38;5;124m'\u001b[39m, \u001b[38;5;28;01mTrue\u001b[39;00m, \u001b[38;5;241m22.3\u001b[39m, \u001b[38;5;241m2\u001b[39m, \u001b[38;5;241m3\u001b[39m, \u001b[38;5;124m'\u001b[39m\u001b[38;5;124ma\u001b[39m\u001b[38;5;124m'\u001b[39m, \u001b[38;5;124m'\u001b[39m\u001b[38;5;124ma\u001b[39m\u001b[38;5;124m'\u001b[39m, \u001b[38;5;124m'\u001b[39m\u001b[38;5;124mb\u001b[39m\u001b[38;5;124m'\u001b[39m, \u001b[38;5;124m'\u001b[39m\u001b[38;5;124mb\u001b[39m\u001b[38;5;124m'\u001b[39m, \u001b[38;5;241m11\u001b[39m, \u001b[38;5;241m22\u001b[39m, \u001b[38;5;241m33\u001b[39m, \u001b[38;5;241m44\u001b[39m, \u001b[38;5;241m77\u001b[39m, \u001b[38;5;241m55\u001b[39m]\n\u001b[0;32m----> 3\u001b[0m a\u001b[38;5;241m.\u001b[39mindex(\u001b[38;5;241m2\u001b[39m,\u001b[38;5;241m8\u001b[39m,\u001b[38;5;28mlen\u001b[39m(a))\n",
      "\u001b[0;31mValueError\u001b[0m: 2 is not in list"
     ]
    }
   ],
   "source": [
    "#  'index',\n",
    "a = [1, 2, 3, 4, 'hero', True, 22.3, 2, 3, 'a', 'a', 'b', 'b', 11, 22, 33, 44, 77, 55]\n",
    "a.index(2,8,len(a)) # The index function will retrieve the index value of the value provided in the input. We can mention the start and stop value as well.\n"
   ]
  },
  {
   "cell_type": "code",
   "execution_count": 98,
   "id": "7beb1302-ea16-47ce-af7b-73c8695f6bb4",
   "metadata": {},
   "outputs": [
    {
     "name": "stdout",
     "output_type": "stream",
     "text": [
      "[1, 2, 3, 4, 'hero', True, 22.3, 2, 3, 'a', 'a', 'b', 'b', 11, 22, 33, 44, 77, 'hello', 55]\n"
     ]
    }
   ],
   "source": [
    "#  'insert',\n",
    "\n",
    "a = [1, 2, 3, 4, 'hero', True, 22.3, 2, 3, 'a', 'a', 'b', 'b', 11, 22, 33, 44, 77, 55]\n",
    "a.insert(-1,'hello') # Insert function is used to add the value at a particular index. \n",
    "print(a) # If the negative index is provided then the object will be added an index prior to the index mentioned(if -1 is mentioned \n",
    "# then the object will be added at -2 location)"
   ]
  },
  {
   "cell_type": "code",
   "execution_count": 102,
   "id": "9de8dcb4-22e4-4cf3-bfa5-59a7d26ec535",
   "metadata": {},
   "outputs": [
    {
     "name": "stdout",
     "output_type": "stream",
     "text": [
      "[1, 'hello', 2, 3, 4, 'hero', True, 22.3, 2, 3, 'a', 'a', 'b', 'b', 11, 22, 33, 44, 77, 55]\n"
     ]
    }
   ],
   "source": [
    "a = [1, 2, 3, 4, 'hero', True, 22.3, 2, 3, 'a', 'a', 'b', 'b', 11, 22, 33, 44, 77, 55]\n",
    "a.insert(1,'hello')\n",
    "print(a)"
   ]
  },
  {
   "cell_type": "code",
   "execution_count": 110,
   "id": "a695f0ad-1143-4f8a-a839-8f03752d4e3d",
   "metadata": {},
   "outputs": [
    {
     "name": "stdout",
     "output_type": "stream",
     "text": [
      "[1, 2, 3, 4, 'hero', True, 22.3, 2, 3, 'a', 'a', 'b', 'b', 11, 22, 33, 44, 55]\n"
     ]
    }
   ],
   "source": [
    "#  'pop',\n",
    "\n",
    "a = [1, 2, 3, 4, 'hero', True, 22.3, 2, 3, 'a', 'a', 'b', 'b', 11, 22, 33, 44, 77, 55]\n",
    "a.pop(-2) # The pop function is used to remove a value based on the index provided, if no index is provided it will take the last index -1. \n",
    "# The function returns the removed object value.\n",
    "print(a)"
   ]
  },
  {
   "cell_type": "code",
   "execution_count": 114,
   "id": "2330bf2d-a0ed-477b-930d-bc58dae4ac53",
   "metadata": {},
   "outputs": [
    {
     "name": "stdout",
     "output_type": "stream",
     "text": [
      "[1, 2, 'hero', True, 22.3, 2, 3, 'a', 'a', 'b', 'b', 11, 22, 33, 44, 55]\n"
     ]
    }
   ],
   "source": [
    "a.pop(2)\n",
    "print(a)"
   ]
  },
  {
   "cell_type": "code",
   "execution_count": 116,
   "id": "e0d79b9b-a57f-4910-b0b6-c3d1db26f102",
   "metadata": {},
   "outputs": [
    {
     "name": "stdout",
     "output_type": "stream",
     "text": [
      "55\n",
      "[1, 2, 'hero', True, 22.3, 2, 3, 'a', 'a', 'b', 'b', 11, 22, 33, 44]\n"
     ]
    }
   ],
   "source": [
    "print(a.pop())\n",
    "print(a)"
   ]
  },
  {
   "cell_type": "code",
   "execution_count": 122,
   "id": "0af0dca9-dacf-47ca-bb85-7554d8c8e371",
   "metadata": {},
   "outputs": [
    {
     "ename": "TypeError",
     "evalue": "list.remove() takes exactly one argument (2 given)",
     "output_type": "error",
     "traceback": [
      "\u001b[0;31m---------------------------------------------------------------------------\u001b[0m",
      "\u001b[0;31mTypeError\u001b[0m                                 Traceback (most recent call last)",
      "Cell \u001b[0;32mIn[122], line 3\u001b[0m\n\u001b[1;32m      1\u001b[0m \u001b[38;5;66;03m#  'remove',\u001b[39;00m\n\u001b[1;32m      2\u001b[0m a \u001b[38;5;241m=\u001b[39m [\u001b[38;5;241m1\u001b[39m, \u001b[38;5;241m2\u001b[39m, \u001b[38;5;124m'\u001b[39m\u001b[38;5;124mhero\u001b[39m\u001b[38;5;124m'\u001b[39m, \u001b[38;5;28;01mTrue\u001b[39;00m, \u001b[38;5;241m22.3\u001b[39m, \u001b[38;5;241m2\u001b[39m, \u001b[38;5;241m3\u001b[39m, \u001b[38;5;124m'\u001b[39m\u001b[38;5;124ma\u001b[39m\u001b[38;5;124m'\u001b[39m, \u001b[38;5;124m'\u001b[39m\u001b[38;5;124ma\u001b[39m\u001b[38;5;124m'\u001b[39m, \u001b[38;5;124m'\u001b[39m\u001b[38;5;124mb\u001b[39m\u001b[38;5;124m'\u001b[39m, \u001b[38;5;124m'\u001b[39m\u001b[38;5;124mb\u001b[39m\u001b[38;5;124m'\u001b[39m, \u001b[38;5;241m11\u001b[39m, \u001b[38;5;241m22\u001b[39m, \u001b[38;5;241m33\u001b[39m, \u001b[38;5;241m44\u001b[39m]\n\u001b[0;32m----> 3\u001b[0m a\u001b[38;5;241m.\u001b[39mremove(\u001b[38;5;241m2\u001b[39m,\u001b[38;5;241m1\u001b[39m)\n\u001b[1;32m      4\u001b[0m \u001b[38;5;28mprint\u001b[39m(a)\n",
      "\u001b[0;31mTypeError\u001b[0m: list.remove() takes exactly one argument (2 given)"
     ]
    }
   ],
   "source": [
    "#  'remove',\n",
    "a = [1, 2, 'hero', True, 22.3, 2, 3, 'a', 'a', 'b', 'b', 11, 22, 33, 44]\n",
    "a.remove(2) # Remove function removes the first occurance of the value in the list. \n",
    "print(a)"
   ]
  },
  {
   "cell_type": "code",
   "execution_count": 126,
   "id": "d97adabd-a39d-4d77-90b4-27f398e901e8",
   "metadata": {},
   "outputs": [
    {
     "ename": "TypeError",
     "evalue": "list.remove() takes exactly one argument (0 given)",
     "output_type": "error",
     "traceback": [
      "\u001b[0;31m---------------------------------------------------------------------------\u001b[0m",
      "\u001b[0;31mTypeError\u001b[0m                                 Traceback (most recent call last)",
      "Cell \u001b[0;32mIn[126], line 1\u001b[0m\n\u001b[0;32m----> 1\u001b[0m a\u001b[38;5;241m.\u001b[39mremove()\n",
      "\u001b[0;31mTypeError\u001b[0m: list.remove() takes exactly one argument (0 given)"
     ]
    }
   ],
   "source": [
    "a.remove()"
   ]
  },
  {
   "cell_type": "code",
   "execution_count": 128,
   "id": "87c34f67-eb8b-4dd7-9630-7b2842bf5ef5",
   "metadata": {},
   "outputs": [
    {
     "name": "stdout",
     "output_type": "stream",
     "text": [
      "[44, 33, 22, 11, 'b', 'b', 'a', 'a', 3, 2, 22.3, True, 'hero', 2, 1]\n"
     ]
    }
   ],
   "source": [
    "#  'reverse',\n",
    "\n",
    "a = [1, 2, 'hero', True, 22.3, 2, 3, 'a', 'a', 'b', 'b', 11, 22, 33, 44]\n",
    "a.reverse()\n",
    "print(a)"
   ]
  },
  {
   "cell_type": "code",
   "execution_count": null,
   "id": "adcc5e03-cafa-4a1a-9aef-93f695d6e4ce",
   "metadata": {},
   "outputs": [],
   "source": [
    "#Keyword are the builtin functions like len,max,min,print,sorted\n",
    "\n",
    "#len(list),max(list),min(list),sorted(list)\n",
    "\n",
    "#Methods - These are related to the list or strings.\n",
    "\n",
    "#list.clear(),list.copy()"
   ]
  },
  {
   "cell_type": "code",
   "execution_count": 148,
   "id": "518b4c44-55f5-44b9-aa7f-cba0a5f560aa",
   "metadata": {},
   "outputs": [
    {
     "name": "stdout",
     "output_type": "stream",
     "text": [
      "[1, 1, 2, 2, 11, 22, 33, 44, 52, 52, 110, 110, 221, 221]\n",
      "['a', 'a', 'b', 'b', 'hero']\n"
     ]
    }
   ],
   "source": [
    "#  'sort'\n",
    "\n",
    "#a = [52,221,110,1, 2, 'hero', True, c, 'a', 'a', 'b', 'b', 11, 22, 33, 44]\n",
    "b = [52,221,110,1, 2,52,221,110,1, 2,11, 22, 33, 44]\n",
    "c = ['hero', 'a', 'a', 'b', 'b']\n",
    "b.sort()\n",
    "print(b)\n",
    "c.sort()\n",
    "print(c)"
   ]
  },
  {
   "cell_type": "markdown",
   "id": "39916b23-972e-467e-852f-7741e1edd83f",
   "metadata": {},
   "source": [
    "**sort - sorted**"
   ]
  },
  {
   "cell_type": "code",
   "execution_count": 156,
   "id": "d8ea0a54-461e-494e-85f7-6845b20b2c56",
   "metadata": {},
   "outputs": [
    {
     "name": "stdout",
     "output_type": "stream",
     "text": [
      "[1, 1, 2, 2, 11, 22, 33, 44, 52, 52, 110, 110, 221, 221]\n",
      "[52, 221, 110, 1, 2, 52, 221, 110, 1, 2, 11, 22, 33, 44]\n",
      "[1, 1, 2, 2, 11, 22, 33, 44, 52, 52, 110, 110, 221, 221]\n"
     ]
    }
   ],
   "source": [
    "b = [52,221,110,1, 2,52,221,110,1, 2,11, 22, 33, 44]\n",
    "print(sorted(b)) # just the sorted keyword will return the sorted list but will not update the list with the sorted values.\n",
    "print(b) \n",
    "b.sort() #On the other hand the sort method will update the list in the asc/des order.\n",
    "print(b)"
   ]
  },
  {
   "cell_type": "markdown",
   "id": "741ca326-0a28-442d-8c8e-5f2a398943fb",
   "metadata": {},
   "source": [
    "**Append - Extend - Concatination - Insert**"
   ]
  },
  {
   "cell_type": "code",
   "execution_count": 204,
   "id": "de0fae29-d4e4-4286-bf3d-f03f8165bd2e",
   "metadata": {},
   "outputs": [
    {
     "name": "stdout",
     "output_type": "stream",
     "text": [
      "[52, 221, 110, 1, 2, 'hero', [22, 33, 45], 'hello', 22]\n",
      "[True, 'c', 'a', 'a', 'b', 22, 33, 'python', 3.14, 'H', 'e', 'l', 'l', 'o', 'd']\n",
      "['b', 11, 22, 33, 44, False, 11, 22.4, 33, '44']\n",
      "[True, 'c', 44, 'a', 'a', 'b', 22, 33, 'python', 3.14, 'H', 'e', 'l', 'l', 'o', 'd']\n"
     ]
    }
   ],
   "source": [
    "a = [52,221,110,1, 2, 'hero']\n",
    "b = [True, 'c', 'a', 'a', 'b']\n",
    "c = ['b', 11, 22, 33, 44]\n",
    "d = [False, 11, 22.4, 33, '44']\n",
    "a.append([22,33,45]) # Append will add the values at the end, it will only take one value. If it is a list or tuple - it will be added as a list or tuple\n",
    "a.append('hello')\n",
    "a.append(22)\n",
    "print(a)\n",
    "\n",
    "b.extend([22,33,'python',3.14]) # Extend will only take iterable values like list or tuple,int ,float, bool will not be working. \n",
    "b.extend('Hello') # If an str is added then it will be added as individual char.\n",
    "b.extend('d')\n",
    "#b.extend(22.344)\n",
    "#b.extend(True)\n",
    "print(b)\n",
    "\n",
    "f = c+d # Concatination will only work to add a list to a list only. We cannot add a int str or any other thing. \n",
    "print(f)\n",
    "\n",
    "b.insert(2,44)# The insert method is used to add a value at a specifc index.\n",
    "print(b)\n",
    "\n"
   ]
  },
  {
   "cell_type": "markdown",
   "id": "bdc84df9-f445-40f6-9762-f447f441ed85",
   "metadata": {},
   "source": [
    "**POP Vs REMOVE**"
   ]
  },
  {
   "cell_type": "code",
   "execution_count": 215,
   "id": "7bed0b22-c04d-446d-98ad-c5452c215581",
   "metadata": {},
   "outputs": [
    {
     "name": "stdout",
     "output_type": "stream",
     "text": [
      "hero\n",
      "110\n",
      "[52, 221, 1, 2, 2222, 22]\n"
     ]
    },
    {
     "ename": "ValueError",
     "evalue": "list.remove(x): x not in list",
     "output_type": "error",
     "traceback": [
      "\u001b[0;31m---------------------------------------------------------------------------\u001b[0m",
      "\u001b[0;31mValueError\u001b[0m                                Traceback (most recent call last)",
      "Cell \u001b[0;32mIn[215], line 7\u001b[0m\n\u001b[1;32m      4\u001b[0m \u001b[38;5;28mprint\u001b[39m(a)\n\u001b[1;32m      6\u001b[0m a\u001b[38;5;241m.\u001b[39mremove(\u001b[38;5;241m22\u001b[39m)\n\u001b[0;32m----> 7\u001b[0m a\u001b[38;5;241m.\u001b[39mremove(\u001b[38;5;241m22222222\u001b[39m)\n\u001b[1;32m      8\u001b[0m \u001b[38;5;28mprint\u001b[39m(a)\n",
      "\u001b[0;31mValueError\u001b[0m: list.remove(x): x not in list"
     ]
    }
   ],
   "source": [
    "a = [52,221,110,1,2,2222, 22, 'hero']\n",
    "print(a.pop())\n",
    "print(a.pop(2))\n",
    "print(a)\n",
    "\n",
    "a.remove(22)\n",
    "a.remove(22222222)\n",
    "print(a)\n",
    "\n",
    "#POP will remove the object based on the index provided if no index is provided last index value will be removed\n",
    "# Remove will remove a particular value from the list.If the value is not present in the list it will fail with error value not present in list."
   ]
  },
  {
   "cell_type": "markdown",
   "id": "257cae96-9b9d-4fed-b2ff-5c8c1c1275ee",
   "metadata": {},
   "source": [
    "**REVERSED Vs REVERSE**"
   ]
  },
  {
   "cell_type": "code",
   "execution_count": 226,
   "id": "579ffc87-f9ea-43c4-84e9-22349563197d",
   "metadata": {},
   "outputs": [
    {
     "name": "stdout",
     "output_type": "stream",
     "text": [
      "[44, 33, 22, 11, 'b', 'b', 'a', 'a', 3, 2, 22.3, True, 'hero', 2, 1]\n",
      "[1, 2, 'hero', True, 22.3, 2, 3, 'a', 'a', 'b', 'b', 11, 22, 33, 44]\n",
      "[44, 33, 22, 11, 'b', 'b', 'a', 'a', 3, 2, 22.3, True, 'hero', 2, 1]\n"
     ]
    }
   ],
   "source": [
    "a = [1, 2, 'hero', True, 22.3, 2, 3, 'a', 'a', 'b', 'b', 11, 22, 33, 44]\n",
    "b = []\n",
    "for i in reversed(a):\n",
    "    b.append(i)\n",
    "print(b)\n",
    "print(a)\n",
    "a.reverse()\n",
    "print(a)\n",
    "\n",
    "# Reversed function will reverse the list but in order to retrieve the objects we need to use a for loop and append the values into a new list.\n",
    "# On the other hand reverse method is used to reverse the list and store the reversed list in the same list."
   ]
  },
  {
   "cell_type": "code",
   "execution_count": 236,
   "id": "0717a4ab-1a67-4fc2-8f86-0809b8089e31",
   "metadata": {},
   "outputs": [
    {
     "name": "stdout",
     "output_type": "stream",
     "text": [
      "[1, 2, 3, 4, 'Apple', 10, 20, 'Cherry', 'Apple', 60]\n"
     ]
    }
   ],
   "source": [
    "l1 = [1,2,3,4,'Apple',10,20,'Apple',60]\n",
    "i1 = l1.index('Apple')\n",
    "i2 = l1.index('Apple',i1+1)\n",
    "l1.insert(i2,'Cherry')\n",
    "print(l1)"
   ]
  },
  {
   "cell_type": "code",
   "execution_count": 234,
   "id": "69a67b94-c192-4c57-9c13-07d46c704a8e",
   "metadata": {},
   "outputs": [
    {
     "data": {
      "text/plain": [
       "2"
      ]
     },
     "execution_count": 234,
     "metadata": {},
     "output_type": "execute_result"
    }
   ],
   "source": [
    "l1.count('Apple')"
   ]
  },
  {
   "cell_type": "code",
   "execution_count": 246,
   "id": "74977669-cdee-47e0-939e-5027b3411428",
   "metadata": {},
   "outputs": [
    {
     "name": "stdout",
     "output_type": "stream",
     "text": [
      "[1, 2, 3, 4, 10, 20, 'Apple', 60]\n",
      "[1, 2, 3, 4, 10, 20, 60]\n"
     ]
    }
   ],
   "source": [
    "l1 = [1,2,3,4,'Apple',10,20,'Apple',60]\n",
    "i1 = l1.index('Apple')\n",
    "l1.pop(i1)\n",
    "print(l1)\n",
    "i2 = l1.index('Apple',i1+1)\n",
    "l1.pop(i2)\n",
    "print(l1)"
   ]
  },
  {
   "cell_type": "code",
   "execution_count": 248,
   "id": "17a8ec48-345c-4f97-b9f0-729f80148605",
   "metadata": {},
   "outputs": [
    {
     "name": "stdout",
     "output_type": "stream",
     "text": [
      "[1, 2, 3, 4, 'Apple', 10, 20, 60]\n"
     ]
    }
   ],
   "source": [
    "l1 = [1,2,3,4,'Apple',10,20,'Apple',60]\n",
    "i2 = l1.index('Apple',i1+1)\n",
    "l1.pop(i2)\n",
    "print(l1)"
   ]
  },
  {
   "cell_type": "code",
   "execution_count": 264,
   "id": "9f1e7132-6497-4db9-a8df-cdffc3e04955",
   "metadata": {},
   "outputs": [
    {
     "ename": "TypeError",
     "evalue": "object of type 'int' has no len()",
     "output_type": "error",
     "traceback": [
      "\u001b[0;31m---------------------------------------------------------------------------\u001b[0m",
      "\u001b[0;31mTypeError\u001b[0m                                 Traceback (most recent call last)",
      "Cell \u001b[0;32mIn[264], line 2\u001b[0m\n\u001b[1;32m      1\u001b[0m l1 \u001b[38;5;241m=\u001b[39m [\u001b[38;5;241m1\u001b[39m,\u001b[38;5;241m2\u001b[39m,\u001b[38;5;241m3\u001b[39m,\u001b[38;5;241m4\u001b[39m,\u001b[38;5;124m'\u001b[39m\u001b[38;5;124mApple\u001b[39m\u001b[38;5;124m'\u001b[39m,\u001b[38;5;241m10\u001b[39m,\u001b[38;5;241m20\u001b[39m,\u001b[38;5;124m'\u001b[39m\u001b[38;5;124mApple\u001b[39m\u001b[38;5;124m'\u001b[39m,\u001b[38;5;241m60\u001b[39m]\n\u001b[0;32m----> 2\u001b[0m a \u001b[38;5;241m=\u001b[39m \u001b[38;5;28mlen\u001b[39m(\u001b[38;5;241m11\u001b[39m)\u001b[38;5;241m-\u001b[39m\u001b[38;5;241m1\u001b[39m\n\u001b[1;32m      3\u001b[0m \u001b[38;5;28;01mfor\u001b[39;00m i \u001b[38;5;129;01min\u001b[39;00m \u001b[38;5;28mrange\u001b[39m(a):\n\u001b[1;32m      4\u001b[0m     \u001b[38;5;28;01mif\u001b[39;00m l1[i] \u001b[38;5;241m==\u001b[39m \u001b[38;5;124m'\u001b[39m\u001b[38;5;124mApple\u001b[39m\u001b[38;5;124m'\u001b[39m:\n",
      "\u001b[0;31mTypeError\u001b[0m: object of type 'int' has no len()"
     ]
    }
   ],
   "source": [
    "# l1 = [1,2,3,4,'Apple',10,20,'Apple',60]\n",
    "# a = len(11)-1\n",
    "# for i in range(a):\n",
    "#     if l1[i] == 'Apple':\n",
    "#         l1.pop(i)\n",
    "#         a = len(11)-1\n",
    "\n",
    "# print(l1)"
   ]
  },
  {
   "cell_type": "code",
   "execution_count": 262,
   "id": "8c7227dd-4392-4fa5-9f0b-0228196543e2",
   "metadata": {},
   "outputs": [
    {
     "data": {
      "text/plain": [
       "7"
      ]
     },
     "execution_count": 262,
     "metadata": {},
     "output_type": "execute_result"
    }
   ],
   "source": [
    "len(l1)"
   ]
  },
  {
   "cell_type": "code",
   "execution_count": 266,
   "id": "9f77c5a0-f415-404f-94b4-14c2caf9bec0",
   "metadata": {},
   "outputs": [
    {
     "name": "stdout",
     "output_type": "stream",
     "text": [
      "[1, 2, 3, 4, 10, 20, 60]\n"
     ]
    }
   ],
   "source": [
    "l1 = [1,2,3,4,'Apple',10,20,'Apple',60]\n",
    "i1 = l1.index('Apple')\n",
    "l1.pop(i1)\n",
    "\n",
    "i1 = l1.index('Apple')\n",
    "l1.pop(i1)\n",
    "print(l1)"
   ]
  },
  {
   "cell_type": "code",
   "execution_count": 282,
   "id": "de592a79-c1b5-41d7-8252-e85d7a9a36dc",
   "metadata": {},
   "outputs": [
    {
     "name": "stdout",
     "output_type": "stream",
     "text": [
      "['hai', 'apple', 'how', 'are', 'you', 'apple', 'I', 'am', 'good', 'apple', 'thank', 'you', 'apple']\n"
     ]
    },
    {
     "data": {
      "text/plain": [
       "'hai how are you I am good thank you'"
      ]
     },
     "execution_count": 282,
     "metadata": {},
     "output_type": "execute_result"
    }
   ],
   "source": [
    "str1 = 'hai apple how are you apple I am good apple thank you apple'\n",
    "\n",
    "#O/p - hai how are you I am good thank you. \n",
    "\n",
    "new_str = str1.split(' ')\n",
    "print(new_str)\n",
    "for i in range(new_str.count('apple')):\n",
    "    i1 = new_str.index('apple')\n",
    "    new_str.pop(i1)\n",
    "\n",
    "(' ').join(new_str)"
   ]
  },
  {
   "cell_type": "code",
   "execution_count": 284,
   "id": "2f375451-e07a-444e-a96c-517c53c4f305",
   "metadata": {},
   "outputs": [
    {
     "name": "stdout",
     "output_type": "stream",
     "text": [
      "['hai', 'apple', 'how', 'are', 'you', 'apple', 'I', 'am', 'good', 'apple', 'thank', 'you', 'apple']\n"
     ]
    },
    {
     "data": {
      "text/plain": [
       "'hai how are you I am good thank you'"
      ]
     },
     "execution_count": 284,
     "metadata": {},
     "output_type": "execute_result"
    }
   ],
   "source": [
    "str1 = 'hai apple how are you apple I am good apple thank you apple'\n",
    "\n",
    "#O/p - hai how are you I am good thank you. \n",
    "\n",
    "new_str = str1.split(' ')\n",
    "print(new_str)\n",
    "for i in range(new_str.count('apple')):\n",
    "    new_str.remove('apple')\n",
    "\n",
    "(' ').join(new_str)"
   ]
  },
  {
   "cell_type": "markdown",
   "id": "4c672687-c07a-4187-8673-2cfdf6cc437d",
   "metadata": {},
   "source": [
    "**del - Keyword**\n",
    "- You can delete any value from the string. "
   ]
  },
  {
   "cell_type": "code",
   "execution_count": 295,
   "id": "e4f5fd61-1f68-4994-a2de-97dd1d13ba2e",
   "metadata": {},
   "outputs": [
    {
     "name": "stdout",
     "output_type": "stream",
     "text": [
      "['hai', 'how', 'are', 'you', 'apple', 'I', 'am', 'good', 'apple', 'thank', 'you', 'apple']\n"
     ]
    }
   ],
   "source": [
    "str1 = 'hai apple how are you apple I am good apple thank you apple'\n",
    "new_str = str1.split(' ')\n",
    "del(new_str[1])\n",
    "print(new_str)"
   ]
  },
  {
   "cell_type": "code",
   "execution_count": null,
   "id": "54eb3663-80d2-4963-9899-8e595ade2145",
   "metadata": {},
   "outputs": [],
   "source": []
  }
 ],
 "metadata": {
  "kernelspec": {
   "display_name": "Python 3 (ipykernel)",
   "language": "python",
   "name": "python3"
  },
  "language_info": {
   "codemirror_mode": {
    "name": "ipython",
    "version": 3
   },
   "file_extension": ".py",
   "mimetype": "text/x-python",
   "name": "python",
   "nbconvert_exporter": "python",
   "pygments_lexer": "ipython3",
   "version": "3.11.7"
  }
 },
 "nbformat": 4,
 "nbformat_minor": 5
}
