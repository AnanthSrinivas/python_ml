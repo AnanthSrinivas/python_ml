{
 "cells": [
  {
   "cell_type": "code",
   "execution_count": 3,
   "id": "1a6a9cba-d1ab-4ff5-a0a9-86fea8d3ff76",
   "metadata": {},
   "outputs": [
    {
     "name": "stdin",
     "output_type": "stream",
     "text": [
      "Enter the name:  hero\n"
     ]
    },
    {
     "name": "stdout",
     "output_type": "stream",
     "text": [
      "hero is not a palindrome\n"
     ]
    }
   ],
   "source": [
    "#Python program to check whether the string is Symmetrical or Palindrome\n",
    "\n",
    "str1 = input(\"Enter the name: \")\n",
    "temp = str1[::-1]\n",
    "if str1 == temp:print(f\"{str1} is a palindrome\")\n",
    "else:print(f\"{str1} is not a palindrome\")"
   ]
  },
  {
   "cell_type": "code",
   "execution_count": 23,
   "id": "d4d0f2a0-e1c6-41de-ac6c-0bdf458c4782",
   "metadata": {},
   "outputs": [
    {
     "name": "stdin",
     "output_type": "stream",
     "text": [
      "Enter the name:  badbad\n"
     ]
    },
    {
     "name": "stdout",
     "output_type": "stream",
     "text": [
      "6 3\n",
      "symetrical\n"
     ]
    }
   ],
   "source": [
    "str1 = input(\"Enter the name: \")\n",
    "n = len(str1)\n",
    "n2 = n//2\n",
    "print(n,n2)\n",
    "if str1[:n2] == str1[n2:]:print(\"symetrical\")\n",
    "else:print(\"non symetrical\")"
   ]
  },
  {
   "cell_type": "code",
   "execution_count": 63,
   "id": "23cbbd0f-b9ce-4998-b217-420b4270dd61",
   "metadata": {},
   "outputs": [
    {
     "name": "stdin",
     "output_type": "stream",
     "text": [
      "Enter a string:  my name is ananth\n"
     ]
    },
    {
     "name": "stdout",
     "output_type": "stream",
     "text": [
      "ananth is name my\n",
      "ananth is name my\n"
     ]
    }
   ],
   "source": [
    "#Reverse words in a given String in Python\n",
    "\n",
    "str1 = input(\"Enter a string: \")\n",
    "temp = str1.split(' ')\n",
    "temp2 = []\n",
    "for i in range(len(temp)-1,-1,-1):\n",
    "    temp2.append(temp[i])\n",
    "\n",
    "o = ' '.join(temp2)\n",
    "print(o)\n",
    "\n",
    "\n",
    "temp.reverse()\n",
    "j = ' '.join(temp)\n",
    "print(j)"
   ]
  },
  {
   "cell_type": "code",
   "execution_count": 75,
   "id": "525406d3-ebcb-4e46-a951-be832e6b0ab0",
   "metadata": {},
   "outputs": [
    {
     "name": "stdout",
     "output_type": "stream",
     "text": [
      "my name i ananth"
     ]
    }
   ],
   "source": [
    "# Ways to remove i’th character from string in Python\n",
    "\n",
    "str1 = 'my name is ananth'\n",
    "for i in range(len(str1)):\n",
    "    if i == 9:\n",
    "        pass\n",
    "    else:\n",
    "        print(str1[i],end=\"\")"
   ]
  },
  {
   "cell_type": "code",
   "execution_count": null,
   "id": "6b2eb7e2-7f5c-42ad-931c-6340bf948938",
   "metadata": {},
   "outputs": [],
   "source": []
  }
 ],
 "metadata": {
  "kernelspec": {
   "display_name": "Python 3 (ipykernel)",
   "language": "python",
   "name": "python3"
  },
  "language_info": {
   "codemirror_mode": {
    "name": "ipython",
    "version": 3
   },
   "file_extension": ".py",
   "mimetype": "text/x-python",
   "name": "python",
   "nbconvert_exporter": "python",
   "pygments_lexer": "ipython3",
   "version": "3.11.7"
  }
 },
 "nbformat": 4,
 "nbformat_minor": 5
}
