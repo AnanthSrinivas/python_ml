{
 "cells": [
  {
   "cell_type": "markdown",
   "id": "0d61d81c-fa78-407c-9b15-cd0baca91e89",
   "metadata": {},
   "source": [
    "- repreesenation\n",
    "\n",
    "- len\n",
    "\n",
    "- max\n",
    "\n",
    "- min\n",
    "\n",
    "- sorted\n",
    "\n",
    "- reversed\n",
    "\n",
    "- in \n",
    "\n",
    "- for using in \n",
    "\n",
    "- index\n",
    "\n",
    "- index using for\n",
    "\n",
    "- concatination\n",
    "\n",
    "- methods"
   ]
  },
  {
   "cell_type": "markdown",
   "id": "a0837304-233b-425e-8d74-27f501008659",
   "metadata": {},
   "source": [
    "- List is represented using square brackets"
   ]
  },
  {
   "cell_type": "code",
   "execution_count": 4,
   "id": "096e4d50-54ca-42fb-a66d-527e8f0592ed",
   "metadata": {},
   "outputs": [
    {
     "name": "stdout",
     "output_type": "stream",
     "text": [
      "<class 'list'>\n"
     ]
    }
   ],
   "source": [
    "l1 = [1,2,3,4,5]\n",
    "print(type(l1))"
   ]
  },
  {
   "cell_type": "code",
   "execution_count": 6,
   "id": "7f74c5c3-068f-4a41-8a82-b4ddf583ccde",
   "metadata": {},
   "outputs": [
    {
     "name": "stdout",
     "output_type": "stream",
     "text": [
      "['a', 'b', 'Hero', 12, 12.4, True]\n"
     ]
    }
   ],
   "source": [
    "l2 = ['a','b','Hero',12,12.4,True]\n",
    "\n",
    "print(l2)"
   ]
  },
  {
   "cell_type": "code",
   "execution_count": 8,
   "id": "d7059f2b-f8e3-4f8f-8375-aeaf9337dbd1",
   "metadata": {},
   "outputs": [
    {
     "name": "stdout",
     "output_type": "stream",
     "text": [
      "[100, 100, 100]\n"
     ]
    }
   ],
   "source": [
    "l3 = [100,100,100]\n",
    "print(l3)"
   ]
  },
  {
   "cell_type": "code",
   "execution_count": 10,
   "id": "507da756-7162-4761-9a65-f6c3a895ff8d",
   "metadata": {},
   "outputs": [
    {
     "name": "stdout",
     "output_type": "stream",
     "text": [
      "['hello', ['peter', 3, 2, 3], [3, 4, 5.55, True], 4, 5, 6]\n"
     ]
    }
   ],
   "source": [
    "l4 = ['hello',['peter',3,2,3],[3,4,5.55,True],4,5,6]\n",
    "\n",
    "print(l4)"
   ]
  },
  {
   "cell_type": "code",
   "execution_count": 12,
   "id": "ea2bb245-339a-4f08-a4a2-dfbc9222b85a",
   "metadata": {},
   "outputs": [
    {
     "name": "stdout",
     "output_type": "stream",
     "text": [
      "['ananth']\n"
     ]
    }
   ],
   "source": [
    "name = \"ananth\"\n",
    "\n",
    "l5 = [name]\n",
    "print(l5)"
   ]
  },
  {
   "cell_type": "markdown",
   "id": "780b1808-ed8a-4dd3-b7ee-a3849b31a713",
   "metadata": {},
   "source": [
    "- List is an array of elements, the elements of list are heterogenous. All the datatypes can be added in the list. \n",
    "- It is also called as - collection of values( values can be of any dataypes)\n",
    "- Nested list,variable assignment are also possible in the list. \n"
   ]
  },
  {
   "cell_type": "code",
   "execution_count": 31,
   "id": "10b37535-7c32-41da-9c47-7f9b887a26e2",
   "metadata": {},
   "outputs": [
    {
     "name": "stdout",
     "output_type": "stream",
     "text": [
      "5\n",
      "6\n",
      "3\n",
      "6\n",
      "1\n"
     ]
    }
   ],
   "source": [
    "l1 = [1,2,3,4,5]\n",
    "l2 = ['a','b','Hero',12,12.4,True]\n",
    "l3 = [100,100,100]\n",
    "l4 = ['hello',['peter',3,2,3],[3,4,5.55,True],4,5,6]\n",
    "name = \"ananth\"\n",
    "l5 = [name]\n",
    "\n",
    "\n",
    "print(len(l1))\n",
    "print(len(l2))\n",
    "print(len(l3))\n",
    "print(len(l4))\n",
    "print(len(l5))"
   ]
  },
  {
   "cell_type": "code",
   "execution_count": 37,
   "id": "05079a2d-33c6-4418-b76f-795c21bce121",
   "metadata": {},
   "outputs": [
    {
     "name": "stdout",
     "output_type": "stream",
     "text": [
      "5\n",
      "c\n"
     ]
    },
    {
     "ename": "TypeError",
     "evalue": "'>' not supported between instances of 'int' and 'str'",
     "output_type": "error",
     "traceback": [
      "\u001b[0;31m---------------------------------------------------------------------------\u001b[0m",
      "\u001b[0;31mTypeError\u001b[0m                                 Traceback (most recent call last)",
      "Cell \u001b[0;32mIn[37], line 12\u001b[0m\n\u001b[1;32m     10\u001b[0m \u001b[38;5;28mprint\u001b[39m(\u001b[38;5;28mmax\u001b[39m(l1))\n\u001b[1;32m     11\u001b[0m \u001b[38;5;28mprint\u001b[39m(\u001b[38;5;28mmax\u001b[39m(l6))\n\u001b[0;32m---> 12\u001b[0m \u001b[38;5;28mprint\u001b[39m(\u001b[38;5;28mmax\u001b[39m(l2))\n\u001b[1;32m     13\u001b[0m \u001b[38;5;28mprint\u001b[39m(\u001b[38;5;28mmax\u001b[39m(l3))\n\u001b[1;32m     14\u001b[0m \u001b[38;5;28mprint\u001b[39m(\u001b[38;5;28mmax\u001b[39m(l4))\n",
      "\u001b[0;31mTypeError\u001b[0m: '>' not supported between instances of 'int' and 'str'"
     ]
    }
   ],
   "source": [
    "l1 = [1,2,3,4,5]\n",
    "l6 = ['a','bc','c']\n",
    "l2 = ['a','b','Hero',12,12.4,True]\n",
    "l3 = [100,100,100]\n",
    "l4 = ['hello',['peter',3,2,3],[3,4,5.55,True],4,5,6]\n",
    "name = \"ananth\"\n",
    "l5 = [name]\n",
    "\n",
    "\n",
    "print(max(l1))\n",
    "print(max(l6))\n",
    "print(max(l2))\n",
    "print(max(l3))\n",
    "print(max(l4))\n",
    "print(max(l5))"
   ]
  },
  {
   "cell_type": "code",
   "execution_count": 39,
   "id": "a8c57f82-d957-4405-9b4b-9452a690df75",
   "metadata": {},
   "outputs": [
    {
     "name": "stdout",
     "output_type": "stream",
     "text": [
      "1\n",
      "a\n"
     ]
    },
    {
     "ename": "TypeError",
     "evalue": "'<' not supported between instances of 'int' and 'str'",
     "output_type": "error",
     "traceback": [
      "\u001b[0;31m---------------------------------------------------------------------------\u001b[0m",
      "\u001b[0;31mTypeError\u001b[0m                                 Traceback (most recent call last)",
      "Cell \u001b[0;32mIn[39], line 12\u001b[0m\n\u001b[1;32m     10\u001b[0m \u001b[38;5;28mprint\u001b[39m(\u001b[38;5;28mmin\u001b[39m(l1))\n\u001b[1;32m     11\u001b[0m \u001b[38;5;28mprint\u001b[39m(\u001b[38;5;28mmin\u001b[39m(l6))\n\u001b[0;32m---> 12\u001b[0m \u001b[38;5;28mprint\u001b[39m(\u001b[38;5;28mmin\u001b[39m(l2))\n\u001b[1;32m     13\u001b[0m \u001b[38;5;28mprint\u001b[39m(\u001b[38;5;28mmin\u001b[39m(l3))\n\u001b[1;32m     14\u001b[0m \u001b[38;5;28mprint\u001b[39m(\u001b[38;5;28mmin\u001b[39m(l4))\n",
      "\u001b[0;31mTypeError\u001b[0m: '<' not supported between instances of 'int' and 'str'"
     ]
    }
   ],
   "source": [
    "l1 = [1,2,3,4,5]\n",
    "l6 = ['a','bc','c']\n",
    "l2 = ['a','b','Hero',12,12.4,True]\n",
    "l3 = [100,100,100]\n",
    "l4 = ['hello',['peter',3,2,3],[3,4,5.55,True],4,5,6]\n",
    "name = \"ananth\"\n",
    "l5 = [name]\n",
    "\n",
    "\n",
    "print(min(l1))\n",
    "print(min(l6))\n",
    "print(min(l2))\n",
    "print(min(l3))\n",
    "print(min(l4))\n",
    "print(min(l5))"
   ]
  },
  {
   "cell_type": "code",
   "execution_count": 41,
   "id": "eafad08b-b64c-40c5-b792-7fffa0c198af",
   "metadata": {},
   "outputs": [
    {
     "name": "stdout",
     "output_type": "stream",
     "text": [
      "[1, 2, 3, 4, 5]\n",
      "['a', 'bc', 'c']\n"
     ]
    },
    {
     "ename": "TypeError",
     "evalue": "'<' not supported between instances of 'int' and 'str'",
     "output_type": "error",
     "traceback": [
      "\u001b[0;31m---------------------------------------------------------------------------\u001b[0m",
      "\u001b[0;31mTypeError\u001b[0m                                 Traceback (most recent call last)",
      "Cell \u001b[0;32mIn[41], line 12\u001b[0m\n\u001b[1;32m     10\u001b[0m \u001b[38;5;28mprint\u001b[39m(\u001b[38;5;28msorted\u001b[39m(l1))\n\u001b[1;32m     11\u001b[0m \u001b[38;5;28mprint\u001b[39m(\u001b[38;5;28msorted\u001b[39m(l6))\n\u001b[0;32m---> 12\u001b[0m \u001b[38;5;28mprint\u001b[39m(\u001b[38;5;28msorted\u001b[39m(l2))\n\u001b[1;32m     13\u001b[0m \u001b[38;5;28mprint\u001b[39m(\u001b[38;5;28msorted\u001b[39m(l3))\n\u001b[1;32m     14\u001b[0m \u001b[38;5;28mprint\u001b[39m(\u001b[38;5;28msorted\u001b[39m(l4))\n",
      "\u001b[0;31mTypeError\u001b[0m: '<' not supported between instances of 'int' and 'str'"
     ]
    }
   ],
   "source": [
    "l1 = [1,2,3,4,5]\n",
    "l6 = ['a','bc','c']\n",
    "l2 = ['a','b','Hero',12,12.4,True]\n",
    "l3 = [100,100,100]\n",
    "l4 = ['hello',['peter',3,2,3],[3,4,5.55,True],4,5,6]\n",
    "name = \"ananth\"\n",
    "l5 = [name]\n",
    "\n",
    "\n",
    "print(sorted(l1))\n",
    "print(sorted(l6))\n",
    "print(sorted(l2))\n",
    "print(sorted(l3))\n",
    "print(sorted(l4))\n",
    "print(sorted(l5))"
   ]
  },
  {
   "cell_type": "code",
   "execution_count": 51,
   "id": "7176d455-2418-4ba7-8e48-b7a3d984d9a1",
   "metadata": {},
   "outputs": [
    {
     "name": "stdout",
     "output_type": "stream",
     "text": [
      "5 4 3 2 1 \n",
      "True 12.4 12 Hero b a \n",
      "100 100 100 \n",
      "6 5 4 [3, 4, 5.55, True] ['peter', 3, 2, 3] hello \n",
      "ananth \n",
      "c bc a "
     ]
    }
   ],
   "source": [
    "l1 = [1,2,3,4,5]\n",
    "l6 = ['a','bc','c']\n",
    "l2 = ['a','b','Hero',12,12.4,True]\n",
    "l3 = [100,100,100]\n",
    "l4 = ['hello',['peter',3,2,3],[3,4,5.55,True],4,5,6]\n",
    "name = \"ananth\"\n",
    "l5 = [name]\n",
    "\n",
    "\n",
    "a = reversed(l1)\n",
    "for i in a:\n",
    "    print(i,end=\" \")\n",
    "\n",
    "print()\n",
    "\n",
    "b = reversed(l2)\n",
    "for m in b:\n",
    "    print(m,end=\" \")\n",
    "print()\n",
    "c = reversed(l3)\n",
    "for j in c:\n",
    "    print(j,end=\" \")\n",
    "print()\n",
    "\n",
    "d = reversed(l4)\n",
    "for k in d:\n",
    "    print(k,end=\" \")\n",
    "print()\n",
    "e = reversed(l5)\n",
    "for v in e:\n",
    "    print(v,end=\" \")\n",
    "print()\n",
    "f = reversed(l6)\n",
    "for h in f:\n",
    "    print(h,end=\" \")"
   ]
  },
  {
   "cell_type": "code",
   "execution_count": 55,
   "id": "cf208e87-12fc-46d1-8eae-6a520aa88d63",
   "metadata": {},
   "outputs": [
    {
     "name": "stdout",
     "output_type": "stream",
     "text": [
      "[5, 4, 3, 2, 1]\n",
      "[True, 12.4, 12, 'Hero', 'b', 'a']\n",
      "[100, 100, 100]\n",
      "[6, 5, 4, [3, 4, 5.55, True], ['peter', 3, 2, 3], 'hello']\n",
      "['ananth']\n",
      "['c', 'bc', 'a']\n"
     ]
    }
   ],
   "source": [
    "l1 = [1,2,3,4,5]\n",
    "l6 = ['a','bc','c']\n",
    "l2 = ['a','b','Hero',12,12.4,True]\n",
    "l3 = [100,100,100]\n",
    "l4 = ['hello',['peter',3,2,3],[3,4,5.55,True],4,5,6]\n",
    "name = \"ananth\"\n",
    "l5 = [name]\n",
    "\n",
    "\n",
    "list1 = list(reversed(l1))\n",
    "list2 = list(reversed(l2))\n",
    "list3 = list(reversed(l3))\n",
    "list4 = list(reversed(l4))\n",
    "list5 = list(reversed(l5))\n",
    "list6 = list(reversed(l6))\n",
    "\n",
    "print(list1)\n",
    "print(list2)\n",
    "print(list3)\n",
    "print(list4)\n",
    "print(list5)\n",
    "print(list6)"
   ]
  },
  {
   "cell_type": "code",
   "execution_count": 57,
   "id": "47e66165-cd1d-45c1-b97f-5538b0213568",
   "metadata": {},
   "outputs": [
    {
     "name": "stdout",
     "output_type": "stream",
     "text": [
      "bat\n"
     ]
    }
   ],
   "source": [
    "name = ['ananth','aananth','bat']\n",
    "\n",
    "print(max(name))\n",
    "\n",
    "# It compares the first char in all the elements of the list - if the 1st char is same then it will check the next char and print the max or min value. "
   ]
  },
  {
   "cell_type": "code",
   "execution_count": 67,
   "id": "b2ce7004-0eb7-4b17-9f46-e2bf0d2c5f08",
   "metadata": {},
   "outputs": [
    {
     "name": "stdout",
     "output_type": "stream",
     "text": [
      "5.55\n",
      "True\n"
     ]
    }
   ],
   "source": [
    "l4 = ['hello',['peter',3,2,3],[3,4,5.55,True],4,5,6]\n",
    "\n",
    "print(l4[2][2])\n",
    "print(l4[2][3])"
   ]
  },
  {
   "cell_type": "code",
   "execution_count": 69,
   "id": "f2747a97-f3fb-4f0f-8d7e-c6b193463cf8",
   "metadata": {},
   "outputs": [
    {
     "ename": "TypeError",
     "evalue": "'>' not supported between instances of 'str' and 'int'",
     "output_type": "error",
     "traceback": [
      "\u001b[0;31m---------------------------------------------------------------------------\u001b[0m",
      "\u001b[0;31mTypeError\u001b[0m                                 Traceback (most recent call last)",
      "Cell \u001b[0;32mIn[69], line 2\u001b[0m\n\u001b[1;32m      1\u001b[0m c \u001b[38;5;241m=\u001b[39m [\u001b[38;5;241m55\u001b[39m,\u001b[38;5;124m'\u001b[39m\u001b[38;5;124ma\u001b[39m\u001b[38;5;124m'\u001b[39m]\n\u001b[0;32m----> 2\u001b[0m \u001b[38;5;28mprint\u001b[39m(\u001b[38;5;28mmax\u001b[39m(c))\n",
      "\u001b[0;31mTypeError\u001b[0m: '>' not supported between instances of 'str' and 'int'"
     ]
    }
   ],
   "source": [
    "c = [55,'a']\n",
    "print(max(c))\n",
    "\n",
    "# Same datatype are only comparable. "
   ]
  },
  {
   "cell_type": "code",
   "execution_count": 71,
   "id": "a24438bc-a326-4f9d-b65c-e8bf191137ea",
   "metadata": {},
   "outputs": [
    {
     "name": "stdout",
     "output_type": "stream",
     "text": [
      "hello\n",
      "['peter', 3, 2, 3]\n",
      "[3, 4, 5.55, True]\n",
      "4\n",
      "5\n",
      "6\n"
     ]
    }
   ],
   "source": [
    "#Indexing\n",
    "\n",
    "l4 = ['hello',['peter',3,2,3],[3,4,5.55,True],4,5,6]\n",
    "\n",
    "for i in range(len(l4)):\n",
    "    print(l4[i])"
   ]
  },
  {
   "cell_type": "code",
   "execution_count": 73,
   "id": "5cdca14b-127e-4874-88e8-c02337068f94",
   "metadata": {},
   "outputs": [
    {
     "name": "stdout",
     "output_type": "stream",
     "text": [
      "2\n"
     ]
    }
   ],
   "source": [
    "l1 = [1,[2]]\n",
    "\n",
    "print(l1[1][0])"
   ]
  },
  {
   "cell_type": "code",
   "execution_count": 79,
   "id": "2b64afce-76cb-41d2-9297-d35e52e80d28",
   "metadata": {},
   "outputs": [
    {
     "name": "stdout",
     "output_type": "stream",
     "text": [
      "['hello', ['peter', 3, 2, 3], [3, 4, 5.55, True], 4]\n",
      "['hello', ['peter', 3, 2, 3], [3, 4, 5.55, True], 4]\n",
      "['hello', ['peter', 3, 2, 3], [3, 4, 5.55, True], 4]\n"
     ]
    }
   ],
   "source": [
    "#Slicing\n",
    "\n",
    "l4 = ['hello',['peter',3,2,3],[3,4,5.55,True],4,5,6]\n",
    "\n",
    "print(l4[0:4:1])\n",
    "print(l4[0:4])\n",
    "print(l4[:4])"
   ]
  },
  {
   "cell_type": "code",
   "execution_count": 81,
   "id": "2c3ffd6d-1415-4bf1-8082-ae0a6bcb9b11",
   "metadata": {},
   "outputs": [
    {
     "name": "stdout",
     "output_type": "stream",
     "text": [
      "B\n"
     ]
    }
   ],
   "source": [
    "l1=[1,[2,['A','B']]]\n",
    "print(l1[1][1][1])"
   ]
  },
  {
   "cell_type": "code",
   "execution_count": 93,
   "id": "9d26af7c-7e74-44fb-bc20-62ef406d3109",
   "metadata": {},
   "outputs": [
    {
     "name": "stdout",
     "output_type": "stream",
     "text": [
      "Apple\n"
     ]
    }
   ],
   "source": [
    "l1=[1,2,[3,[4,[5,['Apple']]]]]\n",
    "print(l1[2][1][1][1][0])"
   ]
  },
  {
   "cell_type": "code",
   "execution_count": 89,
   "id": "5ca17e7b-2908-48e0-8db5-06bf6e9be7cd",
   "metadata": {},
   "outputs": [
    {
     "name": "stdout",
     "output_type": "stream",
     "text": [
      "[5, ['Apple']]\n"
     ]
    }
   ],
   "source": [
    "print(l1[2][1][1])"
   ]
  },
  {
   "cell_type": "code",
   "execution_count": 91,
   "id": "f7b00b3b-5d10-418c-9d0b-52818b4758da",
   "metadata": {},
   "outputs": [
    {
     "name": "stdout",
     "output_type": "stream",
     "text": [
      "['Apple']\n"
     ]
    }
   ],
   "source": [
    "print(l1[2][1][1][1]"
   ]
  },
  {
   "cell_type": "code",
   "execution_count": 99,
   "id": "b78899e9-973b-4447-b313-50275e9bdb0e",
   "metadata": {},
   "outputs": [
    {
     "name": "stdout",
     "output_type": "stream",
     "text": [
      "Banana\n"
     ]
    }
   ],
   "source": [
    "list1=['Apple',1,'Solapur',['cherry','papaya',70,[123,'Banana'],'tomato'],'python'] #get banana\n",
    "\n",
    "print(list1[3][3][1])"
   ]
  },
  {
   "cell_type": "code",
   "execution_count": 105,
   "id": "5eb5b7bf-6edf-4d19-bf10-a79978a09f56",
   "metadata": {},
   "outputs": [
    {
     "name": "stdout",
     "output_type": "stream",
     "text": [
      "Cherry\n"
     ]
    }
   ],
   "source": [
    "list1=[[[[[[[1,'Cherry']]]]]]]\n",
    "\n",
    "print(list1[0][0][0][0][0][0][1])"
   ]
  },
  {
   "cell_type": "code",
   "execution_count": 121,
   "id": "f1614c63-4b3b-4ccb-b484-f1db46088df3",
   "metadata": {},
   "outputs": [
    {
     "name": "stdout",
     "output_type": "stream",
     "text": [
      "shmbaji\n"
     ]
    }
   ],
   "source": [
    "list1=['MH',\n",
    "       ['Nagpur',['Orange',['likes',['king'],['shivaji',['Son',['shmbaji']]]]]\n",
    "       ]]\n",
    "\n",
    "print(list1[1][1][1][2][1][1][0])"
   ]
  },
  {
   "cell_type": "code",
   "execution_count": 130,
   "id": "18670540-44d2-48c2-99a4-b46ec5ad943d",
   "metadata": {},
   "outputs": [
    {
     "name": "stdout",
     "output_type": "stream",
     "text": [
      "[4, 6, 'B']\n",
      "[]\n",
      "[4]\n",
      "[]\n",
      "[]\n",
      "['E', 'C', 'A']\n",
      "['E', 'C', 'A', 5]\n"
     ]
    }
   ],
   "source": [
    "l1 = [1,2,3,4,5,6,'A','B','C','D','E','F','G']\n",
    "\n",
    "print(l1[3:9:2])\n",
    "print(l1[3:9:-2])\n",
    "print(l1[3:-9:2])\n",
    "print(l1[3:-9:-2])\n",
    "print(l1[-3:9:2])\n",
    "print(l1[-3:-9:-2])\n",
    "print(l1[-3:3:-2])"
   ]
  },
  {
   "cell_type": "markdown",
   "id": "a4e23e9b-e920-4833-af98-028705029668",
   "metadata": {},
   "source": [
    "**List Methods**"
   ]
  },
  {
   "cell_type": "code",
   "execution_count": 135,
   "id": "0b059631-98a8-49ad-bb0e-5f11a5432d5c",
   "metadata": {},
   "outputs": [
    {
     "name": "stdout",
     "output_type": "stream",
     "text": [
      "[1, 4, 9, 16, 25]\n"
     ]
    }
   ],
   "source": [
    "ls = []\n",
    "for i in range(1,6):\n",
    "    ls.append(i*i)\n",
    "\n",
    "print(ls)"
   ]
  },
  {
   "cell_type": "code",
   "execution_count": 139,
   "id": "6c8ebad1-ea0a-4235-a1e9-3c0b38c6e17f",
   "metadata": {},
   "outputs": [
    {
     "name": "stdout",
     "output_type": "stream",
     "text": [
      "[1, 2, 3, 4, 5, [2, 3, 4]]\n"
     ]
    }
   ],
   "source": [
    "l = [1,2,3,4,5]\n",
    "\n",
    "l.append([2,3,4])\n",
    "print(l)"
   ]
  },
  {
   "cell_type": "code",
   "execution_count": 145,
   "id": "c09c541c-a98e-49a4-a664-538f0d8595f5",
   "metadata": {},
   "outputs": [
    {
     "name": "stdout",
     "output_type": "stream",
     "text": [
      "[1, 5, 9] 15\n"
     ]
    }
   ],
   "source": [
    "str1 = 'hai hai hai'\n",
    "l2 = []\n",
    "\n",
    "for i in range(len(str1)):\n",
    "    if str1[i] == 'a':\n",
    "        l2.append(i)\n",
    "\n",
    "print(l2,sum(l2))\n",
    "        "
   ]
  },
  {
   "cell_type": "code",
   "execution_count": 153,
   "id": "4d71db91-7e48-40e2-befe-360f2dbd2bea",
   "metadata": {},
   "outputs": [
    {
     "name": "stdout",
     "output_type": "stream",
     "text": [
      "['mumbai', 'chennai']\n"
     ]
    }
   ],
   "source": [
    "\n",
    "\n",
    "L1 = ['hyd','mumbai','chennai','blr']\n",
    "l2=[]\n",
    "for i in L1:\n",
    "    if len(i)>4:\n",
    "        l2.append(i)\n",
    "\n",
    "print(l2)"
   ]
  },
  {
   "cell_type": "code",
   "execution_count": 159,
   "id": "6c358521-ab68-4c9e-a28f-6883b29ba390",
   "metadata": {},
   "outputs": [
    {
     "name": "stdout",
     "output_type": "stream",
     "text": [
      "['Hyd', 'Mumbai']\n"
     ]
    }
   ],
   "source": [
    "L1 = ['Hyd','Mumbai','chennai','blr']\n",
    "l2=[]\n",
    "for i in L1:\n",
    "    if ord(i[0])>=65 and ord(i[0])<=96:\n",
    "        l2.append(i)\n",
    "\n",
    "print(l2)"
   ]
  },
  {
   "cell_type": "code",
   "execution_count": 157,
   "id": "6ac7d47e-f644-448e-8171-ff01836d8e48",
   "metadata": {},
   "outputs": [
    {
     "name": "stdout",
     "output_type": "stream",
     "text": [
      "65\n",
      "97\n"
     ]
    }
   ],
   "source": [
    "print(ord('A'))\n",
    "print(ord('a'))"
   ]
  },
  {
   "cell_type": "code",
   "execution_count": null,
   "id": "eed45aca-7aed-4ec7-84d7-605572a0fe5f",
   "metadata": {},
   "outputs": [],
   "source": [
    "str1 = \"hello I am learning python\"\n",
    "str2=[]\n",
    "\n",
    "for i in str1.split():\n",
    "    str2.append(i.capitalize())\n",
    "\n",
    "print(str2)"
   ]
  },
  {
   "cell_type": "code",
   "execution_count": null,
   "id": "cd68b52d-3aba-421d-b74d-a349fa12d0a3",
   "metadata": {},
   "outputs": [],
   "source": []
  }
 ],
 "metadata": {
  "kernelspec": {
   "display_name": "Python 3 (ipykernel)",
   "language": "python",
   "name": "python3"
  },
  "language_info": {
   "codemirror_mode": {
    "name": "ipython",
    "version": 3
   },
   "file_extension": ".py",
   "mimetype": "text/x-python",
   "name": "python",
   "nbconvert_exporter": "python",
   "pygments_lexer": "ipython3",
   "version": "3.11.7"
  }
 },
 "nbformat": 4,
 "nbformat_minor": 5
}
