{
 "cells": [
  {
   "cell_type": "markdown",
   "id": "b1b5978f-041d-4756-95a0-e3f02ecc6f56",
   "metadata": {},
   "source": [
    "**1.Write a Python function greet(name) that takes a person's name as an argument and prints a greeting message in the format \"Hello, [name]!\".**"
   ]
  },
  {
   "cell_type": "code",
   "execution_count": 11,
   "id": "e32c404e-1904-4182-bd49-54123daf3190",
   "metadata": {},
   "outputs": [
    {
     "name": "stdin",
     "output_type": "stream",
     "text": [
      "Enter a name:  Sai\n"
     ]
    },
    {
     "name": "stdout",
     "output_type": "stream",
     "text": [
      "Hello, Sai!!\n"
     ]
    }
   ],
   "source": [
    "def greet(name):\n",
    "    print(f\"Hello, {name}!!\")\n",
    "\n",
    "\n",
    "name = input(\"Enter a name: \")\n",
    "greet(name)"
   ]
  },
  {
   "cell_type": "markdown",
   "id": "5fcf8992-4377-4952-9931-2f8bdc582b64",
   "metadata": {},
   "source": [
    "**2.Write a Python function square(number) that takes an integer as an argument and returns the square of that number.**"
   ]
  },
  {
   "cell_type": "code",
   "execution_count": 17,
   "id": "a58b772d-9f95-4ee4-8d2d-f78ba47b6727",
   "metadata": {},
   "outputs": [
    {
     "name": "stdin",
     "output_type": "stream",
     "text": [
      "Enter a number:  2\n"
     ]
    },
    {
     "name": "stdout",
     "output_type": "stream",
     "text": [
      "4\n"
     ]
    }
   ],
   "source": [
    "def square(num):\n",
    "    return (num*num)\n",
    "\n",
    "val = eval(input(\"Enter a number: \"))\n",
    "print((square(val)))"
   ]
  },
  {
   "cell_type": "markdown",
   "id": "9029297b-09db-436e-a88e-2a97661ec86d",
   "metadata": {},
   "source": [
    "**3.Write a Python function fahrenheit_to_celsius(fahrenheit) that takes a temperature in Fahrenheit as an argument and returns the equivalent temperature in Celsius. The formula to convert Fahrenheit to Celsius is: Celsius=(Fahrenheit−32)∗5/9Celsius = (Fahrenheit - 32) * 5/9Celsius=(Fahrenheit−32)∗5/9**"
   ]
  },
  {
   "cell_type": "code",
   "execution_count": 24,
   "id": "d83b9321-e9fa-44ac-ba93-2927a517a76e",
   "metadata": {},
   "outputs": [
    {
     "name": "stdin",
     "output_type": "stream",
     "text": [
      "Enter the temp in celsius:  400\n"
     ]
    },
    {
     "name": "stdout",
     "output_type": "stream",
     "text": [
      "204.44\n"
     ]
    }
   ],
   "source": [
    "def fahrenheit_to_celsius(fahrenheit):\n",
    "    temp = ((fahrenheit - 32)*5)/9\n",
    "    return (round(temp,2))\n",
    "\n",
    "cel = eval(input(\"Enter the temp in celsius: \"))\n",
    "print(fahrenheit_to_celsius(cel))"
   ]
  },
  {
   "cell_type": "markdown",
   "id": "225c7a82-2222-486a-ad8c-bc462bf1513c",
   "metadata": {},
   "source": [
    "**4.Write a Python script that takes an integer input from the user and prints \"Positive\" if the number is greater than zero, \"Negative\" if the number is less than zero, and \"Zero\" if the number is exactly zero.**"
   ]
  },
  {
   "cell_type": "code",
   "execution_count": 33,
   "id": "e7742259-b501-41da-8cb8-5c30b2a37a23",
   "metadata": {},
   "outputs": [
    {
     "name": "stdin",
     "output_type": "stream",
     "text": [
      "Enter a number:  0\n"
     ]
    },
    {
     "name": "stdout",
     "output_type": "stream",
     "text": [
      "Zero\n"
     ]
    }
   ],
   "source": [
    "def number(num):\n",
    "    if (num>0):\n",
    "        print(\"Positive\")\n",
    "    elif (num<0):\n",
    "        print(\"Negative\")\n",
    "    else:\n",
    "        print(\"Zero\")\n",
    "\n",
    "a = eval(input(\"Enter a number: \"))\n",
    "number(a)"
   ]
  },
  {
   "cell_type": "markdown",
   "id": "438a120e-1214-442e-89c6-00b46ac8e823",
   "metadata": {},
   "source": [
    "**5.Write a Python script that takes a year as input from the user and prints \"Leap Year\" if the year is a leap year, and \"Not a Leap Year\" otherwise. (A year is a leap year if it is divisible by 4 but not by 100, unless it is also divisible by 400.)**"
   ]
  },
  {
   "cell_type": "code",
   "execution_count": 40,
   "id": "353056a2-d6c2-4a8d-98b4-0bfaada6a957",
   "metadata": {},
   "outputs": [
    {
     "name": "stdin",
     "output_type": "stream",
     "text": [
      "Enter a year:  3000\n"
     ]
    },
    {
     "name": "stdout",
     "output_type": "stream",
     "text": [
      "Not a leap year\n"
     ]
    }
   ],
   "source": [
    "def leap_year(year):\n",
    "    if(year%100==0 and year%400==0):\n",
    "        print(\"It is a leap year\")\n",
    "    elif(year%4==0 and year%100!=0):\n",
    "        print(\"It is a leap year\")\n",
    "    else:\n",
    "        print(\"Not a leap year\")\n",
    "\n",
    "year = eval(input(\"Enter a year: \"))\n",
    "leap_year(year)"
   ]
  }
 ],
 "metadata": {
  "kernelspec": {
   "display_name": "Python 3 (ipykernel)",
   "language": "python",
   "name": "python3"
  },
  "language_info": {
   "codemirror_mode": {
    "name": "ipython",
    "version": 3
   },
   "file_extension": ".py",
   "mimetype": "text/x-python",
   "name": "python",
   "nbconvert_exporter": "python",
   "pygments_lexer": "ipython3",
   "version": "3.11.7"
  }
 },
 "nbformat": 4,
 "nbformat_minor": 5
}
