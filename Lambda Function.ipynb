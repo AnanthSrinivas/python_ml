{
 "cells": [
  {
   "cell_type": "markdown",
   "id": "e3638682-68a9-45e8-9742-d8bd97d86e8a",
   "metadata": {},
   "source": [
    "**Lambda Function**\n",
    "\n",
    "- This function is also simillar to function consepts\n",
    "- But we can write the entire fucntion is a single line, like list comprehension\n",
    "- It will decrease time complexisity. "
   ]
  },
  {
   "cell_type": "code",
   "execution_count": 3,
   "id": "6d2dee4f-9c0b-4222-a191-0ce2f71594c6",
   "metadata": {},
   "outputs": [],
   "source": [
    "#Syntax \n",
    "\n",
    "#lambda <arguments>: <expression>"
   ]
  },
  {
   "cell_type": "code",
   "execution_count": 7,
   "id": "3accb307-9e03-4118-8c8e-e7598cdfc4c9",
   "metadata": {},
   "outputs": [
    {
     "data": {
      "text/plain": [
       "30"
      ]
     },
     "execution_count": 7,
     "metadata": {},
     "output_type": "execute_result"
    }
   ],
   "source": [
    "def add(a,b):\n",
    "    return a+b\n",
    "\n",
    "add(10,20)"
   ]
  },
  {
   "cell_type": "code",
   "execution_count": 9,
   "id": "074ab5a6-843b-40e9-a631-a2d1bd0a3042",
   "metadata": {},
   "outputs": [
    {
     "data": {
      "text/plain": [
       "30"
      ]
     },
     "execution_count": 9,
     "metadata": {},
     "output_type": "execute_result"
    }
   ],
   "source": [
    "add = lambda a,b:a+b\n",
    "add(10,20)"
   ]
  },
  {
   "cell_type": "code",
   "execution_count": 15,
   "id": "4281c350-038d-4a2c-be2d-eeb74b8201f9",
   "metadata": {},
   "outputs": [
    {
     "data": {
      "text/plain": [
       "52.33"
      ]
     },
     "execution_count": 15,
     "metadata": {},
     "output_type": "execute_result"
    }
   ],
   "source": [
    "add = lambda a,b,c:(round(a+b+c,2))\n",
    "add(10,20,22.334)"
   ]
  },
  {
   "cell_type": "markdown",
   "id": "54b9d8b8-695f-4085-af3a-b2ec465d563c",
   "metadata": {},
   "source": [
    "$Pattern-3$\n",
    "\n",
    "**Default Arguments**"
   ]
  },
  {
   "cell_type": "code",
   "execution_count": 21,
   "id": "211942e2-8e3e-43a5-b449-413f859824b4",
   "metadata": {},
   "outputs": [
    {
     "data": {
      "text/plain": [
       "40"
      ]
     },
     "execution_count": 21,
     "metadata": {},
     "output_type": "execute_result"
    }
   ],
   "source": [
    "add = lambda a,b,c=10:(round(a+b+c,2))\n",
    "add(10,20)"
   ]
  },
  {
   "cell_type": "code",
   "execution_count": 23,
   "id": "c9013cb7-2d57-4e36-a3b0-c7c08765618c",
   "metadata": {},
   "outputs": [
    {
     "data": {
      "text/plain": [
       "80.11"
      ]
     },
     "execution_count": 23,
     "metadata": {},
     "output_type": "execute_result"
    }
   ],
   "source": [
    "add = lambda a,b,c=10:(round(a+b+c,2))\n",
    "add(10,20,50.111)"
   ]
  },
  {
   "cell_type": "code",
   "execution_count": 29,
   "id": "8c2667bd-d064-427f-b3ed-33b8e30951fe",
   "metadata": {},
   "outputs": [
    {
     "ename": "TypeError",
     "evalue": "<lambda>() missing 1 required positional argument: 'b'",
     "output_type": "error",
     "traceback": [
      "\u001b[0;31m---------------------------------------------------------------------------\u001b[0m",
      "\u001b[0;31mTypeError\u001b[0m                                 Traceback (most recent call last)",
      "Cell \u001b[0;32mIn[29], line 2\u001b[0m\n\u001b[1;32m      1\u001b[0m add \u001b[38;5;241m=\u001b[39m \u001b[38;5;28;01mlambda\u001b[39;00m a,b,c\u001b[38;5;241m=\u001b[39m\u001b[38;5;241m10\u001b[39m:(\u001b[38;5;28mround\u001b[39m(a\u001b[38;5;241m+\u001b[39mb\u001b[38;5;241m+\u001b[39mc,\u001b[38;5;241m2\u001b[39m))\n\u001b[0;32m----> 2\u001b[0m add(\u001b[38;5;241m50.111\u001b[39m)\n",
      "\u001b[0;31mTypeError\u001b[0m: <lambda>() missing 1 required positional argument: 'b'"
     ]
    }
   ],
   "source": [
    "add = lambda a,b,c=10:(round(a+b+c,2))\n",
    "add(50.111)"
   ]
  },
  {
   "cell_type": "markdown",
   "id": "e6d980e0-1e1d-4fbb-90ad-769b94b0bf81",
   "metadata": {},
   "source": [
    "$Pattern - 4$\n",
    "\n",
    "**Using list comprehension**"
   ]
  },
  {
   "cell_type": "code",
   "execution_count": 33,
   "id": "47d0f009-9a01-4ac4-bb3f-3c00fc962bf3",
   "metadata": {},
   "outputs": [
    {
     "data": {
      "text/plain": [
       "40"
      ]
     },
     "execution_count": 33,
     "metadata": {},
     "output_type": "execute_result"
    }
   ],
   "source": [
    "max = lambda a,b : a if a>b else b \n",
    "max(20,40)"
   ]
  },
  {
   "cell_type": "markdown",
   "id": "c3ed9c3a-ea82-44c2-887d-7af8e3f99613",
   "metadata": {},
   "source": [
    "$Pattern - 5$\n",
    "\n",
    "**Using list**"
   ]
  },
  {
   "cell_type": "code",
   "execution_count": 38,
   "id": "80e7103b-672f-474b-bece-e6b9298c810c",
   "metadata": {},
   "outputs": [
    {
     "ename": "SyntaxError",
     "evalue": "invalid syntax (1208306785.py, line 4)",
     "output_type": "error",
     "traceback": [
      "\u001b[0;36m  Cell \u001b[0;32mIn[38], line 4\u001b[0;36m\u001b[0m\n\u001b[0;31m    lambda l: o.append(i.upper()) for i in l\u001b[0m\n\u001b[0m                                  ^\u001b[0m\n\u001b[0;31mSyntaxError\u001b[0m\u001b[0;31m:\u001b[0m invalid syntax\n"
     ]
    }
   ],
   "source": [
    "#Syntax\n",
    "\n",
    "#Lambda <variable>:<op>,<iterator>"
   ]
  },
  {
   "cell_type": "code",
   "execution_count": 55,
   "id": "14edf13e-a965-4bd3-b7d3-ba6a52f725f5",
   "metadata": {},
   "outputs": [
    {
     "ename": "SyntaxError",
     "evalue": "invalid syntax (1715419123.py, line 4)",
     "output_type": "error",
     "traceback": [
      "\u001b[0;36m  Cell \u001b[0;32mIn[55], line 4\u001b[0;36m\u001b[0m\n\u001b[0;31m    o = lambda i:i.capitalize(),for i in l\u001b[0m\n\u001b[0m                                ^\u001b[0m\n\u001b[0;31mSyntaxError\u001b[0m\u001b[0;31m:\u001b[0m invalid syntax\n"
     ]
    }
   ],
   "source": [
    "l = ['hyd','mum','che']\n",
    "o = []\n",
    "\n",
    "o = lambda i:i.capitalize(),for i in l"
   ]
  },
  {
   "cell_type": "markdown",
   "id": "0e3ea1d9-bfe0-4869-a3aa-e42f3bbf8cf9",
   "metadata": {},
   "source": [
    "**map**\n",
    "\n",
    "- The function and iterator is availabe, but the output needs to be mapped. So that is the reason we will be using map keyword"
   ]
  },
  {
   "cell_type": "code",
   "execution_count": 45,
   "id": "1a409a42-0dff-408d-a539-cfd144e5bc76",
   "metadata": {},
   "outputs": [
    {
     "data": {
      "text/plain": [
       "<map at 0x1322738b0>"
      ]
     },
     "execution_count": 45,
     "metadata": {},
     "output_type": "execute_result"
    }
   ],
   "source": [
    "l = ['hyd','mum','che']\n",
    "map(lambda i:i.capitalize(),l)"
   ]
  },
  {
   "cell_type": "code",
   "execution_count": 47,
   "id": "5c6efaff-3ee8-40ce-8542-74400389a427",
   "metadata": {},
   "outputs": [
    {
     "data": {
      "text/plain": [
       "['Hyd', 'Mum', 'Che']"
      ]
     },
     "execution_count": 47,
     "metadata": {},
     "output_type": "execute_result"
    }
   ],
   "source": [
    "l = ['hyd','mum','che']\n",
    "list(map(lambda i:i.capitalize(),l))"
   ]
  },
  {
   "cell_type": "code",
   "execution_count": 49,
   "id": "fe3adaf8-e002-49aa-9b3d-410965d4c87f",
   "metadata": {},
   "outputs": [
    {
     "data": {
      "text/plain": [
       "('Hyd', 'Mum', 'Che')"
      ]
     },
     "execution_count": 49,
     "metadata": {},
     "output_type": "execute_result"
    }
   ],
   "source": [
    "l = ['hyd','mum','che']\n",
    "tuple(map(lambda i:i.capitalize(),l))"
   ]
  },
  {
   "cell_type": "code",
   "execution_count": 53,
   "id": "2b93bf73-01ad-4ed2-bc14-2524673fc7be",
   "metadata": {},
   "outputs": [
    {
     "data": {
      "text/plain": [
       "['HYD', 'MUM', 'CHE']"
      ]
     },
     "execution_count": 53,
     "metadata": {},
     "output_type": "execute_result"
    }
   ],
   "source": [
    "l = ['hyd','mum','che']\n",
    "list(map(lambda i:i.upper(),l))"
   ]
  },
  {
   "cell_type": "code",
   "execution_count": 74,
   "id": "bc6bcec7-1787-4b11-8444-cb96cf41527a",
   "metadata": {},
   "outputs": [
    {
     "data": {
      "text/plain": [
       "[False, True, True]"
      ]
     },
     "execution_count": 74,
     "metadata": {},
     "output_type": "execute_result"
    }
   ],
   "source": [
    "l = ['hyd','mum#bai','che#nnai']\n",
    "list(map(lambda i:'#' in i ,l))"
   ]
  },
  {
   "cell_type": "markdown",
   "id": "2fcb1c04-300b-4143-a30a-62f8cc20ec0c",
   "metadata": {},
   "source": [
    "**Filter**\n",
    "\n",
    "- Whenever if conditions are there,use filter."
   ]
  },
  {
   "cell_type": "code",
   "execution_count": 76,
   "id": "90f1bab6-2d69-449f-8b3f-f6241cffadab",
   "metadata": {},
   "outputs": [
    {
     "data": {
      "text/plain": [
       "['mum#bai', 'che#nnai']"
      ]
     },
     "execution_count": 76,
     "metadata": {},
     "output_type": "execute_result"
    }
   ],
   "source": [
    "l = ['hyd','mum#bai','che#nnai']\n",
    "list(filter(lambda i:'#' in i ,l))"
   ]
  },
  {
   "cell_type": "code",
   "execution_count": 85,
   "id": "2b2189ea-69be-4f87-a2d1-ee412c50b2f6",
   "metadata": {},
   "outputs": [
    {
     "data": {
      "text/plain": [
       "[2, 4, 6]"
      ]
     },
     "execution_count": 85,
     "metadata": {},
     "output_type": "execute_result"
    }
   ],
   "source": [
    "l1 = [1,2,3,4,5,6,7]\n",
    "list(filter(lambda i:i%2==0,l1))"
   ]
  },
  {
   "cell_type": "code",
   "execution_count": 87,
   "id": "bd477f0d-637c-4501-808d-d42c63b5b22f",
   "metadata": {},
   "outputs": [
    {
     "data": {
      "text/plain": [
       "[1, 3, 5, 7]"
      ]
     },
     "execution_count": 87,
     "metadata": {},
     "output_type": "execute_result"
    }
   ],
   "source": [
    "l1 = [1,2,3,4,5,6,7]\n",
    "list(filter(lambda i:i%2!=0,l1))"
   ]
  },
  {
   "cell_type": "code",
   "execution_count": 111,
   "id": "11e68598-1f9c-4d2e-994b-27374bc11776",
   "metadata": {},
   "outputs": [
    {
     "ename": "TypeError",
     "evalue": "<lambda>() missing 1 required positional argument: 'i'",
     "output_type": "error",
     "traceback": [
      "\u001b[0;31m---------------------------------------------------------------------------\u001b[0m",
      "\u001b[0;31mTypeError\u001b[0m                                 Traceback (most recent call last)",
      "Cell \u001b[0;32mIn[111], line 3\u001b[0m\n\u001b[1;32m      1\u001b[0m l1 \u001b[38;5;241m=\u001b[39m [\u001b[38;5;241m1\u001b[39m,\u001b[38;5;241m2\u001b[39m,\u001b[38;5;241m3\u001b[39m,\u001b[38;5;241m4\u001b[39m,\u001b[38;5;241m5\u001b[39m]\n\u001b[1;32m      2\u001b[0m \u001b[38;5;28msum\u001b[39m\u001b[38;5;241m=\u001b[39m\u001b[38;5;241m0\u001b[39m\n\u001b[0;32m----> 3\u001b[0m \u001b[38;5;28mlist\u001b[39m(\u001b[38;5;28mmap\u001b[39m(\u001b[38;5;28;01mlambda\u001b[39;00m \u001b[38;5;28msum\u001b[39m,i:\u001b[38;5;28msum\u001b[39m\u001b[38;5;241m+\u001b[39mi,l1))\n",
      "\u001b[0;31mTypeError\u001b[0m: <lambda>() missing 1 required positional argument: 'i'"
     ]
    }
   ],
   "source": [
    "l1 = [1,2,3,4,5]\n",
    "sum=0\n",
    "list(map(lambda sum,i:sum+i,l1))"
   ]
  },
  {
   "cell_type": "code",
   "execution_count": 113,
   "id": "f761b2ab-67d6-4664-bdb5-5ead45d6647d",
   "metadata": {},
   "outputs": [
    {
     "data": {
      "text/plain": [
       "15"
      ]
     },
     "execution_count": 113,
     "metadata": {},
     "output_type": "execute_result"
    }
   ],
   "source": [
    "import functools\n",
    "l1 = [1,2,3,4,5]\n",
    "functools.reduce(lambda sum,i:sum+i,l1)"
   ]
  },
  {
   "cell_type": "code",
   "execution_count": 117,
   "id": "bb2888b1-c3ff-49f5-b337-b6b11ae22167",
   "metadata": {},
   "outputs": [
    {
     "data": {
      "text/plain": [
       "15"
      ]
     },
     "execution_count": 117,
     "metadata": {},
     "output_type": "execute_result"
    }
   ],
   "source": [
    "from functools import reduce\n",
    "l1 = [1,2,3,4,5]\n",
    "reduce(lambda sum,i:sum+i,l1)"
   ]
  },
  {
   "cell_type": "code",
   "execution_count": 119,
   "id": "6542dee6-f41a-40a7-aee6-8707de3c6c48",
   "metadata": {},
   "outputs": [
    {
     "data": {
      "text/plain": [
       "15"
      ]
     },
     "execution_count": 119,
     "metadata": {},
     "output_type": "execute_result"
    }
   ],
   "source": [
    "import functools as ft\n",
    "l1 = [1,2,3,4,5]\n",
    "ft.reduce(lambda sum,i:sum+i,l1)"
   ]
  },
  {
   "cell_type": "code",
   "execution_count": 121,
   "id": "50f6fe86-f951-4a30-a77d-2d8dd3c98e3d",
   "metadata": {},
   "outputs": [
    {
     "data": {
      "text/plain": [
       "120"
      ]
     },
     "execution_count": 121,
     "metadata": {},
     "output_type": "execute_result"
    }
   ],
   "source": [
    "import functools as ft\n",
    "l1 = [1,2,3,4,5]\n",
    "ft.reduce(lambda x,y:x*y,l1)"
   ]
  },
  {
   "cell_type": "markdown",
   "id": "5355a492-7caf-419d-8b19-892f55884dfe",
   "metadata": {},
   "source": [
    "**LAMBDA FUNCTION**\n",
    "- It is a nameless function\n",
    "- It is used for any single line conditions\n",
    "- Using multiple for loops might increase the time complexity, so in order to avoid it we can use the lambda functions"
   ]
  },
  {
   "cell_type": "code",
   "execution_count": 130,
   "id": "863b8b05-ab86-49f4-8cf1-7d7e0aec7f03",
   "metadata": {},
   "outputs": [],
   "source": [
    "#Syntax\n",
    "\n",
    "#lambda <arguments>: <expression>"
   ]
  },
  {
   "cell_type": "code",
   "execution_count": 132,
   "id": "91c546af-528f-4f0a-a7b3-a02fe1ccf525",
   "metadata": {},
   "outputs": [
    {
     "name": "stdout",
     "output_type": "stream",
     "text": [
      "500\n"
     ]
    }
   ],
   "source": [
    "mul = lambda a,b:a*b\n",
    "print(mul(5,100))"
   ]
  },
  {
   "cell_type": "code",
   "execution_count": 134,
   "id": "8dd4dd1b-f518-4c3a-bf99-2c3837418955",
   "metadata": {},
   "outputs": [
    {
     "data": {
      "text/plain": [
       "52.33"
      ]
     },
     "execution_count": 134,
     "metadata": {},
     "output_type": "execute_result"
    }
   ],
   "source": [
    "#Multiple Arguments \n",
    "\n",
    "add = lambda a,b,c:(round(a+b+c,2))\n",
    "add(10,20,22.334)"
   ]
  },
  {
   "cell_type": "code",
   "execution_count": 136,
   "id": "108e2fd5-49ad-431c-bb51-332c664a3f4d",
   "metadata": {},
   "outputs": [
    {
     "data": {
      "text/plain": [
       "50"
      ]
     },
     "execution_count": 136,
     "metadata": {},
     "output_type": "execute_result"
    }
   ],
   "source": [
    "#Default Arguments \n",
    "\n",
    "add = lambda a,b,c=20:(round(a+b+c,2))\n",
    "add(10,20)"
   ]
  },
  {
   "cell_type": "code",
   "execution_count": 142,
   "id": "9252c41f-2d2a-41e1-9a1c-b9b2848bc72d",
   "metadata": {},
   "outputs": [
    {
     "name": "stdout",
     "output_type": "stream",
     "text": [
      "HELLO WORLD\n"
     ]
    }
   ],
   "source": [
    "str1 = \"hello world\"\n",
    "str2= lambda str1:str1.upper()\n",
    "print(str2(str1))"
   ]
  },
  {
   "cell_type": "code",
   "execution_count": 148,
   "id": "9b061a9f-37d7-4eb6-838a-a9e93663e1da",
   "metadata": {},
   "outputs": [
    {
     "name": "stdout",
     "output_type": "stream",
     "text": [
      "11 is odd\n"
     ]
    }
   ],
   "source": [
    "#If - Else\n",
    "\n",
    "even_odd = lambda num: print(f'{num} is even') if num%2==0 else print(f'{num} is odd')\n",
    "even_odd(11)"
   ]
  },
  {
   "cell_type": "code",
   "execution_count": null,
   "id": "267af3fc-62b3-47a7-9837-c9570aa26ce9",
   "metadata": {},
   "outputs": [],
   "source": []
  }
 ],
 "metadata": {
  "kernelspec": {
   "display_name": "Python 3 (ipykernel)",
   "language": "python",
   "name": "python3"
  },
  "language_info": {
   "codemirror_mode": {
    "name": "ipython",
    "version": 3
   },
   "file_extension": ".py",
   "mimetype": "text/x-python",
   "name": "python",
   "nbconvert_exporter": "python",
   "pygments_lexer": "ipython3",
   "version": "3.11.7"
  }
 },
 "nbformat": 4,
 "nbformat_minor": 5
}
