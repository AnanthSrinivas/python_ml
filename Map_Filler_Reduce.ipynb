{
 "cells": [
  {
   "cell_type": "markdown",
   "id": "927adbf3-2535-4c79-b3a0-dacc5983a1ca",
   "metadata": {},
   "source": [
    "**Map**\n",
    "\n",
    "- Map takes a function and an iterator as input(as iterator can be list,tuple,dict)\n",
    "- The function will be called using Lambda\n",
    "- The map is used to map the output of the given expression into a new iterator(list,set,tuple)\n"
   ]
  },
  {
   "cell_type": "code",
   "execution_count": 4,
   "id": "8d41b913-f52a-41f3-9712-7beecc8cc474",
   "metadata": {},
   "outputs": [
    {
     "name": "stdout",
     "output_type": "stream",
     "text": [
      "[10, 14, 44, 194, 108, 124, 154, 46, 146, 122]\n"
     ]
    }
   ],
   "source": [
    "l1 = [5, 7, 22, 97, 54, 62, 77, 23, 73, 61]\n",
    "\n",
    "l2 = list(map(lambda x: x*2, l1))\n",
    "print(l2)"
   ]
  },
  {
   "cell_type": "code",
   "execution_count": 6,
   "id": "4c7d446a-3a26-4e46-bb5a-0a81cd2eda3c",
   "metadata": {},
   "outputs": [
    {
     "name": "stdout",
     "output_type": "stream",
     "text": [
      "['HYD', 'MUM', 'CHE']\n"
     ]
    }
   ],
   "source": [
    "l1 = ['hyd','mum','che']\n",
    "\n",
    "l2 = list(map(lambda i:i.upper(),l1))\n",
    "print(l2)"
   ]
  },
  {
   "cell_type": "code",
   "execution_count": 8,
   "id": "53296e64-f248-4174-9225-de9f4a2a35e3",
   "metadata": {},
   "outputs": [
    {
     "name": "stdout",
     "output_type": "stream",
     "text": [
      "['Hyd', 'Mum', 'Che']\n"
     ]
    }
   ],
   "source": [
    "l1 = ['hyd','mum','che']\n",
    "\n",
    "l2 = list(map(lambda i:i.capitalize(),l1))\n",
    "print(l2)"
   ]
  },
  {
   "cell_type": "code",
   "execution_count": 10,
   "id": "bd0703f3-2a83-45bf-8a38-67c7cadfac5f",
   "metadata": {},
   "outputs": [
    {
     "name": "stdout",
     "output_type": "stream",
     "text": [
      "(False, True, False, True, True, False, False)\n"
     ]
    }
   ],
   "source": [
    "l1 = (3,22,3,10,40,211,301)\n",
    "\n",
    "l2 = tuple(map(lambda x: x%2==0, l1))\n",
    "print(l2)"
   ]
  },
  {
   "cell_type": "markdown",
   "id": "b10917b4-febb-43e0-acae-dff58ba53c79",
   "metadata": {},
   "source": [
    "**Filter**\n",
    "\n",
    "- Filter keyword is used to retrieve the value that satisfies the given condition. \n",
    "- In the above code when we use the map keyword we can see the o/p as True/False based on the conditions, but in order for us to retrieve the values - we will be usign the filter keyword."
   ]
  },
  {
   "cell_type": "code",
   "execution_count": 13,
   "id": "28edbe3c-8910-405f-a772-50368b4a6104",
   "metadata": {},
   "outputs": [
    {
     "name": "stdout",
     "output_type": "stream",
     "text": [
      "(22, 10, 40)\n"
     ]
    }
   ],
   "source": [
    "l1 = (3,22,3,10,40,211,301)\n",
    "\n",
    "l2 = tuple(filter(lambda x: x%2==0, l1))\n",
    "print(l2)"
   ]
  },
  {
   "cell_type": "code",
   "execution_count": 17,
   "id": "aedabe48-7c3f-451d-b2b5-32df88d7fd2f",
   "metadata": {},
   "outputs": [
    {
     "name": "stdout",
     "output_type": "stream",
     "text": [
      "[True, False, True]\n",
      "['hy#d', 'ch#e']\n"
     ]
    }
   ],
   "source": [
    "l1 = ['hy#d','mum','ch#e']\n",
    "\n",
    "l2 = list(map(lambda i:'#' in i,l1))\n",
    "print(l2)\n",
    "\n",
    "l2 = list(filter(lambda i:'#' in i,l1))\n",
    "print(l2)"
   ]
  },
  {
   "cell_type": "code",
   "execution_count": 19,
   "id": "6acddba8-25b1-4744-8ac9-5038e6c21988",
   "metadata": {},
   "outputs": [
    {
     "name": "stdout",
     "output_type": "stream",
     "text": [
      "[22, 33, 24, 44, 23, 50]\n"
     ]
    }
   ],
   "source": [
    "age = [22,11,33,24,10,44,23,50]\n",
    "a = list(filter(lambda a:a>18,age))\n",
    "print(a)"
   ]
  },
  {
   "cell_type": "markdown",
   "id": "15ff8781-d8cb-41ac-bbbc-a0a61bb395ae",
   "metadata": {},
   "source": [
    "**Reduce**\n",
    "\n",
    "- The reduce keyword is a part of functools package. \n",
    "- In order for us to use it we need to import functools package. \n",
    "- This keyword is used to perform an operation over a iterator."
   ]
  },
  {
   "cell_type": "code",
   "execution_count": 22,
   "id": "62952ec9-0261-4eae-bd82-ad8987ae6c4f",
   "metadata": {},
   "outputs": [
    {
     "data": {
      "text/plain": [
       "55"
      ]
     },
     "execution_count": 22,
     "metadata": {},
     "output_type": "execute_result"
    }
   ],
   "source": [
    "from functools import reduce\n",
    "num = [0,1,2,3,4,5,6,7,8,9,10]\n",
    "reduce(lambda a,b:a+b,num)"
   ]
  },
  {
   "cell_type": "code",
   "execution_count": 24,
   "id": "c8ebc6fe-4772-499f-ab56-7ecd745ddeb8",
   "metadata": {},
   "outputs": [
    {
     "data": {
      "text/plain": [
       "120"
      ]
     },
     "execution_count": 24,
     "metadata": {},
     "output_type": "execute_result"
    }
   ],
   "source": [
    "#Facotrial of 5\n",
    "\n",
    "from functools import reduce\n",
    "num = [1,2,3,4,5]\n",
    "reduce(lambda a,b:a*b,num)"
   ]
  },
  {
   "cell_type": "code",
   "execution_count": 28,
   "id": "1814696d-f2fc-484d-ac0d-a1977e5a36d5",
   "metadata": {},
   "outputs": [
    {
     "data": {
      "text/plain": [
       "244"
      ]
     },
     "execution_count": 28,
     "metadata": {},
     "output_type": "execute_result"
    }
   ],
   "source": [
    "from functools import reduce\n",
    "\n",
    "num = [22,13,1,3,55,56,244,56,2]\n",
    "reduce(lambda a,b:a if a>b else b,num)"
   ]
  }
 ],
 "metadata": {
  "kernelspec": {
   "display_name": "Python 3 (ipykernel)",
   "language": "python",
   "name": "python3"
  },
  "language_info": {
   "codemirror_mode": {
    "name": "ipython",
    "version": 3
   },
   "file_extension": ".py",
   "mimetype": "text/x-python",
   "name": "python",
   "nbconvert_exporter": "python",
   "pygments_lexer": "ipython3",
   "version": "3.11.7"
  }
 },
 "nbformat": 4,
 "nbformat_minor": 5
}
