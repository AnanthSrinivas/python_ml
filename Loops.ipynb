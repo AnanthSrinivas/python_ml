{
 "cells": [
  {
   "cell_type": "code",
   "execution_count": 6,
   "id": "8ecf3416-437a-4fb1-90c8-1dd549f043c4",
   "metadata": {},
   "outputs": [
    {
     "name": "stdout",
     "output_type": "stream",
     "text": [
      "Even number\n"
     ]
    }
   ],
   "source": [
    "import random\n",
    "num = random.randint(1,100)\n",
    "if(num%2==0):\n",
    "    print(\"Even number\")\n",
    "else:\n",
    "    print(\"Odd number\")"
   ]
  },
  {
   "cell_type": "code",
   "execution_count": 10,
   "id": "f7f00d5b-5e02-450b-81eb-a47921547a26",
   "metadata": {},
   "outputs": [
    {
     "name": "stdout",
     "output_type": "stream",
     "text": [
      "67 is an odd number\n",
      "47 is an odd number\n",
      "58 is an even number\n"
     ]
    }
   ],
   "source": [
    "import random\n",
    "\n",
    "for i in range(3):  #i is an iterator\n",
    "    num = random.randint(1,100)\n",
    "    if(num%2==0):\n",
    "        print(f\"{num} is an even number\")\n",
    "    else:\n",
    "        print(f\"{num} is an odd number\")"
   ]
  },
  {
   "cell_type": "code",
   "execution_count": 14,
   "id": "5f15bcdc-fc58-41d9-ab51-d414165c7fed",
   "metadata": {},
   "outputs": [
    {
     "name": "stdout",
     "output_type": "stream",
     "text": [
      "0-->1-->2-->3-->4-->5-->6-->7-->8-->9-->"
     ]
    }
   ],
   "source": [
    "for i in range(10):\n",
    "    print(i,end=\"-->\")"
   ]
  },
  {
   "cell_type": "code",
   "execution_count": 18,
   "id": "8fa5d182-d7b3-4a1a-bc7b-896226dc7c7c",
   "metadata": {},
   "outputs": [
    {
     "name": "stdout",
     "output_type": "stream",
     "text": [
      "10 11 12 13 14 15 16 17 18 19 "
     ]
    }
   ],
   "source": [
    "for i in range(10,20):\n",
    "    print(i,end=\" \")\n"
   ]
  },
  {
   "cell_type": "code",
   "execution_count": 20,
   "id": "1c73446f-48f6-4233-a6f9-00a0b72dfe67",
   "metadata": {},
   "outputs": [
    {
     "name": "stdout",
     "output_type": "stream",
     "text": [
      "2 4 6 8 10 12 14 16 18 "
     ]
    }
   ],
   "source": [
    "for i in range(2,20,2):\n",
    "    print(i,end=\" \")"
   ]
  },
  {
   "cell_type": "code",
   "execution_count": 28,
   "id": "fe98f7ef-189f-4e74-abc1-2b09ea108825",
   "metadata": {},
   "outputs": [
    {
     "name": "stdout",
     "output_type": "stream",
     "text": [
      "20 19 18 17 16 15 14 13 12 11 10 9 8 7 6 5 4 3 "
     ]
    }
   ],
   "source": [
    "for i in range(20,2,-1):\n",
    "    print(i,end=\" \")"
   ]
  },
  {
   "cell_type": "code",
   "execution_count": 32,
   "id": "23016b08-d9a0-4419-ad28-f0f12c8ce179",
   "metadata": {},
   "outputs": [
    {
     "name": "stdin",
     "output_type": "stream",
     "text": [
      "Enter a number:  11\n"
     ]
    },
    {
     "name": "stdout",
     "output_type": "stream",
     "text": [
      "The square of the number is:  121\n"
     ]
    },
    {
     "name": "stdin",
     "output_type": "stream",
     "text": [
      "Enter a number:  12\n"
     ]
    },
    {
     "name": "stdout",
     "output_type": "stream",
     "text": [
      "The square of the number is:  144\n"
     ]
    },
    {
     "name": "stdin",
     "output_type": "stream",
     "text": [
      "Enter a number:  122\n"
     ]
    },
    {
     "name": "stdout",
     "output_type": "stream",
     "text": [
      "The square of the number is:  14884\n"
     ]
    }
   ],
   "source": [
    "for i in range(0,3):\n",
    "    num = eval(input(\"Enter a number: \"))\n",
    "    print(\"The square of the number is: \",(num**2))"
   ]
  },
  {
   "cell_type": "code",
   "execution_count": 36,
   "id": "ce0723d0-e9af-47b6-af7a-4db9b05b8cda",
   "metadata": {},
   "outputs": [
    {
     "name": "stdin",
     "output_type": "stream",
     "text": [
      "Enter a number:  14\n"
     ]
    },
    {
     "name": "stdout",
     "output_type": "stream",
     "text": [
      "14 * 0 = 0\n",
      "14 * 1 = 14\n",
      "14 * 2 = 28\n",
      "14 * 3 = 42\n",
      "14 * 4 = 56\n",
      "14 * 5 = 70\n",
      "14 * 6 = 84\n",
      "14 * 7 = 98\n",
      "14 * 8 = 112\n",
      "14 * 9 = 126\n"
     ]
    }
   ],
   "source": [
    "table = eval(input(\"Enter a number: \"))\n",
    "for i in range(10):\n",
    "    print(f\"{table} * {i} = {table*i}\")"
   ]
  },
  {
   "cell_type": "code",
   "execution_count": 38,
   "id": "667e7fc0-04c2-416f-b6ad-df6c548335b1",
   "metadata": {},
   "outputs": [
    {
     "name": "stdin",
     "output_type": "stream",
     "text": [
      "Enter a number:  76\n"
     ]
    },
    {
     "name": "stdout",
     "output_type": "stream",
     "text": [
      "1 is a factor\n",
      "2 is a factor\n",
      "4 is a factor\n",
      "19 is a factor\n",
      "38 is a factor\n",
      "76 is a factor\n"
     ]
    }
   ],
   "source": [
    "fact = eval(input(\"Enter a number: \"))\n",
    "for i in range(1,fact+1):\n",
    "    if (fact%i==0):\n",
    "        print(f\"{i} is a factor\")"
   ]
  },
  {
   "cell_type": "code",
   "execution_count": 40,
   "id": "53d6e960-90da-4268-b12e-fd81b81fb737",
   "metadata": {},
   "outputs": [
    {
     "name": "stdin",
     "output_type": "stream",
     "text": [
      "Enter a number:  10\n"
     ]
    },
    {
     "name": "stdout",
     "output_type": "stream",
     "text": [
      "The sum of 10 natural numbers is 55\n"
     ]
    }
   ],
   "source": [
    "num = eval(input(\"Enter a number: \"))\n",
    "sum = 0\n",
    "for i in range(1,num+1):\n",
    "    sum+=i\n",
    "\n",
    "print(f\"The sum of {num} natural numbers is {sum}\")"
   ]
  },
  {
   "cell_type": "code",
   "execution_count": 48,
   "id": "16a6d0f6-662d-4832-8f1e-b85e19760c27",
   "metadata": {},
   "outputs": [
    {
     "name": "stdin",
     "output_type": "stream",
     "text": [
      "Enter a number:  10\n"
     ]
    },
    {
     "name": "stdout",
     "output_type": "stream",
     "text": [
      "1+1 = 1\n",
      "2+3 = 3\n",
      "3+6 = 6\n",
      "4+10 = 10\n",
      "5+15 = 15\n",
      "6+21 = 21\n",
      "7+28 = 28\n",
      "8+36 = 36\n",
      "9+45 = 45\n",
      "10+55 = 55\n"
     ]
    }
   ],
   "source": [
    "num = eval(input(\"Enter a number: \"))\n",
    "sum = 0\n",
    "for i in range(1,num+1):\n",
    "    sum = sum+i\n",
    "    print(f\"{i}+{sum} = {sum}\")"
   ]
  },
  {
   "cell_type": "code",
   "execution_count": 50,
   "id": "8154a1ac-5fc7-46d4-8495-f4d3634b014c",
   "metadata": {},
   "outputs": [
    {
     "name": "stdin",
     "output_type": "stream",
     "text": [
      "Enter a number:  76\n"
     ]
    },
    {
     "name": "stdout",
     "output_type": "stream",
     "text": [
      "The number of divisors are 6\n"
     ]
    }
   ],
   "source": [
    "fact = eval(input(\"Enter a number: \"))\n",
    "count = 0 \n",
    "for i in range(1,fact+1):\n",
    "    if (fact%i==0):\n",
    "        #print(f\"{i} is a factor\")\n",
    "        count+=1\n",
    "\n",
    "print(f\"The number of divisors are {count}\")"
   ]
  },
  {
   "cell_type": "code",
   "execution_count": 125,
   "id": "f1f53a67-a413-4cae-a2d4-6f881ad9145a",
   "metadata": {},
   "outputs": [
    {
     "name": "stdin",
     "output_type": "stream",
     "text": [
      "Enter a number:  1\n"
     ]
    },
    {
     "name": "stdout",
     "output_type": "stream",
     "text": [
      "You lose\n",
      "You are only left with 2 chances\n"
     ]
    },
    {
     "name": "stdin",
     "output_type": "stream",
     "text": [
      "Enter a number:  1\n"
     ]
    },
    {
     "name": "stdout",
     "output_type": "stream",
     "text": [
      "You lose\n",
      "You are only left with 1 chances\n"
     ]
    },
    {
     "name": "stdin",
     "output_type": "stream",
     "text": [
      "Enter a number:  1\n"
     ]
    },
    {
     "name": "stdout",
     "output_type": "stream",
     "text": [
      "You lose\n",
      "All the chances are used, please re-try again after 24 hours\n"
     ]
    }
   ],
   "source": [
    "import random\n",
    "count = 3\n",
    "for i in range(0,3):\n",
    "    num1 = random.randint(1,10)\n",
    "    num2 = eval(input(\"Enter a number: \"))\n",
    "    if num1==num2:\n",
    "        print(\"You won\")\n",
    "        break\n",
    "    else:\n",
    "        print(\"You lose\")\n",
    "        count-=1\n",
    "        if count == 0:\n",
    "            print(\"All the chances are used, please re-try again after 24 hours\")\n",
    "        else:\n",
    "            print(f\"You are only left with {count} chances\")"
   ]
  },
  {
   "cell_type": "code",
   "execution_count": 17,
   "id": "df175bca-3acb-4b2b-a482-be9c4ec5bfb5",
   "metadata": {},
   "outputs": [
    {
     "name": "stdout",
     "output_type": "stream",
     "text": [
      "The odd numbers are: 75\n",
      "The odd numbers are: 91\n",
      "The odd numbers are: 29\n",
      "The even numbers are: 6\n",
      "The odd numbers are: 85\n",
      "The even sum is 6\n",
      "The odd sum is 280\n"
     ]
    }
   ],
   "source": [
    "import random\n",
    "\n",
    "even_sum, odd_sum =0,0\n",
    "for i in range(0,5):\n",
    "    num = random.randint(1,100)\n",
    "    if(num%2==0):\n",
    "        print(f\"The even numbers are: {num}\")\n",
    "        even_sum+=num\n",
    "    else:\n",
    "        print(f\"The odd numbers are: {num}\")\n",
    "        odd_sum+=num\n",
    "\n",
    "print(f\"The even sum is {even_sum}\")\n",
    "print(f\"The odd sum is {odd_sum}\")\n",
    "        "
   ]
  },
  {
   "cell_type": "code",
   "execution_count": 29,
   "id": "cd39008e-ae44-4821-8ef7-d90dc709970b",
   "metadata": {},
   "outputs": [
    {
     "name": "stdout",
     "output_type": "stream",
     "text": [
      "The sum and count of even numbers are 112 and 2\n",
      "The sum and count of even numbers are 71 and 3\n"
     ]
    }
   ],
   "source": [
    "import random\n",
    "\n",
    "def even_odd_count():\n",
    "    even_sum, odd_sum =0,0\n",
    "    even_count,odd_count = 0,0\n",
    "    for i in range(0,5):\n",
    "        num = random.randint(1,100)\n",
    "        if(num%2==0):\n",
    "            even_sum+=num\n",
    "            even_count+=1\n",
    "        else:\n",
    "            odd_sum+=num\n",
    "            odd_count+=1\n",
    "    return (even_sum,even_count,odd_sum,odd_count)\n",
    "\n",
    "\n",
    "even_sum,even_count,odd_sum,odd_count = even_odd_count()\n",
    "print(f\"The sum and count of even numbers are {even_sum} and {even_count}\")\n",
    "print(f\"The sum and count of even numbers are {odd_sum} and {odd_count}\")"
   ]
  },
  {
   "cell_type": "markdown",
   "id": "bceef6d6-9ec8-4c41-8727-ec2bf37066c0",
   "metadata": {},
   "source": [
    "**IN Operator**"
   ]
  },
  {
   "cell_type": "code",
   "execution_count": 32,
   "id": "d1322934-a89d-4937-b56c-af229f6961d2",
   "metadata": {},
   "outputs": [
    {
     "name": "stdout",
     "output_type": "stream",
     "text": [
      "True\n",
      "True\n",
      "True\n",
      "False\n"
     ]
    }
   ],
   "source": [
    "string1 = \"Ananth\"\n",
    "print('A' in string1)\n",
    "print('a' in string1)\n",
    "print('h' in string1)\n",
    "print('j' in string1)"
   ]
  },
  {
   "cell_type": "code",
   "execution_count": 34,
   "id": "a124f5f2-b1ea-4c1e-bf94-8b68e83a4b79",
   "metadata": {},
   "outputs": [
    {
     "name": "stdout",
     "output_type": "stream",
     "text": [
      "A\n",
      "n\n",
      "a\n",
      "n\n",
      "t\n",
      "h\n"
     ]
    }
   ],
   "source": [
    "for i in string1:\n",
    "    print(i)"
   ]
  },
  {
   "cell_type": "markdown",
   "id": "94351287-305f-46a8-b75f-3eed7fe27dc1",
   "metadata": {},
   "source": [
    "**Difference between IN and RANGE operator**\n",
    "- The IN operator is used for iteration on string\n",
    "- RANGE belongs to MATH Family, we need to specify the numbers.  "
   ]
  },
  {
   "cell_type": "code",
   "execution_count": 37,
   "id": "21c4c946-1d67-4365-a306-090719875dab",
   "metadata": {},
   "outputs": [
    {
     "data": {
      "text/plain": [
       "False"
      ]
     },
     "execution_count": 37,
     "metadata": {},
     "output_type": "execute_result"
    }
   ],
   "source": [
    "'p'>'p'"
   ]
  },
  {
   "cell_type": "code",
   "execution_count": 39,
   "id": "7376af8d-495d-4c5b-8db3-3a25f827b604",
   "metadata": {},
   "outputs": [
    {
     "data": {
      "text/plain": [
       "True"
      ]
     },
     "execution_count": 39,
     "metadata": {},
     "output_type": "execute_result"
    }
   ],
   "source": [
    "'p'>'P'"
   ]
  },
  {
   "cell_type": "markdown",
   "id": "4af859ba-8c11-40b0-8291-939929daae30",
   "metadata": {},
   "source": [
    "**ORD-CHR**\n",
    "- All the alphabets are stored under ASCII format(American Standard Code for Information Internchange.\n",
    "- ord keyword is used to retrive the ASCII value of a character.\n",
    "- chr keyword is used to retrive the aplhabet value using the ASCII value."
   ]
  },
  {
   "cell_type": "code",
   "execution_count": 45,
   "id": "b392b897-6c08-4f10-a228-30a3400b8b04",
   "metadata": {},
   "outputs": [
    {
     "data": {
      "text/plain": [
       "(97, 65)"
      ]
     },
     "execution_count": 45,
     "metadata": {},
     "output_type": "execute_result"
    }
   ],
   "source": [
    "ord('a'),ord('A')"
   ]
  },
  {
   "cell_type": "code",
   "execution_count": 52,
   "id": "29af80c0-363f-4f24-9ffe-3d328b23ef71",
   "metadata": {},
   "outputs": [
    {
     "data": {
      "text/plain": [
       "('p', 'a', 'A', 'c', 'd')"
      ]
     },
     "execution_count": 52,
     "metadata": {},
     "output_type": "execute_result"
    }
   ],
   "source": [
    "chr(112),chr(97),chr(65),chr(99),chr(100)"
   ]
  },
  {
   "cell_type": "code",
   "execution_count": 62,
   "id": "cc8330d3-72e2-41d6-9761-af983e48a587",
   "metadata": {},
   "outputs": [
    {
     "name": "stdout",
     "output_type": "stream",
     "text": [
      "The ASCII value for P is ord(i)\n",
      "The ASCII value for y is ord(i)\n",
      "The ASCII value for t is ord(i)\n",
      "The ASCII value for h is ord(i)\n",
      "The ASCII value for o is ord(i)\n",
      "The ASCII value for n is ord(i)\n"
     ]
    }
   ],
   "source": [
    "name = \"Python\"\n",
    "\n",
    "for i in name:\n",
    "    print(f\"The ASCII value for {i} is {ord(i)}\")"
   ]
  },
  {
   "cell_type": "code",
   "execution_count": 74,
   "id": "4c4df078-b6d7-4307-b7ad-acafae4c7271",
   "metadata": {},
   "outputs": [
    {
     "name": "stdout",
     "output_type": "stream",
     "text": [
      "P --> 80 y --> 121 t --> 116 h --> 104 o --> 111 n --> 110 "
     ]
    }
   ],
   "source": [
    "name = \"Python\"\n",
    "\n",
    "for i in name:\n",
    "    print(f\"{i} --> {ord(i)}\",sep= \" \",end = \" \")"
   ]
  },
  {
   "cell_type": "code",
   "execution_count": 76,
   "id": "a681874f-00e8-4dc1-adf6-3adfb951c8b2",
   "metadata": {},
   "outputs": [
    {
     "name": "stdout",
     "output_type": "stream",
     "text": [
      "642\n"
     ]
    }
   ],
   "source": [
    "name = \"Python\"\n",
    "sum = 0\n",
    "for i in name:\n",
    "    sum+=ord(i)\n",
    "\n",
    "print(sum)"
   ]
  },
  {
   "cell_type": "code",
   "execution_count": 98,
   "id": "912363cd-8193-40dd-8b77-6b225b625109",
   "metadata": {},
   "outputs": [
    {
     "name": "stdout",
     "output_type": "stream",
     "text": [
      "abcdefghijklmnopqrstuvwxyzABCDEFGHIJKLMNOPQRSTUVWXYZ\n",
      "abcdefghijklmnopqrstuvwxyz\n",
      "0123456789\n",
      "<function capwords at 0x10e796520>\n",
      "<class 'string.Formatter'>\n",
      "0123456789abcdefABCDEF\n",
      "01234567\n",
      "0123456789abcdefghijklmnopqrstuvwxyzABCDEFGHIJKLMNOPQRSTUVWXYZ!\"#$%&'()*+,-./:;<=>?@[\\]^_`{|}~ \t\n",
      "\u000b",
      "\f",
      "\n",
      "!\"#$%&'()*+,-./:;<=>?@[\\]^_`{|}~\n",
      "<class 'string.Template'>\n",
      " \t\n",
      "\u000b",
      "\f",
      "\n"
     ]
    }
   ],
   "source": [
    "import string \n",
    "dir(string)\n",
    "print(string.ascii_letters)\n",
    "print(string.ascii_lowercase)\n",
    "print(string.digits)\n",
    "print(string.capwords)\n",
    "print(string.Formatter)\n",
    "print(string.hexdigits)\n",
    "print(string.octdigits)\n",
    "print(string.printable)\n",
    "print(string.punctuation)\n",
    "print(string.Template)\n",
    "print(string.whitespace)"
   ]
  },
  {
   "cell_type": "code",
   "execution_count": 100,
   "id": "6012cc51-7cf1-4d5e-869e-cbf9701a5e0f",
   "metadata": {},
   "outputs": [
    {
     "name": "stdout",
     "output_type": "stream",
     "text": [
      "a --> 97 b --> 98 c --> 99 d --> 100 e --> 101 f --> 102 g --> 103 h --> 104 i --> 105 j --> 106 k --> 107 l --> 108 m --> 109 n --> 110 o --> 111 p --> 112 q --> 113 r --> 114 s --> 115 t --> 116 u --> 117 v --> 118 w --> 119 x --> 120 y --> 121 z --> 122 A --> 65 B --> 66 C --> 67 D --> 68 E --> 69 F --> 70 G --> 71 H --> 72 I --> 73 J --> 74 K --> 75 L --> 76 M --> 77 N --> 78 O --> 79 P --> 80 Q --> 81 R --> 82 S --> 83 T --> 84 U --> 85 V --> 86 W --> 87 X --> 88 Y --> 89 Z --> 90 "
     ]
    }
   ],
   "source": [
    "import string\n",
    "for i in string.ascii_letters:\n",
    "    print(f\"{i} --> {ord(i)}\",sep= \" \",end = \" \")"
   ]
  },
  {
   "cell_type": "code",
   "execution_count": 106,
   "id": "ee8047b9-8585-4cee-a248-27061da7ddb1",
   "metadata": {},
   "outputs": [
    {
     "name": "stdout",
     "output_type": "stream",
     "text": [
      "0 --> 48\n",
      "1 --> 49\n",
      "2 --> 50\n",
      "3 --> 51\n",
      "4 --> 52\n",
      "5 --> 53\n",
      "6 --> 54\n",
      "7 --> 55\n",
      "8 --> 56\n",
      "9 --> 57\n",
      "a --> 97\n",
      "b --> 98\n",
      "c --> 99\n",
      "d --> 100\n",
      "e --> 101\n",
      "f --> 102\n",
      "g --> 103\n",
      "h --> 104\n",
      "i --> 105\n",
      "j --> 106\n",
      "k --> 107\n",
      "l --> 108\n",
      "m --> 109\n",
      "n --> 110\n",
      "o --> 111\n",
      "p --> 112\n",
      "q --> 113\n",
      "r --> 114\n",
      "s --> 115\n",
      "t --> 116\n",
      "u --> 117\n",
      "v --> 118\n",
      "w --> 119\n",
      "x --> 120\n",
      "y --> 121\n",
      "z --> 122\n",
      "A --> 65\n",
      "B --> 66\n",
      "C --> 67\n",
      "D --> 68\n",
      "E --> 69\n",
      "F --> 70\n",
      "G --> 71\n",
      "H --> 72\n",
      "I --> 73\n",
      "J --> 74\n",
      "K --> 75\n",
      "L --> 76\n",
      "M --> 77\n",
      "N --> 78\n",
      "O --> 79\n",
      "P --> 80\n",
      "Q --> 81\n",
      "R --> 82\n",
      "S --> 83\n",
      "T --> 84\n",
      "U --> 85\n",
      "V --> 86\n",
      "W --> 87\n",
      "X --> 88\n",
      "Y --> 89\n",
      "Z --> 90\n",
      "! --> 33\n",
      "\" --> 34\n",
      "# --> 35\n",
      "$ --> 36\n",
      "% --> 37\n",
      "& --> 38\n",
      "' --> 39\n",
      "( --> 40\n",
      ") --> 41\n",
      "* --> 42\n",
      "+ --> 43\n",
      ", --> 44\n",
      "- --> 45\n",
      ". --> 46\n",
      "/ --> 47\n",
      ": --> 58\n",
      "; --> 59\n",
      "< --> 60\n",
      "= --> 61\n",
      "> --> 62\n",
      "? --> 63\n",
      "@ --> 64\n",
      "[ --> 91\n",
      "\\ --> 92\n",
      "] --> 93\n",
      "^ --> 94\n",
      "_ --> 95\n",
      "` --> 96\n",
      "{ --> 123\n",
      "| --> 124\n",
      "} --> 125\n",
      "~ --> 126\n",
      "  --> 32\n",
      "\t --> 9\n",
      "\n",
      " --> 10\n",
      " --> 13\n",
      "\u000b",
      " --> 11\n",
      "\f",
      " --> 12\n"
     ]
    }
   ],
   "source": [
    "import string\n",
    "for i in string.printable:\n",
    "    print(f\"{i} --> {ord(i)}\",sep= \" \")"
   ]
  },
  {
   "cell_type": "code",
   "execution_count": 108,
   "id": "56d04852-b473-4f16-bb01-f269fb5a591d",
   "metadata": {},
   "outputs": [
    {
     "name": "stdout",
     "output_type": "stream",
     "text": [
      "0 --> 48\n",
      "1 --> 49\n",
      "2 --> 50\n",
      "3 --> 51\n",
      "4 --> 52\n",
      "5 --> 53\n",
      "6 --> 54\n",
      "7 --> 55\n",
      "8 --> 56\n",
      "9 --> 57\n",
      "a --> 97\n",
      "b --> 98\n",
      "c --> 99\n",
      "d --> 100\n",
      "e --> 101\n",
      "f --> 102\n",
      "A --> 65\n",
      "B --> 66\n",
      "C --> 67\n",
      "D --> 68\n",
      "E --> 69\n",
      "F --> 70\n"
     ]
    }
   ],
   "source": [
    "import string\n",
    "for i in string.hexdigits:\n",
    "    print(f\"{i} --> {ord(i)}\",sep= \" \")"
   ]
  },
  {
   "cell_type": "code",
   "execution_count": 112,
   "id": "0bb62d2e-57d5-4d9d-ac40-e7b0e2570e14",
   "metadata": {},
   "outputs": [
    {
     "name": "stdout",
     "output_type": "stream",
     "text": [
      "a b c d e f g h i j k l m n o p q r s t u v w x y z "
     ]
    }
   ],
   "source": [
    "for i in range(97,123):\n",
    "    print(chr(i),end=\" \")"
   ]
  },
  {
   "cell_type": "code",
   "execution_count": 114,
   "id": "f7da7c8b-d055-4952-b73a-eb1f6c82162b",
   "metadata": {},
   "outputs": [
    {
     "name": "stdout",
     "output_type": "stream",
     "text": [
      "A B C D E F G H I J K L M N O P Q R S T U V W X Y Z "
     ]
    }
   ],
   "source": [
    "for i in range(65,91):\n",
    "    print(chr(i),end=\" \")"
   ]
  },
  {
   "cell_type": "code",
   "execution_count": 120,
   "id": "f7ac65aa-cd89-47c1-ac8e-df66fbf8e7cc",
   "metadata": {},
   "outputs": [
    {
     "name": "stdout",
     "output_type": "stream",
     "text": [
      "3072 --> ఀ 3073 --> ఁ 3074 --> ం 3075 --> ః 3076 --> ఄ 3077 --> అ 3078 --> ఆ 3079 --> ఇ 3080 --> ఈ 3081 --> ఉ 3082 --> ఊ 3083 --> ఋ 3084 --> ఌ 3085 --> ఍ 3086 --> ఎ 3087 --> ఏ 3088 --> ఐ 3089 --> ఑ 3090 --> ఒ 3091 --> ఓ 3092 --> ఔ 3093 --> క 3094 --> ఖ 3095 --> గ 3096 --> ఘ 3097 --> ఙ 3098 --> చ 3099 --> ఛ 3100 --> జ 3101 --> ఝ 3102 --> ఞ 3103 --> ట 3104 --> ఠ 3105 --> డ 3106 --> ఢ 3107 --> ణ 3108 --> త 3109 --> థ 3110 --> ద 3111 --> ధ 3112 --> న 3113 --> ఩ 3114 --> ప 3115 --> ఫ 3116 --> బ 3117 --> భ 3118 --> మ 3119 --> య 3120 --> ర 3121 --> ఱ 3122 --> ల 3123 --> ళ 3124 --> ఴ 3125 --> వ 3126 --> శ 3127 --> ష 3128 --> స 3129 --> హ 3130 --> ఺ 3131 --> ఻ 3132 --> ఼ 3133 --> ఽ 3134 --> ా 3135 --> ి 3136 --> ీ 3137 --> ు 3138 --> ూ 3139 --> ృ 3140 --> ౄ 3141 --> ౅ 3142 --> ె 3143 --> ే 3144 --> ై 3145 --> ౉ 3146 --> ొ 3147 --> ో 3148 --> ౌ 3149 --> ్ 3150 --> ౎ 3151 --> ౏ 3152 --> ౐ 3153 --> ౑ 3154 --> ౒ 3155 --> ౓ 3156 --> ౔ 3157 --> ౕ 3158 --> ౖ 3159 --> ౗ 3160 --> ౘ 3161 --> ౙ 3162 --> ౚ 3163 --> ౛ 3164 --> ౜ 3165 --> ౝ 3166 --> ౞ 3167 --> ౟ 3168 --> ౠ 3169 --> ౡ 3170 --> ౢ 3171 --> ౣ 3172 --> ౤ 3173 --> ౥ 3174 --> ౦ 3175 --> ౧ 3176 --> ౨ 3177 --> ౩ 3178 --> ౪ 3179 --> ౫ 3180 --> ౬ 3181 --> ౭ 3182 --> ౮ 3183 --> ౯ 3184 --> ౰ 3185 --> ౱ 3186 --> ౲ 3187 --> ౳ 3188 --> ౴ 3189 --> ౵ 3190 --> ౶ 3191 --> ౷ 3192 --> ౸ 3193 --> ౹ 3194 --> ౺ 3195 --> ౻ 3196 --> ౼ 3197 --> ౽ 3198 --> ౾ "
     ]
    }
   ],
   "source": [
    "for i in range(3072,3199):\n",
    "    print(f\"{i} --> {chr(i)}\",end=\" \")"
   ]
  },
  {
   "cell_type": "code",
   "execution_count": null,
   "id": "897cb4c4-ba55-4154-b2a4-a1e215ebacab",
   "metadata": {},
   "outputs": [],
   "source": [
    "ord(i)\n",
    "ord(I)"
   ]
  }
 ],
 "metadata": {
  "kernelspec": {
   "display_name": "Python 3 (ipykernel)",
   "language": "python",
   "name": "python3"
  },
  "language_info": {
   "codemirror_mode": {
    "name": "ipython",
    "version": 3
   },
   "file_extension": ".py",
   "mimetype": "text/x-python",
   "name": "python",
   "nbconvert_exporter": "python",
   "pygments_lexer": "ipython3",
   "version": "3.11.7"
  }
 },
 "nbformat": 4,
 "nbformat_minor": 5
}
