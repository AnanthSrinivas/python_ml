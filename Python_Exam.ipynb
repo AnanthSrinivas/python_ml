{
 "cells": [
  {
   "cell_type": "markdown",
   "id": "ac06ccbb-1099-4bf7-93d0-dec63a4f49e7",
   "metadata": {},
   "source": [
    "***1.Write a program for all arithmetic operations using eval function.***"
   ]
  },
  {
   "cell_type": "code",
   "execution_count": 6,
   "id": "95c428d5-8198-46b4-86b1-42aec2ad4e9b",
   "metadata": {},
   "outputs": [
    {
     "name": "stdin",
     "output_type": "stream",
     "text": [
      "Enter number1:  30\n",
      "Enter number2:  20\n"
     ]
    },
    {
     "name": "stdout",
     "output_type": "stream",
     "text": [
      "add --> for addition\n",
      "sub --> for Subtraction\n",
      "mul --> for Multiplication\n",
      "div --> for Division\n",
      "mod --> for Modulo-Division\n"
     ]
    },
    {
     "name": "stdin",
     "output_type": "stream",
     "text": [
      "Enter the operator:  mod\n"
     ]
    },
    {
     "name": "stdout",
     "output_type": "stream",
     "text": [
      "The modulo-division of 30 and 20 is : 10\n"
     ]
    }
   ],
   "source": [
    "num1 = eval(input(\"Enter number1: \"))\n",
    "num2 = eval(input(\"Enter number2: \"))\n",
    "\n",
    "print(\"add --> for addition\")\n",
    "print(\"sub --> for Subtraction\")\n",
    "print(\"mul --> for Multiplication\")\n",
    "print(\"div --> for Division\")\n",
    "print(\"mod --> for Modulo-Division\")\n",
    "\n",
    "operator = input(\"Enter the operator: \")\n",
    "\n",
    "if operator=='add':print(f\"The sum of {num1} and {num2} is : {num1+num2}\")\n",
    "elif operator =='sub':print(f\"The subtraction of {num1} and {num2} is : {num1-num2}\")\n",
    "elif operator =='mul':print(f\"The multiplication of {num1} and {num2} is : {num1*num2}\")\n",
    "elif operator =='div':print(f\"The division of {num1} and {num2} is : {num1/num2}\")\n",
    "elif operator =='mod':print(f\"The modulo-division of {num1} and {num2} is : {num1%num2}\")\n",
    "else:print(\"Enter a valid operator\")"
   ]
  },
  {
   "cell_type": "markdown",
   "id": "1b819da6-aac3-4706-aa7f-b56e4fa1f72b",
   "metadata": {},
   "source": [
    "***2.Generate random numbers from 1 to 100 with a step of 10.***"
   ]
  },
  {
   "cell_type": "code",
   "execution_count": 25,
   "id": "089aa3a4-a213-4e5f-b398-21ac7105fae5",
   "metadata": {},
   "outputs": [
    {
     "name": "stdout",
     "output_type": "stream",
     "text": [
      "61\n"
     ]
    }
   ],
   "source": [
    "import random\n",
    "num = random.randrange(1,100,10)\n",
    "print(num)"
   ]
  },
  {
   "cell_type": "markdown",
   "id": "6478cbb3-40b8-482e-998e-cdfff953ee39",
   "metadata": {},
   "source": [
    "***3.Explain slicing and indexing with examples.***"
   ]
  },
  {
   "cell_type": "markdown",
   "id": "c4c1c16f-3bde-4b4f-9676-7d9cc7f36653",
   "metadata": {},
   "source": [
    "***Indexing***\n",
    "- Indexing is nothing but the postion of a character in a string or in a list. \n",
    "- For any language the indexing starts from 0. \n",
    "- For example: Lets take a name called - Ananth - A will be 0th position, n - 1st position , a - 2nd postion, n - 4th postion, t - 4th postion, h - 5th postion. \n",
    "- This is how the indexing is called. The last index can be considered as (lenght of string - 1).\n",
    "- Below are the examples of indexing.\n",
    "\n",
    "\n",
    "\n",
    "***Slicing of String:***\n",
    "- Slicing means retriving the certain amount of characters from a string. \n",
    "- You can retrieve the characters based on the index values.\n",
    "- This can be achieved by using the indexing. \n",
    "- Syntex will be name[start,end,step]\n",
    "    - start - refers to the index from where you want to start.\n",
    "    - end - refers to the end index, till which index you want to retrive the string. \n",
    "    - step - refers skipping of the number of characters.\n",
    "- The start index will be considered, end index will not be considered.\n",
    "- Step value can be empty, but step value cannot be zero.\n",
    "- Below are the examples of the slicing of string."
   ]
  },
  {
   "cell_type": "code",
   "execution_count": 87,
   "id": "21f03bd5-d050-45c7-8e32-de685b992f7d",
   "metadata": {},
   "outputs": [
    {
     "name": "stdin",
     "output_type": "stream",
     "text": [
      "Enter a name:  string\n"
     ]
    },
    {
     "name": "stdout",
     "output_type": "stream",
     "text": [
      "s\n",
      "t\n",
      "r\n",
      "i\n",
      "n\n",
      "g\n"
     ]
    }
   ],
   "source": [
    "#Indexing\n",
    "\n",
    "name = input(\"Enter a name: \") # string\n",
    "print(name[0]) #O/p - s\n",
    "print(name[1]) #O/p - t\n",
    "print(name[2]) #O/p - r\n",
    "print(name[3]) #O/p - i\n",
    "print(name[4]) #O/p - n\n",
    "print(name[5]) #O/p - g"
   ]
  },
  {
   "cell_type": "code",
   "execution_count": 85,
   "id": "f5c24caf-2eda-47af-8bad-9335259c03dd",
   "metadata": {},
   "outputs": [
    {
     "name": "stdin",
     "output_type": "stream",
     "text": [
      "Enter a string:  string\n"
     ]
    },
    {
     "name": "stdout",
     "output_type": "stream",
     "text": [
      "string\n",
      "stri\n",
      "tig\n"
     ]
    }
   ],
   "source": [
    "#Slicing\n",
    "\n",
    "name = input(\"Enter a string: \") # string\n",
    "print(name[0::]) #o/p-string(it print the entire stirng as the end index and step index are not mentioned)\n",
    "print(name[0:4]) #o/p - stri(End index is 4 so it will only print till the index 3, becasue end index value is not included)\n",
    "print(name[1::2]) #o/p- tig"
   ]
  },
  {
   "cell_type": "markdown",
   "id": "ca1bd229-4410-41da-a32c-6da31e713d4e",
   "metadata": {},
   "source": [
    "***4.How to round to two decimal places for a floating value.***"
   ]
  },
  {
   "cell_type": "code",
   "execution_count": 92,
   "id": "96b9b8f6-ec0e-4d63-892b-f58bad6c724c",
   "metadata": {},
   "outputs": [
    {
     "name": "stdin",
     "output_type": "stream",
     "text": [
      "Enter a floating value:  10.3399\n"
     ]
    },
    {
     "name": "stdout",
     "output_type": "stream",
     "text": [
      "10.34\n"
     ]
    }
   ],
   "source": [
    "#To round the floating value we can use round key word.\n",
    "\n",
    "num = eval(input(\"Enter a floating value: \"))\n",
    "print(round(num,2)) # In here we have mentioned the no of decimals that can allowed as 2"
   ]
  },
  {
   "cell_type": "markdown",
   "id": "210e3a9c-57b5-41a3-a27e-599b3d3bad9d",
   "metadata": {},
   "source": [
    "***5.Explain type casting with fundamental datatypes with example.***\n",
    "\n",
    "***Type Casting***\n",
    "- Typecasting is used to convert one datatype to other datatype.\n",
    "- The syntax will be like we need to mention the datatype in which we wanted to convert and the value. Ex. datatype(value).\n",
    "- The convertion of all the datatypes are mentioned below. "
   ]
  },
  {
   "cell_type": "code",
   "execution_count": 108,
   "id": "8597c8ea-7f66-40c7-8fc1-59b8d6a8ca98",
   "metadata": {},
   "outputs": [
    {
     "name": "stdout",
     "output_type": "stream",
     "text": [
      "1\n",
      "1.0\n",
      "True\n",
      "0\n",
      "0.0\n",
      "False\n"
     ]
    }
   ],
   "source": [
    "#Boolean to other datatypes:\n",
    "print(int(True)) #1\n",
    "print(float(True)) #1.0\n",
    "print(str(True)) #True\n",
    "\n",
    "print(int(False)) #0\n",
    "print(float(False)) #0.0\n",
    "print(str(False)) #False"
   ]
  },
  {
   "cell_type": "code",
   "execution_count": 116,
   "id": "87103b72-eceb-4606-9e4a-2d4b8bc0b0df",
   "metadata": {},
   "outputs": [
    {
     "name": "stdout",
     "output_type": "stream",
     "text": [
      "True\n",
      "123\n",
      "123.0\n",
      "True\n",
      "False\n"
     ]
    }
   ],
   "source": [
    "#String to other datatypes: String value cannot be converted into int or float,becasue they deal with only numbers.\n",
    "\n",
    "#print(int(\"demo\"))  # resulted in invalid literal for int() error\n",
    "#print(float(\"demo\")) #could not be converted string to float\n",
    "print(bool(\"demo\")) # True\n",
    "\n",
    "# Instead a number is given as string then it can be converted into int and float\n",
    "print(int(\"123\"))  # 123\n",
    "print(float(\"123\")) #123.0\n",
    "print(bool(\"demo\")) # True\n",
    "print(bool(\"\")) # False"
   ]
  },
  {
   "cell_type": "code",
   "execution_count": 126,
   "id": "06a43b39-cc73-47ec-a6ff-05ac1c6177c6",
   "metadata": {},
   "outputs": [
    {
     "name": "stdout",
     "output_type": "stream",
     "text": [
      "3\n",
      "3.1456\n",
      "True\n",
      "False\n",
      "False\n"
     ]
    }
   ],
   "source": [
    "#Float to other Datatypes:\n",
    "\n",
    "print(int(3.1456)) #10\n",
    "print(str(3.1456)) #'10.3'\n",
    "print(bool(3.1456)) #True\n",
    "print(bool(0)) # False\n",
    "print(bool(0.000)) #False"
   ]
  },
  {
   "cell_type": "code",
   "execution_count": 3,
   "id": "55a94453-4177-4827-bf7f-0fc6e5022213",
   "metadata": {},
   "outputs": [
    {
     "name": "stdout",
     "output_type": "stream",
     "text": [
      "123.0\n",
      "123\n",
      "True\n",
      "False\n",
      "False\n",
      "True\n"
     ]
    }
   ],
   "source": [
    "#int to other datatype:\n",
    "\n",
    "print(float(123)) #100.0\n",
    "print(str(123)) #'100'\n",
    "print(bool(123)) #True\n",
    "print(bool(0)) #False\n",
    "print(bool()) # False\n",
    "print(bool(-11))"
   ]
  },
  {
   "cell_type": "code",
   "execution_count": null,
   "id": "dc9f642a-6635-46ba-a59a-5b70e9c69276",
   "metadata": {},
   "outputs": [],
   "source": []
  }
 ],
 "metadata": {
  "kernelspec": {
   "display_name": "Python 3 (ipykernel)",
   "language": "python",
   "name": "python3"
  },
  "language_info": {
   "codemirror_mode": {
    "name": "ipython",
    "version": 3
   },
   "file_extension": ".py",
   "mimetype": "text/x-python",
   "name": "python",
   "nbconvert_exporter": "python",
   "pygments_lexer": "ipython3",
   "version": "3.11.7"
  }
 },
 "nbformat": 4,
 "nbformat_minor": 5
}
