{
 "cells": [
  {
   "cell_type": "markdown",
   "id": "308573f9-4e8e-42e4-883b-1d6ebb4cabb4",
   "metadata": {},
   "source": [
    "**Q5) Extract all the email id**"
   ]
  },
  {
   "cell_type": "code",
   "execution_count": 7,
   "id": "b8b6019e-9453-429a-821d-4b3f51847ab7",
   "metadata": {},
   "outputs": [
    {
     "data": {
      "text/plain": [
       "['stephen.marquard@uct.ac.za',\n",
       " 'louis@media.berkeley.edu',\n",
       " 'louis@media.berkeley.edu',\n",
       " 'zqian@umich.edu',\n",
       " 'zqian@umich.edu',\n",
       " 'rjlowe@iupui.edu',\n",
       " 'rjlowe@iupui.edu',\n",
       " 'zqian@umich.edu',\n",
       " 'zqian@umich.edu',\n",
       " 'rjlowe@iupui.edu',\n",
       " 'rjlowe@iupui.edu',\n",
       " 'cwen@iupui.edu',\n",
       " 'cwen@iupui.edu',\n",
       " 'cwen@iupui.edu',\n",
       " 'cwen@iupui.edu',\n",
       " 'gsilver@umich.edu',\n",
       " 'gsilver@umich.edu',\n",
       " 'gsilver@umich.edu',\n",
       " 'gsilver@umich.edu',\n",
       " 'zqian@umich.edu',\n",
       " 'zqian@umich.edu',\n",
       " 'gsilver@umich.edu',\n",
       " 'gsilver@umich.edu',\n",
       " 'wagnermr@iupui.edu',\n",
       " 'wagnermr@iupui.edu',\n",
       " 'zqian@umich.edu',\n",
       " 'zqian@umich.edu',\n",
       " 'antranig@caret.cam.ac.uk',\n",
       " 'antranig@caret.cam.ac.uk',\n",
       " 'gopal.ramasammycook@gmail.com',\n",
       " 'gopal.ramasammycook@gmail.com',\n",
       " 'david.horwitz@uct.ac.za',\n",
       " 'david.horwitz@uct.ac.za',\n",
       " 'david.horwitz@uct.ac.za',\n",
       " 'david.horwitz@uct.ac.za',\n",
       " 'david.horwitz@uct.ac.za',\n",
       " 'david.horwitz@uct.ac.za',\n",
       " 'david.horwitz@uct.ac.za',\n",
       " 'david.horwitz@uct.ac.za',\n",
       " 'stephen.marquard@uct.ac.za',\n",
       " 'stephen.marquard@uct.ac.za',\n",
       " 'louis@media.berkeley.edu',\n",
       " 'louis@media.berkeley.edu',\n",
       " 'louis@media.berkeley.edu',\n",
       " 'louis@media.berkeley.edu',\n",
       " 'ray@media.berkeley.edu',\n",
       " 'ray@media.berkeley.edu',\n",
       " 'cwen@iupui.edu',\n",
       " 'cwen@iupui.edu',\n",
       " 'cwen@iupui.edu',\n",
       " 'cwen@iupui.edu',\n",
       " 'cwen@iupui.edu',\n",
       " 'cwen@iupui.edu']"
      ]
     },
     "execution_count": 7,
     "metadata": {},
     "output_type": "execute_result"
    }
   ],
   "source": [
    "import os\n",
    "folder_name = 'mbox-short_demo.txt'\n",
    "new_path = os.path.join(os.getcwd(),folder_name)\n",
    "file = open(new_path)\n",
    "temp=[]\n",
    "mailid = []\n",
    "from_list= [i.rstrip('\\n') for i in file if i.startswith('From')]\n",
    "for i in from_list:\n",
    "    temp = i.split(' ')\n",
    "    mailid.append(temp[1])\n",
    "\n",
    "mailid"
   ]
  },
  {
   "cell_type": "code",
   "execution_count": 13,
   "id": "3b8c3924-dd4e-4ee5-94e9-8a5dc7669325",
   "metadata": {},
   "outputs": [
    {
     "data": {
      "text/plain": [
       "['stephen.marquard@uct.ac.za',\n",
       " 'louis@media.berkeley.edu',\n",
       " 'louis@media.berkeley.edu',\n",
       " 'zqian@umich.edu',\n",
       " 'zqian@umich.edu',\n",
       " 'rjlowe@iupui.edu',\n",
       " 'rjlowe@iupui.edu',\n",
       " 'zqian@umich.edu',\n",
       " 'zqian@umich.edu',\n",
       " 'rjlowe@iupui.edu',\n",
       " 'rjlowe@iupui.edu',\n",
       " 'cwen@iupui.edu',\n",
       " 'cwen@iupui.edu',\n",
       " 'cwen@iupui.edu',\n",
       " 'cwen@iupui.edu',\n",
       " 'gsilver@umich.edu',\n",
       " 'gsilver@umich.edu',\n",
       " 'gsilver@umich.edu',\n",
       " 'gsilver@umich.edu',\n",
       " 'zqian@umich.edu',\n",
       " 'zqian@umich.edu',\n",
       " 'gsilver@umich.edu',\n",
       " 'gsilver@umich.edu',\n",
       " 'wagnermr@iupui.edu',\n",
       " 'wagnermr@iupui.edu',\n",
       " 'zqian@umich.edu',\n",
       " 'zqian@umich.edu',\n",
       " 'antranig@caret.cam.ac.uk',\n",
       " 'antranig@caret.cam.ac.uk',\n",
       " 'gopal.ramasammycook@gmail.com',\n",
       " 'gopal.ramasammycook@gmail.com',\n",
       " 'david.horwitz@uct.ac.za',\n",
       " 'david.horwitz@uct.ac.za',\n",
       " 'david.horwitz@uct.ac.za',\n",
       " 'david.horwitz@uct.ac.za',\n",
       " 'david.horwitz@uct.ac.za',\n",
       " 'david.horwitz@uct.ac.za',\n",
       " 'david.horwitz@uct.ac.za',\n",
       " 'david.horwitz@uct.ac.za',\n",
       " 'stephen.marquard@uct.ac.za',\n",
       " 'stephen.marquard@uct.ac.za',\n",
       " 'louis@media.berkeley.edu',\n",
       " 'louis@media.berkeley.edu',\n",
       " 'louis@media.berkeley.edu',\n",
       " 'louis@media.berkeley.edu',\n",
       " 'ray@media.berkeley.edu',\n",
       " 'ray@media.berkeley.edu',\n",
       " 'cwen@iupui.edu',\n",
       " 'cwen@iupui.edu',\n",
       " 'cwen@iupui.edu',\n",
       " 'cwen@iupui.edu',\n",
       " 'cwen@iupui.edu',\n",
       " 'cwen@iupui.edu']"
      ]
     },
     "execution_count": 13,
     "metadata": {},
     "output_type": "execute_result"
    }
   ],
   "source": [
    "#Method 2 - Using list comprehension\n",
    "\n",
    "import os\n",
    "folder_name = 'mbox-short_demo.txt'\n",
    "new_path = os.path.join(os.getcwd(),folder_name)\n",
    "file = open(new_path)\n",
    "temp=[]\n",
    "mailid = []\n",
    "from_list= [i.rstrip('\\n').split(' ')[1] for i in file if i.startswith('From')]\n",
    "# for i in from_list:\n",
    "#     temp = i.split(' ')\n",
    "#     mailid.append(temp[1])\n",
    "\n",
    "from_list"
   ]
  },
  {
   "cell_type": "markdown",
   "id": "bb7817dc-fc06-4b6f-9bac-6b0cbc824cf0",
   "metadata": {},
   "source": [
    "**Q6) Unique emails**"
   ]
  },
  {
   "cell_type": "code",
   "execution_count": 16,
   "id": "9a80b3f3-3988-43ef-bafb-b45bc7d6c118",
   "metadata": {},
   "outputs": [
    {
     "data": {
      "text/plain": [
       "['stephen.marquard@uct.ac.za',\n",
       " 'louis@media.berkeley.edu',\n",
       " 'zqian@umich.edu',\n",
       " 'rjlowe@iupui.edu',\n",
       " 'cwen@iupui.edu',\n",
       " 'gsilver@umich.edu',\n",
       " 'wagnermr@iupui.edu',\n",
       " 'antranig@caret.cam.ac.uk',\n",
       " 'gopal.ramasammycook@gmail.com',\n",
       " 'david.horwitz@uct.ac.za',\n",
       " 'ray@media.berkeley.edu',\n",
       " 'cwen@iupui.edu']"
      ]
     },
     "execution_count": 16,
     "metadata": {},
     "output_type": "execute_result"
    }
   ],
   "source": [
    "import os\n",
    "folder_name = 'mbox-short_demo.txt'\n",
    "new_path = os.path.join(os.getcwd(),folder_name)\n",
    "file = open(new_path)\n",
    "temp=[]\n",
    "mailid = []\n",
    "from_list= [i.rstrip('\\n').split(' ')[1] for i in file if i.startswith('From')]\n",
    "\n",
    "for i in range(len(from_list)-1):\n",
    "    for j in range(i+1,len(from_list)-1):\n",
    "        if from_list[j]==from_list[i]:\n",
    "            from_list[j] = ' '\n",
    "\n",
    "mailid = [i for i in from_list if i!=' ']\n",
    "mailid"
   ]
  },
  {
   "cell_type": "code",
   "execution_count": 20,
   "id": "bb9fb36e-3ee4-4c5d-aa51-cc4f4d2c993d",
   "metadata": {},
   "outputs": [
    {
     "name": "stdout",
     "output_type": "stream",
     "text": [
      "['stephen.marquard@uct.ac.za', 'wagnermr@iupui.edu', 'cwen@iupui.edu', 'david.horwitz@uct.ac.za', 'gopal.ramasammycook@gmail.com', 'louis@media.berkeley.edu', 'zqian@umich.edu', 'antranig@caret.cam.ac.uk', 'ray@media.berkeley.edu', 'gsilver@umich.edu', 'rjlowe@iupui.edu']\n"
     ]
    }
   ],
   "source": [
    "#Method 2 using list comprehension and set data type\n",
    "\n",
    "import os\n",
    "folder_name = 'mbox-short_demo.txt'\n",
    "new_path = os.path.join(os.getcwd(),folder_name)\n",
    "file = open(new_path)\n",
    "from_list= [i.rstrip('\\n').split(' ')[1] for i in file if i.startswith('From')]\n",
    "unique = list(set(from_list))\n",
    "print(unique)"
   ]
  },
  {
   "cell_type": "markdown",
   "id": "e8a7ef78-2733-4e4c-bf5d-bec3410f730a",
   "metadata": {},
   "source": [
    "**Q7) Read the emails.txt file, and save the fname,sname,emailid,company_n into the seperate list**"
   ]
  },
  {
   "cell_type": "code",
   "execution_count": 51,
   "id": "6816e62f-e60e-46b1-a7e0-5053b999dda8",
   "metadata": {},
   "outputs": [
    {
     "name": "stdout",
     "output_type": "stream",
     "text": [
      "['\\ufeffSanthanam', ' Bhattacharjee', ' Bansal', ' Chandra Shekhar', ' J Doshi', ' Shimoga Prakash', ' Akhouri', ' Nath', ' Ponna', ' Singhal', ' Gorai', ' Valdez', ' Cancel', ' BONDALAKUNTA', ' priyanka uppala', ' Nitin SHINDE', ' Chidre', ' Sahu', ' Sikka', ' Dara', ' Pattanshetti', ' Sharma', ' Latorena', ' Abhimanyu Pradhan', ' Jaiswal', ' Gupta', ' Satti', ' Kumar', ' Balakrishnan', ' M S', ' Cheerala', ' G D', ' Nikhil Reddy', ' Santos', ' Milan', ' Gupta', ' Mandal', ' Prakash Shukla', ' Naganathan', ' GAHLOT', ' Kanjilal', ' Nallagoni', ' Sahajan', ' Nelluri']\n",
      "\n",
      "\n",
      "\n",
      "['Jayendhran', 'Sankalan', 'Vaishnavi', 'Pavuluri', 'Hiren', 'Jeevan', 'Shreyash', 'Nupanga', 'Ramesh', 'Aditya', 'Sumit', 'Mariele Dyan Francely', 'Abigail Kyle', 'POOJITHA', 'sai', 'NIKHIL', 'Swapna', 'Swastik', 'Ankit', 'Sai Madhukar', 'Sampreet', 'Ayush', 'Zairous Jay', 'Roshankumar', 'Lehar', 'Retik', 'Phanindra Reddy', 'Manish', 'Devi Priya', 'Roshni Priya', 'Vanaja', 'Chandrashekhar', 'Madithati', 'Jeroshelle V.', 'Gerald John', 'Vivek', 'Sumit', 'Ashok', 'Siva', 'NIKHIL', 'Sourav', 'Omkar', 'Sandra', 'Chaitanya']\n",
      "\n",
      "\n",
      "\n",
      "['jayendhran.ms@accenture.com', 's.t.bhattacharjee@accenture.com', 'vaishnavi.a.bansal@accenture.com', 'p.a.chandra.shekhar@accenture.com', 'hiren.j.doshi@accenture.com', 'j.shimoga.prakash@accenture.com', 'shreyash.akhouri@accenture.com', 'nupanga.nath@accenture.com', 'r.ponna@accenture.com', 'aditya.d.singhal@accenture.com', 'sumit.gorai@accenture.com', 'mariele.dyan.valdez@accenture.com', 'abigail.kyle.cancel@accenture.com', 'p.bondalakunta@accenture.com', 'sai.priyanka.uppala@accenture.com', 'nikhil.nitin.shinde@accenture.com', 'swapna.chidre@accenture.com', 's.satyapragyan.sahu@accenture.com', 'ankit.sikka@accenture.com', 'sai.madhukar.dara@accenture.com', 's.pattanshetti@accenture.com', 'ayush.ad.sharma@accenture.com', 'zairous.jay.latorena@accenture.com', 'r.abhimanyu.pradhan@accenture.com', 'lehar.jaiswal@accenture.com', 'retik.gupta@accenture.com', 'phanindra.r.satti@accenture.com', 'manish.dw.kumar@accenture.com', 'devi.p.balakrishnan@accenture.com', 'roshni.priya.m.s@accenture.com', 'vanaja.cheerala@accenture.com', 'chandrashekhar.g.d@accenture.com', 'm.nikhil.reddy@accenture.com', 'jeroshelle.v.santos@accenture.com', 'gerald.john.milan@accenture.com', 'vivek.u.gupta@accenture.com', 's.sunilkumar.mandal@accenture.com', 'ashok.prakash.shukla@accenture.com', 'sivakumar.naganathan@accenture.com', 'nikhil.gahlot@accenture.com', 's.a.kanti.kanjilal@accenture.com', 'omkar.nallagoni@accenture.com', 'sandra.sahajan@accenture.com', 'chaitanya.nelluri@accenture.com']\n",
      "\n",
      "\n",
      "\n",
      "['accenture', 'accenture', 'accenture', 'accenture', 'accenture', 'accenture', 'accenture', 'accenture', 'accenture', 'accenture', 'accenture', 'accenture', 'accenture', 'accenture', 'accenture', 'accenture', 'accenture', 'accenture', 'accenture', 'accenture', 'accenture', 'accenture', 'accenture', 'accenture', 'accenture', 'accenture', 'accenture', 'accenture', 'accenture', 'accenture', 'accenture', 'accenture', 'accenture', 'accenture', 'accenture', 'accenture', 'accenture', 'accenture', 'accenture', 'accenture', 'accenture', 'accenture', 'accenture', 'accenture']\n"
     ]
    }
   ],
   "source": [
    "import os\n",
    "folder_name = 'emails.txt'\n",
    "new_path = os.path.join(os.getcwd(),folder_name)\n",
    "file = open(new_path)\n",
    "temp = [i.split(';') for i in file]\n",
    "\n",
    "f_name = [j.split(',')[0] for j in temp[0]]\n",
    "l_name = [j.split(',')[1].split('<')[0].strip(' ') for j in temp[0]]\n",
    "email_address = [j.split('<')[1].strip('>') for j in temp[0]]\n",
    "company_name = [j.split('@')[1].split('.')[0] for j in temp[0]]\n",
    "print(f_name)\n",
    "print('\\n\\n')\n",
    "print(l_name)\n",
    "print('\\n\\n')\n",
    "print(email_address)\n",
    "print('\\n\\n')\n",
    "print(company_name)"
   ]
  },
  {
   "cell_type": "code",
   "execution_count": null,
   "id": "8bc39472-76b8-4d1f-9660-d4090922a064",
   "metadata": {},
   "outputs": [],
   "source": []
  }
 ],
 "metadata": {
  "kernelspec": {
   "display_name": "Python 3 (ipykernel)",
   "language": "python",
   "name": "python3"
  },
  "language_info": {
   "codemirror_mode": {
    "name": "ipython",
    "version": 3
   },
   "file_extension": ".py",
   "mimetype": "text/x-python",
   "name": "python",
   "nbconvert_exporter": "python",
   "pygments_lexer": "ipython3",
   "version": "3.11.7"
  }
 },
 "nbformat": 4,
 "nbformat_minor": 5
}
