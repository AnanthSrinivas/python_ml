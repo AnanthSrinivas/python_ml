{
 "cells": [
  {
   "cell_type": "markdown",
   "id": "aace3f21-188e-4653-995e-17264d905ee1",
   "metadata": {},
   "source": [
    "**Conditional Statements**"
   ]
  },
  {
   "cell_type": "code",
   "execution_count": 16,
   "id": "aac01489-3c5d-4926-9a43-394c0f5bc4c1",
   "metadata": {},
   "outputs": [
    {
     "name": "stdout",
     "output_type": "stream",
     "text": [
      "96 56\n",
      "Hello World\n"
     ]
    }
   ],
   "source": [
    "import random \n",
    "a = random.randint(1,100)\n",
    "b = random.randint(1,100)\n",
    "print(a,b)\n",
    "if (a>b):\n",
    "    print(\"Hello World\")\n",
    "else:\n",
    "    print(\"Enter a proper condition\")"
   ]
  },
  {
   "cell_type": "code",
   "execution_count": 61,
   "id": "89889707-dfd7-4bb9-b01d-359122d3398a",
   "metadata": {},
   "outputs": [
    {
     "name": "stdout",
     "output_type": "stream",
     "text": [
      "It is 94 an even number\n"
     ]
    }
   ],
   "source": [
    "a = random.randint(1,100)\n",
    "if (a%2==0):\n",
    "    print(f\"It is {a} an even number\")\n",
    "else:\n",
    "    print(f\"It is {a} an odd number\")\n",
    "\n",
    "\n",
    "\n",
    "\n",
    "# for a in range(1,100):\n",
    "#     if (a%2==0):\n",
    "#         print(f\"It is {a} an even number\")\n",
    "#     else:\n",
    "#         print(f\"It is {a} an odd number\")"
   ]
  },
  {
   "cell_type": "code",
   "execution_count": 58,
   "id": "78d17004-5150-4ebe-8564-719bf1826035",
   "metadata": {},
   "outputs": [
    {
     "name": "stdin",
     "output_type": "stream",
     "text": [
      "Enter the start value:  33\n",
      "Enter the end value:  55\n"
     ]
    },
    {
     "name": "stdout",
     "output_type": "stream",
     "text": [
      "It is 46 an even number\n"
     ]
    }
   ],
   "source": [
    "start = eval(input(\"Enter the start value: \"))\n",
    "end = eval(input(\"Enter the end value: \"))\n",
    "a = random.randint(start,end)\n",
    "if (a%2==0):\n",
    "    print(f\"It is {a} an even number\")\n",
    "else:\n",
    "    print(f\"It is {a} an odd number\")\n"
   ]
  },
  {
   "cell_type": "markdown",
   "id": "f4faf45f-91b0-4e96-b9b1-bf326895a3b1",
   "metadata": {},
   "source": [
    "***wap ask the user to enter the distance - if the distance is > 25 km then print total cost and if < 25 then it is a free ride***"
   ]
  },
  {
   "cell_type": "code",
   "execution_count": 65,
   "id": "5f56304e-dd75-40f0-95d4-9e9c437d6cb9",
   "metadata": {},
   "outputs": [
    {
     "name": "stdin",
     "output_type": "stream",
     "text": [
      "Enter the distance:  25\n"
     ]
    },
    {
     "name": "stdout",
     "output_type": "stream",
     "text": [
      "It is a free ride\n"
     ]
    }
   ],
   "source": [
    "distance = eval(input(\"Enter the distance: \"))\n",
    "if (distance > 25):\n",
    "    print(\"The ride is chargable since the distance is more than 25 KM, the amount that is chagred is:\" , distance*10)\n",
    "else:\n",
    "    print(\"It is a free ride\")"
   ]
  },
  {
   "cell_type": "markdown",
   "id": "be9c84d9-8fdf-4651-a86d-2addc18a770c",
   "metadata": {},
   "source": [
    "***wap ask the user to enter the distance - if the distance is > 25 km then first 25km is free , after that each km will charged and if < 25 then it is a free ride***"
   ]
  },
  {
   "cell_type": "code",
   "execution_count": 3,
   "id": "d9402eb4-4c89-4bd5-bb93-6edb99a74e6c",
   "metadata": {},
   "outputs": [
    {
     "name": "stdin",
     "output_type": "stream",
     "text": [
      "Enter the distance:  33\n"
     ]
    },
    {
     "name": "stdout",
     "output_type": "stream",
     "text": [
      "The ride is chargable since the distance is more than 25 KM and first 25 KM is free, it is chargable for additional 8\n"
     ]
    },
    {
     "name": "stdin",
     "output_type": "stream",
     "text": [
      "Enter the price value:  20\n"
     ]
    },
    {
     "name": "stdout",
     "output_type": "stream",
     "text": [
      "The total charge is:  160\n"
     ]
    }
   ],
   "source": [
    "distance = eval(input(\"Enter the distance: \"))\n",
    "cut_off = 25\n",
    "if (distance > 25):\n",
    "    chargable_distance = distance - cut_off\n",
    "    print(f\"The ride is chargable since the distance is more than 25 KM and first 25 KM is free, it is chargable for additional {chargable_distance}\")\n",
    "    charge = eval(input(\"Enter the price value: \"))\n",
    "    total = chargable_distance * charge\n",
    "    print(\"The total charge is: \", total)\n",
    "else:\n",
    "    print(\"It is a free ride\")"
   ]
  },
  {
   "cell_type": "code",
   "execution_count": 15,
   "id": "5d6d7cb6-eebf-435b-a502-e80555b505f3",
   "metadata": {},
   "outputs": [
    {
     "name": "stdin",
     "output_type": "stream",
     "text": [
      "Enter the course name:  AHE\n",
      "Enter the institute name:  Naresh IT\n"
     ]
    },
    {
     "name": "stdout",
     "output_type": "stream",
     "text": [
      "You are bad\n"
     ]
    }
   ],
   "source": [
    "course = input(\"Enter the course name: \")\n",
    "insititue = input(\"Enter the institute name: \")\n",
    "\n",
    "if ((course == 'Data Science' or course == 'AI') and insititue == 'Naresh IT'):\n",
    "    print(\"You are good\")\n",
    "else:\n",
    "    print(\"You are bad\")"
   ]
  },
  {
   "cell_type": "code",
   "execution_count": 37,
   "id": "07136a76-acd4-4e95-bef8-771a0173ed0d",
   "metadata": {},
   "outputs": [
    {
     "name": "stdin",
     "output_type": "stream",
     "text": [
      "Enter a number:  3\n"
     ]
    },
    {
     "name": "stdout",
     "output_type": "stream",
     "text": [
      "You won\n"
     ]
    }
   ],
   "source": [
    "import random\n",
    "num1 = random.randint(1,10)\n",
    "num2 = eval(input(\"Enter a number: \"))\n",
    "if num1 == num2:\n",
    "    print(\"You won\")\n",
    "else: \n",
    "    print(\"You lost\")\n",
    "                  "
   ]
  },
  {
   "cell_type": "markdown",
   "id": "9478e5ea-9711-4994-8e61-802a2789d5bf",
   "metadata": {},
   "source": [
    "***IF - ELIF - ELSE***"
   ]
  },
  {
   "cell_type": "code",
   "execution_count": 76,
   "id": "e4ff6433-b564-421a-9de5-c383bb7ac64c",
   "metadata": {},
   "outputs": [
    {
     "name": "stdin",
     "output_type": "stream",
     "text": [
      "Enter a number:  2\n"
     ]
    },
    {
     "name": "stdout",
     "output_type": "stream",
     "text": [
      "two\n"
     ]
    }
   ],
   "source": [
    "num = eval(input(\"Enter a number: \"))\n",
    "if num == 1:print(\"One\")\n",
    "elif num == 2:print(\"two\")\n",
    "elif num == 3:print(\"three\")\n",
    "else:print(\"Enter a valid number\")"
   ]
  },
  {
   "cell_type": "code",
   "execution_count": 86,
   "id": "e9cc86bf-627a-4b1a-8f92-90e5bc14e70b",
   "metadata": {},
   "outputs": [
    {
     "name": "stdin",
     "output_type": "stream",
     "text": [
      "Enter a number: 0\n"
     ]
    },
    {
     "name": "stdout",
     "output_type": "stream",
     "text": [
      "zero\n"
     ]
    }
   ],
   "source": [
    "num = eval(input(\"Enter a number:\"))\n",
    "if num >0:print(\"It is a positive number\")\n",
    "elif num<0:print(\"It is a negative number\")\n",
    "else:print(\"zero\")"
   ]
  },
  {
   "cell_type": "code",
   "execution_count": 98,
   "id": "d5228820-4a68-45cf-a683-b973dda9e2cb",
   "metadata": {},
   "outputs": [
    {
     "name": "stdin",
     "output_type": "stream",
     "text": [
      "Enter the percentage of marks: 90\n"
     ]
    },
    {
     "name": "stdout",
     "output_type": "stream",
     "text": [
      "The grade is A\n"
     ]
    }
   ],
   "source": [
    "percent = eval(input(\"Enter the percentage of marks:\"))\n",
    "\n",
    "if percent >=90:\n",
    "    print(\"The grade is A\")\n",
    "elif percent>=75:\n",
    "    print(\"The grade is B\")\n",
    "elif percent >=50:\n",
    "    print(\"The grade is C\")\n",
    "elif percent>=35:\n",
    "    print(\"The grade is D\")\n",
    "else:\n",
    "    print(\"Fail\")"
   ]
  },
  {
   "cell_type": "code",
   "execution_count": 102,
   "id": "d8daa0be-83fd-4150-b1ba-fecf4ce1d88a",
   "metadata": {},
   "outputs": [
    {
     "name": "stdin",
     "output_type": "stream",
     "text": [
      "Enter the age: 44\n"
     ]
    },
    {
     "name": "stdout",
     "output_type": "stream",
     "text": [
      "Middle Age\n"
     ]
    }
   ],
   "source": [
    "age = eval(input(\"Enter the age:\"))\n",
    "\n",
    "if age>=100:print(\"You are lucky\")\n",
    "elif age>=75:print(\"Old age\")\n",
    "elif age>=50:print(\"senior citizen\")\n",
    "elif age>=30:print(\"Middle Age\")\n",
    "elif age>=15:print(\"Young kid\")\n",
    "else: print(\"Kid\")"
   ]
  },
  {
   "cell_type": "code",
   "execution_count": null,
   "id": "89ee06e2-085b-4c6f-b899-e6928e13cde8",
   "metadata": {},
   "outputs": [],
   "source": []
  }
 ],
 "metadata": {
  "kernelspec": {
   "display_name": "Python 3 (ipykernel)",
   "language": "python",
   "name": "python3"
  },
  "language_info": {
   "codemirror_mode": {
    "name": "ipython",
    "version": 3
   },
   "file_extension": ".py",
   "mimetype": "text/x-python",
   "name": "python",
   "nbconvert_exporter": "python",
   "pygments_lexer": "ipython3",
   "version": "3.11.7"
  }
 },
 "nbformat": 4,
 "nbformat_minor": 5
}
