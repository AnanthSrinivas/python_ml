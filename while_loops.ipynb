{
 "cells": [
  {
   "cell_type": "markdown",
   "id": "80c7bbec-e872-472c-a308-2bb762ca2755",
   "metadata": {},
   "source": [
    "**while Loops**"
   ]
  },
  {
   "cell_type": "code",
   "execution_count": null,
   "id": "fd307d66-b678-4bd4-bcd4-277aa726247a",
   "metadata": {},
   "outputs": [],
   "source": [
    "<start statement>\n",
    "while <condition>:\n",
    "    codeline1\n",
    "    codeline2\n",
    "    <increment or decrement>"
   ]
  },
  {
   "cell_type": "code",
   "execution_count": 5,
   "id": "f428c5de-e0f9-49d3-99a4-e80c75c0473b",
   "metadata": {},
   "outputs": [
    {
     "name": "stdout",
     "output_type": "stream",
     "text": [
      "1\n",
      "2\n",
      "3\n",
      "4\n",
      "5\n",
      "6\n",
      "7\n",
      "8\n",
      "9\n",
      "10\n"
     ]
    }
   ],
   "source": [
    "i=1\n",
    "while(i<11):\n",
    "    print(i)\n",
    "    i+=1"
   ]
  },
  {
   "cell_type": "code",
   "execution_count": 7,
   "id": "1b9ef157-bcc8-4ebb-9c6e-7c3451bda1c1",
   "metadata": {},
   "outputs": [
    {
     "name": "stdout",
     "output_type": "stream",
     "text": [
      "1\n",
      "0\n",
      "-1\n",
      "-2\n",
      "-3\n",
      "-4\n",
      "-5\n",
      "-6\n",
      "-7\n",
      "-8\n",
      "-9\n"
     ]
    }
   ],
   "source": [
    "i = 1\n",
    "while(i<11):\n",
    "    print(i)\n",
    "    i-=1\n",
    "    if(i==-10):\n",
    "        break"
   ]
  },
  {
   "cell_type": "code",
   "execution_count": 9,
   "id": "3d95bae8-722b-4200-97c4-5408c1a75879",
   "metadata": {},
   "outputs": [
    {
     "name": "stdout",
     "output_type": "stream",
     "text": [
      "20\n",
      "19\n",
      "18\n",
      "17\n",
      "16\n",
      "15\n",
      "14\n",
      "13\n",
      "12\n",
      "11\n",
      "10\n",
      "9\n",
      "8\n",
      "7\n",
      "6\n",
      "5\n",
      "4\n",
      "3\n",
      "2\n",
      "1\n"
     ]
    }
   ],
   "source": [
    "i = 20\n",
    "while(i>0):\n",
    "    print(i)\n",
    "    i-=1"
   ]
  },
  {
   "cell_type": "code",
   "execution_count": 13,
   "id": "f8b0a65e-7adb-4b26-b645-b19a7afa66e4",
   "metadata": {},
   "outputs": [
    {
     "name": "stdout",
     "output_type": "stream",
     "text": [
      "-20\n",
      "-19\n",
      "-18\n",
      "-17\n",
      "-16\n",
      "-15\n",
      "-14\n",
      "-13\n",
      "-12\n",
      "-11\n",
      "-10\n",
      "-9\n",
      "-8\n",
      "-7\n",
      "-6\n",
      "-5\n",
      "-4\n",
      "-3\n",
      "-2\n",
      "-1\n",
      "0\n"
     ]
    }
   ],
   "source": [
    "i = -20\n",
    "while(i<=0):\n",
    "    print(i)\n",
    "    i+=1"
   ]
  },
  {
   "cell_type": "code",
   "execution_count": 15,
   "id": "cc2d3f01-aeeb-4e7d-adba-e4701bd850e7",
   "metadata": {},
   "outputs": [
    {
     "name": "stdout",
     "output_type": "stream",
     "text": [
      "1\n",
      "2\n",
      "3\n",
      "4\n",
      "5\n",
      "6\n",
      "7\n",
      "8\n",
      "9\n"
     ]
    }
   ],
   "source": [
    "i=1\n",
    "while True:\n",
    "    print(i)\n",
    "    i+=1\n",
    "    if(i==10):\n",
    "        break"
   ]
  },
  {
   "cell_type": "code",
   "execution_count": 25,
   "id": "f4e4b08c-5b30-4b40-bb89-016bea8518b9",
   "metadata": {},
   "outputs": [
    {
     "name": "stdout",
     "output_type": "stream",
     "text": [
      "1 0 -1 -2 -3 -4 -5 -6 -7 -8 -9 \n",
      "\n",
      "20 19 18 17 16 15 14 13 12 11 10 9 8 7 6 5 4 3 2 1 \n",
      "\n",
      "1 2 3 4 5 6 7 8 9 \n",
      "\n",
      "-20 -19 -18 -17 -16 -15 -14 -13 -12 -11 -10 -9 -8 -7 -6 -5 -4 -3 -2 -1 0 1 2 3 4 5 6 7 8 9 "
     ]
    }
   ],
   "source": [
    "i = 1\n",
    "while True:\n",
    "    print(i,end=\" \")\n",
    "    i-=1\n",
    "    if(i==-10):\n",
    "        break\n",
    "print(\"\\n\")\n",
    "\n",
    "i = 20\n",
    "while True:\n",
    "    print(i,end=\" \")\n",
    "    i-=1\n",
    "    if(i==0):\n",
    "        break\n",
    "\n",
    "print(\"\\n\")\n",
    "\n",
    "i=1\n",
    "while True:\n",
    "    print(i,end=\" \")\n",
    "    i+=1\n",
    "    if(i==10):\n",
    "        break\n",
    "\n",
    "print(\"\\n\")\n",
    "\n",
    "i = -20\n",
    "while True:\n",
    "    print(i,end=\" \")\n",
    "    i+=1\n",
    "    if(i==10):\n",
    "        break"
   ]
  },
  {
   "cell_type": "code",
   "execution_count": 32,
   "id": "e72998ea-c7db-495d-b65f-208f71650915",
   "metadata": {},
   "outputs": [
    {
     "name": "stdout",
     "output_type": "stream",
     "text": [
      "24 is an even number\n",
      "86 is an even number\n",
      "13 is an odd number\n"
     ]
    }
   ],
   "source": [
    "import random\n",
    "i = 1\n",
    "while(i<=3):\n",
    "    num = random.randint(1,100)\n",
    "    if (num%2==0):\n",
    "        print(f\"{num} is an even number\")\n",
    "    else:\n",
    "        print(f\"{num} is an odd number\")\n",
    "    i+=1"
   ]
  },
  {
   "cell_type": "code",
   "execution_count": 42,
   "id": "67c16512-e410-435c-838c-991d1e30ec48",
   "metadata": {},
   "outputs": [
    {
     "name": "stdout",
     "output_type": "stream",
     "text": [
      "10 is an even number\n",
      "11 is an odd number\n",
      "12 is an even number\n",
      "13 is an odd number\n",
      "14 is an even number\n",
      "15 is an odd number\n",
      "16 is an even number\n",
      "17 is an odd number\n",
      "18 is an even number\n",
      "19 is an odd number\n",
      "20 is an even number\n"
     ]
    }
   ],
   "source": [
    "#wap ask the user print the number is even or odd between 10 to 20\n",
    "\n",
    "i = 10\n",
    "while(i<=20):\n",
    "    if(i%2==0):\n",
    "        print(f\"{i} is an even number\")\n",
    "    else:\n",
    "        print(f\"{i} is an odd number\")\n",
    "    i+=1"
   ]
  },
  {
   "cell_type": "code",
   "execution_count": 44,
   "id": "0f63a9d9-cda5-4f48-8107-d76aa9b1cf54",
   "metadata": {},
   "outputs": [
    {
     "name": "stdout",
     "output_type": "stream",
     "text": [
      "Sqaure of 20 is 400\n",
      "Sqaure of 21 is 441\n",
      "Sqaure of 22 is 484\n",
      "Sqaure of 23 is 529\n",
      "Sqaure of 24 is 576\n",
      "Sqaure of 25 is 625\n"
     ]
    }
   ],
   "source": [
    "#wap ask the user print the square of the number between 20 to 25\n",
    "\n",
    "i = 20\n",
    "while(i<=25):\n",
    "    print(f\"Sqaure of {i} is {i*i}\")\n",
    "    i+=1"
   ]
  },
  {
   "cell_type": "code",
   "execution_count": null,
   "id": "ed472758-076e-4178-90f4-3a185ecf0ccc",
   "metadata": {},
   "outputs": [],
   "source": [
    "#WAP ask the user enter number three times find the square of the number.How many times loop should run\n"
   ]
  }
 ],
 "metadata": {
  "kernelspec": {
   "display_name": "Python 3 (ipykernel)",
   "language": "python",
   "name": "python3"
  },
  "language_info": {
   "codemirror_mode": {
    "name": "ipython",
    "version": 3
   },
   "file_extension": ".py",
   "mimetype": "text/x-python",
   "name": "python",
   "nbconvert_exporter": "python",
   "pygments_lexer": "ipython3",
   "version": "3.11.7"
  }
 },
 "nbformat": 4,
 "nbformat_minor": 5
}
