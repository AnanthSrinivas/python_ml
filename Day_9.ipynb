{
 "cells": [
  {
   "cell_type": "code",
   "execution_count": 5,
   "id": "51c24c01-bfb8-4e29-abea-adcb0194c0b1",
   "metadata": {},
   "outputs": [
    {
     "name": "stdin",
     "output_type": "stream",
     "text": [
      "Enter 1st number:  50\n",
      "Enter 2nd number:  5\n"
     ]
    },
    {
     "name": "stdout",
     "output_type": "stream",
     "text": [
      "Operator 1 --> Addition\n",
      "Operator 2 --> Subtraction\n",
      "Operator 3 --> Multiplication\n",
      "Operator 4 --> Division\n"
     ]
    },
    {
     "name": "stdin",
     "output_type": "stream",
     "text": [
      "Enter the operator:  4\n"
     ]
    },
    {
     "name": "stdout",
     "output_type": "stream",
     "text": [
      "The division of 50 and 5 is 10.0\n"
     ]
    }
   ],
   "source": [
    "num1 = eval(input(\"Enter 1st number: \"))\n",
    "num2 = eval(input(\"Enter 2nd number: \"))\n",
    "\n",
    "\n",
    "print(\"Operator 1 --> Addition\")\n",
    "print(\"Operator 2 --> Subtraction\")\n",
    "print(\"Operator 3 --> Multiplication\")\n",
    "print(\"Operator 4 --> Division\")\n",
    "\n",
    "operator = eval(input(\"Enter the operator: \"))\n",
    "\n",
    "if operator == 1:\n",
    "    print(f\"The sum of {num1} and {num2} is {num1+num2}\")\n",
    "elif operator == 2:\n",
    "    print(f\"The subtraction of {num1} and {num2} is {num1-num2}\")\n",
    "elif operator == 3:\n",
    "    print(f\"The mutiplication of {num1} and {num2} is {num1*num2}\")\n",
    "elif operator == 4:\n",
    "    print(f\"The division of {num1} and {num2} is {num1/num2}\")\n",
    "else:\n",
    "    print(\"Enter a valid operator\")"
   ]
  },
  {
   "cell_type": "code",
   "execution_count": 11,
   "id": "29cc22a6-58bd-4600-b1a7-893712017642",
   "metadata": {},
   "outputs": [
    {
     "name": "stdin",
     "output_type": "stream",
     "text": [
      "Enter the gender:   female\n",
      "Enter the age:  44\n"
     ]
    },
    {
     "name": "stdout",
     "output_type": "stream",
     "text": [
      "Middle age women\n"
     ]
    }
   ],
   "source": [
    "gender = input(\"Enter the gender:  \")\n",
    "\n",
    "if gender == 'male':\n",
    "    age = eval(input(\"Enter the age: \"))\n",
    "    if age >= 60:print(\"Senior Citizen\")\n",
    "    elif age>=30:print(\"Middle age man\")\n",
    "    elif age>=15:print(\"Young boy\")\n",
    "    else:print(\"Boy\")\n",
    "elif gender == 'female':\n",
    "    age = eval(input(\"Enter the age: \"))\n",
    "    if age >= 60:print(\"Senior Citizen\")\n",
    "    elif age>=30:print(\"Middle age women\")\n",
    "    elif age>=15:print(\"Young girl\")\n",
    "    else:print(\"Girl\")\n",
    "else:\n",
    "    print(\"Enter a valid gender\")"
   ]
  },
  {
   "cell_type": "code",
   "execution_count": 17,
   "id": "26745924-27cf-426d-bf14-1190d188f95a",
   "metadata": {},
   "outputs": [
    {
     "name": "stdin",
     "output_type": "stream",
     "text": [
      "Enter a number:  -88\n"
     ]
    },
    {
     "name": "stdout",
     "output_type": "stream",
     "text": [
      "Negative number\n"
     ]
    }
   ],
   "source": [
    "num = eval(input(\"Enter a number: \"))\n",
    "\n",
    "if num>=0:\n",
    "    if num == 0:\n",
    "        print(\"Zero\")\n",
    "    else:\n",
    "        print(\"Postive number\")\n",
    "else:\n",
    "    print(\"Negative number\")"
   ]
  },
  {
   "cell_type": "markdown",
   "id": "f07561d5-8984-4983-a5c4-98a299b1ac76",
   "metadata": {},
   "source": [
    "***Try - Except***"
   ]
  },
  {
   "cell_type": "code",
   "execution_count": 27,
   "id": "cddde630-9e9f-440b-8d21-a104e8217fbb",
   "metadata": {},
   "outputs": [
    {
     "name": "stdin",
     "output_type": "stream",
     "text": [
      "Enter a nuber:  11\n",
      "Enter a nuber:  !`\n"
     ]
    },
    {
     "name": "stdout",
     "output_type": "stream",
     "text": [
      "invalid syntax (<string>, line 1)\n"
     ]
    }
   ],
   "source": [
    "try:\n",
    "    num1=eval(input(\"Enter a nuber: \"))\n",
    "    num2=eval(input(\"Enter a nuber: \"))\n",
    "    add = num1+num2\n",
    "    print(add)\n",
    "except Exception as e:\n",
    "    print(e)"
   ]
  },
  {
   "cell_type": "markdown",
   "id": "c8d56828-47e5-41f6-a00e-46ceeb50ead2",
   "metadata": {},
   "source": [
    "NOTE: Generaly Try - Except block is used to catch the error. "
   ]
  },
  {
   "cell_type": "code",
   "execution_count": null,
   "id": "922bd111-dac9-45c9-8e9f-dda835b31a03",
   "metadata": {},
   "outputs": [],
   "source": []
  }
 ],
 "metadata": {
  "kernelspec": {
   "display_name": "Python 3 (ipykernel)",
   "language": "python",
   "name": "python3"
  },
  "language_info": {
   "codemirror_mode": {
    "name": "ipython",
    "version": 3
   },
   "file_extension": ".py",
   "mimetype": "text/x-python",
   "name": "python",
   "nbconvert_exporter": "python",
   "pygments_lexer": "ipython3",
   "version": "3.11.7"
  }
 },
 "nbformat": 4,
 "nbformat_minor": 5
}
