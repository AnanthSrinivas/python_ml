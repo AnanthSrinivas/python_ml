{
 "cells": [
  {
   "cell_type": "code",
   "execution_count": 2,
   "id": "32e04422-e4d0-4f40-adcb-22c790d75189",
   "metadata": {},
   "outputs": [],
   "source": [
    "def demo():\n",
    "    num1=10\n",
    "    num2=20\n",
    "    sum = num1+num2\n",
    "    print(sum)"
   ]
  },
  {
   "cell_type": "code",
   "execution_count": 4,
   "id": "96c6cdf9-4172-4f1d-ae66-ed9202997b3b",
   "metadata": {},
   "outputs": [
    {
     "name": "stdout",
     "output_type": "stream",
     "text": [
      "30\n"
     ]
    }
   ],
   "source": [
    "demo()"
   ]
  },
  {
   "cell_type": "code",
   "execution_count": 43,
   "id": "974db19d-2edd-44e5-aff6-fad5840ae6b7",
   "metadata": {},
   "outputs": [
    {
     "name": "stdin",
     "output_type": "stream",
     "text": [
      "Enter a string:  hero\n"
     ]
    },
    {
     "name": "stdout",
     "output_type": "stream",
     "text": [
      "The string hero is not a pallindrome\n",
      "Enter value to re-try or enter x to exit\n"
     ]
    },
    {
     "name": "stdin",
     "output_type": "stream",
     "text": [
      "Enter a string:  x\n"
     ]
    }
   ],
   "source": [
    "# str = input(\"Enter a string: \")\n",
    "\n",
    "def pallindrom(value):\n",
    "    new_str=value[::-1]\n",
    "    if value == new_str:\n",
    "        print(f\"The string {value} is a pallindrome. {new_str}\")\n",
    "    else:\n",
    "        print(f\"The string {value} is not a pallindrome\")\n",
    "\n",
    "out = True\n",
    "while (out== True):\n",
    "    value = input(\"Enter a string: \").lower()\n",
    "    if value == 'x':\n",
    "        out = False\n",
    "    else:\n",
    "        pallindrom(value)\n",
    "        print(\"Enter value to re-try or enter x to exit\")"
   ]
  },
  {
   "cell_type": "code",
   "execution_count": 25,
   "id": "5875a11d-6841-4694-a5c8-857139149dbc",
   "metadata": {},
   "outputs": [
    {
     "name": "stdin",
     "output_type": "stream",
     "text": [
      "Enter number1:  22\n",
      "Enter number2:  33\n",
      "Enter number3:  44\n"
     ]
    },
    {
     "name": "stdout",
     "output_type": "stream",
     "text": [
      "33.0\n"
     ]
    }
   ],
   "source": [
    "def average():\n",
    "    num1 = eval(input(\"Enter number1: \"))\n",
    "    num2 = eval(input(\"Enter number2: \"))\n",
    "    num3 = eval(input(\"Enter number3: \"))\n",
    "    avg = (num1+num2+num3)/3\n",
    "    print(avg)\n",
    "\n",
    "\n",
    "average()"
   ]
  },
  {
   "cell_type": "code",
   "execution_count": 29,
   "id": "ab9a16bb-34ea-47d6-a2ba-a501079d5e9c",
   "metadata": {},
   "outputs": [
    {
     "name": "stdin",
     "output_type": "stream",
     "text": [
      "Enter the radius:  22\n"
     ]
    },
    {
     "name": "stdout",
     "output_type": "stream",
     "text": [
      "1520.53084433746\n"
     ]
    }
   ],
   "source": [
    "import math\n",
    "def area_cicle():\n",
    "    radius = eval(input(\"Enter the radius: \"))\n",
    "    area = math.pi*(radius**2)\n",
    "    print(area)\n",
    "\n",
    "area_cicle()"
   ]
  },
  {
   "cell_type": "code",
   "execution_count": 31,
   "id": "e3134d5e-5a07-4790-b120-0371ef219465",
   "metadata": {},
   "outputs": [
    {
     "name": "stdin",
     "output_type": "stream",
     "text": [
      "Enter the bill amount:  120\n",
      "Enter the tip percentage:  10\n"
     ]
    },
    {
     "name": "stdout",
     "output_type": "stream",
     "text": [
      "132.0\n"
     ]
    }
   ],
   "source": [
    "def bill_calculator():\n",
    "    bill = eval(input(\"Enter the bill amount: \"))\n",
    "    tip_percent = eval(input(\"Enter the tip percentage: \"))\n",
    "    total_bill = bill+((bill*tip_percent)/100)\n",
    "    print(total_bill)\n",
    "\n",
    "bill_calculator()"
   ]
  },
  {
   "cell_type": "markdown",
   "id": "7b12355d-bbd0-48fc-91d5-19978e09c1d6",
   "metadata": {},
   "source": [
    "**Functions with arguments**"
   ]
  },
  {
   "cell_type": "code",
   "execution_count": 46,
   "id": "9d429cf5-7e81-43e1-8b44-ccc99b937a5b",
   "metadata": {},
   "outputs": [
    {
     "name": "stdout",
     "output_type": "stream",
     "text": [
      "30\n"
     ]
    }
   ],
   "source": [
    "def demo(num1,num2):\n",
    "    sum = num1+num2\n",
    "    print(sum)\n",
    "demo(10,20)"
   ]
  },
  {
   "cell_type": "code",
   "execution_count": 48,
   "id": "522906b8-db14-4d48-b537-3668d05db66d",
   "metadata": {},
   "outputs": [
    {
     "name": "stdout",
     "output_type": "stream",
     "text": [
      "20.0\n"
     ]
    }
   ],
   "source": [
    "def average(num1,num2,num3):\n",
    "    avg = (num1+num2+num3)/3\n",
    "    print(avg)\n",
    "average(10,20,30)"
   ]
  },
  {
   "cell_type": "code",
   "execution_count": 51,
   "id": "a1a77ce3-6715-4a3e-9505-48f8f7171484",
   "metadata": {},
   "outputs": [
    {
     "name": "stdout",
     "output_type": "stream",
     "text": [
      "1256.6370614359173\n"
     ]
    }
   ],
   "source": [
    "import math\n",
    "def area_cicle(radius):\n",
    "    area = math.pi*(radius**2)\n",
    "    print(area)\n",
    "\n",
    "area_cicle(20)"
   ]
  },
  {
   "cell_type": "code",
   "execution_count": 57,
   "id": "c8f9f9a0-bdfe-4411-808d-4e74970211c1",
   "metadata": {},
   "outputs": [
    {
     "name": "stdin",
     "output_type": "stream",
     "text": [
      "Enter the base value:  10\n",
      "Enter the height value:  20\n"
     ]
    },
    {
     "name": "stdout",
     "output_type": "stream",
     "text": [
      "100.0\n",
      "100.0\n"
     ]
    }
   ],
   "source": [
    "def triangle():\n",
    "    base = eval(input(\"Enter the base value: \"))\n",
    "    height = eval(input(\"Enter the height value: \"))\n",
    "    area = 0.5*base*height\n",
    "    print(area)\n",
    "\n",
    "triangle()\n",
    "\n",
    "\n",
    "def triangle(base,height):\n",
    "    area = 0.5*base*height\n",
    "    print(area)\n",
    "\n",
    "triangle(10,20)"
   ]
  },
  {
   "cell_type": "code",
   "execution_count": 60,
   "id": "c254325d-3d63-49c2-b07c-cf3f5ebf24e2",
   "metadata": {},
   "outputs": [
    {
     "name": "stdout",
     "output_type": "stream",
     "text": [
      "20.0\n"
     ]
    }
   ],
   "source": [
    "def average():\n",
    "    n1=10\n",
    "    n2=20\n",
    "    n3=30\n",
    "    avg = (n1+n2+n3)/3\n",
    "    print(avg)\n",
    "\n",
    "average()"
   ]
  },
  {
   "cell_type": "markdown",
   "id": "e06b06db-f669-4005-a156-c4bdc633a02f",
   "metadata": {},
   "source": [
    "**Return Statements**"
   ]
  },
  {
   "cell_type": "code",
   "execution_count": 65,
   "id": "59dd0f16-60b7-40ca-a468-a654be2730ab",
   "metadata": {},
   "outputs": [
    {
     "name": "stdout",
     "output_type": "stream",
     "text": [
      "(30, 20.0)\n"
     ]
    }
   ],
   "source": [
    "def average():\n",
    "    n1=10\n",
    "    n2=20\n",
    "    n3=30\n",
    "    avg = (n1+n2+n3)/3\n",
    "    return n3,avg\n",
    "\n",
    "Average = average()\n",
    "\n",
    "print(Average)"
   ]
  },
  {
   "cell_type": "code",
   "execution_count": 1,
   "id": "9d2f2348-ddf3-4536-93f9-5339df83d1d3",
   "metadata": {},
   "outputs": [
    {
     "name": "stdout",
     "output_type": "stream",
     "text": [
      "300\n"
     ]
    }
   ],
   "source": [
    "a= 100\n",
    "b = 200\n",
    "def addition():\n",
    "    add = a+b\n",
    "    print(add)\n",
    "\n",
    "addition()\n"
   ]
  },
  {
   "cell_type": "code",
   "execution_count": 3,
   "id": "ec7204b5-8614-4ad4-bd2b-0c0a366491ef",
   "metadata": {},
   "outputs": [
    {
     "name": "stdout",
     "output_type": "stream",
     "text": [
      "1200\n"
     ]
    }
   ],
   "source": [
    "a= 100\n",
    "b = 200\n",
    "def addition():\n",
    "    a = 500\n",
    "    b = 700\n",
    "    add = a+b\n",
    "    print(add)\n",
    "\n",
    "addition()"
   ]
  },
  {
   "cell_type": "code",
   "execution_count": 5,
   "id": "d14368a2-6a43-4c08-8705-98f61d074f00",
   "metadata": {},
   "outputs": [
    {
     "ename": "UnboundLocalError",
     "evalue": "cannot access local variable 'a' where it is not associated with a value",
     "output_type": "error",
     "traceback": [
      "\u001b[0;31m---------------------------------------------------------------------------\u001b[0m",
      "\u001b[0;31mUnboundLocalError\u001b[0m                         Traceback (most recent call last)",
      "Cell \u001b[0;32mIn[5], line 9\u001b[0m\n\u001b[1;32m      6\u001b[0m     b \u001b[38;5;241m=\u001b[39m \u001b[38;5;241m1000\u001b[39m\n\u001b[1;32m      7\u001b[0m     \u001b[38;5;28mprint\u001b[39m(add)\n\u001b[0;32m----> 9\u001b[0m addition()\n",
      "Cell \u001b[0;32mIn[5], line 4\u001b[0m, in \u001b[0;36maddition\u001b[0;34m()\u001b[0m\n\u001b[1;32m      3\u001b[0m \u001b[38;5;28;01mdef\u001b[39;00m \u001b[38;5;21maddition\u001b[39m():\n\u001b[0;32m----> 4\u001b[0m     add \u001b[38;5;241m=\u001b[39m a\u001b[38;5;241m+\u001b[39mb\n\u001b[1;32m      5\u001b[0m     a\u001b[38;5;241m=\u001b[39m \u001b[38;5;241m1000\u001b[39m\n\u001b[1;32m      6\u001b[0m     b \u001b[38;5;241m=\u001b[39m \u001b[38;5;241m1000\u001b[39m\n",
      "\u001b[0;31mUnboundLocalError\u001b[0m: cannot access local variable 'a' where it is not associated with a value"
     ]
    }
   ],
   "source": [
    "a= 100\n",
    "b = 200\n",
    "def addition():\n",
    "    add = a+b\n",
    "    a= 1000\n",
    "    b = 1000\n",
    "    print(add)\n",
    "\n",
    "addition()"
   ]
  },
  {
   "cell_type": "code",
   "execution_count": 9,
   "id": "3bdaab03-bd4e-433e-b893-cf8dd64bfb13",
   "metadata": {},
   "outputs": [
    {
     "name": "stdin",
     "output_type": "stream",
     "text": [
      "Enter the distance:  300\n"
     ]
    },
    {
     "name": "stdout",
     "output_type": "stream",
     "text": [
      "Good news your change is applicable only for km more than 25\n"
     ]
    },
    {
     "name": "stdin",
     "output_type": "stream",
     "text": [
      "Enter the charge:  100\n"
     ]
    },
    {
     "name": "stdout",
     "output_type": "stream",
     "text": [
      "Your total cost is: 27500Rs\n"
     ]
    }
   ],
   "source": [
    "def fare_cal():\n",
    "    distance = eval(input(\"Enter the distance: \"))\n",
    "    cut_off_distance = 25\n",
    "    if distance>25:\n",
    "        print(\"Good news your change is applicable only for km more than 25\")\n",
    "        charable_distance = distance - cut_off_distance\n",
    "        charge = eval(input(\"Enter the charge: \"))\n",
    "        print(\"Your total cost is: \",charable_distance*charge,\"Rs\",sep=\"\")\n",
    "    else:\n",
    "        print(\"Your ride is free\")\n",
    "\n",
    "\n",
    "fare_cal()\n"
   ]
  },
  {
   "cell_type": "code",
   "execution_count": 15,
   "id": "03f7b478-b47f-4bd0-bb55-46001564c165",
   "metadata": {},
   "outputs": [
    {
     "name": "stdout",
     "output_type": "stream",
     "text": [
      "Your ride is free\n"
     ]
    }
   ],
   "source": [
    "def fare_cal(distance,cut_off_distance,charge):\n",
    "    if distance>25:\n",
    "        print(\"Good news your change is applicable only for km more than 25\")\n",
    "        charable_distance = distance - cut_off_distance\n",
    "        print(\"Your total cost is: \",charable_distance*charge,\"Rs\",sep=\"\")\n",
    "    else:\n",
    "        print(\"Your ride is free\")\n",
    "\n",
    "\n",
    "fare_cal(3,25,10)"
   ]
  },
  {
   "cell_type": "code",
   "execution_count": 27,
   "id": "3903779f-a636-4812-8123-ef7f047ca18d",
   "metadata": {},
   "outputs": [
    {
     "name": "stdout",
     "output_type": "stream",
     "text": [
      "func1 --> Addition \n",
      "func2 --> Subtraction \n",
      "func3 --> Multiplication \n",
      "func4 --> Division\n"
     ]
    },
    {
     "name": "stdin",
     "output_type": "stream",
     "text": [
      "Enter one from above options:  func2\n",
      "Enter value1:  100\n",
      "Enter value2:  20\n"
     ]
    },
    {
     "name": "stdout",
     "output_type": "stream",
     "text": [
      "80\n"
     ]
    }
   ],
   "source": [
    "def func1(c,d):\n",
    "    print(c+d)\n",
    "def func2(c,d):\n",
    "    print(c-d)\n",
    "def func3(c,d):\n",
    "    print(c*d)\n",
    "def func4(c,d):\n",
    "    print(c/d)\n",
    "\n",
    "def calculator():\n",
    "    print(\"func1 --> Addition \\nfunc2 --> Subtraction \\nfunc3 --> Multiplication \\nfunc4 --> Division\")\n",
    "    option = input(\"Enter one from above options: \")\n",
    "    c = eval(input(\"Enter value1: \"))\n",
    "    d = eval(input(\"Enter value2: \"))\n",
    "    if (option=='func1'):func1(c,d)\n",
    "    elif (option=='func2'):func2(c,d)\n",
    "    elif (option=='func3'):func3(c,d)\n",
    "    elif (option=='func4'):func4(c,d)\n",
    "    else:print(\"Enter a valid option\")\n",
    "\n",
    "calculator()"
   ]
  },
  {
   "cell_type": "code",
   "execution_count": null,
   "id": "445cfdca-ee5f-4b51-a3f9-515432a6deac",
   "metadata": {},
   "outputs": [],
   "source": []
  }
 ],
 "metadata": {
  "kernelspec": {
   "display_name": "Python 3 (ipykernel)",
   "language": "python",
   "name": "python3"
  },
  "language_info": {
   "codemirror_mode": {
    "name": "ipython",
    "version": 3
   },
   "file_extension": ".py",
   "mimetype": "text/x-python",
   "name": "python",
   "nbconvert_exporter": "python",
   "pygments_lexer": "ipython3",
   "version": "3.11.7"
  }
 },
 "nbformat": 4,
 "nbformat_minor": 5
}
