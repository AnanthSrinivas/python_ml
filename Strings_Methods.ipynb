{
 "cells": [
  {
   "cell_type": "markdown",
   "id": "82270481-a1ad-4213-a695-da096af63911",
   "metadata": {},
   "source": [
    "**Count Method**"
   ]
  },
  {
   "cell_type": "code",
   "execution_count": 26,
   "id": "b19fccb1-e8e0-4766-9172-c0ff1d41f104",
   "metadata": {},
   "outputs": [
    {
     "name": "stdout",
     "output_type": "stream",
     "text": [
      "3\n",
      "2\n",
      "1\n"
     ]
    }
   ],
   "source": [
    "str1 = \"Hai Hai Hai\"\n",
    "print(str1.count('a')) # We want 'a' from entire string. \n",
    "print(str1.count('a',3)) # We are searching for 'a' in the string starting from index 3.\n",
    "print(str1.count('a',0,5)) # We are searching for 'a' in the string starting from start index and ending with index "
   ]
  },
  {
   "cell_type": "code",
   "execution_count": 35,
   "id": "0a221a40-8653-4808-84ad-ac052644db90",
   "metadata": {},
   "outputs": [
    {
     "name": "stdout",
     "output_type": "stream",
     "text": [
      "3\n",
      "0\n"
     ]
    }
   ],
   "source": [
    "# Reverse Indexing \n",
    "\n",
    "print(str1.count('a',-11,-1))  # Reverse indexing will working only in the postive direction. \n",
    "print(str1.count('a',-1,-11))  # Reverse indexing will not work in the negative direction. "
   ]
  },
  {
   "cell_type": "code",
   "execution_count": 37,
   "id": "5c0d4e7c-ffca-4bfd-a1c3-ca5ea9e5e191",
   "metadata": {},
   "outputs": [
    {
     "data": {
      "text/plain": [
       "3"
      ]
     },
     "execution_count": 37,
     "metadata": {},
     "output_type": "execute_result"
    }
   ],
   "source": [
    "str1 = \"ola ola ola\"\n",
    "str1.count('ola')"
   ]
  },
  {
   "cell_type": "code",
   "execution_count": 43,
   "id": "7b58396b-d0f3-49fb-bb76-79ecbb1f3f04",
   "metadata": {},
   "outputs": [
    {
     "name": "stdout",
     "output_type": "stream",
     "text": [
      "3\n"
     ]
    }
   ],
   "source": [
    "#Counting char in string withour using methods \n",
    "\n",
    "str1 = \"ola ola ola bola\"\n",
    "str2 = \"\"\n",
    "count = 0\n",
    "for i in str1:\n",
    "    if i == \" \":str2=\"\"\n",
    "    else:\n",
    "        str2+=i\n",
    "        if str2 == 'ola':count+=1\n",
    "\n",
    "print(count)"
   ]
  },
  {
   "cell_type": "markdown",
   "id": "6634f11b-2e73-47ca-b2c6-94d69101a2b7",
   "metadata": {},
   "source": [
    "**Window Method**"
   ]
  },
  {
   "cell_type": "code",
   "execution_count": 50,
   "id": "1f1e9a6f-088b-4e36-9dea-f49cb5303352",
   "metadata": {},
   "outputs": [
    {
     "name": "stdout",
     "output_type": "stream",
     "text": [
      "4\n"
     ]
    }
   ],
   "source": [
    "str1 = \"ola ola ola bhola\"\n",
    "count = 0\n",
    "for i in range(len(str1)):\n",
    "    if str1[i:i+3] == 'ola':\n",
    "        count+=1\n",
    "print(count)"
   ]
  },
  {
   "cell_type": "code",
   "execution_count": 57,
   "id": "dbebdde2-3395-415c-bae5-3fda7b02c84f",
   "metadata": {},
   "outputs": [
    {
     "data": {
      "text/plain": [
       "1"
      ]
     },
     "execution_count": 57,
     "metadata": {},
     "output_type": "execute_result"
    }
   ],
   "source": [
    "str1.count(str1) # 1\n",
    "str1.count('ola ') #3\n",
    "str1.count('ola ola') #1"
   ]
  },
  {
   "cell_type": "code",
   "execution_count": 59,
   "id": "702c5f76-e155-4069-8588-2a5dd86bcd8d",
   "metadata": {},
   "outputs": [
    {
     "data": {
      "text/plain": [
       "0"
      ]
     },
     "execution_count": 59,
     "metadata": {},
     "output_type": "execute_result"
    }
   ],
   "source": [
    "str1.count('z')"
   ]
  },
  {
   "cell_type": "markdown",
   "id": "2191e500-6718-4dd0-a953-1cea4cd5fb0e",
   "metadata": {},
   "source": [
    "**Replace**"
   ]
  },
  {
   "cell_type": "code",
   "execution_count": 86,
   "id": "583a43d7-b10d-4a2e-8397-dc4edf716041",
   "metadata": {},
   "outputs": [
    {
     "name": "stdout",
     "output_type": "stream",
     "text": [
      "Welcome To Naresh IT\n"
     ]
    }
   ],
   "source": [
    "str1 = \"Welcome to Naresh IT\"\n",
    "# Replace l with L\n",
    "str2 = \"\"\n",
    "flag = True\n",
    "for i in str1:\n",
    "    if flag:\n",
    "        if ord(i) < 97:\n",
    "            str2+=i\n",
    "        else:\n",
    "            str2 += chr(ord(i)-32)\n",
    "    else:\n",
    "        str2+=i\n",
    "    flag = i in \" :,;'!\"\n",
    "print(str2)"
   ]
  },
  {
   "cell_type": "code",
   "execution_count": 68,
   "id": "2c5c16f0-2a37-47b9-b575-4b4362eb396d",
   "metadata": {},
   "outputs": [
    {
     "name": "stdout",
     "output_type": "stream",
     "text": [
      "WeLcome to Naresh IT\n"
     ]
    }
   ],
   "source": [
    "str1 = \"Welcome to Naresh IT\"\n",
    "\n",
    "s1 = str1[0:2]\n",
    "s2 = str1[3:]\n",
    "print(s1+\"L\"+s2)"
   ]
  },
  {
   "cell_type": "code",
   "execution_count": 81,
   "id": "f406999a-1983-4d95-bdc4-3296a0a1b389",
   "metadata": {},
   "outputs": [
    {
     "data": {
      "text/plain": [
       "97"
      ]
     },
     "execution_count": 81,
     "metadata": {},
     "output_type": "execute_result"
    }
   ],
   "source": [
    "ord('a')"
   ]
  },
  {
   "cell_type": "markdown",
   "id": "2cd1fbaf-1d87-4269-88e9-8e703d3750ee",
   "metadata": {},
   "source": [
    "$Using the replace method$"
   ]
  },
  {
   "cell_type": "code",
   "execution_count": 89,
   "id": "648c58c2-eef0-46b9-862c-42bfd478995c",
   "metadata": {},
   "outputs": [
    {
     "data": {
      "text/plain": [
       "'WeLLcome'"
      ]
     },
     "execution_count": 89,
     "metadata": {},
     "output_type": "execute_result"
    }
   ],
   "source": [
    "str1 = \"Wellcome\"\n",
    "str1.replace('l','L')\n"
   ]
  },
  {
   "cell_type": "markdown",
   "id": "a30c81bd-238f-4cff-a807-e0d8dde9d29d",
   "metadata": {},
   "source": [
    "- By default replace will change all the occurences\n",
    "- count = -1 is resposible for that.\n",
    "- Which means we can provide some count value as well - which is used to count the number of changes you want to perform."
   ]
  },
  {
   "cell_type": "code",
   "execution_count": 92,
   "id": "48aaf225-1541-4971-adb1-54a6ec201a8d",
   "metadata": {},
   "outputs": [
    {
     "data": {
      "text/plain": [
       "'WeLlcome'"
      ]
     },
     "execution_count": 92,
     "metadata": {},
     "output_type": "execute_result"
    }
   ],
   "source": [
    "str1 = \"Wellcome\"\n",
    "str1.replace('l','L',1) # Since the count was mentioned as 1 it only changed the 1 l char."
   ]
  },
  {
   "cell_type": "code",
   "execution_count": 108,
   "id": "bf6b18c2-a1c9-4c76-ad47-14a16f2ce8e1",
   "metadata": {},
   "outputs": [
    {
     "name": "stdout",
     "output_type": "stream",
     "text": [
      "WeLlllcome\n",
      "WeLLllcome\n",
      "WeLLLlcome\n",
      "WeLLLLcome\n",
      "WeLLLLcome\n",
      "WeLLLLcome\n",
      "WeLLLLcome\n",
      "Wellllcome 2\n"
     ]
    }
   ],
   "source": [
    "str1 = \"Wellllcome\"\n",
    "print(str1.replace('l','L',1))\n",
    "print(str1.replace('l','L',2))\n",
    "print(str1.replace('l','L',3))\n",
    "print(str1.replace('l','L',4))\n",
    "print(str1.replace('l','L',5))\n",
    "print(str1.replace('l','L',6))\n",
    "print(str1.replace('l','L',1000))\n",
    "print(str1.replace('l','L',0),\"2\")"
   ]
  },
  {
   "cell_type": "code",
   "execution_count": 118,
   "id": "e63eb6fe-bbec-40ca-9480-5ad213f8dd63",
   "metadata": {},
   "outputs": [
    {
     "name": "stdout",
     "output_type": "stream",
     "text": [
      "Welcome To Naresh IT\n"
     ]
    }
   ],
   "source": [
    "str1 = 'restart'\n",
    "count = 1\n",
    "for i in range(-len(str1)):\n",
    "    if count>0:\n",
    "        if str1[-i] == 'r':\n",
    "            str2 += chr(ord(str1[-i])-78)\n",
    "            count-=1\n",
    "    else:\n",
    "        str2+=str1[-i]\n",
    "print(str2)\n",
    "        "
   ]
  },
  {
   "cell_type": "code",
   "execution_count": 112,
   "id": "ef12510a-5376-40cc-b7c9-b3973f6a6e6a",
   "metadata": {},
   "outputs": [
    {
     "name": "stdout",
     "output_type": "stream",
     "text": [
      "36\n",
      "114\n"
     ]
    }
   ],
   "source": [
    "print(ord('$'))\n",
    "print(ord('r'))\n"
   ]
  },
  {
   "cell_type": "code",
   "execution_count": 122,
   "id": "20b3bb92-df66-40f3-8cee-fad2f089d323",
   "metadata": {},
   "outputs": [
    {
     "name": "stdout",
     "output_type": "stream",
     "text": [
      "resta$t\n"
     ]
    }
   ],
   "source": [
    "str1 = 'restart'\n",
    "s1 = str1[:1]\n",
    "s2 = str1[1:]\n",
    "s3 = s2.replace('r','$')\n",
    "print(s1+s3)"
   ]
  },
  {
   "cell_type": "code",
   "execution_count": 124,
   "id": "42f39e20-fdc2-4499-b11b-051190ea425a",
   "metadata": {},
   "outputs": [
    {
     "data": {
      "text/plain": [
       "'resta$t'"
      ]
     },
     "execution_count": 124,
     "metadata": {},
     "output_type": "execute_result"
    }
   ],
   "source": [
    "str1 = 'restart'\n",
    "str1[::-1].replace('r','$',1)[::-1]"
   ]
  },
  {
   "cell_type": "code",
   "execution_count": null,
   "id": "485c61fa-bd72-48b2-b966-da6d04c97404",
   "metadata": {},
   "outputs": [],
   "source": [
    "**Index and Find Methods**\n",
    "- "
   ]
  },
  {
   "cell_type": "code",
   "execution_count": 126,
   "id": "2d001c61-2317-42e5-ae89-8973b4cba036",
   "metadata": {},
   "outputs": [
    {
     "data": {
      "text/plain": [
       "['__add__',\n",
       " '__class__',\n",
       " '__contains__',\n",
       " '__delattr__',\n",
       " '__dir__',\n",
       " '__doc__',\n",
       " '__eq__',\n",
       " '__format__',\n",
       " '__ge__',\n",
       " '__getattribute__',\n",
       " '__getitem__',\n",
       " '__getnewargs__',\n",
       " '__getstate__',\n",
       " '__gt__',\n",
       " '__hash__',\n",
       " '__init__',\n",
       " '__init_subclass__',\n",
       " '__iter__',\n",
       " '__le__',\n",
       " '__len__',\n",
       " '__lt__',\n",
       " '__mod__',\n",
       " '__mul__',\n",
       " '__ne__',\n",
       " '__new__',\n",
       " '__reduce__',\n",
       " '__reduce_ex__',\n",
       " '__repr__',\n",
       " '__rmod__',\n",
       " '__rmul__',\n",
       " '__setattr__',\n",
       " '__sizeof__',\n",
       " '__str__',\n",
       " '__subclasshook__',\n",
       " 'capitalize',\n",
       " 'casefold',\n",
       " 'center',\n",
       " 'count',\n",
       " 'encode',\n",
       " 'endswith',\n",
       " 'expandtabs',\n",
       " 'find',\n",
       " 'format',\n",
       " 'format_map',\n",
       " 'index',\n",
       " 'isalnum',\n",
       " 'isalpha',\n",
       " 'isascii',\n",
       " 'isdecimal',\n",
       " 'isdigit',\n",
       " 'isidentifier',\n",
       " 'islower',\n",
       " 'isnumeric',\n",
       " 'isprintable',\n",
       " 'isspace',\n",
       " 'istitle',\n",
       " 'isupper',\n",
       " 'join',\n",
       " 'ljust',\n",
       " 'lower',\n",
       " 'lstrip',\n",
       " 'maketrans',\n",
       " 'partition',\n",
       " 'removeprefix',\n",
       " 'removesuffix',\n",
       " 'replace',\n",
       " 'rfind',\n",
       " 'rindex',\n",
       " 'rjust',\n",
       " 'rpartition',\n",
       " 'rsplit',\n",
       " 'rstrip',\n",
       " 'split',\n",
       " 'splitlines',\n",
       " 'startswith',\n",
       " 'strip',\n",
       " 'swapcase',\n",
       " 'title',\n",
       " 'translate',\n",
       " 'upper',\n",
       " 'zfill']"
      ]
     },
     "execution_count": 126,
     "metadata": {},
     "output_type": "execute_result"
    }
   ],
   "source": [
    "dir(\"\")"
   ]
  },
  {
   "cell_type": "code",
   "execution_count": 135,
   "id": "18d96b9b-6c1d-434e-98ac-c468962c7cb6",
   "metadata": {},
   "outputs": [
    {
     "data": {
      "text/plain": [
       "['Hello', 'this', 'is', 'python']"
      ]
     },
     "execution_count": 135,
     "metadata": {},
     "output_type": "execute_result"
    }
   ],
   "source": [
    "a =' Hello this is python '\n",
    "a.split()"
   ]
  },
  {
   "cell_type": "code",
   "execution_count": 133,
   "id": "e20227f8-0a9d-4fb6-af65-d133e8571c4b",
   "metadata": {},
   "outputs": [
    {
     "data": {
      "text/plain": [
       "'Hello this is python'"
      ]
     },
     "execution_count": 133,
     "metadata": {},
     "output_type": "execute_result"
    }
   ],
   "source": [
    "a.strip()"
   ]
  },
  {
   "cell_type": "code",
   "execution_count": 137,
   "id": "2b91d5c4-f3d7-4623-833c-ad0b44507a37",
   "metadata": {},
   "outputs": [
    {
     "data": {
      "text/plain": [
       "'Hello this is python '"
      ]
     },
     "execution_count": 137,
     "metadata": {},
     "output_type": "execute_result"
    }
   ],
   "source": [
    "a.lstrip()"
   ]
  },
  {
   "cell_type": "code",
   "execution_count": 141,
   "id": "bf74e948-89f8-40ce-89bd-75fc2dfa5e4e",
   "metadata": {},
   "outputs": [
    {
     "data": {
      "text/plain": [
       "' Hello this is python'"
      ]
     },
     "execution_count": 141,
     "metadata": {},
     "output_type": "execute_result"
    }
   ],
   "source": [
    "a.rstrip()"
   ]
  },
  {
   "cell_type": "code",
   "execution_count": 159,
   "id": "a13cff57-6cf7-459c-9e6a-bcf958a88599",
   "metadata": {},
   "outputs": [
    {
     "name": "stdout",
     "output_type": "stream",
     "text": [
      "True\n",
      "True\n",
      "True\n"
     ]
    }
   ],
   "source": [
    "print(a.startswith('t',7))\n",
    "print(a.startswith(' '))\n",
    "print(a.startswith('p',15,21))"
   ]
  },
  {
   "cell_type": "code",
   "execution_count": 175,
   "id": "af4df510-cfb1-4a54-b596-9bb0a1df53cd",
   "metadata": {},
   "outputs": [
    {
     "name": "stdout",
     "output_type": "stream",
     "text": [
      "True\n",
      "True\n",
      "True\n"
     ]
    }
   ],
   "source": [
    "print(a.endswith(' '))\n",
    "print(a.endswith('n',15,21))\n",
    "print(a.endswith('s',7,11))"
   ]
  },
  {
   "cell_type": "markdown",
   "id": "54cae736-cba1-471a-a89d-02057fb7906d",
   "metadata": {},
   "source": [
    "**Methods in Strings**"
   ]
  },
  {
   "cell_type": "code",
   "execution_count": 182,
   "id": "b4163c2e-0126-45af-a54f-e8a41f567c85",
   "metadata": {},
   "outputs": [
    {
     "data": {
      "text/plain": [
       "True"
      ]
     },
     "execution_count": 182,
     "metadata": {},
     "output_type": "execute_result"
    }
   ],
   "source": [
    "str1 = 'Hello'\n",
    "str1.istitle()"
   ]
  },
  {
   "cell_type": "code",
   "execution_count": 188,
   "id": "6943f297-4fc2-400d-b9ed-df08d5196046",
   "metadata": {},
   "outputs": [
    {
     "data": {
      "text/plain": [
       "False"
      ]
     },
     "execution_count": 188,
     "metadata": {},
     "output_type": "execute_result"
    }
   ],
   "source": [
    "str1 = '123hello'\n",
    "str1.istitle()"
   ]
  },
  {
   "cell_type": "code",
   "execution_count": 190,
   "id": "fe44b166-ebac-4346-b242-868a6c319833",
   "metadata": {},
   "outputs": [
    {
     "data": {
      "text/plain": [
       "True"
      ]
     },
     "execution_count": 190,
     "metadata": {},
     "output_type": "execute_result"
    }
   ],
   "source": [
    "str1 = '123Hello'\n",
    "str1.istitle()"
   ]
  },
  {
   "cell_type": "code",
   "execution_count": 196,
   "id": "fd997c59-1cce-4982-a6ae-b7d90a1d891e",
   "metadata": {},
   "outputs": [
    {
     "data": {
      "text/plain": [
       "True"
      ]
     },
     "execution_count": 196,
     "metadata": {},
     "output_type": "execute_result"
    }
   ],
   "source": [
    "str1='10.4He'\n",
    "str1.istitle()"
   ]
  },
  {
   "cell_type": "code",
   "execution_count": 198,
   "id": "e432b9f7-e1c4-488c-99c8-fe485cdf9971",
   "metadata": {},
   "outputs": [
    {
     "data": {
      "text/plain": [
       "False"
      ]
     },
     "execution_count": 198,
     "metadata": {},
     "output_type": "execute_result"
    }
   ],
   "source": [
    "str1='10.4hh'\n",
    "str1.istitle()"
   ]
  },
  {
   "cell_type": "code",
   "execution_count": 202,
   "id": "3869c476-88e0-4406-97be-80f2b9d1f165",
   "metadata": {},
   "outputs": [
    {
     "data": {
      "text/plain": [
       "3"
      ]
     },
     "execution_count": 202,
     "metadata": {},
     "output_type": "execute_result"
    }
   ],
   "source": [
    "str1 = 'hai hai hai'\n",
    "str1.count('hai')"
   ]
  },
  {
   "cell_type": "code",
   "execution_count": 218,
   "id": "3626151a-6803-4b10-9650-20b79c90451f",
   "metadata": {},
   "outputs": [
    {
     "name": "stdout",
     "output_type": "stream",
     "text": [
      "1\n",
      "0\n",
      "5\n",
      "5\n",
      "================================\n",
      "3\n",
      "3\n",
      "2\n",
      "1\n"
     ]
    }
   ],
   "source": [
    "str1 = 'hai hai hai'\n",
    "print(str1.index('a'))\n",
    "print(str1.index('hai'))\n",
    "print(str1.index('a',3))\n",
    "print(str1.index('a',5,9))\n",
    "\n",
    "print(\"================================\")\n",
    "\n",
    "print(str1.count('a'))\n",
    "print(str1.count('hai'))\n",
    "print(str1.count('a',3))\n",
    "print(str1.count('a',5,9))"
   ]
  },
  {
   "cell_type": "code",
   "execution_count": 236,
   "id": "7f42f5bc-3b29-43f9-8afb-71afa6d329f5",
   "metadata": {},
   "outputs": [
    {
     "name": "stdout",
     "output_type": "stream",
     "text": [
      "5\n",
      "1\n",
      "9\n"
     ]
    },
    {
     "ename": "TypeError",
     "evalue": "index() takes at most 3 arguments (4 given)",
     "output_type": "error",
     "traceback": [
      "\u001b[0;31m---------------------------------------------------------------------------\u001b[0m",
      "\u001b[0;31mTypeError\u001b[0m                                 Traceback (most recent call last)",
      "Cell \u001b[0;32mIn[236], line 4\u001b[0m\n\u001b[1;32m      2\u001b[0m \u001b[38;5;28mprint\u001b[39m(str1\u001b[38;5;241m.\u001b[39mindex(\u001b[38;5;124m'\u001b[39m\u001b[38;5;124ma\u001b[39m\u001b[38;5;124m'\u001b[39m,\u001b[38;5;241m-\u001b[39m\u001b[38;5;28mlen\u001b[39m(str1)))\n\u001b[1;32m      3\u001b[0m \u001b[38;5;28mprint\u001b[39m(str1\u001b[38;5;241m.\u001b[39mindex(\u001b[38;5;124m'\u001b[39m\u001b[38;5;124ma\u001b[39m\u001b[38;5;124m'\u001b[39m,\u001b[38;5;241m-\u001b[39m\u001b[38;5;241m3\u001b[39m))\n\u001b[0;32m----> 4\u001b[0m \u001b[38;5;28mprint\u001b[39m(str1\u001b[38;5;241m.\u001b[39mindex(\u001b[38;5;124m'\u001b[39m\u001b[38;5;124ma\u001b[39m\u001b[38;5;124m'\u001b[39m,\u001b[38;5;241m-\u001b[39m\u001b[38;5;241m1\u001b[39m,\u001b[38;5;241m-\u001b[39m\u001b[38;5;241m9\u001b[39m,\u001b[38;5;241m-\u001b[39m\u001b[38;5;241m1\u001b[39m))\n",
      "\u001b[0;31mTypeError\u001b[0m: index() takes at most 3 arguments (4 given)"
     ]
    }
   ],
   "source": [
    "print(str1.index('a',-9,-1))\n",
    "print(str1.index('a',-len(str1)))\n",
    "print(str1.index('a',-3))\n",
    "#print(str1.index('a',-1,-9)) # Providing the negative values in negative direction will not work."
   ]
  },
  {
   "cell_type": "code",
   "execution_count": 238,
   "id": "9367d9df-f758-4a7d-955e-384772970bf0",
   "metadata": {},
   "outputs": [
    {
     "name": "stdout",
     "output_type": "stream",
     "text": [
      "1\n",
      "5\n",
      "9\n"
     ]
    }
   ],
   "source": [
    "str1 = 'hai hai hai'\n",
    "\n",
    "i1 = str1.index('a')\n",
    "print(i1)\n",
    "i2 = str1.index('a',i1+1)\n",
    "print(i2)\n",
    "i3 = str1.index('a',i2+1)\n",
    "print(i3)"
   ]
  },
  {
   "cell_type": "code",
   "execution_count": 6,
   "id": "ce601d80-3248-4c8c-ba68-be561340c2d7",
   "metadata": {},
   "outputs": [
    {
     "name": "stdout",
     "output_type": "stream",
     "text": [
      "1\n",
      "5\n",
      "9\n"
     ]
    },
    {
     "ename": "ValueError",
     "evalue": "substring not found",
     "output_type": "error",
     "traceback": [
      "\u001b[0;31m---------------------------------------------------------------------------\u001b[0m",
      "\u001b[0;31mValueError\u001b[0m                                Traceback (most recent call last)",
      "Cell \u001b[0;32mIn[6], line 5\u001b[0m\n\u001b[1;32m      3\u001b[0m \u001b[38;5;28mprint\u001b[39m(i1)\n\u001b[1;32m      4\u001b[0m \u001b[38;5;28;01mfor\u001b[39;00m i \u001b[38;5;129;01min\u001b[39;00m \u001b[38;5;28mrange\u001b[39m(\u001b[38;5;28mlen\u001b[39m(str1)):\n\u001b[0;32m----> 5\u001b[0m     i2 \u001b[38;5;241m=\u001b[39m str1\u001b[38;5;241m.\u001b[39mindex(\u001b[38;5;124m'\u001b[39m\u001b[38;5;124ma\u001b[39m\u001b[38;5;124m'\u001b[39m,i1\u001b[38;5;241m+\u001b[39m\u001b[38;5;241m1\u001b[39m)\n\u001b[1;32m      6\u001b[0m     i1 \u001b[38;5;241m=\u001b[39m i2\n\u001b[1;32m      7\u001b[0m     \u001b[38;5;28mprint\u001b[39m(i2)\n",
      "\u001b[0;31mValueError\u001b[0m: substring not found"
     ]
    }
   ],
   "source": [
    "str1 = 'hai hai hai'\n",
    "i1 = str1.index('a')\n",
    "print(i1)\n",
    "for i in range(len(str1)):\n",
    "    i2 = str1.index('a',i1+1)\n",
    "    i1 = i2\n",
    "    print(i2)"
   ]
  },
  {
   "cell_type": "code",
   "execution_count": 4,
   "id": "97d65266-750a-4742-b89e-e7e6fa302868",
   "metadata": {},
   "outputs": [
    {
     "name": "stdout",
     "output_type": "stream",
     "text": [
      "1\n",
      "1\n",
      "5\n",
      "5\n",
      "5\n",
      "5\n",
      "9\n",
      "9\n",
      "9\n",
      "9\n"
     ]
    },
    {
     "ename": "ValueError",
     "evalue": "substring not found",
     "output_type": "error",
     "traceback": [
      "\u001b[0;31m---------------------------------------------------------------------------\u001b[0m",
      "\u001b[0;31mValueError\u001b[0m                                Traceback (most recent call last)",
      "Cell \u001b[0;32mIn[4], line 3\u001b[0m\n\u001b[1;32m      1\u001b[0m str1 \u001b[38;5;241m=\u001b[39m \u001b[38;5;124m'\u001b[39m\u001b[38;5;124mhai hai hai\u001b[39m\u001b[38;5;124m'\u001b[39m\n\u001b[1;32m      2\u001b[0m \u001b[38;5;28;01mfor\u001b[39;00m i \u001b[38;5;129;01min\u001b[39;00m \u001b[38;5;28mrange\u001b[39m(\u001b[38;5;28mlen\u001b[39m(str1)):\n\u001b[0;32m----> 3\u001b[0m     \u001b[38;5;28mprint\u001b[39m(str1\u001b[38;5;241m.\u001b[39mindex(\u001b[38;5;124m'\u001b[39m\u001b[38;5;124ma\u001b[39m\u001b[38;5;124m'\u001b[39m,i))\n",
      "\u001b[0;31mValueError\u001b[0m: substring not found"
     ]
    }
   ],
   "source": [
    "str1 = 'hai hai hai'\n",
    "for i in range(len(str1)):\n",
    "    print(str1.index('a',i))"
   ]
  },
  {
   "cell_type": "markdown",
   "id": "67bbcd69-2f79-4cf0-8cd8-5e791f046ba1",
   "metadata": {},
   "source": [
    "**FIND**"
   ]
  },
  {
   "cell_type": "code",
   "execution_count": 15,
   "id": "ede5466a-1abb-42d5-b392-bc0ddc0ef477",
   "metadata": {},
   "outputs": [
    {
     "name": "stdout",
     "output_type": "stream",
     "text": [
      "1\n",
      "1\n",
      "5\n",
      "5\n",
      "5\n",
      "5\n",
      "9\n",
      "9\n",
      "9\n",
      "9\n",
      "-1\n"
     ]
    }
   ],
   "source": [
    "str1 = 'hai hai hai'\n",
    "for i in range(len(str1)):\n",
    "    print(str1.find('a',i))"
   ]
  },
  {
   "cell_type": "code",
   "execution_count": 17,
   "id": "b37479fc-d03f-4b10-9a76-abaf9ff8e187",
   "metadata": {},
   "outputs": [
    {
     "name": "stdout",
     "output_type": "stream",
     "text": [
      "1\n",
      "5\n",
      "9\n",
      "-1\n",
      "1\n",
      "5\n",
      "9\n",
      "-1\n",
      "1\n",
      "5\n",
      "9\n",
      "-1\n"
     ]
    }
   ],
   "source": [
    "str1 = 'hai hai hai'\n",
    "i1 = str1.index('a')\n",
    "print(i1)\n",
    "for i in range(len(str1)):\n",
    "    i2 = str1.find('a',i1+1)\n",
    "    i1 = i2\n",
    "    print(i2)"
   ]
  },
  {
   "cell_type": "code",
   "execution_count": 19,
   "id": "a290c09c-5b5c-407f-a979-f6d4a6ddd584",
   "metadata": {},
   "outputs": [
    {
     "data": {
      "text/plain": [
       "'hai hai hai'"
      ]
     },
     "execution_count": 19,
     "metadata": {},
     "output_type": "execute_result"
    }
   ],
   "source": [
    "str1 = 'hai hai hai'\n",
    "str1.replace('z','Z') #If the substring is not found in the replace method, it will return orignal string. "
   ]
  },
  {
   "cell_type": "code",
   "execution_count": 21,
   "id": "252aafe2-5752-4214-8c93-323ab52a5470",
   "metadata": {},
   "outputs": [
    {
     "data": {
      "text/plain": [
       "0"
      ]
     },
     "execution_count": 21,
     "metadata": {},
     "output_type": "execute_result"
    }
   ],
   "source": [
    "str1.count('z') #If the substring is not found the count method will return zero."
   ]
  },
  {
   "cell_type": "code",
   "execution_count": 23,
   "id": "2e1f1548-8ae9-4038-b0c8-179f0de4b49b",
   "metadata": {},
   "outputs": [
    {
     "ename": "ValueError",
     "evalue": "substring not found",
     "output_type": "error",
     "traceback": [
      "\u001b[0;31m---------------------------------------------------------------------------\u001b[0m",
      "\u001b[0;31mValueError\u001b[0m                                Traceback (most recent call last)",
      "Cell \u001b[0;32mIn[23], line 2\u001b[0m\n\u001b[1;32m      1\u001b[0m str1 \u001b[38;5;241m=\u001b[39m \u001b[38;5;124m'\u001b[39m\u001b[38;5;124mhai hai hai\u001b[39m\u001b[38;5;124m'\u001b[39m\n\u001b[0;32m----> 2\u001b[0m str1\u001b[38;5;241m.\u001b[39mindex(\u001b[38;5;124m'\u001b[39m\u001b[38;5;124mz\u001b[39m\u001b[38;5;124m'\u001b[39m)\n",
      "\u001b[0;31mValueError\u001b[0m: substring not found"
     ]
    }
   ],
   "source": [
    "str1 = 'hai hai hai'\n",
    "str1.index('z') #If the substring is not found the index will throw an error - Substring not found. "
   ]
  },
  {
   "cell_type": "code",
   "execution_count": 25,
   "id": "8b082201-290a-430f-858a-8508e3a5c5e0",
   "metadata": {},
   "outputs": [
    {
     "data": {
      "text/plain": [
       "-1"
      ]
     },
     "execution_count": 25,
     "metadata": {},
     "output_type": "execute_result"
    }
   ],
   "source": [
    "str1 = 'hai hai hai'\n",
    "str1.find('z') #If the substring is not found the find will return -1."
   ]
  },
  {
   "cell_type": "code",
   "execution_count": 53,
   "id": "012781cc-23e1-4637-a1cb-88f08a562d73",
   "metadata": {},
   "outputs": [
    {
     "name": "stdout",
     "output_type": "stream",
     "text": [
      "virat kohli rcb\n",
      "=========================\n"
     ]
    },
    {
     "data": {
      "text/plain": [
       "('rohit', 'sharma', 'mi')"
      ]
     },
     "execution_count": 53,
     "metadata": {},
     "output_type": "execute_result"
    }
   ],
   "source": [
    "str1 = 'virat.kohli@rcb.com'\n",
    "str2 = 'rohit.sharma@mi.com'\n",
    "\n",
    "a = str1.find('.')\n",
    "b = str1.find('@')\n",
    "c = str1.find('.',b+1)\n",
    "first_name = str1[0:a]\n",
    "second_name = str1[a+1:b]\n",
    "company_name = str1[b+1:c]\n",
    "print(first_name,second_name,company_name)\n",
    "\n",
    "print(\"=========================\")\n",
    "\n",
    "a = str2.find('.')\n",
    "b = str2.find('@')\n",
    "c = str2.find('.',b+1)\n",
    "first_name = str2[0:a]\n",
    "second_name = str2[a+1:b]\n",
    "company_name = str2[b+1:c]\n",
    "\n",
    "first_name,second_name,company_name"
   ]
  },
  {
   "cell_type": "code",
   "execution_count": null,
   "id": "e80dce2c-59c3-4566-ae02-6f2edcf420ed",
   "metadata": {},
   "outputs": [],
   "source": []
  }
 ],
 "metadata": {
  "kernelspec": {
   "display_name": "Python 3 (ipykernel)",
   "language": "python",
   "name": "python3"
  },
  "language_info": {
   "codemirror_mode": {
    "name": "ipython",
    "version": 3
   },
   "file_extension": ".py",
   "mimetype": "text/x-python",
   "name": "python",
   "nbconvert_exporter": "python",
   "pygments_lexer": "ipython3",
   "version": "3.11.7"
  }
 },
 "nbformat": 4,
 "nbformat_minor": 5
}
