{
 "cells": [
  {
   "cell_type": "code",
   "execution_count": 5,
   "id": "20b6f5a6-54b8-4769-b950-de14698d4ed4",
   "metadata": {},
   "outputs": [
    {
     "name": "stdin",
     "output_type": "stream",
     "text": [
      "Enter the bill amount:  1000\n",
      "Enter the tip percentage:  10\n"
     ]
    },
    {
     "name": "stdout",
     "output_type": "stream",
     "text": [
      "The total bill is: 1100.0\n"
     ]
    }
   ],
   "source": [
    "bill = eval(input(\"Enter the bill amount: \"))\n",
    "tip_percent = eval(input(\"Enter the tip percentage: \"))\n",
    "total_bill = bill+ ((bill*tip_percent)/100)\n",
    "print(f\"The total bill is: {total_bill}\")"
   ]
  },
  {
   "cell_type": "code",
   "execution_count": 7,
   "id": "8eb06f01-8f94-426c-9247-45972da8dc57",
   "metadata": {},
   "outputs": [
    {
     "name": "stdin",
     "output_type": "stream",
     "text": [
      "Enter the bill amount:  1000\n",
      "Enter the tip percentage:  11\n"
     ]
    },
    {
     "name": "stdout",
     "output_type": "stream",
     "text": [
      "The total bill is: 1110.0\n"
     ]
    }
   ],
   "source": [
    "def bill_pay():\n",
    "    bill = eval(input(\"Enter the bill amount: \"))\n",
    "    tip_percent = eval(input(\"Enter the tip percentage: \"))\n",
    "    total_bill = bill+ ((bill*tip_percent)/100)\n",
    "    print(f\"The total bill is: {total_bill}\")\n",
    "\n",
    "bill_pay()"
   ]
  },
  {
   "cell_type": "code",
   "execution_count": 13,
   "id": "76129dd2-69fa-4900-84b3-896d0d5b9b43",
   "metadata": {},
   "outputs": [
    {
     "name": "stdout",
     "output_type": "stream",
     "text": [
      "The total bill is: 1100.0\n"
     ]
    }
   ],
   "source": [
    "def bill_pay(bill,tip_percent):\n",
    "    total_bill = bill+ ((bill*tip_percent)/100)\n",
    "    print(f\"The total bill is: {total_bill}\")\n",
    "\n",
    "bill_pay(1000,10)"
   ]
  },
  {
   "cell_type": "code",
   "execution_count": 15,
   "id": "37a41e8a-bde2-44fe-a82e-a99de101c4a2",
   "metadata": {},
   "outputs": [
    {
     "name": "stdout",
     "output_type": "stream",
     "text": [
      "The total bill is: 1200.0\n"
     ]
    }
   ],
   "source": [
    "def bill_pay(bill,tip_percent=20):                              #The tip percent is default value, so it is called as default argument. \n",
    "    total_bill = bill+ ((bill*tip_percent)/100)\n",
    "    print(f\"The total bill is: {total_bill}\")\n",
    "\n",
    "bill_pay(1000)"
   ]
  },
  {
   "cell_type": "code",
   "execution_count": 17,
   "id": "d9b3e397-3ecc-4f77-8d9d-b9e35cfd9b40",
   "metadata": {},
   "outputs": [
    {
     "name": "stdin",
     "output_type": "stream",
     "text": [
      "Enter number 1:  20\n",
      "Enter number 2:  30\n",
      "Enter number 3:  40\n"
     ]
    },
    {
     "name": "stdout",
     "output_type": "stream",
     "text": [
      "26.666666666666668\n"
     ]
    }
   ],
   "source": [
    "#Withour args\n",
    "\n",
    "def average():\n",
    "    num1 = eval(input(\"Enter number 1: \"))\n",
    "    num2 = eval(input(\"Enter number 2: \"))\n",
    "    num3 = eval(input(\"Enter number 3: \"))\n",
    "    avg = (num1+num2+num2)/3\n",
    "    print(avg)\n",
    "average()"
   ]
  },
  {
   "cell_type": "code",
   "execution_count": 23,
   "id": "5a850694-0b1b-4182-bfba-f5e83268c0c0",
   "metadata": {},
   "outputs": [
    {
     "ename": "SyntaxError",
     "evalue": "non-default argument follows default argument (1294363202.py, line 1)",
     "output_type": "error",
     "traceback": [
      "\u001b[0;36m  Cell \u001b[0;32mIn[23], line 1\u001b[0;36m\u001b[0m\n\u001b[0;31m    def average(num1,num2=50,num3):             #num3 is a default value.\u001b[0m\n\u001b[0m                             ^\u001b[0m\n\u001b[0;31mSyntaxError\u001b[0m\u001b[0;31m:\u001b[0m non-default argument follows default argument\n"
     ]
    }
   ],
   "source": [
    "def average(num1,num2,num3=50):             #num3 is a default value. \n",
    "    avg = (num1+num2+num3)/3\n",
    "    print(avg)\n",
    "average(70,40)"
   ]
  },
  {
   "cell_type": "code",
   "execution_count": 25,
   "id": "1bf6019c-db22-4365-92a3-2a36d08cab11",
   "metadata": {},
   "outputs": [
    {
     "ename": "SyntaxError",
     "evalue": "non-default argument follows default argument (1294363202.py, line 1)",
     "output_type": "error",
     "traceback": [
      "\u001b[0;36m  Cell \u001b[0;32mIn[25], line 1\u001b[0;36m\u001b[0m\n\u001b[0;31m    def average(num1,num2=50,num3):             #num3 is a default value.\u001b[0m\n\u001b[0m                             ^\u001b[0m\n\u001b[0;31mSyntaxError\u001b[0m\u001b[0;31m:\u001b[0m non-default argument follows default argument\n"
     ]
    }
   ],
   "source": [
    "def average(num1,num2=50,num3):             #non-default argument follows default argument - default argument \n",
    "    avg = (num1+num2+num3)/3\n",
    "    print(avg)\n",
    "average(70,40)"
   ]
  },
  {
   "cell_type": "code",
   "execution_count": 27,
   "id": "65e014ad-261a-42de-aae3-74f22dce4b92",
   "metadata": {},
   "outputs": [
    {
     "name": "stdout",
     "output_type": "stream",
     "text": [
      "70,30,40\n",
      "46.666666666666664\n"
     ]
    }
   ],
   "source": [
    "def average(num1,num2,num3=50):             #If you send in a value for the default argument, that value will be replacing the default value. \n",
    "    print(f\"{num1},{num2},{num3}\")\n",
    "    avg = (num1+num2+num3)/3\n",
    "    print(avg)\n",
    "average(70,30,40)"
   ]
  },
  {
   "cell_type": "code",
   "execution_count": 29,
   "id": "607411da-cadc-409f-b375-c87b789279e1",
   "metadata": {},
   "outputs": [
    {
     "name": "stdout",
     "output_type": "stream",
     "text": [
      "2200\n"
     ]
    }
   ],
   "source": [
    "def add(n1,n2=600):\n",
    "    n2 = 2000\n",
    "    add_m = n1+n2\n",
    "    print(add_m)\n",
    "\n",
    "add(200,300)"
   ]
  },
  {
   "cell_type": "code",
   "execution_count": 31,
   "id": "be95a6e0-a23b-4249-8d2b-e83b75e15904",
   "metadata": {},
   "outputs": [
    {
     "name": "stdout",
     "output_type": "stream",
     "text": [
      "2200\n"
     ]
    }
   ],
   "source": [
    "def add(n1,n2=600):\n",
    "    n2 = 2000\n",
    "    add_m = n1+n2\n",
    "    print(add_m)\n",
    "n2 = 4000\n",
    "add(200,300)"
   ]
  },
  {
   "cell_type": "code",
   "execution_count": null,
   "id": "aece9ce6-e148-4dd9-a609-be3c23ea279f",
   "metadata": {},
   "outputs": [],
   "source": []
  }
 ],
 "metadata": {
  "kernelspec": {
   "display_name": "Python 3 (ipykernel)",
   "language": "python",
   "name": "python3"
  },
  "language_info": {
   "codemirror_mode": {
    "name": "ipython",
    "version": 3
   },
   "file_extension": ".py",
   "mimetype": "text/x-python",
   "name": "python",
   "nbconvert_exporter": "python",
   "pygments_lexer": "ipython3",
   "version": "3.11.7"
  }
 },
 "nbformat": 4,
 "nbformat_minor": 5
}
