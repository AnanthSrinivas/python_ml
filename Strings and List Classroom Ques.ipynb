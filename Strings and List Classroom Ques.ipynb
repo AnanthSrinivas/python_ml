{
 "cells": [
  {
   "cell_type": "code",
   "execution_count": 1,
   "id": "7777d77c-32f8-4f71-9233-61fa6fe4f54e",
   "metadata": {},
   "outputs": [
    {
     "name": "stdout",
     "output_type": "stream",
     "text": [
      "3\n"
     ]
    }
   ],
   "source": [
    "#Q1\n",
    "\n",
    "str1='hai naresh how are you'\n",
    "count=0\n",
    "for i in str1:\n",
    "    if i=='a':\n",
    "        count=count+1\n",
    "print(count)"
   ]
  },
  {
   "cell_type": "code",
   "execution_count": 3,
   "id": "5c8e80d7-bbfd-4e44-a032-d25aace1ffbb",
   "metadata": {},
   "outputs": [
    {
     "name": "stdout",
     "output_type": "stream",
     "text": [
      "the count is: 9\n"
     ]
    }
   ],
   "source": [
    "#Q2\n",
    "\n",
    "count = 0\n",
    "str1='hai naresh how are you'\n",
    "for i in str1:\n",
    "    if i=='a' or i=='e' or i=='i' or i=='o' or i=='u':\n",
    "        count=count+1\n",
    "print(\"the count is:\",count)"
   ]
  },
  {
   "cell_type": "code",
   "execution_count": 5,
   "id": "b44567d5-231a-4cd4-ad8a-12c789c08a2b",
   "metadata": {},
   "outputs": [
    {
     "name": "stdout",
     "output_type": "stream",
     "text": [
      "the count is: 9\n"
     ]
    }
   ],
   "source": [
    "count = 0\n",
    "str1='hai naresh how are you'\n",
    "for i in str1:\n",
    "    if i in 'aeiou':\n",
    "        count=count+1\n",
    "print(\"the count is:\",count)"
   ]
  },
  {
   "cell_type": "code",
   "execution_count": 9,
   "id": "08f0ea30-7a02-4775-9898-95f2d5f51119",
   "metadata": {},
   "outputs": [
    {
     "name": "stdout",
     "output_type": "stream",
     "text": [
      "3\n"
     ]
    }
   ],
   "source": [
    "#Q 3\n",
    "\n",
    "str1='hai naresh how are you'\n",
    "count=0\n",
    "for i in str1:\n",
    "    if i=='h':\n",
    "        count=count+1\n",
    "print(count)"
   ]
  },
  {
   "cell_type": "code",
   "execution_count": 13,
   "id": "da0e149c-bb98-473e-8955-850354f2cb68",
   "metadata": {},
   "outputs": [
    {
     "name": "stdout",
     "output_type": "stream",
     "text": [
      "iaeou\n"
     ]
    }
   ],
   "source": [
    "#Q4\n",
    "\n",
    "str1='hia naresh how are you'\n",
    "str2 = ''\n",
    "for i in str1:\n",
    "    if i in 'aeiou' and i not in str2:\n",
    "        str2+=i\n",
    "\n",
    "print(str2)"
   ]
  },
  {
   "cell_type": "code",
   "execution_count": 15,
   "id": "b2ac6696-ffba-4260-a286-3b24cd5bbc5d",
   "metadata": {},
   "outputs": [
    {
     "name": "stdout",
     "output_type": "stream",
     "text": [
      "P\n",
      "y\n",
      "t\n",
      "h\n",
      "o\n",
      "n\n",
      " \n",
      "P\n",
      "r\n",
      "o\n",
      "g\n",
      "r\n",
      "a\n",
      "m\n",
      "m\n",
      "i\n",
      "n\n",
      "g\n"
     ]
    }
   ],
   "source": [
    "#Q5 \n",
    "\n",
    "s='Python Programming'\n",
    "for i in range(len(s)):\n",
    "    print(s[i])"
   ]
  },
  {
   "cell_type": "code",
   "execution_count": 17,
   "id": "78678fd8-e9ca-469f-9275-648fc10156f7",
   "metadata": {},
   "outputs": [
    {
     "name": "stdout",
     "output_type": "stream",
     "text": [
      "The positive index 0 - w\n",
      "The positive index 1 - e\n",
      "The positive index 2 - l\n",
      "The positive index 3 - c\n",
      "The positive index 4 - o\n",
      "The positive index 5 - m\n",
      "The positive index 6 - e\n",
      "The positive index 7 -  \n",
      "The positive index 8 - t\n",
      "The positive index 9 - o\n",
      "The positive index 10 -  \n",
      "The positive index 11 - n\n",
      "The positive index 12 - a\n",
      "The positive index 13 - r\n",
      "The positive index 14 - e\n",
      "The positive index 15 - s\n",
      "The positive index 16 - h\n",
      "The positive index 17 -  \n",
      "The positive index 18 - i\n",
      "The positive index 19 - t\n"
     ]
    }
   ],
   "source": [
    "#Q6 - Print the positive index.\n",
    "s='welcome to naresh it'\n",
    "n=len(s)\n",
    "for i in range(n):\n",
    "    print(f\"The positive index {i} - {s[i]}\")"
   ]
  },
  {
   "cell_type": "code",
   "execution_count": 21,
   "id": "a2bd4c6f-d8b6-4936-a12c-acd86459117a",
   "metadata": {},
   "outputs": [
    {
     "name": "stdout",
     "output_type": "stream",
     "text": [
      "The negative index -20 - w\n",
      "The negative index -19 - e\n",
      "The negative index -18 - l\n",
      "The negative index -17 - c\n",
      "The negative index -16 - o\n",
      "The negative index -15 - m\n",
      "The negative index -14 - e\n",
      "The negative index -13 -  \n",
      "The negative index -12 - t\n",
      "The negative index -11 - o\n",
      "The negative index -10 -  \n",
      "The negative index -9 - n\n",
      "The negative index -8 - a\n",
      "The negative index -7 - r\n",
      "The negative index -6 - e\n",
      "The negative index -5 - s\n",
      "The negative index -4 - h\n",
      "The negative index -3 -  \n",
      "The negative index -2 - i\n",
      "The negative index -1 - t\n"
     ]
    }
   ],
   "source": [
    "#Q7 - Print the negative index.\n",
    "s='welcome to naresh it'\n",
    "n=len(s)\n",
    "for i in range(-n,0,1):\n",
    "    print(f\"The negative index {i} - {s[i]}\")"
   ]
  },
  {
   "cell_type": "code",
   "execution_count": 23,
   "id": "4f7477e7-118f-477d-b040-26bead23b524",
   "metadata": {},
   "outputs": [
    {
     "name": "stdout",
     "output_type": "stream",
     "text": [
      "The positive index 0 and the negative index is -20 - w\n",
      "The positive index 1 and the negative index is -19 - e\n",
      "The positive index 2 and the negative index is -18 - l\n",
      "The positive index 3 and the negative index is -17 - c\n",
      "The positive index 4 and the negative index is -16 - o\n",
      "The positive index 5 and the negative index is -15 - m\n",
      "The positive index 6 and the negative index is -14 - e\n",
      "The positive index 7 and the negative index is -13 -  \n",
      "The positive index 8 and the negative index is -12 - t\n",
      "The positive index 9 and the negative index is -11 - o\n",
      "The positive index 10 and the negative index is -10 -  \n",
      "The positive index 11 and the negative index is -9 - n\n",
      "The positive index 12 and the negative index is -8 - a\n",
      "The positive index 13 and the negative index is -7 - r\n",
      "The positive index 14 and the negative index is -6 - e\n",
      "The positive index 15 and the negative index is -5 - s\n",
      "The positive index 16 and the negative index is -4 - h\n",
      "The positive index 17 and the negative index is -3 -  \n",
      "The positive index 18 and the negative index is -2 - i\n",
      "The positive index 19 and the negative index is -1 - t\n"
     ]
    }
   ],
   "source": [
    "#Q8 - he positive index is 0 and the negtaive index -7 for s\n",
    "\n",
    "s='welcome to naresh it'\n",
    "n=len(s)\n",
    "for i in range(n):\n",
    "    print(f\"The positive index {i} and the negative index is {-n+i} - {s[i]}\")"
   ]
  },
  {
   "cell_type": "code",
   "execution_count": 29,
   "id": "38a31214-f5e9-4df4-83fe-deacfba2e24b",
   "metadata": {},
   "outputs": [
    {
     "name": "stdout",
     "output_type": "stream",
     "text": [
      "1 8 18 "
     ]
    }
   ],
   "source": [
    "#Q9 - wap ask the user get the index of each 'a' in a given string\n",
    "\n",
    "s='hai how are you i am good'\n",
    "for i in range(len(s)):\n",
    "    if s[i] == 'a':\n",
    "        print(i,end = \" \")"
   ]
  },
  {
   "cell_type": "code",
   "execution_count": 31,
   "id": "83c7ba0c-963d-4431-a038-7e3d7b93329d",
   "metadata": {},
   "outputs": [
    {
     "name": "stdout",
     "output_type": "stream",
     "text": [
      "The char a is repeated 3 times\n"
     ]
    }
   ],
   "source": [
    "#Q10 - wap ask the user to get count of number of 'a' in a given string using for-range\n",
    "\n",
    "count = 0\n",
    "s='hai how are you i am good'\n",
    "for i in s:\n",
    "    if i =='a':\n",
    "        count+=1\n",
    "print(f\"The char a is repeated {count} times\")      "
   ]
  },
  {
   "cell_type": "code",
   "execution_count": 33,
   "id": "b9941b12-0041-41a2-9ca5-1d4f0e9841d4",
   "metadata": {},
   "outputs": [
    {
     "name": "stdout",
     "output_type": "stream",
     "text": [
      "The sum of indexes of a: 27\n"
     ]
    }
   ],
   "source": [
    "#Q11 - wap ask the user get the sum of all index numbers of 'a'\n",
    "sum = 0\n",
    "s='hai how are you i am good'\n",
    "for i in range(len(s)):\n",
    "    if s[i] == 'a':\n",
    "        sum+=i\n",
    "print(f\"The sum of indexes of a: {sum}\")"
   ]
  },
  {
   "cell_type": "code",
   "execution_count": 39,
   "id": "68a1efdc-8a5f-4423-8bd9-8b580b51ba56",
   "metadata": {},
   "outputs": [
    {
     "name": "stdout",
     "output_type": "stream",
     "text": [
      "a\n",
      "i\n",
      "o\n",
      "a\n",
      "e\n",
      "o\n",
      "u\n",
      "i\n",
      "a\n",
      "o\n",
      "o\n",
      "The number of vowels are: 11\n"
     ]
    }
   ],
   "source": [
    "#Q12 - wap ask the user get the vowels from a given string using for-range\n",
    "\n",
    "count = 0\n",
    "s='hai how are you i am good'\n",
    "for i in range(len(s)):\n",
    "    if s[i] in 'aeiou':\n",
    "        print(s[i])\n",
    "        count+=1\n",
    "\n",
    "print(f\"The number of vowels are: {count}\")"
   ]
  },
  {
   "cell_type": "code",
   "execution_count": 41,
   "id": "4da7a451-b584-4c1b-9ce6-9c9a5c32b2ef",
   "metadata": {},
   "outputs": [
    {
     "name": "stdout",
     "output_type": "stream",
     "text": [
      "a\n",
      "i\n",
      "o\n",
      "e\n",
      "u\n",
      "The number of vowels are: 5\n"
     ]
    }
   ],
   "source": [
    "#Q13 - wap ask the user get the unique vowels from a given string using for-range\n",
    "\n",
    "count = 0\n",
    "s1 = ''\n",
    "s='hai how are you i am good'\n",
    "for i in range(len(s)):\n",
    "    if s[i] in 'aeiou' and s[i] not in s1:\n",
    "        print(s[i])\n",
    "        s1+=s[i]\n",
    "        count+=1\n",
    "\n",
    "print(f\"The number of vowels are: {count}\")"
   ]
  },
  {
   "cell_type": "code",
   "execution_count": 43,
   "id": "25da9c25-e1b1-4123-8d55-deb7225c1f32",
   "metadata": {},
   "outputs": [
    {
     "name": "stdout",
     "output_type": "stream",
     "text": [
      "a\n",
      "i\n",
      "o\n",
      "e\n",
      "u\n",
      "The number of vowels are: 5\n"
     ]
    }
   ],
   "source": [
    "#Q14 - wap ask the user get the unique vowels from a given string using for-range\n",
    "\n",
    "count = 0\n",
    "s1 = ''\n",
    "s='hai how are you i am good'\n",
    "for i in range(len(s)):\n",
    "    if s[i] in 'aeiou':\n",
    "        if s[i] not in s1:\n",
    "            print(s[i])\n",
    "            s1+=s[i]\n",
    "            count+=1\n",
    "\n",
    "print(f\"The number of vowels are: {count}\")"
   ]
  },
  {
   "cell_type": "markdown",
   "id": "789f82d8-f4fb-48ab-b5a9-d9dbbaa39bc0",
   "metadata": {},
   "source": [
    "**Lists**"
   ]
  },
  {
   "cell_type": "code",
   "execution_count": 48,
   "id": "05cc825e-5c27-4f70-a1a7-dee59edd2218",
   "metadata": {},
   "outputs": [
    {
     "name": "stdout",
     "output_type": "stream",
     "text": [
      "2\n"
     ]
    }
   ],
   "source": [
    "# Q1) How many elements are there in a list: 2\n",
    "\n",
    "l1=[1,[2,'A']]\n",
    "print(len(l1))"
   ]
  },
  {
   "cell_type": "code",
   "execution_count": 52,
   "id": "b682a0fc-a0ff-443e-aa05-f858d11cf436",
   "metadata": {},
   "outputs": [
    {
     "name": "stdout",
     "output_type": "stream",
     "text": [
      "A\n"
     ]
    }
   ],
   "source": [
    "# Q2) 'A' is at which index : \n",
    "# In python index start at  0\n",
    "# 0 and 1\n",
    "\n",
    "l1=[1,[2,'A']]\n",
    "print(l1[1][1])"
   ]
  },
  {
   "cell_type": "code",
   "execution_count": 54,
   "id": "342f32fe-49c1-4510-8c5b-2785c5e6c377",
   "metadata": {},
   "outputs": [
    {
     "name": "stdout",
     "output_type": "stream",
     "text": [
      "<class 'list'>\n"
     ]
    }
   ],
   "source": [
    "# Q3) l1[1]  output is which type list\n",
    "\n",
    "l1=[1,[2,'A']]\n",
    "print(type(l1[1]))"
   ]
  },
  {
   "cell_type": "code",
   "execution_count": 56,
   "id": "6a98b1fb-383c-44f2-96ab-310e9345fef4",
   "metadata": {},
   "outputs": [
    {
     "name": "stdout",
     "output_type": "stream",
     "text": [
      "The postive index of 1 is 0\n",
      "The postive index of 2 is 1\n",
      "The postive index of 3 is 2\n",
      "The postive index of A is 3\n",
      "The postive index of B is 4\n",
      "The postive index of C is 5\n",
      "The postive index of True is 6\n",
      "The postive index of False is 7\n"
     ]
    }
   ],
   "source": [
    "#Q4) Positive index\n",
    "\n",
    "l4=[1,2,3,'A','B','C',True,False]\n",
    "for i in range(len(l4)):\n",
    "    print(f\"The postive index of {l4[i]} is {i}\")"
   ]
  },
  {
   "cell_type": "code",
   "execution_count": 58,
   "id": "9f1bac86-8531-4e92-a427-cfca984ce1f0",
   "metadata": {},
   "outputs": [
    {
     "name": "stdout",
     "output_type": "stream",
     "text": [
      "The negative index of 1 is -8\n",
      "The negative index of 2 is -7\n",
      "The negative index of 3 is -6\n",
      "The negative index of A is -5\n",
      "The negative index of B is -4\n",
      "The negative index of C is -3\n",
      "The negative index of True is -2\n",
      "The negative index of False is -1\n"
     ]
    }
   ],
   "source": [
    "#Q5) Negative index\n",
    "\n",
    "l4=[1,2,3,'A','B','C',True,False]\n",
    "for i in range(-len(l4),0,1):\n",
    "    print(f\"The negative index of {l4[i]} is {i}\")"
   ]
  },
  {
   "cell_type": "code",
   "execution_count": 1,
   "id": "c6a5ef05-84ac-40b0-91be-95675e59da5d",
   "metadata": {},
   "outputs": [
    {
     "name": "stdout",
     "output_type": "stream",
     "text": [
      "[1, 5, 9] 15\n"
     ]
    }
   ],
   "source": [
    "#6) Sum of index of char 'a' \n",
    "\n",
    "str1='hai hai hai'\n",
    "id_list=[]\n",
    "for i in range(len(str1)):\n",
    "    if str1[i]=='a':\n",
    "        id_list.append(i)\n",
    "a = sum(id_list)\n",
    "print(id_list,a)"
   ]
  },
  {
   "cell_type": "code",
   "execution_count": 3,
   "id": "5b5c1bd6-4cea-449e-8e9e-67a2b07ac0b1",
   "metadata": {},
   "outputs": [
    {
     "name": "stdout",
     "output_type": "stream",
     "text": [
      "['Mumbai', 'Chennai']\n"
     ]
    }
   ],
   "source": [
    "# Q7)l1=['Hyd','Mumbai','Chennai','blr']\n",
    "#  ans=['Mumbai','Chennai']  \n",
    "#  we want lements which are len of element >4\n",
    "l1=['Hyd','Mumbai','Chennai','blr']\n",
    "l2=[]\n",
    "for i in l1:\n",
    "    if len(i)>4:\n",
    "        l2.append(i)\n",
    "print(l2)"
   ]
  },
  {
   "cell_type": "code",
   "execution_count": 5,
   "id": "f21ea4b7-c6d0-4d65-a793-0df334392f42",
   "metadata": {},
   "outputs": [
    {
     "name": "stdout",
     "output_type": "stream",
     "text": [
      "['Mumb#ai', 'Chen#nai']\n"
     ]
    }
   ],
   "source": [
    "# Q8)l1=['Hyd','Mum#bai','Chen#nai','blr']\n",
    "#  ans=['Mum#bai'',Chen#nai']  \n",
    "#  we want lements which are having '#'\n",
    "l1=['Hyd','Mumb#ai','Chen#nai','blr']\n",
    "l2=[]\n",
    "for i in l1:\n",
    "    if '#' in i:\n",
    "        l2.append(i)\n",
    "print(l2)"
   ]
  },
  {
   "cell_type": "code",
   "execution_count": 9,
   "id": "23e351b0-b81a-4656-9599-8e0047c0382d",
   "metadata": {},
   "outputs": [
    {
     "name": "stdout",
     "output_type": "stream",
     "text": [
      "['Hyd', 'Mumbai', 'Chennai', 'Blr']\n"
     ]
    }
   ],
   "source": [
    "# Q9)l1=['Hyd','Mumbai','chennai','blr']\n",
    "#  ans= 'Hyd', 'Mumbai', 'Chennai', 'Blr']\n",
    "#  we want lements which are having first letter capital\n",
    "a=['Hyd','Mumbai','Chennai','blr']\n",
    "b=[]\n",
    "for i in a:\n",
    "    b.append(i.capitalize())\n",
    "\n",
    "print(b)"
   ]
  },
  {
   "cell_type": "code",
   "execution_count": 11,
   "id": "8fecefe2-9f2b-48af-8c6b-1a1cbaf1af49",
   "metadata": {},
   "outputs": [
    {
     "name": "stdout",
     "output_type": "stream",
     "text": [
      "The maximum distance is:14.0\n"
     ]
    }
   ],
   "source": [
    "#Q10 Distance between 2 points\n",
    "import math\n",
    "points = [[2,4],[5,10],[4,7]]\n",
    "val = [3,6]\n",
    "dis = []\n",
    "for i in points:\n",
    "    dis.append(math.sqrt((i[1]-i[0])**2)+((val[1]-val[0])**2))\n",
    "\n",
    "print(f\"The maximum distance is:{max(dis)}\")"
   ]
  },
  {
   "cell_type": "code",
   "execution_count": 29,
   "id": "47b4924a-dfcf-475f-83c4-d7a85b4bb7e0",
   "metadata": {},
   "outputs": [
    {
     "name": "stdout",
     "output_type": "stream",
     "text": [
      "10\n"
     ]
    }
   ],
   "source": [
    "# Q11) str='hello hai how are you'\n",
    "# Maximum len of word using split and max method\n",
    "# sum of all the indexes of the maximum len of word using append\n",
    "str1='hello hai how are you'\n",
    "words=str1.split()\n",
    "max_word = ''\n",
    "i,sum = 0,0\n",
    "str2=[]\n",
    "for i in words:\n",
    "    x=len(i)\n",
    "    str2.append(x)\n",
    "\n",
    "for i in words:\n",
    "    if len(i) == max(str2):\n",
    "        max_word = i\n",
    "\n",
    "for i in range(len(max_word)):\n",
    "    sum+=i\n",
    "\n",
    "print(sum)"
   ]
  },
  {
   "cell_type": "code",
   "execution_count": 33,
   "id": "1d5769f7-1ffd-4815-8826-a1b115a4800f",
   "metadata": {},
   "outputs": [
    {
     "name": "stdout",
     "output_type": "stream",
     "text": [
      "What is capital of India ?\n"
     ]
    },
    {
     "name": "stdin",
     "output_type": "stream",
     "text": [
      "Enter the answer for above question:  Delhi\n"
     ]
    },
    {
     "name": "stdout",
     "output_type": "stream",
     "text": [
      "Who is PM of india ?\n"
     ]
    },
    {
     "name": "stdin",
     "output_type": "stream",
     "text": [
      "Enter the answer for above question:  Modi\n"
     ]
    },
    {
     "name": "stdout",
     "output_type": "stream",
     "text": [
      "Who is ICT ODI captian ?\n"
     ]
    },
    {
     "name": "stdin",
     "output_type": "stream",
     "text": [
      "Enter the answer for above question:  Rohit\n"
     ]
    },
    {
     "name": "stdout",
     "output_type": "stream",
     "text": [
      "3\n"
     ]
    }
   ],
   "source": [
    "# 12 ) You have two lists\n",
    "# qns=['What is capital of India','Who is PM of india','Who is ICT ODI captian']\n",
    "# ans = ['Delhi','Modi','Rohit']\n",
    "# For i in qns:\n",
    "#     print(i)\n",
    "#     ans= delhi\n",
    "#      index should match\n",
    "#      delhi  modi \n",
    "#      marks= marks+1\n",
    "# print the total marks\n",
    "\n",
    "qns=['What is capital of India',\n",
    "       'Who is PM of india',\n",
    "        'Who is ICT ODI captian']\n",
    "ans = ['Delhi','Modi','Rohit']\n",
    "marks=0\n",
    "ans_ls = []\n",
    "for i in range(len(qns)):\n",
    "    print(qns[i],\"?\")\n",
    "    ans_ls = input(\"Enter the answer for above question: \")\n",
    "    if ans_ls.lower()==ans[i].lower():\n",
    "        marks+=1\n",
    "\n",
    "print(marks)\n",
    "    "
   ]
  },
  {
   "cell_type": "code",
   "execution_count": null,
   "id": "bdfc8c7c-9dd8-47b4-b66a-1edee03d9382",
   "metadata": {},
   "outputs": [],
   "source": []
  }
 ],
 "metadata": {
  "kernelspec": {
   "display_name": "Python 3 (ipykernel)",
   "language": "python",
   "name": "python3"
  },
  "language_info": {
   "codemirror_mode": {
    "name": "ipython",
    "version": 3
   },
   "file_extension": ".py",
   "mimetype": "text/x-python",
   "name": "python",
   "nbconvert_exporter": "python",
   "pygments_lexer": "ipython3",
   "version": "3.11.7"
  }
 },
 "nbformat": 4,
 "nbformat_minor": 5
}
